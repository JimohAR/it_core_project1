{
  "nbformat": 4,
  "nbformat_minor": 0,
  "metadata": {
    "kernelspec": {
      "display_name": "Python 3",
      "language": "python",
      "name": "python3"
    },
    "language_info": {
      "codemirror_mode": {
        "name": "ipython",
        "version": 3
      },
      "file_extension": ".py",
      "mimetype": "text/x-python",
      "name": "python",
      "nbconvert_exporter": "python",
      "pygments_lexer": "ipython3",
      "version": "3.8.8"
    },
    "latex_envs": {
      "LaTeX_envs_menu_present": true,
      "autoclose": false,
      "autocomplete": true,
      "bibliofile": "biblio.bib",
      "cite_by": "apalike",
      "current_citInitial": 1,
      "eqLabelWithNumbers": true,
      "eqNumInitial": 1,
      "hotkeys": {
        "equation": "Ctrl-E",
        "itemize": "Ctrl-I"
      },
      "labels_anchors": false,
      "latex_user_defs": false,
      "report_style_numbering": false,
      "user_envs_cfg": false
    },
    "toc": {
      "base_numbering": 1,
      "nav_menu": {},
      "number_sections": true,
      "sideBar": true,
      "skip_h1_title": false,
      "title_cell": "Table of Contents",
      "title_sidebar": "Contents",
      "toc_cell": false,
      "toc_position": {},
      "toc_section_display": true,
      "toc_window_display": false
    },
    "varInspector": {
      "cols": {
        "lenName": 16,
        "lenType": 16,
        "lenVar": 40
      },
      "kernels_config": {
        "python": {
          "delete_cmd_postfix": "",
          "delete_cmd_prefix": "del ",
          "library": "var_list.py",
          "varRefreshCmd": "print(var_dic_list())"
        },
        "r": {
          "delete_cmd_postfix": ") ",
          "delete_cmd_prefix": "rm(",
          "library": "var_list.r",
          "varRefreshCmd": "cat(var_dic_list()) "
        }
      },
      "types_to_exclude": [
        "module",
        "function",
        "builtin_function_or_method",
        "instance",
        "_Feature"
      ],
      "window_display": false
    },
    "colab": {
      "name": "task1_exp.ipynb",
      "provenance": [],
      "include_colab_link": true
    }
  },
  "cells": [
    {
      "cell_type": "markdown",
      "metadata": {
        "id": "view-in-github",
        "colab_type": "text"
      },
      "source": [
        "<a href=\"https://colab.research.google.com/github/JimohAR/it_core_project1/blob/main/notebooks/task1_exp.ipynb\" target=\"_parent\"><img src=\"https://colab.research.google.com/assets/colab-badge.svg\" alt=\"Open In Colab\"/></a>"
      ]
    },
    {
      "cell_type": "code",
      "metadata": {
        "id": "dg0fHya2laRe",
        "outputId": "ed73af92-f486-4c68-db9a-5daaa7514aa0",
        "colab": {
          "base_uri": "https://localhost:8080/"
        }
      },
      "source": [
        ""
      ],
      "execution_count": 3,
      "outputs": [
        {
          "output_type": "stream",
          "name": "stdout",
          "text": [
            "Cloning into 'it_core_project1'...\n",
            "remote: Enumerating objects: 54, done.\u001b[K\n",
            "remote: Counting objects: 100% (54/54), done.\u001b[K\n",
            "remote: Compressing objects: 100% (29/29), done.\u001b[K\n",
            "remote: Total 54 (delta 17), reused 48 (delta 15), pack-reused 0\u001b[K\n",
            "Unpacking objects: 100% (54/54), done.\n"
          ]
        }
      ]
    },
    {
      "cell_type": "code",
      "metadata": {
        "id": "LqI_40COlW1i"
      },
      "source": [
        "import numpy as np\n",
        "import pandas as pd\n",
        "import matplotlib.pyplot as plt\n",
        "import seaborn as sns\n",
        "import os"
      ],
      "execution_count": 4,
      "outputs": []
    },
    {
      "cell_type": "code",
      "metadata": {
        "id": "Cmv8Ani6mqA4",
        "outputId": "865aed86-7884-46af-dc5f-5777d2e5eafd",
        "colab": {
          "base_uri": "https://localhost:8080/"
        }
      },
      "source": [
        "if \"/content\" in os.getcwd():\n",
        "    print(\"cloning repo from github\")\n",
        "    !git clone https://github.com/JimohAR/it_core_project1\n",
        "    print(\"changing directory into the repo\")\n",
        "    os.chdir(\"/content/it_core_project1\")\n",
        "    "
      ],
      "execution_count": 12,
      "outputs": [
        {
          "output_type": "stream",
          "name": "stdout",
          "text": [
            "Cloning into 'it_core_project1'...\n",
            "remote: Enumerating objects: 54, done.\u001b[K\n",
            "remote: Counting objects:   1% (1/54)\u001b[K\rremote: Counting objects:   3% (2/54)\u001b[K\rremote: Counting objects:   5% (3/54)\u001b[K\rremote: Counting objects:   7% (4/54)\u001b[K\rremote: Counting objects:   9% (5/54)\u001b[K\rremote: Counting objects:  11% (6/54)\u001b[K\rremote: Counting objects:  12% (7/54)\u001b[K\rremote: Counting objects:  14% (8/54)\u001b[K\rremote: Counting objects:  16% (9/54)\u001b[K\rremote: Counting objects:  18% (10/54)\u001b[K\rremote: Counting objects:  20% (11/54)\u001b[K\rremote: Counting objects:  22% (12/54)\u001b[K\rremote: Counting objects:  24% (13/54)\u001b[K\rremote: Counting objects:  25% (14/54)\u001b[K\rremote: Counting objects:  27% (15/54)\u001b[K\rremote: Counting objects:  29% (16/54)\u001b[K\rremote: Counting objects:  31% (17/54)\u001b[K\rremote: Counting objects:  33% (18/54)\u001b[K\rremote: Counting objects:  35% (19/54)\u001b[K\rremote: Counting objects:  37% (20/54)\u001b[K\rremote: Counting objects:  38% (21/54)\u001b[K\rremote: Counting objects:  40% (22/54)\u001b[K\rremote: Counting objects:  42% (23/54)\u001b[K\rremote: Counting objects:  44% (24/54)\u001b[K\rremote: Counting objects:  46% (25/54)\u001b[K\rremote: Counting objects:  48% (26/54)\u001b[K\rremote: Counting objects:  50% (27/54)\u001b[K\rremote: Counting objects:  51% (28/54)\u001b[K\rremote: Counting objects:  53% (29/54)\u001b[K\rremote: Counting objects:  55% (30/54)\u001b[K\rremote: Counting objects:  57% (31/54)\u001b[K\rremote: Counting objects:  59% (32/54)\u001b[K\rremote: Counting objects:  61% (33/54)\u001b[K\rremote: Counting objects:  62% (34/54)\u001b[K\rremote: Counting objects:  64% (35/54)\u001b[K\rremote: Counting objects:  66% (36/54)\u001b[K\rremote: Counting objects:  68% (37/54)\u001b[K\rremote: Counting objects:  70% (38/54)\u001b[K\rremote: Counting objects:  72% (39/54)\u001b[K\rremote: Counting objects:  74% (40/54)\u001b[K\rremote: Counting objects:  75% (41/54)\u001b[K\rremote: Counting objects:  77% (42/54)\u001b[K\rremote: Counting objects:  79% (43/54)\u001b[K\rremote: Counting objects:  81% (44/54)\u001b[K\rremote: Counting objects:  83% (45/54)\u001b[K\rremote: Counting objects:  85% (46/54)\u001b[K\rremote: Counting objects:  87% (47/54)\u001b[K\rremote: Counting objects:  88% (48/54)\u001b[K\rremote: Counting objects:  90% (49/54)\u001b[K\rremote: Counting objects:  92% (50/54)\u001b[K\rremote: Counting objects:  94% (51/54)\u001b[K\rremote: Counting objects:  96% (52/54)\u001b[K\rremote: Counting objects:  98% (53/54)\u001b[K\rremote: Counting objects: 100% (54/54)\u001b[K\rremote: Counting objects: 100% (54/54), done.\u001b[K\n",
            "remote: Compressing objects: 100% (29/29), done.\u001b[K\n",
            "remote: Total 54 (delta 17), reused 48 (delta 15), pack-reused 0\u001b[K\n",
            "Unpacking objects: 100% (54/54), done.\n"
          ]
        }
      ]
    },
    {
      "cell_type": "code",
      "metadata": {
        "id": "uL0omvO1l9qG"
      },
      "source": [
        ""
      ],
      "execution_count": 7,
      "outputs": []
    },
    {
      "cell_type": "code",
      "metadata": {
        "id": "QxlYTpY8mJqX",
        "outputId": "6fc5b1bd-8e92-4ff7-9595-29c878b3c38f",
        "colab": {
          "base_uri": "https://localhost:8080/"
        }
      },
      "source": [
        "!git log --oneline"
      ],
      "execution_count": 11,
      "outputs": [
        {
          "output_type": "stream",
          "name": "stdout",
          "text": [
            "\u001b[33mf9cf619\u001b[m\u001b[33m (\u001b[m\u001b[1;36mHEAD -> \u001b[m\u001b[1;32mmain\u001b[m\u001b[33m, \u001b[m\u001b[1;31morigin/main\u001b[m\u001b[33m, \u001b[m\u001b[1;31morigin/HEAD\u001b[m\u001b[33m)\u001b[m resolved some outlier with column tot_session_dur, still working on the threshold to use\n",
            "\u001b[33m7ba68db\u001b[m added the slides folder\n",
            "\u001b[33mbf7f8de\u001b[m added more subfolders\n",
            "\u001b[33m1c5c656\u001b[m added new directories and files\n",
            "\u001b[33md1675d3\u001b[m setting folders up\n",
            "\u001b[33m5751f21\u001b[m Initial commit\n"
          ]
        }
      ]
    },
    {
      "cell_type": "code",
      "metadata": {
        "id": "amQ76oC0lW1p"
      },
      "source": [
        "path = os.path.dirname(os.getcwd()) + \"/data/\""
      ],
      "execution_count": null,
      "outputs": []
    },
    {
      "cell_type": "code",
      "metadata": {
        "id": "bh3FZ0HdlW1q"
      },
      "source": [
        "data = pd.read_csv(path + \"telco.csv\").iloc[:-1]"
      ],
      "execution_count": null,
      "outputs": []
    },
    {
      "cell_type": "code",
      "metadata": {
        "id": "oy-7FiY8lW1r"
      },
      "source": [
        "desc = pd.read_excel(path + \"field_descriptions.xlsx\").set_index(\"Fields\")"
      ],
      "execution_count": null,
      "outputs": []
    },
    {
      "cell_type": "code",
      "metadata": {
        "id": "njrjUZ1FlW1s",
        "outputId": "87734322-97aa-43db-8f21-defb888610b1"
      },
      "source": [
        "data.select_dtypes(exclude =\"object\").describe()"
      ],
      "execution_count": null,
      "outputs": [
        {
          "data": {
            "text/html": [
              "<div>\n",
              "<style scoped>\n",
              "    .dataframe tbody tr th:only-of-type {\n",
              "        vertical-align: middle;\n",
              "    }\n",
              "\n",
              "    .dataframe tbody tr th {\n",
              "        vertical-align: top;\n",
              "    }\n",
              "\n",
              "    .dataframe thead th {\n",
              "        text-align: right;\n",
              "    }\n",
              "</style>\n",
              "<table border=\"1\" class=\"dataframe\">\n",
              "  <thead>\n",
              "    <tr style=\"text-align: right;\">\n",
              "      <th></th>\n",
              "      <th>Bearer Id</th>\n",
              "      <th>Start ms</th>\n",
              "      <th>End ms</th>\n",
              "      <th>Dur. (ms)</th>\n",
              "      <th>IMSI</th>\n",
              "      <th>MSISDN/Number</th>\n",
              "      <th>IMEI</th>\n",
              "      <th>Avg RTT DL (ms)</th>\n",
              "      <th>Avg RTT UL (ms)</th>\n",
              "      <th>Avg Bearer TP DL (kbps)</th>\n",
              "      <th>...</th>\n",
              "      <th>Youtube DL (Bytes)</th>\n",
              "      <th>Youtube UL (Bytes)</th>\n",
              "      <th>Netflix DL (Bytes)</th>\n",
              "      <th>Netflix UL (Bytes)</th>\n",
              "      <th>Gaming DL (Bytes)</th>\n",
              "      <th>Gaming UL (Bytes)</th>\n",
              "      <th>Other DL (Bytes)</th>\n",
              "      <th>Other UL (Bytes)</th>\n",
              "      <th>Total UL (Bytes)</th>\n",
              "      <th>Total DL (Bytes)</th>\n",
              "    </tr>\n",
              "  </thead>\n",
              "  <tbody>\n",
              "    <tr>\n",
              "      <th>count</th>\n",
              "      <td>1.490100e+05</td>\n",
              "      <td>150000.000000</td>\n",
              "      <td>150000.000000</td>\n",
              "      <td>1.500000e+05</td>\n",
              "      <td>1.494310e+05</td>\n",
              "      <td>1.489350e+05</td>\n",
              "      <td>1.494290e+05</td>\n",
              "      <td>122172.000000</td>\n",
              "      <td>122189.000000</td>\n",
              "      <td>150000.000000</td>\n",
              "      <td>...</td>\n",
              "      <td>1.500000e+05</td>\n",
              "      <td>1.500000e+05</td>\n",
              "      <td>1.500000e+05</td>\n",
              "      <td>1.500000e+05</td>\n",
              "      <td>1.500000e+05</td>\n",
              "      <td>1.500000e+05</td>\n",
              "      <td>1.500000e+05</td>\n",
              "      <td>1.500000e+05</td>\n",
              "      <td>1.500000e+05</td>\n",
              "      <td>1.500000e+05</td>\n",
              "    </tr>\n",
              "    <tr>\n",
              "      <th>mean</th>\n",
              "      <td>1.013887e+19</td>\n",
              "      <td>499.188200</td>\n",
              "      <td>498.800880</td>\n",
              "      <td>1.046086e+05</td>\n",
              "      <td>2.082016e+14</td>\n",
              "      <td>4.188282e+10</td>\n",
              "      <td>4.847455e+13</td>\n",
              "      <td>109.795706</td>\n",
              "      <td>17.662883</td>\n",
              "      <td>13300.045927</td>\n",
              "      <td>...</td>\n",
              "      <td>1.163407e+07</td>\n",
              "      <td>1.100941e+07</td>\n",
              "      <td>1.162685e+07</td>\n",
              "      <td>1.100175e+07</td>\n",
              "      <td>4.220447e+08</td>\n",
              "      <td>8.288398e+06</td>\n",
              "      <td>4.211005e+08</td>\n",
              "      <td>8.264799e+06</td>\n",
              "      <td>4.112121e+07</td>\n",
              "      <td>4.546434e+08</td>\n",
              "    </tr>\n",
              "    <tr>\n",
              "      <th>std</th>\n",
              "      <td>2.893173e+18</td>\n",
              "      <td>288.611834</td>\n",
              "      <td>288.097653</td>\n",
              "      <td>8.103762e+04</td>\n",
              "      <td>2.148809e+10</td>\n",
              "      <td>2.447443e+12</td>\n",
              "      <td>2.241637e+13</td>\n",
              "      <td>619.782739</td>\n",
              "      <td>84.793524</td>\n",
              "      <td>23971.878541</td>\n",
              "      <td>...</td>\n",
              "      <td>6.710591e+06</td>\n",
              "      <td>6.345445e+06</td>\n",
              "      <td>6.725240e+06</td>\n",
              "      <td>6.359511e+06</td>\n",
              "      <td>2.439683e+08</td>\n",
              "      <td>4.782716e+06</td>\n",
              "      <td>2.432058e+08</td>\n",
              "      <td>4.769020e+06</td>\n",
              "      <td>1.127639e+07</td>\n",
              "      <td>2.441429e+08</td>\n",
              "    </tr>\n",
              "    <tr>\n",
              "      <th>min</th>\n",
              "      <td>6.917538e+18</td>\n",
              "      <td>0.000000</td>\n",
              "      <td>0.000000</td>\n",
              "      <td>7.142000e+03</td>\n",
              "      <td>2.040471e+14</td>\n",
              "      <td>3.360100e+10</td>\n",
              "      <td>4.400152e+11</td>\n",
              "      <td>0.000000</td>\n",
              "      <td>0.000000</td>\n",
              "      <td>0.000000</td>\n",
              "      <td>...</td>\n",
              "      <td>5.300000e+01</td>\n",
              "      <td>1.050000e+02</td>\n",
              "      <td>4.200000e+01</td>\n",
              "      <td>3.500000e+01</td>\n",
              "      <td>2.516000e+03</td>\n",
              "      <td>5.900000e+01</td>\n",
              "      <td>3.290000e+03</td>\n",
              "      <td>1.480000e+02</td>\n",
              "      <td>2.866892e+06</td>\n",
              "      <td>7.114041e+06</td>\n",
              "    </tr>\n",
              "    <tr>\n",
              "      <th>25%</th>\n",
              "      <td>7.349883e+18</td>\n",
              "      <td>250.000000</td>\n",
              "      <td>251.000000</td>\n",
              "      <td>5.744050e+04</td>\n",
              "      <td>2.082014e+14</td>\n",
              "      <td>3.365130e+10</td>\n",
              "      <td>3.546071e+13</td>\n",
              "      <td>32.000000</td>\n",
              "      <td>2.000000</td>\n",
              "      <td>43.000000</td>\n",
              "      <td>...</td>\n",
              "      <td>5.833482e+06</td>\n",
              "      <td>5.517962e+06</td>\n",
              "      <td>5.777095e+06</td>\n",
              "      <td>5.475977e+06</td>\n",
              "      <td>2.104706e+08</td>\n",
              "      <td>4.128424e+06</td>\n",
              "      <td>2.101824e+08</td>\n",
              "      <td>4.145904e+06</td>\n",
              "      <td>3.322201e+07</td>\n",
              "      <td>2.431068e+08</td>\n",
              "    </tr>\n",
              "    <tr>\n",
              "      <th>50%</th>\n",
              "      <td>7.349883e+18</td>\n",
              "      <td>499.000000</td>\n",
              "      <td>500.000000</td>\n",
              "      <td>8.639900e+04</td>\n",
              "      <td>2.082015e+14</td>\n",
              "      <td>3.366371e+10</td>\n",
              "      <td>3.572201e+13</td>\n",
              "      <td>45.000000</td>\n",
              "      <td>5.000000</td>\n",
              "      <td>63.000000</td>\n",
              "      <td>...</td>\n",
              "      <td>1.161601e+07</td>\n",
              "      <td>1.101348e+07</td>\n",
              "      <td>1.164222e+07</td>\n",
              "      <td>1.099631e+07</td>\n",
              "      <td>4.234082e+08</td>\n",
              "      <td>8.291215e+06</td>\n",
              "      <td>4.218057e+08</td>\n",
              "      <td>8.267086e+06</td>\n",
              "      <td>4.114331e+07</td>\n",
              "      <td>4.558411e+08</td>\n",
              "    </tr>\n",
              "    <tr>\n",
              "      <th>75%</th>\n",
              "      <td>1.304243e+19</td>\n",
              "      <td>749.000000</td>\n",
              "      <td>750.000000</td>\n",
              "      <td>1.324302e+05</td>\n",
              "      <td>2.082018e+14</td>\n",
              "      <td>3.368349e+10</td>\n",
              "      <td>8.611970e+13</td>\n",
              "      <td>70.000000</td>\n",
              "      <td>15.000000</td>\n",
              "      <td>19710.750000</td>\n",
              "      <td>...</td>\n",
              "      <td>1.744855e+07</td>\n",
              "      <td>1.651559e+07</td>\n",
              "      <td>1.747050e+07</td>\n",
              "      <td>1.650729e+07</td>\n",
              "      <td>6.331747e+08</td>\n",
              "      <td>1.243163e+07</td>\n",
              "      <td>6.316950e+08</td>\n",
              "      <td>1.238420e+07</td>\n",
              "      <td>4.903424e+07</td>\n",
              "      <td>6.657055e+08</td>\n",
              "    </tr>\n",
              "    <tr>\n",
              "      <th>max</th>\n",
              "      <td>1.318654e+19</td>\n",
              "      <td>999.000000</td>\n",
              "      <td>999.000000</td>\n",
              "      <td>1.859336e+06</td>\n",
              "      <td>2.140743e+14</td>\n",
              "      <td>8.823971e+14</td>\n",
              "      <td>9.900120e+13</td>\n",
              "      <td>96923.000000</td>\n",
              "      <td>7120.000000</td>\n",
              "      <td>378160.000000</td>\n",
              "      <td>...</td>\n",
              "      <td>2.325910e+07</td>\n",
              "      <td>2.201196e+07</td>\n",
              "      <td>2.325919e+07</td>\n",
              "      <td>2.201196e+07</td>\n",
              "      <td>8.434419e+08</td>\n",
              "      <td>1.655879e+07</td>\n",
              "      <td>8.434425e+08</td>\n",
              "      <td>1.655882e+07</td>\n",
              "      <td>7.833131e+07</td>\n",
              "      <td>9.029696e+08</td>\n",
              "    </tr>\n",
              "  </tbody>\n",
              "</table>\n",
              "<p>8 rows × 50 columns</p>\n",
              "</div>"
            ],
            "text/plain": [
              "          Bearer Id       Start ms         End ms     Dur. (ms)          IMSI  \\\n",
              "count  1.490100e+05  150000.000000  150000.000000  1.500000e+05  1.494310e+05   \n",
              "mean   1.013887e+19     499.188200     498.800880  1.046086e+05  2.082016e+14   \n",
              "std    2.893173e+18     288.611834     288.097653  8.103762e+04  2.148809e+10   \n",
              "min    6.917538e+18       0.000000       0.000000  7.142000e+03  2.040471e+14   \n",
              "25%    7.349883e+18     250.000000     251.000000  5.744050e+04  2.082014e+14   \n",
              "50%    7.349883e+18     499.000000     500.000000  8.639900e+04  2.082015e+14   \n",
              "75%    1.304243e+19     749.000000     750.000000  1.324302e+05  2.082018e+14   \n",
              "max    1.318654e+19     999.000000     999.000000  1.859336e+06  2.140743e+14   \n",
              "\n",
              "       MSISDN/Number          IMEI  Avg RTT DL (ms)  Avg RTT UL (ms)  \\\n",
              "count   1.489350e+05  1.494290e+05    122172.000000    122189.000000   \n",
              "mean    4.188282e+10  4.847455e+13       109.795706        17.662883   \n",
              "std     2.447443e+12  2.241637e+13       619.782739        84.793524   \n",
              "min     3.360100e+10  4.400152e+11         0.000000         0.000000   \n",
              "25%     3.365130e+10  3.546071e+13        32.000000         2.000000   \n",
              "50%     3.366371e+10  3.572201e+13        45.000000         5.000000   \n",
              "75%     3.368349e+10  8.611970e+13        70.000000        15.000000   \n",
              "max     8.823971e+14  9.900120e+13     96923.000000      7120.000000   \n",
              "\n",
              "       Avg Bearer TP DL (kbps)  ...  Youtube DL (Bytes)  Youtube UL (Bytes)  \\\n",
              "count            150000.000000  ...        1.500000e+05        1.500000e+05   \n",
              "mean              13300.045927  ...        1.163407e+07        1.100941e+07   \n",
              "std               23971.878541  ...        6.710591e+06        6.345445e+06   \n",
              "min                   0.000000  ...        5.300000e+01        1.050000e+02   \n",
              "25%                  43.000000  ...        5.833482e+06        5.517962e+06   \n",
              "50%                  63.000000  ...        1.161601e+07        1.101348e+07   \n",
              "75%               19710.750000  ...        1.744855e+07        1.651559e+07   \n",
              "max              378160.000000  ...        2.325910e+07        2.201196e+07   \n",
              "\n",
              "       Netflix DL (Bytes)  Netflix UL (Bytes)  Gaming DL (Bytes)  \\\n",
              "count        1.500000e+05        1.500000e+05       1.500000e+05   \n",
              "mean         1.162685e+07        1.100175e+07       4.220447e+08   \n",
              "std          6.725240e+06        6.359511e+06       2.439683e+08   \n",
              "min          4.200000e+01        3.500000e+01       2.516000e+03   \n",
              "25%          5.777095e+06        5.475977e+06       2.104706e+08   \n",
              "50%          1.164222e+07        1.099631e+07       4.234082e+08   \n",
              "75%          1.747050e+07        1.650729e+07       6.331747e+08   \n",
              "max          2.325919e+07        2.201196e+07       8.434419e+08   \n",
              "\n",
              "       Gaming UL (Bytes)  Other DL (Bytes)  Other UL (Bytes)  \\\n",
              "count       1.500000e+05      1.500000e+05      1.500000e+05   \n",
              "mean        8.288398e+06      4.211005e+08      8.264799e+06   \n",
              "std         4.782716e+06      2.432058e+08      4.769020e+06   \n",
              "min         5.900000e+01      3.290000e+03      1.480000e+02   \n",
              "25%         4.128424e+06      2.101824e+08      4.145904e+06   \n",
              "50%         8.291215e+06      4.218057e+08      8.267086e+06   \n",
              "75%         1.243163e+07      6.316950e+08      1.238420e+07   \n",
              "max         1.655879e+07      8.434425e+08      1.655882e+07   \n",
              "\n",
              "       Total UL (Bytes)  Total DL (Bytes)  \n",
              "count      1.500000e+05      1.500000e+05  \n",
              "mean       4.112121e+07      4.546434e+08  \n",
              "std        1.127639e+07      2.441429e+08  \n",
              "min        2.866892e+06      7.114041e+06  \n",
              "25%        3.322201e+07      2.431068e+08  \n",
              "50%        4.114331e+07      4.558411e+08  \n",
              "75%        4.903424e+07      6.657055e+08  \n",
              "max        7.833131e+07      9.029696e+08  \n",
              "\n",
              "[8 rows x 50 columns]"
            ]
          },
          "execution_count": 11,
          "metadata": {},
          "output_type": "execute_result"
        }
      ]
    },
    {
      "cell_type": "markdown",
      "metadata": {
        "id": "suAyffu5lW1u"
      },
      "source": [
        "## User Overview Analysis\n",
        "* Start by identifying the top 10 handsets used by the customers.\n",
        "\n",
        "* Then, identify the top 3 handset manufacturers\n",
        "\n",
        "* Next, identify the top 5 handsets per top 3 handset manufacturer\n",
        "\n",
        "* Make a short interpretation and recommendation to marketing teams"
      ]
    },
    {
      "cell_type": "code",
      "metadata": {
        "id": "aI6imi3_lW1w"
      },
      "source": [
        "new_data_col = [i.strip() for i in list(data.columns)]"
      ],
      "execution_count": null,
      "outputs": []
    },
    {
      "cell_type": "code",
      "metadata": {
        "id": "Egx4qutmlW1x"
      },
      "source": [
        "data.columns = new_data_col"
      ],
      "execution_count": null,
      "outputs": []
    },
    {
      "cell_type": "code",
      "metadata": {
        "id": "fbRQBv0WlW1y"
      },
      "source": [
        "handset_data = data[['Handset Manufacturer', 'Handset Type',]]"
      ],
      "execution_count": null,
      "outputs": []
    },
    {
      "cell_type": "code",
      "metadata": {
        "id": "kKkuF7j4lW1z"
      },
      "source": [
        "top10_handet = handset_data[\"Handset Type\"][handset_data[\"Handset Type\"] != \"undefined\"].value_counts()[:10]#.plot(kind = \"bar\")"
      ],
      "execution_count": null,
      "outputs": []
    },
    {
      "cell_type": "code",
      "metadata": {
        "scrolled": true,
        "id": "KJJakWq-lW10"
      },
      "source": [
        "top3_manufacturers = handset_data[\"Handset Manufacturer\"][handset_data[\"Handset Manufacturer\"] != \"undefined\"].value_counts().head(3)"
      ],
      "execution_count": null,
      "outputs": []
    },
    {
      "cell_type": "code",
      "metadata": {
        "id": "a4VkQ3aAlW11"
      },
      "source": [
        "handsets_by_top3_manufacturers = handset_data.set_index(keys= [\"Handset Manufacturer\"]).loc[top3_manufacturers.keys()]"
      ],
      "execution_count": null,
      "outputs": []
    },
    {
      "cell_type": "code",
      "metadata": {
        "id": "uV2dWUR4lW11"
      },
      "source": [
        "top5_of_top3_manufacturers_dict = dict()\n",
        "for i in top3_manufacturers.keys():\n",
        "    top5_of_top3_manufacturers_dict[i] = handsets_by_top3_manufacturers.loc[i, \"Handset Type\"].value_counts().head(5)"
      ],
      "execution_count": null,
      "outputs": []
    },
    {
      "cell_type": "code",
      "metadata": {
        "id": "kwsGtSOolW12"
      },
      "source": [
        "top5_of_top3_manufacturers = pd.DataFrame.from_dict(top5_of_top3_manufacturers_dict, orient= \"index\").stack()\n",
        "top5_of_top3_manufacturers.name = \"count\"\n",
        "top5_of_top3_manufacturers = top5_of_top3_manufacturers.to_frame()"
      ],
      "execution_count": null,
      "outputs": []
    },
    {
      "cell_type": "markdown",
      "metadata": {
        "id": "3HOjw60SlW12"
      },
      "source": [
        "## Task 1.1\n",
        "Aggregate per user the following information in the column  \n",
        "- number of xDR sessions\n",
        "- session duration\n",
        "- the total download (DL) and upload (UL) data\n",
        "- the total data volume (in Bytes) during this session for each application"
      ]
    },
    {
      "cell_type": "code",
      "metadata": {
        "id": "MujSbPd-lW13"
      },
      "source": [
        "data[\"MSISDN/Number\"] = data[\"MSISDN/Number\"].fillna(-999).astype(\"int\")"
      ],
      "execution_count": null,
      "outputs": []
    },
    {
      "cell_type": "code",
      "metadata": {
        "id": "dpleB-I3lW14"
      },
      "source": [
        "no_of_xdr_sessions = data[\"MSISDN/Number\"].fillna(\"median\").value_counts()"
      ],
      "execution_count": null,
      "outputs": []
    },
    {
      "cell_type": "code",
      "metadata": {
        "id": "XpO8BNHblW15"
      },
      "source": [
        "total_sessions_duration = (data[[\"MSISDN/Number\", \"Dur. (ms)\"]]\n",
        "                           .fillna(\"median\").groupby([\"MSISDN/Number\"])[\"Dur. (ms)\"]\n",
        "                           .sum()\n",
        "                          )/(60*60)"
      ],
      "execution_count": null,
      "outputs": []
    },
    {
      "cell_type": "code",
      "metadata": {
        "id": "iApin7_AlW16"
      },
      "source": [
        "total_dl_ul_data = (data[[\"MSISDN/Number\", \"Total DL (Bytes)\", \"Total UL (Bytes)\"]]\n",
        "                    .fillna(\"median\").groupby([\"MSISDN/Number\"])[[\"Total DL (Bytes)\", \"Total UL (Bytes)\"]]\n",
        "                    .sum()\n",
        "                   )/(2**20)"
      ],
      "execution_count": null,
      "outputs": []
    },
    {
      "cell_type": "code",
      "metadata": {
        "id": "5LgNT07ElW16"
      },
      "source": [
        "total_dl_ul_data[\"total_data\"] = total_dl_ul_data.sum(1)"
      ],
      "execution_count": null,
      "outputs": []
    },
    {
      "cell_type": "code",
      "metadata": {
        "id": "x9OriV2YlW16"
      },
      "source": [
        "apps = ['Social Media DL (Bytes)', 'Social Media UL (Bytes)',\n",
        "       'Google DL (Bytes)', 'Google UL (Bytes)', 'Email DL (Bytes)',\n",
        "       'Email UL (Bytes)', 'Youtube DL (Bytes)', 'Youtube UL (Bytes)',\n",
        "       'Netflix DL (Bytes)', 'Netflix UL (Bytes)', 'Gaming DL (Bytes)',\n",
        "       'Gaming UL (Bytes)', 'Other DL (Bytes)', 'Other UL (Bytes)',]"
      ],
      "execution_count": null,
      "outputs": []
    },
    {
      "cell_type": "code",
      "metadata": {
        "id": "pbTVEf9blW16"
      },
      "source": [
        "total_dl_ul_data_per_app = (data[apps + [\"MSISDN/Number\"]].fillna(\"mean\")\n",
        "                            .groupby([\"MSISDN/Number\"])[apps].sum()\n",
        "                           )/(2**20)"
      ],
      "execution_count": null,
      "outputs": []
    },
    {
      "cell_type": "code",
      "metadata": {
        "scrolled": true,
        "id": "675RZL9tlW18"
      },
      "source": [
        "total_data_per_app = pd.DataFrame()\n",
        "count = 0\n",
        "for i,j in zip(range(len(total_dl_ul_data_per_app.columns)), total_dl_ul_data_per_app.columns):\n",
        "    if count != 1:\n",
        "        total_data_per_app[j.split()[0]] = total_dl_ul_data_per_app.iloc[:, i] + total_dl_ul_data_per_app.iloc[:,i+1]\n",
        "        count = (count + 1) % 2\n",
        "    else: \n",
        "        count = (count + 1) % 2\n",
        "        continue"
      ],
      "execution_count": null,
      "outputs": []
    },
    {
      "cell_type": "code",
      "metadata": {
        "id": "GAWPnp1wlW19"
      },
      "source": [
        "aggregates = (no_of_xdr_sessions.to_frame()\n",
        "              .join(total_sessions_duration)\n",
        "              .join(total_data_per_app)\n",
        "              .join(total_dl_ul_data)\n",
        "             )"
      ],
      "execution_count": null,
      "outputs": []
    },
    {
      "cell_type": "code",
      "metadata": {
        "id": "RD0y0q_2lW1-"
      },
      "source": [
        "aggregates.index.name = \"MSISDN\"\n",
        "aggregates.columns = [\"tot number of session\", \"tot sessions duration (hrs)\", \"social media data usage (MBs)\",\n",
        "                      \"google data usage (MBs)\",\"Email data usage (MBs)\", \"youtube data usage (MBs)\", \n",
        "                      \"netflix data usage (MBs)\",  \"gaming apps data usage (MBs)\", \"other apps data usage (MBs)\", \n",
        "                      \"tot downloaded data (MBs)\", \"tot uploaded data (MBs)\", \"tot data usage (MBs)\",]\n",
        "aggregates = aggregates.drop(index = -999)"
      ],
      "execution_count": null,
      "outputs": []
    },
    {
      "cell_type": "code",
      "metadata": {
        "scrolled": true,
        "id": "ctXDizN4lW1_",
        "outputId": "2bcfd2e3-a1a3-4387-d981-a771ced72b6d"
      },
      "source": [
        "aggregates.describe().style#.set_properties(**{\"width\": \"100px\"})"
      ],
      "execution_count": null,
      "outputs": [
        {
          "data": {
            "text/html": [
              "<style  type=\"text/css\" >\n",
              "</style><table id=\"T_0e46f_\" ><thead>    <tr>        <th class=\"blank level0\" ></th>        <th class=\"col_heading level0 col0\" >tot number of session</th>        <th class=\"col_heading level0 col1\" >tot sessions duration (hrs)</th>        <th class=\"col_heading level0 col2\" >social media data usage (MBs)</th>        <th class=\"col_heading level0 col3\" >google data usage (MBs)</th>        <th class=\"col_heading level0 col4\" >Email data usage (MBs)</th>        <th class=\"col_heading level0 col5\" >youtube data usage (MBs)</th>        <th class=\"col_heading level0 col6\" >netflix data usage (MBs)</th>        <th class=\"col_heading level0 col7\" >gaming apps data usage (MBs)</th>        <th class=\"col_heading level0 col8\" >other apps data usage (MBs)</th>        <th class=\"col_heading level0 col9\" >tot downloaded data (MBs)</th>        <th class=\"col_heading level0 col10\" >tot uploaded data (MBs)</th>        <th class=\"col_heading level0 col11\" >tot data usage (MBs)</th>    </tr></thead><tbody>\n",
              "                <tr>\n",
              "                        <th id=\"T_0e46f_level0_row0\" class=\"row_heading level0 row0\" >count</th>\n",
              "                        <td id=\"T_0e46f_row0_col0\" class=\"data row0 col0\" >106856.000000</td>\n",
              "                        <td id=\"T_0e46f_row0_col1\" class=\"data row0 col1\" >106856.000000</td>\n",
              "                        <td id=\"T_0e46f_row0_col2\" class=\"data row0 col2\" >106856.000000</td>\n",
              "                        <td id=\"T_0e46f_row0_col3\" class=\"data row0 col3\" >106856.000000</td>\n",
              "                        <td id=\"T_0e46f_row0_col4\" class=\"data row0 col4\" >106856.000000</td>\n",
              "                        <td id=\"T_0e46f_row0_col5\" class=\"data row0 col5\" >106856.000000</td>\n",
              "                        <td id=\"T_0e46f_row0_col6\" class=\"data row0 col6\" >106856.000000</td>\n",
              "                        <td id=\"T_0e46f_row0_col7\" class=\"data row0 col7\" >106856.000000</td>\n",
              "                        <td id=\"T_0e46f_row0_col8\" class=\"data row0 col8\" >106856.000000</td>\n",
              "                        <td id=\"T_0e46f_row0_col9\" class=\"data row0 col9\" >106856.000000</td>\n",
              "                        <td id=\"T_0e46f_row0_col10\" class=\"data row0 col10\" >106856.000000</td>\n",
              "                        <td id=\"T_0e46f_row0_col11\" class=\"data row0 col11\" >106856.000000</td>\n",
              "            </tr>\n",
              "            <tr>\n",
              "                        <th id=\"T_0e46f_level0_row1\" class=\"row_heading level0 row1\" >mean</th>\n",
              "                        <td id=\"T_0e46f_row1_col0\" class=\"data row1 col0\" >1.393792</td>\n",
              "                        <td id=\"T_0e46f_row1_col1\" class=\"data row1 col1\" >40.601988</td>\n",
              "                        <td id=\"T_0e46f_row1_col2\" class=\"data row1 col2\" >2.429931</td>\n",
              "                        <td id=\"T_0e46f_row1_col3\" class=\"data row1 col3\" >10.378298</td>\n",
              "                        <td id=\"T_0e46f_row1_col4\" class=\"data row1 col4\" >3.002926</td>\n",
              "                        <td id=\"T_0e46f_row1_col5\" class=\"data row1 col5\" >30.096435</td>\n",
              "                        <td id=\"T_0e46f_row1_col6\" class=\"data row1 col6\" >30.077298</td>\n",
              "                        <td id=\"T_0e46f_row1_col7\" class=\"data row1 col7\" >571.984301</td>\n",
              "                        <td id=\"T_0e46f_row1_col8\" class=\"data row1 col8\" >570.782437</td>\n",
              "                        <td id=\"T_0e46f_row1_col9\" class=\"data row1 col9\" >604.298287</td>\n",
              "                        <td id=\"T_0e46f_row1_col10\" class=\"data row1 col10\" >54.654524</td>\n",
              "                        <td id=\"T_0e46f_row1_col11\" class=\"data row1 col11\" >658.952812</td>\n",
              "            </tr>\n",
              "            <tr>\n",
              "                        <th id=\"T_0e46f_level0_row2\" class=\"row_heading level0 row2\" >std</th>\n",
              "                        <td id=\"T_0e46f_row2_col0\" class=\"data row2 col0\" >0.806022</td>\n",
              "                        <td id=\"T_0e46f_row2_col1\" class=\"data row2 col1\" >51.766297</td>\n",
              "                        <td id=\"T_0e46f_row2_col2\" class=\"data row2 col2\" >1.819647</td>\n",
              "                        <td id=\"T_0e46f_row2_col3\" class=\"data row2 col3\" >7.195341</td>\n",
              "                        <td id=\"T_0e46f_row2_col4\" class=\"data row2 col4\" >2.119446</td>\n",
              "                        <td id=\"T_0e46f_row2_col5\" class=\"data row2 col5\" >20.308416</td>\n",
              "                        <td id=\"T_0e46f_row2_col6\" class=\"data row2 col6\" >20.303304</td>\n",
              "                        <td id=\"T_0e46f_row2_col7\" class=\"data row2 col7\" >428.343260</td>\n",
              "                        <td id=\"T_0e46f_row2_col8\" class=\"data row2 col8\" >428.125486</td>\n",
              "                        <td id=\"T_0e46f_row2_col9\" class=\"data row2 col9\" >443.034226</td>\n",
              "                        <td id=\"T_0e46f_row2_col10\" class=\"data row2 col10\" >34.005785</td>\n",
              "                        <td id=\"T_0e46f_row2_col11\" class=\"data row2 col11\" >468.307391</td>\n",
              "            </tr>\n",
              "            <tr>\n",
              "                        <th id=\"T_0e46f_level0_row3\" class=\"row_heading level0 row3\" >min</th>\n",
              "                        <td id=\"T_0e46f_row3_col0\" class=\"data row3 col0\" >1.000000</td>\n",
              "                        <td id=\"T_0e46f_row3_col1\" class=\"data row3 col1\" >1.983889</td>\n",
              "                        <td id=\"T_0e46f_row3_col2\" class=\"data row3 col2\" >0.001491</td>\n",
              "                        <td id=\"T_0e46f_row3_col3\" class=\"data row3 col3\" >0.038462</td>\n",
              "                        <td id=\"T_0e46f_row3_col4\" class=\"data row3 col4\" >0.017334</td>\n",
              "                        <td id=\"T_0e46f_row3_col5\" class=\"data row3 col5\" >0.075248</td>\n",
              "                        <td id=\"T_0e46f_row3_col6\" class=\"data row3 col6\" >0.176019</td>\n",
              "                        <td id=\"T_0e46f_row3_col7\" class=\"data row3 col7\" >0.292166</td>\n",
              "                        <td id=\"T_0e46f_row3_col8\" class=\"data row3 col8\" >0.142140</td>\n",
              "                        <td id=\"T_0e46f_row3_col9\" class=\"data row3 col9\" >8.418161</td>\n",
              "                        <td id=\"T_0e46f_row3_col10\" class=\"data row3 col10\" >2.734081</td>\n",
              "                        <td id=\"T_0e46f_row3_col11\" class=\"data row3 col11\" >31.708726</td>\n",
              "            </tr>\n",
              "            <tr>\n",
              "                        <th id=\"T_0e46f_level0_row4\" class=\"row_heading level0 row4\" >25%</th>\n",
              "                        <td id=\"T_0e46f_row4_col0\" class=\"data row4 col0\" >1.000000</td>\n",
              "                        <td id=\"T_0e46f_row4_col1\" class=\"data row4 col1\" >19.807778</td>\n",
              "                        <td id=\"T_0e46f_row4_col2\" class=\"data row4 col2\" >1.155168</td>\n",
              "                        <td id=\"T_0e46f_row4_col3\" class=\"data row4 col3\" >5.667339</td>\n",
              "                        <td id=\"T_0e46f_row4_col4\" class=\"data row4 col4\" >1.596910</td>\n",
              "                        <td id=\"T_0e46f_row4_col5\" class=\"data row4 col5\" >17.767991</td>\n",
              "                        <td id=\"T_0e46f_row4_col6\" class=\"data row4 col6\" >17.696355</td>\n",
              "                        <td id=\"T_0e46f_row4_col7\" class=\"data row4 col7\" >274.718392</td>\n",
              "                        <td id=\"T_0e46f_row4_col8\" class=\"data row4 col8\" >272.331153</td>\n",
              "                        <td id=\"T_0e46f_row4_col9\" class=\"data row4 col9\" >300.242485</td>\n",
              "                        <td id=\"T_0e46f_row4_col10\" class=\"data row4 col10\" >34.709430</td>\n",
              "                        <td id=\"T_0e46f_row4_col11\" class=\"data row4 col11\" >341.939838</td>\n",
              "            </tr>\n",
              "            <tr>\n",
              "                        <th id=\"T_0e46f_level0_row5\" class=\"row_heading level0 row5\" >50%</th>\n",
              "                        <td id=\"T_0e46f_row5_col0\" class=\"data row5 col0\" >1.000000</td>\n",
              "                        <td id=\"T_0e46f_row5_col1\" class=\"data row5 col1\" >28.538889</td>\n",
              "                        <td id=\"T_0e46f_row5_col2\" class=\"data row5 col2\" >2.197033</td>\n",
              "                        <td id=\"T_0e46f_row5_col3\" class=\"data row5 col3\" >9.142068</td>\n",
              "                        <td id=\"T_0e46f_row5_col4\" class=\"data row5 col4\" >2.670121</td>\n",
              "                        <td id=\"T_0e46f_row5_col5\" class=\"data row5 col5\" >25.558830</td>\n",
              "                        <td id=\"T_0e46f_row5_col6\" class=\"data row5 col6\" >25.481119</td>\n",
              "                        <td id=\"T_0e46f_row5_col7\" class=\"data row5 col7\" >517.224509</td>\n",
              "                        <td id=\"T_0e46f_row5_col8\" class=\"data row5 col8\" >514.824241</td>\n",
              "                        <td id=\"T_0e46f_row5_col9\" class=\"data row5 col9\" >543.945048</td>\n",
              "                        <td id=\"T_0e46f_row5_col10\" class=\"data row5 col10\" >44.626108</td>\n",
              "                        <td id=\"T_0e46f_row5_col11\" class=\"data row5 col11\" >589.297426</td>\n",
              "            </tr>\n",
              "            <tr>\n",
              "                        <th id=\"T_0e46f_level0_row6\" class=\"row_heading level0 row6\" >75%</th>\n",
              "                        <td id=\"T_0e46f_row6_col0\" class=\"data row6 col0\" >2.000000</td>\n",
              "                        <td id=\"T_0e46f_row6_col1\" class=\"data row6 col1\" >47.999722</td>\n",
              "                        <td id=\"T_0e46f_row6_col2\" class=\"data row6 col2\" >3.154286</td>\n",
              "                        <td id=\"T_0e46f_row6_col3\" class=\"data row6 col3\" >12.602558</td>\n",
              "                        <td id=\"T_0e46f_row6_col4\" class=\"data row6 col4\" >3.668973</td>\n",
              "                        <td id=\"T_0e46f_row6_col5\" class=\"data row6 col5\" >36.170936</td>\n",
              "                        <td id=\"T_0e46f_row6_col6\" class=\"data row6 col6\" >36.217649</td>\n",
              "                        <td id=\"T_0e46f_row6_col7\" class=\"data row6 col7\" >741.294992</td>\n",
              "                        <td id=\"T_0e46f_row6_col8\" class=\"data row6 col8\" >739.476710</td>\n",
              "                        <td id=\"T_0e46f_row6_col9\" class=\"data row6 col9\" >769.962778</td>\n",
              "                        <td id=\"T_0e46f_row6_col10\" class=\"data row6 col10\" >62.686913</td>\n",
              "                        <td id=\"T_0e46f_row6_col11\" class=\"data row6 col11\" >817.713878</td>\n",
              "            </tr>\n",
              "            <tr>\n",
              "                        <th id=\"T_0e46f_level0_row7\" class=\"row_heading level0 row7\" >max</th>\n",
              "                        <td id=\"T_0e46f_row7_col0\" class=\"data row7 col0\" >18.000000</td>\n",
              "                        <td id=\"T_0e46f_row7_col1\" class=\"data row7 col1\" >5153.820556</td>\n",
              "                        <td id=\"T_0e46f_row7_col2\" class=\"data row7 col2\" >41.365413</td>\n",
              "                        <td id=\"T_0e46f_row7_col3\" class=\"data row7 col3\" >145.141460</td>\n",
              "                        <td id=\"T_0e46f_row7_col4\" class=\"data row7 col4\" >40.453703</td>\n",
              "                        <td id=\"T_0e46f_row7_col5\" class=\"data row7 col5\" >431.975144</td>\n",
              "                        <td id=\"T_0e46f_row7_col6\" class=\"data row7 col6\" >381.011085</td>\n",
              "                        <td id=\"T_0e46f_row7_col7\" class=\"data row7 col7\" >7390.434488</td>\n",
              "                        <td id=\"T_0e46f_row7_col8\" class=\"data row7 col8\" >7789.495255</td>\n",
              "                        <td id=\"T_0e46f_row7_col9\" class=\"data row7 col9\" >7778.876775</td>\n",
              "                        <td id=\"T_0e46f_row7_col10\" class=\"data row7 col10\" >695.779209</td>\n",
              "                        <td id=\"T_0e46f_row7_col11\" class=\"data row7 col11\" >8436.419004</td>\n",
              "            </tr>\n",
              "    </tbody></table>"
            ],
            "text/plain": [
              "<pandas.io.formats.style.Styler at 0x7f1428648e50>"
            ]
          },
          "execution_count": 30,
          "metadata": {},
          "output_type": "execute_result"
        }
      ]
    },
    {
      "cell_type": "markdown",
      "metadata": {
        "id": "PbfrtZ6VlW1_"
      },
      "source": [
        "###### removing outliers : any user with session duration greater than (30*12) mins "
      ]
    },
    {
      "cell_type": "code",
      "metadata": {
        "id": "PWYezgeclW2A"
      },
      "source": [
        "outliers_index = \\\n",
        "aggregates[\"tot sessions duration (hrs)\"][aggregates[\"tot sessions duration (hrs)\"] > (30*12)].keys()\n",
        "aggregates.loc[outliers_index] = np.nan\n",
        "aggregates.dropna(inplace=True)"
      ],
      "execution_count": null,
      "outputs": []
    },
    {
      "cell_type": "code",
      "metadata": {
        "id": "GjonDErGlW2A",
        "outputId": "059a9095-9f02-442b-e8fa-505a7170fc45"
      },
      "source": [
        "aggregates.describe().style"
      ],
      "execution_count": null,
      "outputs": [
        {
          "data": {
            "text/html": [
              "<style  type=\"text/css\" >\n",
              "</style><table id=\"T_07b24_\" ><thead>    <tr>        <th class=\"blank level0\" ></th>        <th class=\"col_heading level0 col0\" >tot number of session</th>        <th class=\"col_heading level0 col1\" >tot sessions duration (hrs)</th>        <th class=\"col_heading level0 col2\" >social media data usage (MBs)</th>        <th class=\"col_heading level0 col3\" >google data usage (MBs)</th>        <th class=\"col_heading level0 col4\" >Email data usage (MBs)</th>        <th class=\"col_heading level0 col5\" >youtube data usage (MBs)</th>        <th class=\"col_heading level0 col6\" >netflix data usage (MBs)</th>        <th class=\"col_heading level0 col7\" >gaming apps data usage (MBs)</th>        <th class=\"col_heading level0 col8\" >other apps data usage (MBs)</th>        <th class=\"col_heading level0 col9\" >tot downloaded data (MBs)</th>        <th class=\"col_heading level0 col10\" >tot uploaded data (MBs)</th>        <th class=\"col_heading level0 col11\" >tot data usage (MBs)</th>    </tr></thead><tbody>\n",
              "                <tr>\n",
              "                        <th id=\"T_07b24_level0_row0\" class=\"row_heading level0 row0\" >count</th>\n",
              "                        <td id=\"T_07b24_row0_col0\" class=\"data row0 col0\" >106794.000000</td>\n",
              "                        <td id=\"T_07b24_row0_col1\" class=\"data row0 col1\" >106794.000000</td>\n",
              "                        <td id=\"T_07b24_row0_col2\" class=\"data row0 col2\" >106794.000000</td>\n",
              "                        <td id=\"T_07b24_row0_col3\" class=\"data row0 col3\" >106794.000000</td>\n",
              "                        <td id=\"T_07b24_row0_col4\" class=\"data row0 col4\" >106794.000000</td>\n",
              "                        <td id=\"T_07b24_row0_col5\" class=\"data row0 col5\" >106794.000000</td>\n",
              "                        <td id=\"T_07b24_row0_col6\" class=\"data row0 col6\" >106794.000000</td>\n",
              "                        <td id=\"T_07b24_row0_col7\" class=\"data row0 col7\" >106794.000000</td>\n",
              "                        <td id=\"T_07b24_row0_col8\" class=\"data row0 col8\" >106794.000000</td>\n",
              "                        <td id=\"T_07b24_row0_col9\" class=\"data row0 col9\" >106794.000000</td>\n",
              "                        <td id=\"T_07b24_row0_col10\" class=\"data row0 col10\" >106794.000000</td>\n",
              "                        <td id=\"T_07b24_row0_col11\" class=\"data row0 col11\" >106794.000000</td>\n",
              "            </tr>\n",
              "            <tr>\n",
              "                        <th id=\"T_07b24_level0_row1\" class=\"row_heading level0 row1\" >mean</th>\n",
              "                        <td id=\"T_07b24_row1_col0\" class=\"data row1 col0\" >1.389282</td>\n",
              "                        <td id=\"T_07b24_row1_col1\" class=\"data row1 col1\" >39.930222</td>\n",
              "                        <td id=\"T_07b24_row1_col2\" class=\"data row1 col2\" >2.422025</td>\n",
              "                        <td id=\"T_07b24_row1_col3\" class=\"data row1 col3\" >10.344188</td>\n",
              "                        <td id=\"T_07b24_row1_col4\" class=\"data row1 col4\" >2.992822</td>\n",
              "                        <td id=\"T_07b24_row1_col5\" class=\"data row1 col5\" >29.996822</td>\n",
              "                        <td id=\"T_07b24_row1_col6\" class=\"data row1 col6\" >29.981950</td>\n",
              "                        <td id=\"T_07b24_row1_col7\" class=\"data row1 col7\" >570.144842</td>\n",
              "                        <td id=\"T_07b24_row1_col8\" class=\"data row1 col8\" >568.966751</td>\n",
              "                        <td id=\"T_07b24_row1_col9\" class=\"data row1 col9\" >602.351969</td>\n",
              "                        <td id=\"T_07b24_row1_col10\" class=\"data row1 col10\" >54.478182</td>\n",
              "                        <td id=\"T_07b24_row1_col11\" class=\"data row1 col11\" >656.830151</td>\n",
              "            </tr>\n",
              "            <tr>\n",
              "                        <th id=\"T_07b24_level0_row2\" class=\"row_heading level0 row2\" >std</th>\n",
              "                        <td id=\"T_07b24_row2_col0\" class=\"data row2 col0\" >0.780315</td>\n",
              "                        <td id=\"T_07b24_row2_col1\" class=\"data row2 col1\" >40.325205</td>\n",
              "                        <td id=\"T_07b24_row2_col2\" class=\"data row2 col2\" >1.782290</td>\n",
              "                        <td id=\"T_07b24_row2_col3\" class=\"data row2 col3\" >7.029163</td>\n",
              "                        <td id=\"T_07b24_row2_col4\" class=\"data row2 col4\" >2.070495</td>\n",
              "                        <td id=\"T_07b24_row2_col5\" class=\"data row2 col5\" >19.806596</td>\n",
              "                        <td id=\"T_07b24_row2_col6\" class=\"data row2 col6\" >19.842332</td>\n",
              "                        <td id=\"T_07b24_row2_col7\" class=\"data row2 col7\" >419.924083</td>\n",
              "                        <td id=\"T_07b24_row2_col8\" class=\"data row2 col8\" >420.269366</td>\n",
              "                        <td id=\"T_07b24_row2_col9\" class=\"data row2 col9\" >433.964913</td>\n",
              "                        <td id=\"T_07b24_row2_col10\" class=\"data row2 col10\" >33.074180</td>\n",
              "                        <td id=\"T_07b24_row2_col11\" class=\"data row2 col11\" >458.157633</td>\n",
              "            </tr>\n",
              "            <tr>\n",
              "                        <th id=\"T_07b24_level0_row3\" class=\"row_heading level0 row3\" >min</th>\n",
              "                        <td id=\"T_07b24_row3_col0\" class=\"data row3 col0\" >1.000000</td>\n",
              "                        <td id=\"T_07b24_row3_col1\" class=\"data row3 col1\" >1.983889</td>\n",
              "                        <td id=\"T_07b24_row3_col2\" class=\"data row3 col2\" >0.001491</td>\n",
              "                        <td id=\"T_07b24_row3_col3\" class=\"data row3 col3\" >0.038462</td>\n",
              "                        <td id=\"T_07b24_row3_col4\" class=\"data row3 col4\" >0.017334</td>\n",
              "                        <td id=\"T_07b24_row3_col5\" class=\"data row3 col5\" >0.075248</td>\n",
              "                        <td id=\"T_07b24_row3_col6\" class=\"data row3 col6\" >0.176019</td>\n",
              "                        <td id=\"T_07b24_row3_col7\" class=\"data row3 col7\" >0.292166</td>\n",
              "                        <td id=\"T_07b24_row3_col8\" class=\"data row3 col8\" >0.142140</td>\n",
              "                        <td id=\"T_07b24_row3_col9\" class=\"data row3 col9\" >8.418161</td>\n",
              "                        <td id=\"T_07b24_row3_col10\" class=\"data row3 col10\" >2.734081</td>\n",
              "                        <td id=\"T_07b24_row3_col11\" class=\"data row3 col11\" >31.708726</td>\n",
              "            </tr>\n",
              "            <tr>\n",
              "                        <th id=\"T_07b24_level0_row4\" class=\"row_heading level0 row4\" >25%</th>\n",
              "                        <td id=\"T_07b24_row4_col0\" class=\"data row4 col0\" >1.000000</td>\n",
              "                        <td id=\"T_07b24_row4_col1\" class=\"data row4 col1\" >19.792014</td>\n",
              "                        <td id=\"T_07b24_row4_col2\" class=\"data row4 col2\" >1.154788</td>\n",
              "                        <td id=\"T_07b24_row4_col3\" class=\"data row4 col3\" >5.664947</td>\n",
              "                        <td id=\"T_07b24_row4_col4\" class=\"data row4 col4\" >1.596339</td>\n",
              "                        <td id=\"T_07b24_row4_col5\" class=\"data row4 col5\" >17.760997</td>\n",
              "                        <td id=\"T_07b24_row4_col6\" class=\"data row4 col6\" >17.690892</td>\n",
              "                        <td id=\"T_07b24_row4_col7\" class=\"data row4 col7\" >274.586343</td>\n",
              "                        <td id=\"T_07b24_row4_col8\" class=\"data row4 col8\" >272.152472</td>\n",
              "                        <td id=\"T_07b24_row4_col9\" class=\"data row4 col9\" >300.128559</td>\n",
              "                        <td id=\"T_07b24_row4_col10\" class=\"data row4 col10\" >34.703633</td>\n",
              "                        <td id=\"T_07b24_row4_col11\" class=\"data row4 col11\" >341.721384</td>\n",
              "            </tr>\n",
              "            <tr>\n",
              "                        <th id=\"T_07b24_level0_row5\" class=\"row_heading level0 row5\" >50%</th>\n",
              "                        <td id=\"T_07b24_row5_col0\" class=\"data row5 col0\" >1.000000</td>\n",
              "                        <td id=\"T_07b24_row5_col1\" class=\"data row5 col1\" >28.518472</td>\n",
              "                        <td id=\"T_07b24_row5_col2\" class=\"data row5 col2\" >2.196108</td>\n",
              "                        <td id=\"T_07b24_row5_col3\" class=\"data row5 col3\" >9.138590</td>\n",
              "                        <td id=\"T_07b24_row5_col4\" class=\"data row5 col4\" >2.668857</td>\n",
              "                        <td id=\"T_07b24_row5_col5\" class=\"data row5 col5\" >25.549569</td>\n",
              "                        <td id=\"T_07b24_row5_col6\" class=\"data row5 col6\" >25.470508</td>\n",
              "                        <td id=\"T_07b24_row5_col7\" class=\"data row5 col7\" >516.918793</td>\n",
              "                        <td id=\"T_07b24_row5_col8\" class=\"data row5 col8\" >514.530576</td>\n",
              "                        <td id=\"T_07b24_row5_col9\" class=\"data row5 col9\" >543.702057</td>\n",
              "                        <td id=\"T_07b24_row5_col10\" class=\"data row5 col10\" >44.615129</td>\n",
              "                        <td id=\"T_07b24_row5_col11\" class=\"data row5 col11\" >589.024565</td>\n",
              "            </tr>\n",
              "            <tr>\n",
              "                        <th id=\"T_07b24_level0_row6\" class=\"row_heading level0 row6\" >75%</th>\n",
              "                        <td id=\"T_07b24_row6_col0\" class=\"data row6 col0\" >2.000000</td>\n",
              "                        <td id=\"T_07b24_row6_col1\" class=\"data row6 col1\" >47.999722</td>\n",
              "                        <td id=\"T_07b24_row6_col2\" class=\"data row6 col2\" >3.152785</td>\n",
              "                        <td id=\"T_07b24_row6_col3\" class=\"data row6 col3\" >12.592999</td>\n",
              "                        <td id=\"T_07b24_row6_col4\" class=\"data row6 col4\" >3.666975</td>\n",
              "                        <td id=\"T_07b24_row6_col5\" class=\"data row6 col5\" >36.141413</td>\n",
              "                        <td id=\"T_07b24_row6_col6\" class=\"data row6 col6\" >36.190821</td>\n",
              "                        <td id=\"T_07b24_row6_col7\" class=\"data row6 col7\" >740.931863</td>\n",
              "                        <td id=\"T_07b24_row6_col8\" class=\"data row6 col8\" >739.073358</td>\n",
              "                        <td id=\"T_07b24_row6_col9\" class=\"data row6 col9\" >769.505069</td>\n",
              "                        <td id=\"T_07b24_row6_col10\" class=\"data row6 col10\" >62.615369</td>\n",
              "                        <td id=\"T_07b24_row6_col11\" class=\"data row6 col11\" >817.416116</td>\n",
              "            </tr>\n",
              "            <tr>\n",
              "                        <th id=\"T_07b24_level0_row7\" class=\"row_heading level0 row7\" >max</th>\n",
              "                        <td id=\"T_07b24_row7_col0\" class=\"data row7 col0\" >11.000000</td>\n",
              "                        <td id=\"T_07b24_row7_col1\" class=\"data row7 col1\" >712.858889</td>\n",
              "                        <td id=\"T_07b24_row7_col2\" class=\"data row7 col2\" >22.698244</td>\n",
              "                        <td id=\"T_07b24_row7_col3\" class=\"data row7 col3\" >87.676192</td>\n",
              "                        <td id=\"T_07b24_row7_col4\" class=\"data row7 col4\" >29.008756</td>\n",
              "                        <td id=\"T_07b24_row7_col5\" class=\"data row7 col5\" >248.899313</td>\n",
              "                        <td id=\"T_07b24_row7_col6\" class=\"data row7 col6\" >267.803619</td>\n",
              "                        <td id=\"T_07b24_row7_col7\" class=\"data row7 col7\" >5441.589013</td>\n",
              "                        <td id=\"T_07b24_row7_col8\" class=\"data row7 col8\" >5059.669382</td>\n",
              "                        <td id=\"T_07b24_row7_col9\" class=\"data row7 col9\" >5695.632342</td>\n",
              "                        <td id=\"T_07b24_row7_col10\" class=\"data row7 col10\" >458.246217</td>\n",
              "                        <td id=\"T_07b24_row7_col11\" class=\"data row7 col11\" >6153.486115</td>\n",
              "            </tr>\n",
              "    </tbody></table>"
            ],
            "text/plain": [
              "<pandas.io.formats.style.Styler at 0x7f14284483d0>"
            ]
          },
          "execution_count": 32,
          "metadata": {},
          "output_type": "execute_result"
        }
      ]
    },
    {
      "cell_type": "markdown",
      "metadata": {
        "id": "_p_EhmH_lW2B"
      },
      "source": [
        "## Task 1.2\n",
        "\n",
        "○\tDescribe all relevant variables and associated data types (slide). \n",
        "\n",
        "○\tAnalyze the basic metrics (mean, median, etc) in the Dataset (explain) & their importance for the global objective.\n",
        "\n",
        "○\tConduct a Non-Graphical Univariate Analysis by computing dispersion parameters for each quantitative variable and providing useful interpretation. \n",
        "\n",
        "○\tConduct a Graphical Univariate Analysis by identifying the most suitable plotting options for each variable and interpreting your findings.\n",
        "\n",
        "○\tBivariate Analysis – explore the relationship between each application & the total DL+UL data using appropriate methods and interpret your findings. \n",
        "\n",
        "○\tVariable transformations – segment the users into the top five decile classes based on the total duration for all sessions and compute the total data (DL+UL) per decile class. \n",
        "\n",
        "○\tCorrelation Analysis – compute a correlation matrix for the following variables and interpret your findings: Social Media data, Google data, Email data, Youtube data, Netflix data, Gaming data, Other data \n",
        "\n",
        "○\tDimensionality Reduction – perform a principal component analysis to reduce the dimensions of your data and provide a useful interpretation of the results (Provide your interpretation in four (4) bullet points-maximum). \n"
      ]
    },
    {
      "cell_type": "code",
      "metadata": {
        "scrolled": false,
        "id": "NBDakAwjlW2B",
        "outputId": "4225460a-4eca-45cb-8e37-b9ebb80e7e7b"
      },
      "source": [
        "aggregates.dtypes"
      ],
      "execution_count": null,
      "outputs": [
        {
          "data": {
            "text/plain": [
              "tot number of session            float64\n",
              "tot sessions duration (hrs)      float64\n",
              "social media data usage (MBs)    float64\n",
              "google data usage (MBs)          float64\n",
              "Email data usage (MBs)           float64\n",
              "youtube data usage (MBs)         float64\n",
              "netflix data usage (MBs)         float64\n",
              "gaming apps data usage (MBs)     float64\n",
              "other apps data usage (MBs)      float64\n",
              "tot downloaded data (MBs)        float64\n",
              "tot uploaded data (MBs)          float64\n",
              "tot data usage (MBs)             float64\n",
              "dtype: object"
            ]
          },
          "execution_count": 33,
          "metadata": {},
          "output_type": "execute_result"
        }
      ]
    },
    {
      "cell_type": "code",
      "metadata": {
        "id": "iukPR0FolW2C"
      },
      "source": [
        "ss = aggregates.describe().loc[[\"mean\", \"min\", \"50%\", \"75%\", \"max\"]].T"
      ],
      "execution_count": null,
      "outputs": []
    },
    {
      "cell_type": "code",
      "metadata": {
        "scrolled": false,
        "id": "mAkCwclHlW2D",
        "outputId": "fc1093bc-2ccb-4b12-d430-101c146bf94f"
      },
      "source": [
        "ss.style.set_precision(2).set_properties(**{\"width\": \"100px\", \"color\": \"blue\"})"
      ],
      "execution_count": null,
      "outputs": [
        {
          "data": {
            "text/html": [
              "<style  type=\"text/css\" >\n",
              "#T_6ee2d_row0_col0,#T_6ee2d_row0_col1,#T_6ee2d_row0_col2,#T_6ee2d_row0_col3,#T_6ee2d_row0_col4,#T_6ee2d_row1_col0,#T_6ee2d_row1_col1,#T_6ee2d_row1_col2,#T_6ee2d_row1_col3,#T_6ee2d_row1_col4,#T_6ee2d_row2_col0,#T_6ee2d_row2_col1,#T_6ee2d_row2_col2,#T_6ee2d_row2_col3,#T_6ee2d_row2_col4,#T_6ee2d_row3_col0,#T_6ee2d_row3_col1,#T_6ee2d_row3_col2,#T_6ee2d_row3_col3,#T_6ee2d_row3_col4,#T_6ee2d_row4_col0,#T_6ee2d_row4_col1,#T_6ee2d_row4_col2,#T_6ee2d_row4_col3,#T_6ee2d_row4_col4,#T_6ee2d_row5_col0,#T_6ee2d_row5_col1,#T_6ee2d_row5_col2,#T_6ee2d_row5_col3,#T_6ee2d_row5_col4,#T_6ee2d_row6_col0,#T_6ee2d_row6_col1,#T_6ee2d_row6_col2,#T_6ee2d_row6_col3,#T_6ee2d_row6_col4,#T_6ee2d_row7_col0,#T_6ee2d_row7_col1,#T_6ee2d_row7_col2,#T_6ee2d_row7_col3,#T_6ee2d_row7_col4,#T_6ee2d_row8_col0,#T_6ee2d_row8_col1,#T_6ee2d_row8_col2,#T_6ee2d_row8_col3,#T_6ee2d_row8_col4,#T_6ee2d_row9_col0,#T_6ee2d_row9_col1,#T_6ee2d_row9_col2,#T_6ee2d_row9_col3,#T_6ee2d_row9_col4,#T_6ee2d_row10_col0,#T_6ee2d_row10_col1,#T_6ee2d_row10_col2,#T_6ee2d_row10_col3,#T_6ee2d_row10_col4,#T_6ee2d_row11_col0,#T_6ee2d_row11_col1,#T_6ee2d_row11_col2,#T_6ee2d_row11_col3,#T_6ee2d_row11_col4{\n",
              "            width:  100px;\n",
              "            color:  blue;\n",
              "        }</style><table id=\"T_6ee2d_\" ><thead>    <tr>        <th class=\"blank level0\" ></th>        <th class=\"col_heading level0 col0\" >mean</th>        <th class=\"col_heading level0 col1\" >min</th>        <th class=\"col_heading level0 col2\" >50%</th>        <th class=\"col_heading level0 col3\" >75%</th>        <th class=\"col_heading level0 col4\" >max</th>    </tr></thead><tbody>\n",
              "                <tr>\n",
              "                        <th id=\"T_6ee2d_level0_row0\" class=\"row_heading level0 row0\" >tot number of session</th>\n",
              "                        <td id=\"T_6ee2d_row0_col0\" class=\"data row0 col0\" >1.39</td>\n",
              "                        <td id=\"T_6ee2d_row0_col1\" class=\"data row0 col1\" >1.00</td>\n",
              "                        <td id=\"T_6ee2d_row0_col2\" class=\"data row0 col2\" >1.00</td>\n",
              "                        <td id=\"T_6ee2d_row0_col3\" class=\"data row0 col3\" >2.00</td>\n",
              "                        <td id=\"T_6ee2d_row0_col4\" class=\"data row0 col4\" >11.00</td>\n",
              "            </tr>\n",
              "            <tr>\n",
              "                        <th id=\"T_6ee2d_level0_row1\" class=\"row_heading level0 row1\" >tot sessions duration (hrs)</th>\n",
              "                        <td id=\"T_6ee2d_row1_col0\" class=\"data row1 col0\" >39.93</td>\n",
              "                        <td id=\"T_6ee2d_row1_col1\" class=\"data row1 col1\" >1.98</td>\n",
              "                        <td id=\"T_6ee2d_row1_col2\" class=\"data row1 col2\" >28.52</td>\n",
              "                        <td id=\"T_6ee2d_row1_col3\" class=\"data row1 col3\" >48.00</td>\n",
              "                        <td id=\"T_6ee2d_row1_col4\" class=\"data row1 col4\" >712.86</td>\n",
              "            </tr>\n",
              "            <tr>\n",
              "                        <th id=\"T_6ee2d_level0_row2\" class=\"row_heading level0 row2\" >social media data usage (MBs)</th>\n",
              "                        <td id=\"T_6ee2d_row2_col0\" class=\"data row2 col0\" >2.42</td>\n",
              "                        <td id=\"T_6ee2d_row2_col1\" class=\"data row2 col1\" >0.00</td>\n",
              "                        <td id=\"T_6ee2d_row2_col2\" class=\"data row2 col2\" >2.20</td>\n",
              "                        <td id=\"T_6ee2d_row2_col3\" class=\"data row2 col3\" >3.15</td>\n",
              "                        <td id=\"T_6ee2d_row2_col4\" class=\"data row2 col4\" >22.70</td>\n",
              "            </tr>\n",
              "            <tr>\n",
              "                        <th id=\"T_6ee2d_level0_row3\" class=\"row_heading level0 row3\" >google data usage (MBs)</th>\n",
              "                        <td id=\"T_6ee2d_row3_col0\" class=\"data row3 col0\" >10.34</td>\n",
              "                        <td id=\"T_6ee2d_row3_col1\" class=\"data row3 col1\" >0.04</td>\n",
              "                        <td id=\"T_6ee2d_row3_col2\" class=\"data row3 col2\" >9.14</td>\n",
              "                        <td id=\"T_6ee2d_row3_col3\" class=\"data row3 col3\" >12.59</td>\n",
              "                        <td id=\"T_6ee2d_row3_col4\" class=\"data row3 col4\" >87.68</td>\n",
              "            </tr>\n",
              "            <tr>\n",
              "                        <th id=\"T_6ee2d_level0_row4\" class=\"row_heading level0 row4\" >Email data usage (MBs)</th>\n",
              "                        <td id=\"T_6ee2d_row4_col0\" class=\"data row4 col0\" >2.99</td>\n",
              "                        <td id=\"T_6ee2d_row4_col1\" class=\"data row4 col1\" >0.02</td>\n",
              "                        <td id=\"T_6ee2d_row4_col2\" class=\"data row4 col2\" >2.67</td>\n",
              "                        <td id=\"T_6ee2d_row4_col3\" class=\"data row4 col3\" >3.67</td>\n",
              "                        <td id=\"T_6ee2d_row4_col4\" class=\"data row4 col4\" >29.01</td>\n",
              "            </tr>\n",
              "            <tr>\n",
              "                        <th id=\"T_6ee2d_level0_row5\" class=\"row_heading level0 row5\" >youtube data usage (MBs)</th>\n",
              "                        <td id=\"T_6ee2d_row5_col0\" class=\"data row5 col0\" >30.00</td>\n",
              "                        <td id=\"T_6ee2d_row5_col1\" class=\"data row5 col1\" >0.08</td>\n",
              "                        <td id=\"T_6ee2d_row5_col2\" class=\"data row5 col2\" >25.55</td>\n",
              "                        <td id=\"T_6ee2d_row5_col3\" class=\"data row5 col3\" >36.14</td>\n",
              "                        <td id=\"T_6ee2d_row5_col4\" class=\"data row5 col4\" >248.90</td>\n",
              "            </tr>\n",
              "            <tr>\n",
              "                        <th id=\"T_6ee2d_level0_row6\" class=\"row_heading level0 row6\" >netflix data usage (MBs)</th>\n",
              "                        <td id=\"T_6ee2d_row6_col0\" class=\"data row6 col0\" >29.98</td>\n",
              "                        <td id=\"T_6ee2d_row6_col1\" class=\"data row6 col1\" >0.18</td>\n",
              "                        <td id=\"T_6ee2d_row6_col2\" class=\"data row6 col2\" >25.47</td>\n",
              "                        <td id=\"T_6ee2d_row6_col3\" class=\"data row6 col3\" >36.19</td>\n",
              "                        <td id=\"T_6ee2d_row6_col4\" class=\"data row6 col4\" >267.80</td>\n",
              "            </tr>\n",
              "            <tr>\n",
              "                        <th id=\"T_6ee2d_level0_row7\" class=\"row_heading level0 row7\" >gaming apps data usage (MBs)</th>\n",
              "                        <td id=\"T_6ee2d_row7_col0\" class=\"data row7 col0\" >570.14</td>\n",
              "                        <td id=\"T_6ee2d_row7_col1\" class=\"data row7 col1\" >0.29</td>\n",
              "                        <td id=\"T_6ee2d_row7_col2\" class=\"data row7 col2\" >516.92</td>\n",
              "                        <td id=\"T_6ee2d_row7_col3\" class=\"data row7 col3\" >740.93</td>\n",
              "                        <td id=\"T_6ee2d_row7_col4\" class=\"data row7 col4\" >5441.59</td>\n",
              "            </tr>\n",
              "            <tr>\n",
              "                        <th id=\"T_6ee2d_level0_row8\" class=\"row_heading level0 row8\" >other apps data usage (MBs)</th>\n",
              "                        <td id=\"T_6ee2d_row8_col0\" class=\"data row8 col0\" >568.97</td>\n",
              "                        <td id=\"T_6ee2d_row8_col1\" class=\"data row8 col1\" >0.14</td>\n",
              "                        <td id=\"T_6ee2d_row8_col2\" class=\"data row8 col2\" >514.53</td>\n",
              "                        <td id=\"T_6ee2d_row8_col3\" class=\"data row8 col3\" >739.07</td>\n",
              "                        <td id=\"T_6ee2d_row8_col4\" class=\"data row8 col4\" >5059.67</td>\n",
              "            </tr>\n",
              "            <tr>\n",
              "                        <th id=\"T_6ee2d_level0_row9\" class=\"row_heading level0 row9\" >tot downloaded data (MBs)</th>\n",
              "                        <td id=\"T_6ee2d_row9_col0\" class=\"data row9 col0\" >602.35</td>\n",
              "                        <td id=\"T_6ee2d_row9_col1\" class=\"data row9 col1\" >8.42</td>\n",
              "                        <td id=\"T_6ee2d_row9_col2\" class=\"data row9 col2\" >543.70</td>\n",
              "                        <td id=\"T_6ee2d_row9_col3\" class=\"data row9 col3\" >769.51</td>\n",
              "                        <td id=\"T_6ee2d_row9_col4\" class=\"data row9 col4\" >5695.63</td>\n",
              "            </tr>\n",
              "            <tr>\n",
              "                        <th id=\"T_6ee2d_level0_row10\" class=\"row_heading level0 row10\" >tot uploaded data (MBs)</th>\n",
              "                        <td id=\"T_6ee2d_row10_col0\" class=\"data row10 col0\" >54.48</td>\n",
              "                        <td id=\"T_6ee2d_row10_col1\" class=\"data row10 col1\" >2.73</td>\n",
              "                        <td id=\"T_6ee2d_row10_col2\" class=\"data row10 col2\" >44.62</td>\n",
              "                        <td id=\"T_6ee2d_row10_col3\" class=\"data row10 col3\" >62.62</td>\n",
              "                        <td id=\"T_6ee2d_row10_col4\" class=\"data row10 col4\" >458.25</td>\n",
              "            </tr>\n",
              "            <tr>\n",
              "                        <th id=\"T_6ee2d_level0_row11\" class=\"row_heading level0 row11\" >tot data usage (MBs)</th>\n",
              "                        <td id=\"T_6ee2d_row11_col0\" class=\"data row11 col0\" >656.83</td>\n",
              "                        <td id=\"T_6ee2d_row11_col1\" class=\"data row11 col1\" >31.71</td>\n",
              "                        <td id=\"T_6ee2d_row11_col2\" class=\"data row11 col2\" >589.02</td>\n",
              "                        <td id=\"T_6ee2d_row11_col3\" class=\"data row11 col3\" >817.42</td>\n",
              "                        <td id=\"T_6ee2d_row11_col4\" class=\"data row11 col4\" >6153.49</td>\n",
              "            </tr>\n",
              "    </tbody></table>"
            ],
            "text/plain": [
              "<pandas.io.formats.style.Styler at 0x7f1428448ee0>"
            ]
          },
          "execution_count": 35,
          "metadata": {},
          "output_type": "execute_result"
        }
      ]
    },
    {
      "cell_type": "code",
      "metadata": {
        "id": "YRarEkv9lW2E"
      },
      "source": [
        "# aggregates.iloc[:,:1].boxplot(figsize= (20,10), whis= (0,100))"
      ],
      "execution_count": null,
      "outputs": []
    },
    {
      "cell_type": "code",
      "metadata": {
        "id": "a8HOuLFKlW2F"
      },
      "source": [
        "# aggregates.iloc[:,1:2].boxplot(figsize= (20,10), whis= (0,100))"
      ],
      "execution_count": null,
      "outputs": []
    },
    {
      "cell_type": "code",
      "metadata": {
        "id": "o_lgSMXPlW2G"
      },
      "source": [
        "# aggregates.iloc[:,2:7].boxplot(figsize= (20,10), whis= (0,100))"
      ],
      "execution_count": null,
      "outputs": []
    },
    {
      "cell_type": "code",
      "metadata": {
        "id": "bz8Qct2TlW2G"
      },
      "source": [
        "# aggregates.iloc[:,7:12].boxplot(figsize= (20,10), whis= (0,100))"
      ],
      "execution_count": null,
      "outputs": []
    },
    {
      "cell_type": "code",
      "metadata": {
        "id": "nmDdMhtflW2G"
      },
      "source": [
        "sessions_and_data_used_sorted = \\\n",
        "(aggregates[[\"tot sessions duration (hrs)\", \"tot data usage (MBs)\"]]\n",
        " .sort_values([\"tot sessions duration (hrs)\"], ascending= False)\n",
        ")"
      ],
      "execution_count": null,
      "outputs": []
    },
    {
      "cell_type": "code",
      "metadata": {
        "id": "YGgmBPONlW2H"
      },
      "source": [
        "sessions_binned = pd.qcut(sessions_and_data_used_sorted.iloc[:,0], 10, labels=np.arange(10))\n",
        "sessions_binned.name = \"sessions_bin_class\""
      ],
      "execution_count": null,
      "outputs": []
    },
    {
      "cell_type": "code",
      "metadata": {
        "id": "nldB1LfAlW2H"
      },
      "source": [
        "tot_sessions_and_data_used_binned = (sessions_and_data_used_sorted.join(sessions_binned)\n",
        "                                     .groupby(\"sessions_bin_class\").aggregate(\"mean\")\n",
        "                                    )"
      ],
      "execution_count": null,
      "outputs": []
    },
    {
      "cell_type": "code",
      "metadata": {
        "id": "b8gP9KUplW2I",
        "outputId": "d806b9f0-22a5-4b58-f9d3-f810f73c1f60"
      },
      "source": [
        "tot_sessions_and_data_used_binned"
      ],
      "execution_count": null,
      "outputs": [
        {
          "data": {
            "text/html": [
              "<div>\n",
              "<style scoped>\n",
              "    .dataframe tbody tr th:only-of-type {\n",
              "        vertical-align: middle;\n",
              "    }\n",
              "\n",
              "    .dataframe tbody tr th {\n",
              "        vertical-align: top;\n",
              "    }\n",
              "\n",
              "    .dataframe thead th {\n",
              "        text-align: right;\n",
              "    }\n",
              "</style>\n",
              "<table border=\"1\" class=\"dataframe\">\n",
              "  <thead>\n",
              "    <tr style=\"text-align: right;\">\n",
              "      <th></th>\n",
              "      <th>tot sessions duration (hrs)</th>\n",
              "      <th>tot data usage (MBs)</th>\n",
              "    </tr>\n",
              "    <tr>\n",
              "      <th>sessions_bin_class</th>\n",
              "      <th></th>\n",
              "      <th></th>\n",
              "    </tr>\n",
              "  </thead>\n",
              "  <tbody>\n",
              "    <tr>\n",
              "      <th>0</th>\n",
              "      <td>5.574079</td>\n",
              "      <td>485.370164</td>\n",
              "    </tr>\n",
              "    <tr>\n",
              "      <th>1</th>\n",
              "      <td>11.168046</td>\n",
              "      <td>545.278189</td>\n",
              "    </tr>\n",
              "    <tr>\n",
              "      <th>2</th>\n",
              "      <td>19.756969</td>\n",
              "      <td>580.139949</td>\n",
              "    </tr>\n",
              "    <tr>\n",
              "      <th>3</th>\n",
              "      <td>23.991330</td>\n",
              "      <td>476.303632</td>\n",
              "    </tr>\n",
              "    <tr>\n",
              "      <th>4</th>\n",
              "      <td>26.178265</td>\n",
              "      <td>531.473093</td>\n",
              "    </tr>\n",
              "    <tr>\n",
              "      <th>5</th>\n",
              "      <td>32.593075</td>\n",
              "      <td>573.706635</td>\n",
              "    </tr>\n",
              "    <tr>\n",
              "      <th>6</th>\n",
              "      <td>41.017600</td>\n",
              "      <td>548.854212</td>\n",
              "    </tr>\n",
              "    <tr>\n",
              "      <th>7</th>\n",
              "      <td>48.560896</td>\n",
              "      <td>697.612056</td>\n",
              "    </tr>\n",
              "    <tr>\n",
              "      <th>8</th>\n",
              "      <td>64.531109</td>\n",
              "      <td>829.355396</td>\n",
              "    </tr>\n",
              "    <tr>\n",
              "      <th>9</th>\n",
              "      <td>126.269186</td>\n",
              "      <td>1307.140540</td>\n",
              "    </tr>\n",
              "  </tbody>\n",
              "</table>\n",
              "</div>"
            ],
            "text/plain": [
              "                    tot sessions duration (hrs)  tot data usage (MBs)\n",
              "sessions_bin_class                                                   \n",
              "0                                      5.574079            485.370164\n",
              "1                                     11.168046            545.278189\n",
              "2                                     19.756969            580.139949\n",
              "3                                     23.991330            476.303632\n",
              "4                                     26.178265            531.473093\n",
              "5                                     32.593075            573.706635\n",
              "6                                     41.017600            548.854212\n",
              "7                                     48.560896            697.612056\n",
              "8                                     64.531109            829.355396\n",
              "9                                    126.269186           1307.140540"
            ]
          },
          "execution_count": 43,
          "metadata": {},
          "output_type": "execute_result"
        }
      ]
    },
    {
      "cell_type": "code",
      "metadata": {
        "id": "Mmf9qhAzlW2S",
        "outputId": "4ed6c572-32b5-44a6-cf40-eee25ad00125"
      },
      "source": [
        "aggregates.describe()"
      ],
      "execution_count": null,
      "outputs": [
        {
          "data": {
            "text/html": [
              "<div>\n",
              "<style scoped>\n",
              "    .dataframe tbody tr th:only-of-type {\n",
              "        vertical-align: middle;\n",
              "    }\n",
              "\n",
              "    .dataframe tbody tr th {\n",
              "        vertical-align: top;\n",
              "    }\n",
              "\n",
              "    .dataframe thead th {\n",
              "        text-align: right;\n",
              "    }\n",
              "</style>\n",
              "<table border=\"1\" class=\"dataframe\">\n",
              "  <thead>\n",
              "    <tr style=\"text-align: right;\">\n",
              "      <th></th>\n",
              "      <th>tot number of session</th>\n",
              "      <th>tot sessions duration (hrs)</th>\n",
              "      <th>social media data usage (MBs)</th>\n",
              "      <th>google data usage (MBs)</th>\n",
              "      <th>Email data usage (MBs)</th>\n",
              "      <th>youtube data usage (MBs)</th>\n",
              "      <th>netflix data usage (MBs)</th>\n",
              "      <th>gaming apps data usage (MBs)</th>\n",
              "      <th>other apps data usage (MBs)</th>\n",
              "      <th>tot downloaded data (MBs)</th>\n",
              "      <th>tot uploaded data (MBs)</th>\n",
              "      <th>tot data usage (MBs)</th>\n",
              "    </tr>\n",
              "  </thead>\n",
              "  <tbody>\n",
              "    <tr>\n",
              "      <th>count</th>\n",
              "      <td>106794.000000</td>\n",
              "      <td>106794.000000</td>\n",
              "      <td>106794.000000</td>\n",
              "      <td>106794.000000</td>\n",
              "      <td>106794.000000</td>\n",
              "      <td>106794.000000</td>\n",
              "      <td>106794.000000</td>\n",
              "      <td>106794.000000</td>\n",
              "      <td>106794.000000</td>\n",
              "      <td>106794.000000</td>\n",
              "      <td>106794.000000</td>\n",
              "      <td>106794.000000</td>\n",
              "    </tr>\n",
              "    <tr>\n",
              "      <th>mean</th>\n",
              "      <td>1.389282</td>\n",
              "      <td>39.930222</td>\n",
              "      <td>2.422025</td>\n",
              "      <td>10.344188</td>\n",
              "      <td>2.992822</td>\n",
              "      <td>29.996822</td>\n",
              "      <td>29.981950</td>\n",
              "      <td>570.144842</td>\n",
              "      <td>568.966751</td>\n",
              "      <td>602.351969</td>\n",
              "      <td>54.478182</td>\n",
              "      <td>656.830151</td>\n",
              "    </tr>\n",
              "    <tr>\n",
              "      <th>std</th>\n",
              "      <td>0.780315</td>\n",
              "      <td>40.325205</td>\n",
              "      <td>1.782290</td>\n",
              "      <td>7.029163</td>\n",
              "      <td>2.070495</td>\n",
              "      <td>19.806596</td>\n",
              "      <td>19.842332</td>\n",
              "      <td>419.924083</td>\n",
              "      <td>420.269366</td>\n",
              "      <td>433.964913</td>\n",
              "      <td>33.074180</td>\n",
              "      <td>458.157633</td>\n",
              "    </tr>\n",
              "    <tr>\n",
              "      <th>min</th>\n",
              "      <td>1.000000</td>\n",
              "      <td>1.983889</td>\n",
              "      <td>0.001491</td>\n",
              "      <td>0.038462</td>\n",
              "      <td>0.017334</td>\n",
              "      <td>0.075248</td>\n",
              "      <td>0.176019</td>\n",
              "      <td>0.292166</td>\n",
              "      <td>0.142140</td>\n",
              "      <td>8.418161</td>\n",
              "      <td>2.734081</td>\n",
              "      <td>31.708726</td>\n",
              "    </tr>\n",
              "    <tr>\n",
              "      <th>25%</th>\n",
              "      <td>1.000000</td>\n",
              "      <td>19.792014</td>\n",
              "      <td>1.154788</td>\n",
              "      <td>5.664947</td>\n",
              "      <td>1.596339</td>\n",
              "      <td>17.760997</td>\n",
              "      <td>17.690892</td>\n",
              "      <td>274.586343</td>\n",
              "      <td>272.152472</td>\n",
              "      <td>300.128559</td>\n",
              "      <td>34.703633</td>\n",
              "      <td>341.721384</td>\n",
              "    </tr>\n",
              "    <tr>\n",
              "      <th>50%</th>\n",
              "      <td>1.000000</td>\n",
              "      <td>28.518472</td>\n",
              "      <td>2.196108</td>\n",
              "      <td>9.138590</td>\n",
              "      <td>2.668857</td>\n",
              "      <td>25.549569</td>\n",
              "      <td>25.470508</td>\n",
              "      <td>516.918793</td>\n",
              "      <td>514.530576</td>\n",
              "      <td>543.702057</td>\n",
              "      <td>44.615129</td>\n",
              "      <td>589.024565</td>\n",
              "    </tr>\n",
              "    <tr>\n",
              "      <th>75%</th>\n",
              "      <td>2.000000</td>\n",
              "      <td>47.999722</td>\n",
              "      <td>3.152785</td>\n",
              "      <td>12.592999</td>\n",
              "      <td>3.666975</td>\n",
              "      <td>36.141413</td>\n",
              "      <td>36.190821</td>\n",
              "      <td>740.931863</td>\n",
              "      <td>739.073358</td>\n",
              "      <td>769.505069</td>\n",
              "      <td>62.615369</td>\n",
              "      <td>817.416116</td>\n",
              "    </tr>\n",
              "    <tr>\n",
              "      <th>max</th>\n",
              "      <td>11.000000</td>\n",
              "      <td>712.858889</td>\n",
              "      <td>22.698244</td>\n",
              "      <td>87.676192</td>\n",
              "      <td>29.008756</td>\n",
              "      <td>248.899313</td>\n",
              "      <td>267.803619</td>\n",
              "      <td>5441.589013</td>\n",
              "      <td>5059.669382</td>\n",
              "      <td>5695.632342</td>\n",
              "      <td>458.246217</td>\n",
              "      <td>6153.486115</td>\n",
              "    </tr>\n",
              "  </tbody>\n",
              "</table>\n",
              "</div>"
            ],
            "text/plain": [
              "       tot number of session  tot sessions duration (hrs)  \\\n",
              "count          106794.000000                106794.000000   \n",
              "mean                1.389282                    39.930222   \n",
              "std                 0.780315                    40.325205   \n",
              "min                 1.000000                     1.983889   \n",
              "25%                 1.000000                    19.792014   \n",
              "50%                 1.000000                    28.518472   \n",
              "75%                 2.000000                    47.999722   \n",
              "max                11.000000                   712.858889   \n",
              "\n",
              "       social media data usage (MBs)  google data usage (MBs)  \\\n",
              "count                  106794.000000            106794.000000   \n",
              "mean                        2.422025                10.344188   \n",
              "std                         1.782290                 7.029163   \n",
              "min                         0.001491                 0.038462   \n",
              "25%                         1.154788                 5.664947   \n",
              "50%                         2.196108                 9.138590   \n",
              "75%                         3.152785                12.592999   \n",
              "max                        22.698244                87.676192   \n",
              "\n",
              "       Email data usage (MBs)  youtube data usage (MBs)  \\\n",
              "count           106794.000000             106794.000000   \n",
              "mean                 2.992822                 29.996822   \n",
              "std                  2.070495                 19.806596   \n",
              "min                  0.017334                  0.075248   \n",
              "25%                  1.596339                 17.760997   \n",
              "50%                  2.668857                 25.549569   \n",
              "75%                  3.666975                 36.141413   \n",
              "max                 29.008756                248.899313   \n",
              "\n",
              "       netflix data usage (MBs)  gaming apps data usage (MBs)  \\\n",
              "count             106794.000000                 106794.000000   \n",
              "mean                  29.981950                    570.144842   \n",
              "std                   19.842332                    419.924083   \n",
              "min                    0.176019                      0.292166   \n",
              "25%                   17.690892                    274.586343   \n",
              "50%                   25.470508                    516.918793   \n",
              "75%                   36.190821                    740.931863   \n",
              "max                  267.803619                   5441.589013   \n",
              "\n",
              "       other apps data usage (MBs)  tot downloaded data (MBs)  \\\n",
              "count                106794.000000              106794.000000   \n",
              "mean                    568.966751                 602.351969   \n",
              "std                     420.269366                 433.964913   \n",
              "min                       0.142140                   8.418161   \n",
              "25%                     272.152472                 300.128559   \n",
              "50%                     514.530576                 543.702057   \n",
              "75%                     739.073358                 769.505069   \n",
              "max                    5059.669382                5695.632342   \n",
              "\n",
              "       tot uploaded data (MBs)  tot data usage (MBs)  \n",
              "count            106794.000000         106794.000000  \n",
              "mean                 54.478182            656.830151  \n",
              "std                  33.074180            458.157633  \n",
              "min                   2.734081             31.708726  \n",
              "25%                  34.703633            341.721384  \n",
              "50%                  44.615129            589.024565  \n",
              "75%                  62.615369            817.416116  \n",
              "max                 458.246217           6153.486115  "
            ]
          },
          "execution_count": 44,
          "metadata": {},
          "output_type": "execute_result"
        }
      ]
    },
    {
      "cell_type": "code",
      "metadata": {
        "id": "h8mFIOs4lW2S",
        "outputId": "c7e2e8c8-0c0a-44ce-c526-d9c7c94fc721"
      },
      "source": [
        "sessions_and_data_used_sorted.duplicated([\"tot sessions duration (hrs)\"]).sum()"
      ],
      "execution_count": null,
      "outputs": [
        {
          "data": {
            "text/plain": [
              "29318"
            ]
          },
          "execution_count": 45,
          "metadata": {},
          "output_type": "execute_result"
        }
      ]
    },
    {
      "cell_type": "code",
      "metadata": {
        "id": "LerO8I6elW2T",
        "outputId": "c0a83b4d-ed3e-4740-e78b-2af2afbf3e15"
      },
      "source": [
        "aggregates[[\"gaming apps data usage (MBs)\"]].boxplot()"
      ],
      "execution_count": null,
      "outputs": [
        {
          "data": {
            "text/plain": [
              "<AxesSubplot:>"
            ]
          },
          "execution_count": 46,
          "metadata": {},
          "output_type": "execute_result"
        },
        {
          "data": {
            "image/png": "[encoded data removed]",
            "text/plain": [
              "<Figure size 432x288 with 1 Axes>"
            ]
          },
          "metadata": {
            "needs_background": "light"
          },
          "output_type": "display_data"
        }
      ]
    },
    {
      "cell_type": "code",
      "metadata": {
        "id": "kCIOOwmSlW2T",
        "outputId": "96dd7df7-c004-4962-9ba6-cb2ab3bf128d"
      },
      "source": [
        "(aggregates[\"tot sessions duration (hrs)\"] > 360).sum()"
      ],
      "execution_count": null,
      "outputs": [
        {
          "data": {
            "text/plain": [
              "240"
            ]
          },
          "execution_count": 47,
          "metadata": {},
          "output_type": "execute_result"
        }
      ]
    },
    {
      "cell_type": "code",
      "metadata": {
        "id": "r-NAwJNHlW2U",
        "outputId": "46dbaa26-1f15-4edb-d3aa-e71c3002f8e9"
      },
      "source": [
        "12 * 30"
      ],
      "execution_count": null,
      "outputs": [
        {
          "data": {
            "text/plain": [
              "360"
            ]
          },
          "execution_count": 48,
          "metadata": {},
          "output_type": "execute_result"
        }
      ]
    },
    {
      "cell_type": "code",
      "metadata": {
        "id": "uNQXGXYulW2U",
        "outputId": "f9c4fda8-1789-464a-c064-eedd6e706985"
      },
      "source": [
        "data[['Dur. (ms).1']].duplicated().sum()"
      ],
      "execution_count": null,
      "outputs": [
        {
          "data": {
            "text/plain": [
              "27129"
            ]
          },
          "execution_count": 49,
          "metadata": {},
          "output_type": "execute_result"
        }
      ]
    },
    {
      "cell_type": "code",
      "metadata": {
        "id": "P1hVTT_llW2V",
        "outputId": "9dd69c95-93d1-44db-f4d6-b41cd9af8106"
      },
      "source": [
        "data.columns"
      ],
      "execution_count": null,
      "outputs": [
        {
          "data": {
            "text/plain": [
              "Index(['Bearer Id', 'Start', 'Start ms', 'End', 'End ms', 'Dur. (ms)', 'IMSI',\n",
              "       'MSISDN/Number', 'IMEI', 'Last Location Name', 'Avg RTT DL (ms)',\n",
              "       'Avg RTT UL (ms)', 'Avg Bearer TP DL (kbps)', 'Avg Bearer TP UL (kbps)',\n",
              "       'TCP DL Retrans. Vol (Bytes)', 'TCP UL Retrans. Vol (Bytes)',\n",
              "       'DL TP < 50 Kbps (%)', '50 Kbps < DL TP < 250 Kbps (%)',\n",
              "       '250 Kbps < DL TP < 1 Mbps (%)', 'DL TP > 1 Mbps (%)',\n",
              "       'UL TP < 10 Kbps (%)', '10 Kbps < UL TP < 50 Kbps (%)',\n",
              "       '50 Kbps < UL TP < 300 Kbps (%)', 'UL TP > 300 Kbps (%)',\n",
              "       'HTTP DL (Bytes)', 'HTTP UL (Bytes)', 'Activity Duration DL (ms)',\n",
              "       'Activity Duration UL (ms)', 'Dur. (ms).1', 'Handset Manufacturer',\n",
              "       'Handset Type', 'Nb of sec with 125000B < Vol DL',\n",
              "       'Nb of sec with 1250B < Vol UL < 6250B',\n",
              "       'Nb of sec with 31250B < Vol DL < 125000B',\n",
              "       'Nb of sec with 37500B < Vol UL',\n",
              "       'Nb of sec with 6250B < Vol DL < 31250B',\n",
              "       'Nb of sec with 6250B < Vol UL < 37500B',\n",
              "       'Nb of sec with Vol DL < 6250B', 'Nb of sec with Vol UL < 1250B',\n",
              "       'Social Media DL (Bytes)', 'Social Media UL (Bytes)',\n",
              "       'Google DL (Bytes)', 'Google UL (Bytes)', 'Email DL (Bytes)',\n",
              "       'Email UL (Bytes)', 'Youtube DL (Bytes)', 'Youtube UL (Bytes)',\n",
              "       'Netflix DL (Bytes)', 'Netflix UL (Bytes)', 'Gaming DL (Bytes)',\n",
              "       'Gaming UL (Bytes)', 'Other DL (Bytes)', 'Other UL (Bytes)',\n",
              "       'Total UL (Bytes)', 'Total DL (Bytes)'],\n",
              "      dtype='object')"
            ]
          },
          "execution_count": 50,
          "metadata": {},
          "output_type": "execute_result"
        }
      ]
    },
    {
      "cell_type": "code",
      "metadata": {
        "id": "xVcFhJG7lW2V",
        "outputId": "76ca6163-c650-4a21-de99-f4e8d17663f2"
      },
      "source": [
        "aggregates[[\"tot sessions duration (hrs)\"]]"
      ],
      "execution_count": null,
      "outputs": [
        {
          "data": {
            "text/html": [
              "<div>\n",
              "<style scoped>\n",
              "    .dataframe tbody tr th:only-of-type {\n",
              "        vertical-align: middle;\n",
              "    }\n",
              "\n",
              "    .dataframe tbody tr th {\n",
              "        vertical-align: top;\n",
              "    }\n",
              "\n",
              "    .dataframe thead th {\n",
              "        text-align: right;\n",
              "    }\n",
              "</style>\n",
              "<table border=\"1\" class=\"dataframe\">\n",
              "  <thead>\n",
              "    <tr style=\"text-align: right;\">\n",
              "      <th></th>\n",
              "      <th>tot sessions duration (hrs)</th>\n",
              "    </tr>\n",
              "    <tr>\n",
              "      <th>MSISDN</th>\n",
              "      <th></th>\n",
              "    </tr>\n",
              "  </thead>\n",
              "  <tbody>\n",
              "    <tr>\n",
              "      <th>33669068942</th>\n",
              "      <td>169.666944</td>\n",
              "    </tr>\n",
              "    <tr>\n",
              "      <th>33665083783</th>\n",
              "      <td>240.018333</td>\n",
              "    </tr>\n",
              "    <tr>\n",
              "      <th>33626948251</th>\n",
              "      <td>670.843333</td>\n",
              "    </tr>\n",
              "    <tr>\n",
              "      <th>33698756430</th>\n",
              "      <td>572.551389</td>\n",
              "    </tr>\n",
              "    <tr>\n",
              "      <th>33658361927</th>\n",
              "      <td>592.141667</td>\n",
              "    </tr>\n",
              "    <tr>\n",
              "      <th>...</th>\n",
              "      <td>...</td>\n",
              "    </tr>\n",
              "    <tr>\n",
              "      <th>33665045579</th>\n",
              "      <td>23.999722</td>\n",
              "    </tr>\n",
              "    <tr>\n",
              "      <th>33651403844</th>\n",
              "      <td>10.042778</td>\n",
              "    </tr>\n",
              "    <tr>\n",
              "      <th>33650615365</th>\n",
              "      <td>23.999722</td>\n",
              "    </tr>\n",
              "    <tr>\n",
              "      <th>33665301574</th>\n",
              "      <td>23.999722</td>\n",
              "    </tr>\n",
              "    <tr>\n",
              "      <th>33698328630</th>\n",
              "      <td>40.426667</td>\n",
              "    </tr>\n",
              "  </tbody>\n",
              "</table>\n",
              "<p>106794 rows × 1 columns</p>\n",
              "</div>"
            ],
            "text/plain": [
              "             tot sessions duration (hrs)\n",
              "MSISDN                                  \n",
              "33669068942                   169.666944\n",
              "33665083783                   240.018333\n",
              "33626948251                   670.843333\n",
              "33698756430                   572.551389\n",
              "33658361927                   592.141667\n",
              "...                                  ...\n",
              "33665045579                    23.999722\n",
              "33651403844                    10.042778\n",
              "33650615365                    23.999722\n",
              "33665301574                    23.999722\n",
              "33698328630                    40.426667\n",
              "\n",
              "[106794 rows x 1 columns]"
            ]
          },
          "execution_count": 51,
          "metadata": {},
          "output_type": "execute_result"
        }
      ]
    },
    {
      "cell_type": "code",
      "metadata": {
        "id": "0FF_NY2vlW2W",
        "outputId": "f3dd2482-c96d-4c30-8699-2ef96e8728a2"
      },
      "source": [
        "data.max()"
      ],
      "execution_count": null,
      "outputs": [
        {
          "data": {
            "text/plain": [
              "Bearer Id                                   13186541167134199808.0\n",
              "Start                                                4/9/2019 9:47\n",
              "Start ms                                                     999.0\n",
              "End                                                 4/30/2019 9:59\n",
              "End ms                                                       999.0\n",
              "Dur. (ms)                                                1859336.0\n",
              "IMSI                                             214074303349628.0\n",
              "MSISDN/Number                                      882397108489451\n",
              "IMEI                                              99001201327774.0\n",
              "Avg RTT DL (ms)                                            96923.0\n",
              "Avg RTT UL (ms)                                             7120.0\n",
              "Avg Bearer TP DL (kbps)                                   378160.0\n",
              "Avg Bearer TP UL (kbps)                                    58613.0\n",
              "TCP DL Retrans. Vol (Bytes)                           4294425570.0\n",
              "TCP UL Retrans. Vol (Bytes)                           2908226006.0\n",
              "DL TP < 50 Kbps (%)                                          100.0\n",
              "50 Kbps < DL TP < 250 Kbps (%)                                93.0\n",
              "250 Kbps < DL TP < 1 Mbps (%)                                100.0\n",
              "DL TP > 1 Mbps (%)                                            94.0\n",
              "UL TP < 10 Kbps (%)                                          100.0\n",
              "10 Kbps < UL TP < 50 Kbps (%)                                 98.0\n",
              "50 Kbps < UL TP < 300 Kbps (%)                               100.0\n",
              "UL TP > 300 Kbps (%)                                          96.0\n",
              "HTTP DL (Bytes)                                      72530636168.0\n",
              "HTTP UL (Bytes)                                       1491889672.0\n",
              "Activity Duration DL (ms)                              136536461.0\n",
              "Activity Duration UL (ms)                              144911293.0\n",
              "Dur. (ms).1                                           1859336442.0\n",
              "Nb of sec with 125000B < Vol DL                            81476.0\n",
              "Nb of sec with 1250B < Vol UL < 6250B                      85412.0\n",
              "Nb of sec with 31250B < Vol DL < 125000B                   58525.0\n",
              "Nb of sec with 37500B < Vol UL                             50553.0\n",
              "Nb of sec with 6250B < Vol DL < 31250B                     66913.0\n",
              "Nb of sec with 6250B < Vol UL < 37500B                     49565.0\n",
              "Nb of sec with Vol DL < 6250B                             604061.0\n",
              "Nb of sec with Vol UL < 1250B                             604122.0\n",
              "Social Media DL (Bytes)                                  3586064.0\n",
              "Social Media UL (Bytes)                                    65870.0\n",
              "Google DL (Bytes)                                       11462832.0\n",
              "Google UL (Bytes)                                        4121357.0\n",
              "Email DL (Bytes)                                         3586146.0\n",
              "Email UL (Bytes)                                          936418.0\n",
              "Youtube DL (Bytes)                                      23259098.0\n",
              "Youtube UL (Bytes)                                      22011962.0\n",
              "Netflix DL (Bytes)                                      23259189.0\n",
              "Netflix UL (Bytes)                                      22011955.0\n",
              "Gaming DL (Bytes)                                      843441889.0\n",
              "Gaming UL (Bytes)                                       16558794.0\n",
              "Other DL (Bytes)                                       843442489.0\n",
              "Other UL (Bytes)                                        16558816.0\n",
              "Total UL (Bytes)                                        78331311.0\n",
              "Total DL (Bytes)                                       902969616.0\n",
              "dtype: object"
            ]
          },
          "execution_count": 59,
          "metadata": {},
          "output_type": "execute_result"
        }
      ]
    },
    {
      "cell_type": "code",
      "metadata": {
        "id": "lcefNnfSlW2W",
        "outputId": "7eabac76-414e-4b59-e53a-6d1051829e36"
      },
      "source": [
        "81479/60/24"
      ],
      "execution_count": null,
      "outputs": [
        {
          "data": {
            "text/plain": [
              "56.58263888888889"
            ]
          },
          "execution_count": 60,
          "metadata": {},
          "output_type": "execute_result"
        }
      ]
    },
    {
      "cell_type": "code",
      "metadata": {
        "id": "f7O-x0TwlW2X"
      },
      "source": [
        ""
      ],
      "execution_count": null,
      "outputs": []
    }
  ]
}