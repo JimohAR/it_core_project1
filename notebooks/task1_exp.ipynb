{
 "cells": [
  {
   "cell_type": "code",
   "execution_count": null,
   "metadata": {},
   "outputs": [],
   "source": [
    "import numpy as np\n",
    "import pandas as pd\n",
    "import matplotlib.pyplot as plt\n",
    "import seaborn as sns\n",
    "import os"
   ]
  },
  {
   "cell_type": "code",
   "execution_count": null,
   "metadata": {},
   "outputs": [],
   "source": [
    "path = os.path.dirname(os.getcwd()) + \"/data/\""
   ]
  },
  {
   "cell_type": "code",
   "execution_count": null,
   "metadata": {},
   "outputs": [],
   "source": [
    "data = pd.read_csv(path + \"telco.csv\").iloc[:-1]"
   ]
  },
  {
   "cell_type": "code",
   "execution_count": null,
   "metadata": {},
   "outputs": [],
   "source": [
    "desc = pd.read_excel(path + \"field_descriptions.xlsx\").set_index(\"Fields\")"
   ]
  },
  {
   "cell_type": "code",
   "execution_count": null,
   "metadata": {},
   "outputs": [],
   "source": [
    "data.select_dtypes(exclude =\"object\").describe()"
   ]
  },
  {
   "cell_type": "markdown",
   "metadata": {},
   "source": [
    "## User Overview Analysis\n",
    "* Start by identifying the top 10 handsets used by the customers.\n",
    "\n",
    "* Then, identify the top 3 handset manufacturers\n",
    "\n",
    "* Next, identify the top 5 handsets per top 3 handset manufacturer\n",
    "\n",
    "* Make a short interpretation and recommendation to marketing teams"
   ]
  },
  {
   "cell_type": "code",
   "execution_count": null,
   "metadata": {},
   "outputs": [],
   "source": [
    "new_data_col = [i.strip() for i in list(data.columns)]"
   ]
  },
  {
   "cell_type": "code",
   "execution_count": null,
   "metadata": {},
   "outputs": [],
   "source": [
    "data.columns = new_data_col"
   ]
  },
  {
   "cell_type": "code",
   "execution_count": null,
   "metadata": {},
   "outputs": [],
   "source": [
    "handset_data = data[['Handset Manufacturer', 'Handset Type',]]"
   ]
  },
  {
   "cell_type": "code",
   "execution_count": null,
   "metadata": {},
   "outputs": [],
   "source": [
    "top10_handet = handset_data[\"Handset Type\"][handset_data[\"Handset Type\"] != \"undefined\"].value_counts()[:10]#.plot(kind = \"bar\")"
   ]
  },
  {
   "cell_type": "code",
   "execution_count": null,
   "metadata": {},
   "outputs": [],
   "source": [
    "top3_manufacturers = handset_data[\"Handset Manufacturer\"][handset_data[\"Handset Manufacturer\"] != \"undefined\"].value_counts().head(3)"
   ]
  },
  {
   "cell_type": "code",
   "execution_count": null,
   "metadata": {},
   "outputs": [],
   "source": [
    "handsets_by_top3_manufacturers = handset_data.set_index(keys= [\"Handset Manufacturer\"]).loc[top3_manufacturers.keys()]"
   ]
  },
  {
   "cell_type": "code",
   "execution_count": null,
   "metadata": {},
   "outputs": [],
   "source": [
    "top5_of_top3_manufacturers_dict = dict()\n",
    "for i in top3_manufacturers.keys():\n",
    "    top5_of_top3_manufacturers_dict[i] = handsets_by_top3_manufacturers.loc[i, \"Handset Type\"].value_counts().head(5)"
   ]
  },
  {
   "cell_type": "code",
   "execution_count": null,
   "metadata": {},
   "outputs": [],
   "source": [
    "top5_of_top3_manufacturers = pd.DataFrame.from_dict(top5_of_top3_manufacturers_dict, orient= \"index\").stack()\n",
    "top5_of_top3_manufacturers.name = \"count\"\n",
    "top5_of_top3_manufacturers = top5_of_top3_manufacturers.to_frame()"
   ]
  },
  {
   "cell_type": "markdown",
   "metadata": {},
   "source": [
    "## Task 1.1\n",
    "Aggregate per user the following information in the column  \n",
    "- number of xDR sessions\n",
    "- session duration\n",
    "- the total download (DL) and upload (UL) data\n",
    "- the total data volume (in Bytes) during this session for each application"
   ]
  },
  {
   "cell_type": "code",
   "execution_count": null,
   "metadata": {},
   "outputs": [],
   "source": [
    "data[\"MSISDN/Number\"] = data[\"MSISDN/Number\"].fillna(-999).astype(\"int\")"
   ]
  },
  {
   "cell_type": "code",
   "execution_count": null,
   "metadata": {},
   "outputs": [],
   "source": [
    "no_of_xdr_sessions = data[\"MSISDN/Number\"].fillna(\"median\").value_counts()"
   ]
  },
  {
   "cell_type": "code",
   "execution_count": null,
   "metadata": {},
   "outputs": [],
   "source": [
    "total_sessions_duration = (data[[\"MSISDN/Number\", \"Dur. (ms)\"]]\n",
    "                           .fillna(\"mean\").groupby([\"MSISDN/Number\"])[\"Dur. (ms)\"]\n",
    "                           .sum()\n",
    "                          )/(1000*60)"
   ]
  },
  {
   "cell_type": "code",
   "execution_count": null,
   "metadata": {},
   "outputs": [],
   "source": [
    "total_dl_ul_data = (data[[\"MSISDN/Number\", \"Total DL (Bytes)\", \"Total UL (Bytes)\"]]\n",
    "                    .fillna(\"mean\").groupby([\"MSISDN/Number\"])[[\"Total DL (Bytes)\", \"Total UL (Bytes)\"]]\n",
    "                    .sum()\n",
    "                   )/(2**20)"
   ]
  },
  {
   "cell_type": "code",
   "execution_count": null,
   "metadata": {},
   "outputs": [],
   "source": [
    "total_dl_ul_data[\"total_data\"] = total_dl_ul_data.sum(1)"
   ]
  },
  {
   "cell_type": "code",
   "execution_count": null,
   "metadata": {},
   "outputs": [],
   "source": [
    "apps = ['Social Media DL (Bytes)', 'Social Media UL (Bytes)',\n",
    "       'Google DL (Bytes)', 'Google UL (Bytes)', 'Email DL (Bytes)',\n",
    "       'Email UL (Bytes)', 'Youtube DL (Bytes)', 'Youtube UL (Bytes)',\n",
    "       'Netflix DL (Bytes)', 'Netflix UL (Bytes)', 'Gaming DL (Bytes)',\n",
    "       'Gaming UL (Bytes)', 'Other DL (Bytes)', 'Other UL (Bytes)',]"
   ]
  },
  {
   "cell_type": "code",
   "execution_count": null,
   "metadata": {},
   "outputs": [],
   "source": [
    "total_dl_ul_data_per_app = (data[apps + [\"MSISDN/Number\"]].fillna(\"mean\")\n",
    "                            .groupby([\"MSISDN/Number\"])[apps].sum()\n",
    "                           )/(2**20)"
   ]
  },
  {
   "cell_type": "code",
   "execution_count": null,
   "metadata": {},
   "outputs": [],
   "source": [
    "total_data_per_app = pd.DataFrame()\n",
    "count = 0\n",
    "for i,j in zip(range(len(total_dl_ul_data_per_app.columns)), total_dl_ul_data_per_app.columns):\n",
    "    if count != 1:\n",
    "        total_data_per_app[j.split()[0]] = total_dl_ul_data_per_app.iloc[:, i] + total_dl_ul_data_per_app.iloc[:,i+1]\n",
    "        count = (count + 1) % 2\n",
    "    else: \n",
    "        count = (count + 1) % 2\n",
    "        continue"
   ]
  },
  {
   "cell_type": "code",
   "execution_count": null,
   "metadata": {},
   "outputs": [],
   "source": [
    "aggregates = (no_of_xdr_sessions.to_frame()\n",
    "              .join(total_sessions_duration)\n",
    "              .join(total_data_per_app)\n",
    "              .join(total_dl_ul_data)\n",
    "             )"
   ]
  },
  {
   "cell_type": "code",
   "execution_count": null,
   "metadata": {},
   "outputs": [],
   "source": [
    "aggregates.index.name = \"MSISDN\"\n",
    "aggregates.columns = [\"tot number of session\", \"tot sessions duration (mins)\", \"social media data usage (GBs)\",\n",
    "                      \"google data usage (MBs)\",\"Email data usage (MBs)\", \"youtube data usage (MBs)\", \n",
    "                      \"netflix data usage (MBs)\",  \"gaming apps data usage (MBs)\", \"other apps data usage (MBs)\", \n",
    "                     \"tot downloaded data (MBs)\", \"tot uploaded data (MBs)\", \"tot data usage (MBs)\",]\n",
    "aggregates = aggregates.drop(index = -999)"
   ]
  },
  {
   "cell_type": "code",
   "execution_count": null,
   "metadata": {},
   "outputs": [],
   "source": [
    "aggregates.iloc[1:].describe().style#.set_properties(**{\"width\": \"100px\"})"
   ]
  },
  {
   "cell_type": "markdown",
   "metadata": {},
   "source": [
    "## Task 1.2\n",
    "\n",
    "○\tDescribe all relevant variables and associated data types (slide). \n",
    "\n",
    "○\tAnalyze the basic metrics (mean, median, etc) in the Dataset (explain) & their importance for the global objective.\n",
    "\n",
    "○\tConduct a Non-Graphical Univariate Analysis by computing dispersion parameters for each quantitative variable and providing useful interpretation. \n",
    "\n",
    "○\tConduct a Graphical Univariate Analysis by identifying the most suitable plotting options for each variable and interpreting your findings.\n",
    "\n",
    "○\tBivariate Analysis – explore the relationship between each application & the total DL+UL data using appropriate methods and interpret your findings. \n",
    "\n",
    "○\tVariable transformations – segment the users into the top five decile classes based on the total duration for all sessions and compute the total data (DL+UL) per decile class. \n",
    "\n",
    "○\tCorrelation Analysis – compute a correlation matrix for the following variables and interpret your findings: Social Media data, Google data, Email data, Youtube data, Netflix data, Gaming data, Other data \n",
    "\n",
    "○\tDimensionality Reduction – perform a principal component analysis to reduce the dimensions of your data and provide a useful interpretation of the results (Provide your interpretation in four (4) bullet points-maximum). \n"
   ]
  },
  {
   "cell_type": "code",
   "execution_count": null,
   "metadata": {},
   "outputs": [],
   "source": [
    "aggregates.dtypes"
   ]
  },
  {
   "cell_type": "code",
   "execution_count": null,
   "metadata": {},
   "outputs": [],
   "source": [
    "ss = aggregates.describe().loc[[\"mean\", \"min\", \"50%\", \"75%\", \"max\"]].T"
   ]
  },
  {
   "cell_type": "code",
   "execution_count": null,
   "metadata": {},
   "outputs": [],
   "source": [
    "ss.style.set_precision(2).set_properties(**{\"width\": \"100px\", \"color\": \"blue\"})"
   ]
  },
  {
   "cell_type": "code",
   "execution_count": null,
   "metadata": {},
   "outputs": [],
   "source": [
    "aggregates.iloc[:,:1].boxplot(figsize= (20,10), whis= (0,100))"
   ]
  },
  {
   "cell_type": "code",
   "execution_count": null,
   "metadata": {},
   "outputs": [],
   "source": [
    "aggregates.iloc[:,1:2].boxplot(figsize= (20,10), whis= (0,100))"
   ]
  },
  {
   "cell_type": "code",
   "execution_count": null,
   "metadata": {},
   "outputs": [],
   "source": [
    "aggregates.iloc[:,2:7].boxplot(figsize= (20,10), whis= (0,100))"
   ]
  },
  {
   "cell_type": "code",
   "execution_count": null,
   "metadata": {},
   "outputs": [],
   "source": [
    "aggregates.iloc[:,7:12].boxplot(figsize= (20,10), whis= (0,100))"
   ]
  }
 ],
 "metadata": {
  "kernelspec": {
   "display_name": "Python 3",
   "language": "python",
   "name": "python3"
  },
  "language_info": {
   "codemirror_mode": {
    "name": "ipython",
    "version": 3
   },
   "file_extension": ".py",
   "mimetype": "text/x-python",
   "name": "python",
   "nbconvert_exporter": "python",
   "pygments_lexer": "ipython3",
   "version": "3.8.8"
  },
  "latex_envs": {
   "LaTeX_envs_menu_present": true,
   "autoclose": false,
   "autocomplete": true,
   "bibliofile": "biblio.bib",
   "cite_by": "apalike",
   "current_citInitial": 1,
   "eqLabelWithNumbers": true,
   "eqNumInitial": 1,
   "hotkeys": {
    "equation": "Ctrl-E",
    "itemize": "Ctrl-I"
   },
   "labels_anchors": false,
   "latex_user_defs": false,
   "report_style_numbering": false,
   "user_envs_cfg": false
  },
  "toc": {
   "base_numbering": 1,
   "nav_menu": {},
   "number_sections": true,
   "sideBar": true,
   "skip_h1_title": false,
   "title_cell": "Table of Contents",
   "title_sidebar": "Contents",
   "toc_cell": false,
   "toc_position": {},
   "toc_section_display": true,
   "toc_window_display": false
  },
  "varInspector": {
   "cols": {
    "lenName": 16,
    "lenType": 16,
    "lenVar": 40
   },
   "kernels_config": {
    "python": {
     "delete_cmd_postfix": "",
     "delete_cmd_prefix": "del ",
     "library": "var_list.py",
     "varRefreshCmd": "print(var_dic_list())"
    },
    "r": {
     "delete_cmd_postfix": ") ",
     "delete_cmd_prefix": "rm(",
     "library": "var_list.r",
     "varRefreshCmd": "cat(var_dic_list()) "
    }
   },
   "types_to_exclude": [
    "module",
    "function",
    "builtin_function_or_method",
    "instance",
    "_Feature"
   ],
   "window_display": false
  }
 },
 "nbformat": 4,
 "nbformat_minor": 4
}
