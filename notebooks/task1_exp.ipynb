{
  "nbformat": 4,
  "nbformat_minor": 0,
  "metadata": {
    "kernelspec": {
      "display_name": "Python 3",
      "language": "python",
      "name": "python3"
    },
    "language_info": {
      "codemirror_mode": {
        "name": "ipython",
        "version": 3
      },
      "file_extension": ".py",
      "mimetype": "text/x-python",
      "name": "python",
      "nbconvert_exporter": "python",
      "pygments_lexer": "ipython3",
      "version": "3.8.8"
    },
    "latex_envs": {
      "LaTeX_envs_menu_present": true,
      "autoclose": false,
      "autocomplete": true,
      "bibliofile": "biblio.bib",
      "cite_by": "apalike",
      "current_citInitial": 1,
      "eqLabelWithNumbers": true,
      "eqNumInitial": 1,
      "hotkeys": {
        "equation": "Ctrl-E",
        "itemize": "Ctrl-I"
      },
      "labels_anchors": false,
      "latex_user_defs": false,
      "report_style_numbering": false,
      "user_envs_cfg": false
    },
    "toc": {
      "base_numbering": 1,
      "nav_menu": {},
      "number_sections": true,
      "sideBar": true,
      "skip_h1_title": false,
      "title_cell": "Table of Contents",
      "title_sidebar": "Contents",
      "toc_cell": false,
      "toc_position": {},
      "toc_section_display": true,
      "toc_window_display": false
    },
    "varInspector": {
      "cols": {
        "lenName": 16,
        "lenType": 16,
        "lenVar": 40
      },
      "kernels_config": {
        "python": {
          "delete_cmd_postfix": "",
          "delete_cmd_prefix": "del ",
          "library": "var_list.py",
          "varRefreshCmd": "print(var_dic_list())"
        },
        "r": {
          "delete_cmd_postfix": ") ",
          "delete_cmd_prefix": "rm(",
          "library": "var_list.r",
          "varRefreshCmd": "cat(var_dic_list()) "
        }
      },
      "types_to_exclude": [
        "module",
        "function",
        "builtin_function_or_method",
        "instance",
        "_Feature"
      ],
      "window_display": false
    },
    "colab": {
      "name": "task1_exp.ipynb",
      "provenance": [],
      "include_colab_link": true
    }
  },
  "cells": [
    {
      "cell_type": "markdown",
      "metadata": {
        "id": "view-in-github",
        "colab_type": "text"
      },
      "source": [
        "<a href=\"https://colab.research.google.com/github/JimohAR/it_core_project1/blob/main/notebooks/task1_exp.ipynb\" target=\"_parent\"><img src=\"https://colab.research.google.com/assets/colab-badge.svg\" alt=\"Open In Colab\"/></a>"
      ]
    },
    {
      "cell_type": "code",
      "metadata": {
        "id": "LqI_40COlW1i"
      },
      "source": [
        "import numpy as np\n",
        "import pandas as pd\n",
        "import matplotlib.pyplot as plt\n",
        "import seaborn as sns\n",
        "import os"
      ],
      "execution_count": 1,
      "outputs": []
    },
    {
      "cell_type": "code",
      "metadata": {
        "colab": {
          "base_uri": "https://localhost:8080/"
        },
        "id": "Cmv8Ani6mqA4",
        "outputId": "01d0759a-86a9-459a-f97f-40e5faa9e27a"
      },
      "source": [
        "if \"google.colab\" in str(get_ipython()):\n",
        "    !pip install dvc[gdrive] > /content/piplog.txt\n",
        "    print(\">> g-colab detected \\ncloning repo from github\\n\")\n",
        "    !git clone https://github.com/JimohAR/it_core_project1\n",
        "\n",
        "    print(\"\\n>> changing path to the repo\\n\")\n",
        "    os.chdir(\"/content/it_core_project1\")\n",
        "\n",
        "    print(\"\\n>> downloading the datasets\\n\")\n",
        "    !dvc import https://github.com/JimohAR/it_core_project1 data/telco.csv \\\n",
        "    -o data/telco.csv\n",
        "\n",
        "    print(\"\\n>> set up path to the data directory\")\n",
        "    path = os.getcwd() + \"/data/\"\n",
        "else:\n",
        "    print(\"\\n>> set up path to the data directory\")\n",
        "    path = os.path.dirname(os.getcwd()) + \"/data/\""
      ],
      "execution_count": 13,
      "outputs": [
        {
          "output_type": "stream",
          "name": "stdout",
          "text": [
            "g-colab detected \n",
            "cloning repo from github\n",
            "\n",
            "Cloning into 'it_core_project1'...\n",
            "remote: Enumerating objects: 58, done.\u001b[K\n",
            "remote: Counting objects: 100% (58/58), done.\u001b[K\n",
            "remote: Compressing objects: 100% (33/33), done.\u001b[K\n",
            "remote: Total 58 (delta 19), reused 45 (delta 14), pack-reused 0\u001b[K\n",
            "Unpacking objects: 100% (58/58), done.\n",
            "changing path to the repo\n",
            "\n",
            "downloading the datasets\n",
            "\n",
            "Importing 'data/telco.csv (https://github.com/JimohAR/it_core_project1)' -> 'data/telco.csv'\n",
            "  0% 0/1 [00:00<?, ?file/s{'info': ''}]Go to the following link in your browser:\n",
            "\n",
            "    https://accounts.google.com/o/oauth2/auth?client_id=710796635688-iivsgbgsb6uv1fap6635dhvuei09o66c.apps.googleusercontent.com&redirect_uri=urn%3Aietf%3Awg%3Aoauth%3A2.0%3Aoob&scope=https%3A%2F%2Fwww.googleapis.com%2Fauth%2Fdrive+https%3A%2F%2Fwww.googleapis.com%2Fauth%2Fdrive.appdata&access_type=offline&response_type=code&approval_prompt=force\n",
            "\n",
            "Enter verification code: 4/1AX4XfWhLqNbpzOq4wFdum7QFc-1qyCvZACo3iEou6VGMjuurqH0IrSGYw0w\n",
            "Authentication successful.\n",
            "Transferring:   0% 0/1 [00:00<?, ?file/s{'info': ''}]\n",
            "!\u001b[A\n",
            "  0%|          |3adab42aafe61a329e46cf2ca7c203     0.00/? [00:00<?,        ?B/s]\u001b[A\n",
            "3adab42aafe61a329e46cf2ca7c203:   0% 0.00/52.7M [00:00<?, ?B/s{'info': ''}]     \u001b[A\n",
            "100% 52.7M/52.7M [00:02<00:00, 22.0MB/s{'info': ''}]                       \u001b[A\n",
            "                                                                         \n",
            "To track the changes with git, run:\n",
            "\n",
            "\tgit add data/telco.csv.dvc\n",
            "\u001b[0mset up path to the data directory\n"
          ]
        }
      ]
    },
    {
      "cell_type": "code",
      "metadata": {
        "id": "B1TUUsQ5_UmJ"
      },
      "source": [
        ""
      ],
      "execution_count": 17,
      "outputs": []
    },
    {
      "cell_type": "code",
      "metadata": {
        "id": "bh3FZ0HdlW1q"
      },
      "source": [
        "data = pd.read_csv(path + \"telco.csv\").iloc[:-1]"
      ],
      "execution_count": 18,
      "outputs": []
    },
    {
      "cell_type": "code",
      "metadata": {
        "id": "oy-7FiY8lW1r"
      },
      "source": [
        "desc = pd.read_excel(path + \"field_descriptions.xlsx\").set_index(\"Fields\")"
      ],
      "execution_count": 19,
      "outputs": []
    },
    {
      "cell_type": "code",
      "metadata": {
        "colab": {
          "base_uri": "https://localhost:8080/",
          "height": 372
        },
        "id": "njrjUZ1FlW1s",
        "outputId": "86d02901-eec0-4486-9316-f83a5b6c923e"
      },
      "source": [
        "data.select_dtypes(exclude =\"object\").describe()"
      ],
      "execution_count": 20,
      "outputs": [
        {
          "output_type": "execute_result",
          "data": {
            "text/html": [
              "<div>\n",
              "<style scoped>\n",
              "    .dataframe tbody tr th:only-of-type {\n",
              "        vertical-align: middle;\n",
              "    }\n",
              "\n",
              "    .dataframe tbody tr th {\n",
              "        vertical-align: top;\n",
              "    }\n",
              "\n",
              "    .dataframe thead th {\n",
              "        text-align: right;\n",
              "    }\n",
              "</style>\n",
              "<table border=\"1\" class=\"dataframe\">\n",
              "  <thead>\n",
              "    <tr style=\"text-align: right;\">\n",
              "      <th></th>\n",
              "      <th>Bearer Id</th>\n",
              "      <th>Start ms</th>\n",
              "      <th>End ms</th>\n",
              "      <th>Dur. (ms)</th>\n",
              "      <th>IMSI</th>\n",
              "      <th>MSISDN/Number</th>\n",
              "      <th>IMEI</th>\n",
              "      <th>Avg RTT DL (ms)</th>\n",
              "      <th>Avg RTT UL (ms)</th>\n",
              "      <th>Avg Bearer TP DL (kbps)</th>\n",
              "      <th>Avg Bearer TP UL (kbps)</th>\n",
              "      <th>TCP DL Retrans. Vol (Bytes)</th>\n",
              "      <th>TCP UL Retrans. Vol (Bytes)</th>\n",
              "      <th>DL TP &lt; 50 Kbps (%)</th>\n",
              "      <th>50 Kbps &lt; DL TP &lt; 250 Kbps (%)</th>\n",
              "      <th>250 Kbps &lt; DL TP &lt; 1 Mbps (%)</th>\n",
              "      <th>DL TP &gt; 1 Mbps (%)</th>\n",
              "      <th>UL TP &lt; 10 Kbps (%)</th>\n",
              "      <th>10 Kbps &lt; UL TP &lt; 50 Kbps (%)</th>\n",
              "      <th>50 Kbps &lt; UL TP &lt; 300 Kbps (%)</th>\n",
              "      <th>UL TP &gt; 300 Kbps (%)</th>\n",
              "      <th>HTTP DL (Bytes)</th>\n",
              "      <th>HTTP UL (Bytes)</th>\n",
              "      <th>Activity Duration DL (ms)</th>\n",
              "      <th>Activity Duration UL (ms)</th>\n",
              "      <th>Dur. (ms).1</th>\n",
              "      <th>Nb of sec with 125000B &lt; Vol DL</th>\n",
              "      <th>Nb of sec with 1250B &lt; Vol UL &lt; 6250B</th>\n",
              "      <th>Nb of sec with 31250B &lt; Vol DL &lt; 125000B</th>\n",
              "      <th>Nb of sec with 37500B &lt; Vol UL</th>\n",
              "      <th>Nb of sec with 6250B &lt; Vol DL &lt; 31250B</th>\n",
              "      <th>Nb of sec with 6250B &lt; Vol UL &lt; 37500B</th>\n",
              "      <th>Nb of sec with Vol DL &lt; 6250B</th>\n",
              "      <th>Nb of sec with Vol UL &lt; 1250B</th>\n",
              "      <th>Social Media DL (Bytes)</th>\n",
              "      <th>Social Media UL (Bytes)</th>\n",
              "      <th>Google DL (Bytes)</th>\n",
              "      <th>Google UL (Bytes)</th>\n",
              "      <th>Email DL (Bytes)</th>\n",
              "      <th>Email UL (Bytes)</th>\n",
              "      <th>Youtube DL (Bytes)</th>\n",
              "      <th>Youtube UL (Bytes)</th>\n",
              "      <th>Netflix DL (Bytes)</th>\n",
              "      <th>Netflix UL (Bytes)</th>\n",
              "      <th>Gaming DL (Bytes)</th>\n",
              "      <th>Gaming UL (Bytes)</th>\n",
              "      <th>Other DL (Bytes)</th>\n",
              "      <th>Other UL (Bytes)</th>\n",
              "      <th>Total UL (Bytes)</th>\n",
              "      <th>Total DL (Bytes)</th>\n",
              "    </tr>\n",
              "  </thead>\n",
              "  <tbody>\n",
              "    <tr>\n",
              "      <th>count</th>\n",
              "      <td>1.490100e+05</td>\n",
              "      <td>150000.000000</td>\n",
              "      <td>150000.000000</td>\n",
              "      <td>1.500000e+05</td>\n",
              "      <td>1.494310e+05</td>\n",
              "      <td>1.489350e+05</td>\n",
              "      <td>1.494290e+05</td>\n",
              "      <td>122172.000000</td>\n",
              "      <td>122189.000000</td>\n",
              "      <td>150000.000000</td>\n",
              "      <td>150000.000000</td>\n",
              "      <td>6.185500e+04</td>\n",
              "      <td>5.335200e+04</td>\n",
              "      <td>149247.000000</td>\n",
              "      <td>149247.000000</td>\n",
              "      <td>149247.000000</td>\n",
              "      <td>149247.000000</td>\n",
              "      <td>149209.000000</td>\n",
              "      <td>149209.000000</td>\n",
              "      <td>149209.000000</td>\n",
              "      <td>149209.000000</td>\n",
              "      <td>6.852700e+04</td>\n",
              "      <td>6.819100e+04</td>\n",
              "      <td>1.500000e+05</td>\n",
              "      <td>1.500000e+05</td>\n",
              "      <td>1.500000e+05</td>\n",
              "      <td>52463.000000</td>\n",
              "      <td>57107.000000</td>\n",
              "      <td>56415.000000</td>\n",
              "      <td>19747.000000</td>\n",
              "      <td>61684.000000</td>\n",
              "      <td>38158.000000</td>\n",
              "      <td>149246.000000</td>\n",
              "      <td>149208.000000</td>\n",
              "      <td>1.500000e+05</td>\n",
              "      <td>150000.00000</td>\n",
              "      <td>1.500000e+05</td>\n",
              "      <td>1.500000e+05</td>\n",
              "      <td>1.500000e+05</td>\n",
              "      <td>150000.000000</td>\n",
              "      <td>1.500000e+05</td>\n",
              "      <td>1.500000e+05</td>\n",
              "      <td>1.500000e+05</td>\n",
              "      <td>1.500000e+05</td>\n",
              "      <td>1.500000e+05</td>\n",
              "      <td>1.500000e+05</td>\n",
              "      <td>1.500000e+05</td>\n",
              "      <td>1.500000e+05</td>\n",
              "      <td>1.500000e+05</td>\n",
              "      <td>1.500000e+05</td>\n",
              "    </tr>\n",
              "    <tr>\n",
              "      <th>mean</th>\n",
              "      <td>1.013887e+19</td>\n",
              "      <td>499.188200</td>\n",
              "      <td>498.800880</td>\n",
              "      <td>1.046086e+05</td>\n",
              "      <td>2.082016e+14</td>\n",
              "      <td>4.188282e+10</td>\n",
              "      <td>4.847455e+13</td>\n",
              "      <td>109.795706</td>\n",
              "      <td>17.662883</td>\n",
              "      <td>13300.045927</td>\n",
              "      <td>1770.428647</td>\n",
              "      <td>2.080991e+07</td>\n",
              "      <td>7.596587e+05</td>\n",
              "      <td>92.844754</td>\n",
              "      <td>3.069355</td>\n",
              "      <td>1.717341</td>\n",
              "      <td>1.609654</td>\n",
              "      <td>98.530142</td>\n",
              "      <td>0.776749</td>\n",
              "      <td>0.147987</td>\n",
              "      <td>0.078923</td>\n",
              "      <td>1.144710e+08</td>\n",
              "      <td>3.242301e+06</td>\n",
              "      <td>1.829177e+06</td>\n",
              "      <td>1.408880e+06</td>\n",
              "      <td>1.046091e+08</td>\n",
              "      <td>989.699998</td>\n",
              "      <td>340.434395</td>\n",
              "      <td>810.837401</td>\n",
              "      <td>149.257052</td>\n",
              "      <td>965.464756</td>\n",
              "      <td>141.304812</td>\n",
              "      <td>3719.787552</td>\n",
              "      <td>4022.083454</td>\n",
              "      <td>1.795322e+06</td>\n",
              "      <td>32928.43438</td>\n",
              "      <td>5.750753e+06</td>\n",
              "      <td>2.056542e+06</td>\n",
              "      <td>1.791729e+06</td>\n",
              "      <td>467373.441940</td>\n",
              "      <td>1.163407e+07</td>\n",
              "      <td>1.100941e+07</td>\n",
              "      <td>1.162685e+07</td>\n",
              "      <td>1.100175e+07</td>\n",
              "      <td>4.220447e+08</td>\n",
              "      <td>8.288398e+06</td>\n",
              "      <td>4.211005e+08</td>\n",
              "      <td>8.264799e+06</td>\n",
              "      <td>4.112121e+07</td>\n",
              "      <td>4.546434e+08</td>\n",
              "    </tr>\n",
              "    <tr>\n",
              "      <th>std</th>\n",
              "      <td>2.893173e+18</td>\n",
              "      <td>288.611834</td>\n",
              "      <td>288.097653</td>\n",
              "      <td>8.103762e+04</td>\n",
              "      <td>2.148809e+10</td>\n",
              "      <td>2.447443e+12</td>\n",
              "      <td>2.241637e+13</td>\n",
              "      <td>619.782739</td>\n",
              "      <td>84.793524</td>\n",
              "      <td>23971.878541</td>\n",
              "      <td>4625.355500</td>\n",
              "      <td>1.825665e+08</td>\n",
              "      <td>2.645305e+07</td>\n",
              "      <td>13.038031</td>\n",
              "      <td>6.215233</td>\n",
              "      <td>4.159538</td>\n",
              "      <td>4.828890</td>\n",
              "      <td>4.634285</td>\n",
              "      <td>3.225176</td>\n",
              "      <td>1.624523</td>\n",
              "      <td>1.295396</td>\n",
              "      <td>9.631946e+08</td>\n",
              "      <td>1.957064e+07</td>\n",
              "      <td>5.696395e+06</td>\n",
              "      <td>4.643231e+06</td>\n",
              "      <td>8.103761e+07</td>\n",
              "      <td>2546.524440</td>\n",
              "      <td>1445.365032</td>\n",
              "      <td>1842.162008</td>\n",
              "      <td>1219.112287</td>\n",
              "      <td>1946.387608</td>\n",
              "      <td>993.349688</td>\n",
              "      <td>9171.609010</td>\n",
              "      <td>10160.324314</td>\n",
              "      <td>1.035486e+06</td>\n",
              "      <td>19006.24161</td>\n",
              "      <td>3.309108e+06</td>\n",
              "      <td>1.189921e+06</td>\n",
              "      <td>1.035843e+06</td>\n",
              "      <td>269970.206933</td>\n",
              "      <td>6.710591e+06</td>\n",
              "      <td>6.345445e+06</td>\n",
              "      <td>6.725240e+06</td>\n",
              "      <td>6.359511e+06</td>\n",
              "      <td>2.439683e+08</td>\n",
              "      <td>4.782716e+06</td>\n",
              "      <td>2.432058e+08</td>\n",
              "      <td>4.769020e+06</td>\n",
              "      <td>1.127639e+07</td>\n",
              "      <td>2.441429e+08</td>\n",
              "    </tr>\n",
              "    <tr>\n",
              "      <th>min</th>\n",
              "      <td>6.917538e+18</td>\n",
              "      <td>0.000000</td>\n",
              "      <td>0.000000</td>\n",
              "      <td>7.142000e+03</td>\n",
              "      <td>2.040471e+14</td>\n",
              "      <td>3.360100e+10</td>\n",
              "      <td>4.400152e+11</td>\n",
              "      <td>0.000000</td>\n",
              "      <td>0.000000</td>\n",
              "      <td>0.000000</td>\n",
              "      <td>0.000000</td>\n",
              "      <td>2.000000e+00</td>\n",
              "      <td>1.000000e+00</td>\n",
              "      <td>0.000000</td>\n",
              "      <td>0.000000</td>\n",
              "      <td>0.000000</td>\n",
              "      <td>0.000000</td>\n",
              "      <td>0.000000</td>\n",
              "      <td>0.000000</td>\n",
              "      <td>0.000000</td>\n",
              "      <td>0.000000</td>\n",
              "      <td>4.000000e+01</td>\n",
              "      <td>4.000000e+01</td>\n",
              "      <td>0.000000e+00</td>\n",
              "      <td>0.000000e+00</td>\n",
              "      <td>7.142988e+06</td>\n",
              "      <td>1.000000</td>\n",
              "      <td>1.000000</td>\n",
              "      <td>1.000000</td>\n",
              "      <td>1.000000</td>\n",
              "      <td>1.000000</td>\n",
              "      <td>1.000000</td>\n",
              "      <td>1.000000</td>\n",
              "      <td>1.000000</td>\n",
              "      <td>1.200000e+01</td>\n",
              "      <td>0.00000</td>\n",
              "      <td>2.070000e+02</td>\n",
              "      <td>3.000000e+00</td>\n",
              "      <td>1.400000e+01</td>\n",
              "      <td>2.000000</td>\n",
              "      <td>5.300000e+01</td>\n",
              "      <td>1.050000e+02</td>\n",
              "      <td>4.200000e+01</td>\n",
              "      <td>3.500000e+01</td>\n",
              "      <td>2.516000e+03</td>\n",
              "      <td>5.900000e+01</td>\n",
              "      <td>3.290000e+03</td>\n",
              "      <td>1.480000e+02</td>\n",
              "      <td>2.866892e+06</td>\n",
              "      <td>7.114041e+06</td>\n",
              "    </tr>\n",
              "    <tr>\n",
              "      <th>25%</th>\n",
              "      <td>7.349883e+18</td>\n",
              "      <td>250.000000</td>\n",
              "      <td>251.000000</td>\n",
              "      <td>5.744050e+04</td>\n",
              "      <td>2.082014e+14</td>\n",
              "      <td>3.365130e+10</td>\n",
              "      <td>3.546071e+13</td>\n",
              "      <td>32.000000</td>\n",
              "      <td>2.000000</td>\n",
              "      <td>43.000000</td>\n",
              "      <td>47.000000</td>\n",
              "      <td>3.565150e+04</td>\n",
              "      <td>4.694750e+03</td>\n",
              "      <td>91.000000</td>\n",
              "      <td>0.000000</td>\n",
              "      <td>0.000000</td>\n",
              "      <td>0.000000</td>\n",
              "      <td>99.000000</td>\n",
              "      <td>0.000000</td>\n",
              "      <td>0.000000</td>\n",
              "      <td>0.000000</td>\n",
              "      <td>1.124035e+05</td>\n",
              "      <td>2.432200e+04</td>\n",
              "      <td>1.487775e+04</td>\n",
              "      <td>2.153975e+04</td>\n",
              "      <td>5.744079e+07</td>\n",
              "      <td>20.000000</td>\n",
              "      <td>10.000000</td>\n",
              "      <td>26.000000</td>\n",
              "      <td>2.000000</td>\n",
              "      <td>39.000000</td>\n",
              "      <td>3.000000</td>\n",
              "      <td>87.000000</td>\n",
              "      <td>106.000000</td>\n",
              "      <td>8.991448e+05</td>\n",
              "      <td>16448.00000</td>\n",
              "      <td>2.882380e+06</td>\n",
              "      <td>1.024274e+06</td>\n",
              "      <td>8.927808e+05</td>\n",
              "      <td>233379.750000</td>\n",
              "      <td>5.833482e+06</td>\n",
              "      <td>5.517962e+06</td>\n",
              "      <td>5.777095e+06</td>\n",
              "      <td>5.475977e+06</td>\n",
              "      <td>2.104706e+08</td>\n",
              "      <td>4.128424e+06</td>\n",
              "      <td>2.101824e+08</td>\n",
              "      <td>4.145904e+06</td>\n",
              "      <td>3.322201e+07</td>\n",
              "      <td>2.431068e+08</td>\n",
              "    </tr>\n",
              "    <tr>\n",
              "      <th>50%</th>\n",
              "      <td>7.349883e+18</td>\n",
              "      <td>499.000000</td>\n",
              "      <td>500.000000</td>\n",
              "      <td>8.639900e+04</td>\n",
              "      <td>2.082015e+14</td>\n",
              "      <td>3.366371e+10</td>\n",
              "      <td>3.572201e+13</td>\n",
              "      <td>45.000000</td>\n",
              "      <td>5.000000</td>\n",
              "      <td>63.000000</td>\n",
              "      <td>63.000000</td>\n",
              "      <td>5.687300e+05</td>\n",
              "      <td>2.094950e+04</td>\n",
              "      <td>100.000000</td>\n",
              "      <td>0.000000</td>\n",
              "      <td>0.000000</td>\n",
              "      <td>0.000000</td>\n",
              "      <td>100.000000</td>\n",
              "      <td>0.000000</td>\n",
              "      <td>0.000000</td>\n",
              "      <td>0.000000</td>\n",
              "      <td>1.941949e+06</td>\n",
              "      <td>2.297330e+05</td>\n",
              "      <td>3.930450e+04</td>\n",
              "      <td>4.679350e+04</td>\n",
              "      <td>8.639998e+07</td>\n",
              "      <td>128.000000</td>\n",
              "      <td>52.000000</td>\n",
              "      <td>164.000000</td>\n",
              "      <td>8.000000</td>\n",
              "      <td>288.000000</td>\n",
              "      <td>8.000000</td>\n",
              "      <td>203.000000</td>\n",
              "      <td>217.000000</td>\n",
              "      <td>1.794351e+06</td>\n",
              "      <td>32920.00000</td>\n",
              "      <td>5.765857e+06</td>\n",
              "      <td>2.054569e+06</td>\n",
              "      <td>1.793534e+06</td>\n",
              "      <td>466246.000000</td>\n",
              "      <td>1.161601e+07</td>\n",
              "      <td>1.101348e+07</td>\n",
              "      <td>1.164222e+07</td>\n",
              "      <td>1.099631e+07</td>\n",
              "      <td>4.234082e+08</td>\n",
              "      <td>8.291215e+06</td>\n",
              "      <td>4.218057e+08</td>\n",
              "      <td>8.267086e+06</td>\n",
              "      <td>4.114331e+07</td>\n",
              "      <td>4.558411e+08</td>\n",
              "    </tr>\n",
              "    <tr>\n",
              "      <th>75%</th>\n",
              "      <td>1.304243e+19</td>\n",
              "      <td>749.000000</td>\n",
              "      <td>750.000000</td>\n",
              "      <td>1.324302e+05</td>\n",
              "      <td>2.082018e+14</td>\n",
              "      <td>3.368349e+10</td>\n",
              "      <td>8.611970e+13</td>\n",
              "      <td>70.000000</td>\n",
              "      <td>15.000000</td>\n",
              "      <td>19710.750000</td>\n",
              "      <td>1120.000000</td>\n",
              "      <td>3.768308e+06</td>\n",
              "      <td>8.402025e+04</td>\n",
              "      <td>100.000000</td>\n",
              "      <td>4.000000</td>\n",
              "      <td>1.000000</td>\n",
              "      <td>0.000000</td>\n",
              "      <td>100.000000</td>\n",
              "      <td>0.000000</td>\n",
              "      <td>0.000000</td>\n",
              "      <td>0.000000</td>\n",
              "      <td>2.504290e+07</td>\n",
              "      <td>1.542827e+06</td>\n",
              "      <td>6.796095e+05</td>\n",
              "      <td>5.990952e+05</td>\n",
              "      <td>1.324308e+08</td>\n",
              "      <td>693.500000</td>\n",
              "      <td>203.000000</td>\n",
              "      <td>757.000000</td>\n",
              "      <td>35.000000</td>\n",
              "      <td>1092.000000</td>\n",
              "      <td>31.000000</td>\n",
              "      <td>2650.000000</td>\n",
              "      <td>2451.000000</td>\n",
              "      <td>2.694939e+06</td>\n",
              "      <td>49334.00000</td>\n",
              "      <td>8.623579e+06</td>\n",
              "      <td>3.088454e+06</td>\n",
              "      <td>2.689329e+06</td>\n",
              "      <td>700441.500000</td>\n",
              "      <td>1.744855e+07</td>\n",
              "      <td>1.651559e+07</td>\n",
              "      <td>1.747050e+07</td>\n",
              "      <td>1.650729e+07</td>\n",
              "      <td>6.331747e+08</td>\n",
              "      <td>1.243163e+07</td>\n",
              "      <td>6.316950e+08</td>\n",
              "      <td>1.238420e+07</td>\n",
              "      <td>4.903424e+07</td>\n",
              "      <td>6.657055e+08</td>\n",
              "    </tr>\n",
              "    <tr>\n",
              "      <th>max</th>\n",
              "      <td>1.318654e+19</td>\n",
              "      <td>999.000000</td>\n",
              "      <td>999.000000</td>\n",
              "      <td>1.859336e+06</td>\n",
              "      <td>2.140743e+14</td>\n",
              "      <td>8.823971e+14</td>\n",
              "      <td>9.900120e+13</td>\n",
              "      <td>96923.000000</td>\n",
              "      <td>7120.000000</td>\n",
              "      <td>378160.000000</td>\n",
              "      <td>58613.000000</td>\n",
              "      <td>4.294426e+09</td>\n",
              "      <td>2.908226e+09</td>\n",
              "      <td>100.000000</td>\n",
              "      <td>93.000000</td>\n",
              "      <td>100.000000</td>\n",
              "      <td>94.000000</td>\n",
              "      <td>100.000000</td>\n",
              "      <td>98.000000</td>\n",
              "      <td>100.000000</td>\n",
              "      <td>96.000000</td>\n",
              "      <td>7.253064e+10</td>\n",
              "      <td>1.491890e+09</td>\n",
              "      <td>1.365365e+08</td>\n",
              "      <td>1.449113e+08</td>\n",
              "      <td>1.859336e+09</td>\n",
              "      <td>81476.000000</td>\n",
              "      <td>85412.000000</td>\n",
              "      <td>58525.000000</td>\n",
              "      <td>50553.000000</td>\n",
              "      <td>66913.000000</td>\n",
              "      <td>49565.000000</td>\n",
              "      <td>604061.000000</td>\n",
              "      <td>604122.000000</td>\n",
              "      <td>3.586064e+06</td>\n",
              "      <td>65870.00000</td>\n",
              "      <td>1.146283e+07</td>\n",
              "      <td>4.121357e+06</td>\n",
              "      <td>3.586146e+06</td>\n",
              "      <td>936418.000000</td>\n",
              "      <td>2.325910e+07</td>\n",
              "      <td>2.201196e+07</td>\n",
              "      <td>2.325919e+07</td>\n",
              "      <td>2.201196e+07</td>\n",
              "      <td>8.434419e+08</td>\n",
              "      <td>1.655879e+07</td>\n",
              "      <td>8.434425e+08</td>\n",
              "      <td>1.655882e+07</td>\n",
              "      <td>7.833131e+07</td>\n",
              "      <td>9.029696e+08</td>\n",
              "    </tr>\n",
              "  </tbody>\n",
              "</table>\n",
              "</div>"
            ],
            "text/plain": [
              "          Bearer Id       Start ms  ...  Total UL (Bytes)  Total DL (Bytes)\n",
              "count  1.490100e+05  150000.000000  ...      1.500000e+05      1.500000e+05\n",
              "mean   1.013887e+19     499.188200  ...      4.112121e+07      4.546434e+08\n",
              "std    2.893173e+18     288.611834  ...      1.127639e+07      2.441429e+08\n",
              "min    6.917538e+18       0.000000  ...      2.866892e+06      7.114041e+06\n",
              "25%    7.349883e+18     250.000000  ...      3.322201e+07      2.431068e+08\n",
              "50%    7.349883e+18     499.000000  ...      4.114331e+07      4.558411e+08\n",
              "75%    1.304243e+19     749.000000  ...      4.903424e+07      6.657055e+08\n",
              "max    1.318654e+19     999.000000  ...      7.833131e+07      9.029696e+08\n",
              "\n",
              "[8 rows x 50 columns]"
            ]
          },
          "metadata": {},
          "execution_count": 20
        }
      ]
    },
    {
      "cell_type": "markdown",
      "metadata": {
        "id": "suAyffu5lW1u"
      },
      "source": [
        "## User Overview Analysis\n",
        "* Start by identifying the top 10 handsets used by the customers.\n",
        "\n",
        "* Then, identify the top 3 handset manufacturers\n",
        "\n",
        "* Next, identify the top 5 handsets per top 3 handset manufacturer\n",
        "\n",
        "* Make a short interpretation and recommendation to marketing teams"
      ]
    },
    {
      "cell_type": "code",
      "metadata": {
        "id": "aI6imi3_lW1w"
      },
      "source": [
        "new_data_col = [i.strip() for i in list(data.columns)]"
      ],
      "execution_count": 21,
      "outputs": []
    },
    {
      "cell_type": "code",
      "metadata": {
        "id": "Egx4qutmlW1x"
      },
      "source": [
        "data.columns = new_data_col"
      ],
      "execution_count": 22,
      "outputs": []
    },
    {
      "cell_type": "code",
      "metadata": {
        "id": "fbRQBv0WlW1y"
      },
      "source": [
        "handset_data = data[['Handset Manufacturer', 'Handset Type',]]"
      ],
      "execution_count": 23,
      "outputs": []
    },
    {
      "cell_type": "code",
      "metadata": {
        "id": "kKkuF7j4lW1z"
      },
      "source": [
        "top10_handet = handset_data[\"Handset Type\"][handset_data[\"Handset Type\"] != \"undefined\"].value_counts()[:10]#.plot(kind = \"bar\")"
      ],
      "execution_count": 24,
      "outputs": []
    },
    {
      "cell_type": "code",
      "metadata": {
        "scrolled": true,
        "id": "KJJakWq-lW10"
      },
      "source": [
        "top3_manufacturers = handset_data[\"Handset Manufacturer\"][handset_data[\"Handset Manufacturer\"] != \"undefined\"].value_counts().head(3)"
      ],
      "execution_count": 25,
      "outputs": []
    },
    {
      "cell_type": "code",
      "metadata": {
        "id": "a4VkQ3aAlW11"
      },
      "source": [
        "handsets_by_top3_manufacturers = handset_data.set_index(keys= [\"Handset Manufacturer\"]).loc[top3_manufacturers.keys()]"
      ],
      "execution_count": 26,
      "outputs": []
    },
    {
      "cell_type": "code",
      "metadata": {
        "id": "uV2dWUR4lW11"
      },
      "source": [
        "top5_of_top3_manufacturers_dict = dict()\n",
        "for i in top3_manufacturers.keys():\n",
        "    top5_of_top3_manufacturers_dict[i] = handsets_by_top3_manufacturers.loc[i, \"Handset Type\"].value_counts().head(5)"
      ],
      "execution_count": 27,
      "outputs": []
    },
    {
      "cell_type": "code",
      "metadata": {
        "id": "kwsGtSOolW12"
      },
      "source": [
        "top5_of_top3_manufacturers = pd.DataFrame.from_dict(top5_of_top3_manufacturers_dict, orient= \"index\").stack()\n",
        "top5_of_top3_manufacturers.name = \"count\"\n",
        "top5_of_top3_manufacturers = top5_of_top3_manufacturers.to_frame()"
      ],
      "execution_count": 28,
      "outputs": []
    },
    {
      "cell_type": "markdown",
      "metadata": {
        "id": "3HOjw60SlW12"
      },
      "source": [
        "## Task 1.1\n",
        "Aggregate per user the following information in the column  \n",
        "- number of xDR sessions\n",
        "- session duration\n",
        "- the total download (DL) and upload (UL) data\n",
        "- the total data volume (in Bytes) during this session for each application"
      ]
    },
    {
      "cell_type": "code",
      "metadata": {
        "id": "MujSbPd-lW13"
      },
      "source": [
        "data[\"MSISDN/Number\"] = data[\"MSISDN/Number\"].fillna(-999).astype(\"int\")"
      ],
      "execution_count": 29,
      "outputs": []
    },
    {
      "cell_type": "code",
      "metadata": {
        "id": "dpleB-I3lW14"
      },
      "source": [
        "no_of_xdr_sessions = data[\"MSISDN/Number\"].fillna(\"median\").value_counts()"
      ],
      "execution_count": 30,
      "outputs": []
    },
    {
      "cell_type": "code",
      "metadata": {
        "id": "XpO8BNHblW15"
      },
      "source": [
        "total_sessions_duration = (data[[\"MSISDN/Number\", \"Dur. (ms)\"]]\n",
        "                           .fillna(\"median\").groupby([\"MSISDN/Number\"])[\"Dur. (ms)\"]\n",
        "                           .sum()\n",
        "                          )/(60*60)"
      ],
      "execution_count": 31,
      "outputs": []
    },
    {
      "cell_type": "code",
      "metadata": {
        "id": "iApin7_AlW16"
      },
      "source": [
        "total_dl_ul_data = (data[[\"MSISDN/Number\", \"Total DL (Bytes)\", \"Total UL (Bytes)\"]]\n",
        "                    .fillna(\"median\").groupby([\"MSISDN/Number\"])[[\"Total DL (Bytes)\", \"Total UL (Bytes)\"]]\n",
        "                    .sum()\n",
        "                   )/(2**20)"
      ],
      "execution_count": 32,
      "outputs": []
    },
    {
      "cell_type": "code",
      "metadata": {
        "id": "5LgNT07ElW16"
      },
      "source": [
        "total_dl_ul_data[\"total_data\"] = total_dl_ul_data.sum(1)"
      ],
      "execution_count": 33,
      "outputs": []
    },
    {
      "cell_type": "code",
      "metadata": {
        "id": "x9OriV2YlW16"
      },
      "source": [
        "apps = ['Social Media DL (Bytes)', 'Social Media UL (Bytes)',\n",
        "       'Google DL (Bytes)', 'Google UL (Bytes)', 'Email DL (Bytes)',\n",
        "       'Email UL (Bytes)', 'Youtube DL (Bytes)', 'Youtube UL (Bytes)',\n",
        "       'Netflix DL (Bytes)', 'Netflix UL (Bytes)', 'Gaming DL (Bytes)',\n",
        "       'Gaming UL (Bytes)', 'Other DL (Bytes)', 'Other UL (Bytes)',]"
      ],
      "execution_count": 34,
      "outputs": []
    },
    {
      "cell_type": "code",
      "metadata": {
        "id": "pbTVEf9blW16"
      },
      "source": [
        "total_dl_ul_data_per_app = (data[apps + [\"MSISDN/Number\"]].fillna(\"mean\")\n",
        "                            .groupby([\"MSISDN/Number\"])[apps].sum()\n",
        "                           )/(2**20)"
      ],
      "execution_count": 35,
      "outputs": []
    },
    {
      "cell_type": "code",
      "metadata": {
        "scrolled": true,
        "id": "675RZL9tlW18"
      },
      "source": [
        "total_data_per_app = pd.DataFrame()\n",
        "count = 0\n",
        "for i,j in zip(range(len(total_dl_ul_data_per_app.columns)), total_dl_ul_data_per_app.columns):\n",
        "    if count != 1:\n",
        "        total_data_per_app[j.split()[0]] = total_dl_ul_data_per_app.iloc[:, i] + total_dl_ul_data_per_app.iloc[:,i+1]\n",
        "        count = (count + 1) % 2\n",
        "    else: \n",
        "        count = (count + 1) % 2\n",
        "        continue"
      ],
      "execution_count": 36,
      "outputs": []
    },
    {
      "cell_type": "code",
      "metadata": {
        "id": "GAWPnp1wlW19"
      },
      "source": [
        "aggregates = (no_of_xdr_sessions.to_frame()\n",
        "              .join(total_sessions_duration)\n",
        "              .join(total_data_per_app)\n",
        "              .join(total_dl_ul_data)\n",
        "             )"
      ],
      "execution_count": 37,
      "outputs": []
    },
    {
      "cell_type": "code",
      "metadata": {
        "id": "RD0y0q_2lW1-"
      },
      "source": [
        "aggregates.index.name = \"MSISDN\"\n",
        "aggregates.columns = [\"tot number of session\", \"tot sessions duration (hrs)\", \"social media data usage (MBs)\",\n",
        "                      \"google data usage (MBs)\",\"Email data usage (MBs)\", \"youtube data usage (MBs)\", \n",
        "                      \"netflix data usage (MBs)\",  \"gaming apps data usage (MBs)\", \"other apps data usage (MBs)\", \n",
        "                      \"tot downloaded data (MBs)\", \"tot uploaded data (MBs)\", \"tot data usage (MBs)\",]\n",
        "aggregates = aggregates.drop(index = -999)"
      ],
      "execution_count": 38,
      "outputs": []
    },
    {
      "cell_type": "code",
      "metadata": {
        "scrolled": true,
        "colab": {
          "base_uri": "https://localhost:8080/",
          "height": 0
        },
        "id": "ctXDizN4lW1_",
        "outputId": "39d36f40-e497-4edd-fcd5-b0c30a85c955"
      },
      "source": [
        "aggregates.describe().style#.set_properties(**{\"width\": \"100px\"})"
      ],
      "execution_count": 39,
      "outputs": [
        {
          "output_type": "execute_result",
          "data": {
            "text/html": [
              "<style  type=\"text/css\" >\n",
              "</style><table id=\"T_40c284f0_4e0f_11ec_8974_0242ac1c0002\" class=\"dataframe\"><thead>    <tr>        <th class=\"blank level0\" ></th>        <th class=\"col_heading level0 col0\" >tot number of session</th>        <th class=\"col_heading level0 col1\" >tot sessions duration (hrs)</th>        <th class=\"col_heading level0 col2\" >social media data usage (MBs)</th>        <th class=\"col_heading level0 col3\" >google data usage (MBs)</th>        <th class=\"col_heading level0 col4\" >Email data usage (MBs)</th>        <th class=\"col_heading level0 col5\" >youtube data usage (MBs)</th>        <th class=\"col_heading level0 col6\" >netflix data usage (MBs)</th>        <th class=\"col_heading level0 col7\" >gaming apps data usage (MBs)</th>        <th class=\"col_heading level0 col8\" >other apps data usage (MBs)</th>        <th class=\"col_heading level0 col9\" >tot downloaded data (MBs)</th>        <th class=\"col_heading level0 col10\" >tot uploaded data (MBs)</th>        <th class=\"col_heading level0 col11\" >tot data usage (MBs)</th>    </tr></thead><tbody>\n",
              "                <tr>\n",
              "                        <th id=\"T_40c284f0_4e0f_11ec_8974_0242ac1c0002level0_row0\" class=\"row_heading level0 row0\" >count</th>\n",
              "                        <td id=\"T_40c284f0_4e0f_11ec_8974_0242ac1c0002row0_col0\" class=\"data row0 col0\" >106856.000000</td>\n",
              "                        <td id=\"T_40c284f0_4e0f_11ec_8974_0242ac1c0002row0_col1\" class=\"data row0 col1\" >106856.000000</td>\n",
              "                        <td id=\"T_40c284f0_4e0f_11ec_8974_0242ac1c0002row0_col2\" class=\"data row0 col2\" >106856.000000</td>\n",
              "                        <td id=\"T_40c284f0_4e0f_11ec_8974_0242ac1c0002row0_col3\" class=\"data row0 col3\" >106856.000000</td>\n",
              "                        <td id=\"T_40c284f0_4e0f_11ec_8974_0242ac1c0002row0_col4\" class=\"data row0 col4\" >106856.000000</td>\n",
              "                        <td id=\"T_40c284f0_4e0f_11ec_8974_0242ac1c0002row0_col5\" class=\"data row0 col5\" >106856.000000</td>\n",
              "                        <td id=\"T_40c284f0_4e0f_11ec_8974_0242ac1c0002row0_col6\" class=\"data row0 col6\" >106856.000000</td>\n",
              "                        <td id=\"T_40c284f0_4e0f_11ec_8974_0242ac1c0002row0_col7\" class=\"data row0 col7\" >106856.000000</td>\n",
              "                        <td id=\"T_40c284f0_4e0f_11ec_8974_0242ac1c0002row0_col8\" class=\"data row0 col8\" >106856.000000</td>\n",
              "                        <td id=\"T_40c284f0_4e0f_11ec_8974_0242ac1c0002row0_col9\" class=\"data row0 col9\" >106856.000000</td>\n",
              "                        <td id=\"T_40c284f0_4e0f_11ec_8974_0242ac1c0002row0_col10\" class=\"data row0 col10\" >106856.000000</td>\n",
              "                        <td id=\"T_40c284f0_4e0f_11ec_8974_0242ac1c0002row0_col11\" class=\"data row0 col11\" >106856.000000</td>\n",
              "            </tr>\n",
              "            <tr>\n",
              "                        <th id=\"T_40c284f0_4e0f_11ec_8974_0242ac1c0002level0_row1\" class=\"row_heading level0 row1\" >mean</th>\n",
              "                        <td id=\"T_40c284f0_4e0f_11ec_8974_0242ac1c0002row1_col0\" class=\"data row1 col0\" >1.393792</td>\n",
              "                        <td id=\"T_40c284f0_4e0f_11ec_8974_0242ac1c0002row1_col1\" class=\"data row1 col1\" >40.601988</td>\n",
              "                        <td id=\"T_40c284f0_4e0f_11ec_8974_0242ac1c0002row1_col2\" class=\"data row1 col2\" >2.429931</td>\n",
              "                        <td id=\"T_40c284f0_4e0f_11ec_8974_0242ac1c0002row1_col3\" class=\"data row1 col3\" >10.378298</td>\n",
              "                        <td id=\"T_40c284f0_4e0f_11ec_8974_0242ac1c0002row1_col4\" class=\"data row1 col4\" >3.002926</td>\n",
              "                        <td id=\"T_40c284f0_4e0f_11ec_8974_0242ac1c0002row1_col5\" class=\"data row1 col5\" >30.096435</td>\n",
              "                        <td id=\"T_40c284f0_4e0f_11ec_8974_0242ac1c0002row1_col6\" class=\"data row1 col6\" >30.077298</td>\n",
              "                        <td id=\"T_40c284f0_4e0f_11ec_8974_0242ac1c0002row1_col7\" class=\"data row1 col7\" >571.984301</td>\n",
              "                        <td id=\"T_40c284f0_4e0f_11ec_8974_0242ac1c0002row1_col8\" class=\"data row1 col8\" >570.782437</td>\n",
              "                        <td id=\"T_40c284f0_4e0f_11ec_8974_0242ac1c0002row1_col9\" class=\"data row1 col9\" >604.298287</td>\n",
              "                        <td id=\"T_40c284f0_4e0f_11ec_8974_0242ac1c0002row1_col10\" class=\"data row1 col10\" >54.654524</td>\n",
              "                        <td id=\"T_40c284f0_4e0f_11ec_8974_0242ac1c0002row1_col11\" class=\"data row1 col11\" >658.952812</td>\n",
              "            </tr>\n",
              "            <tr>\n",
              "                        <th id=\"T_40c284f0_4e0f_11ec_8974_0242ac1c0002level0_row2\" class=\"row_heading level0 row2\" >std</th>\n",
              "                        <td id=\"T_40c284f0_4e0f_11ec_8974_0242ac1c0002row2_col0\" class=\"data row2 col0\" >0.806022</td>\n",
              "                        <td id=\"T_40c284f0_4e0f_11ec_8974_0242ac1c0002row2_col1\" class=\"data row2 col1\" >51.766297</td>\n",
              "                        <td id=\"T_40c284f0_4e0f_11ec_8974_0242ac1c0002row2_col2\" class=\"data row2 col2\" >1.819647</td>\n",
              "                        <td id=\"T_40c284f0_4e0f_11ec_8974_0242ac1c0002row2_col3\" class=\"data row2 col3\" >7.195341</td>\n",
              "                        <td id=\"T_40c284f0_4e0f_11ec_8974_0242ac1c0002row2_col4\" class=\"data row2 col4\" >2.119446</td>\n",
              "                        <td id=\"T_40c284f0_4e0f_11ec_8974_0242ac1c0002row2_col5\" class=\"data row2 col5\" >20.308416</td>\n",
              "                        <td id=\"T_40c284f0_4e0f_11ec_8974_0242ac1c0002row2_col6\" class=\"data row2 col6\" >20.303304</td>\n",
              "                        <td id=\"T_40c284f0_4e0f_11ec_8974_0242ac1c0002row2_col7\" class=\"data row2 col7\" >428.343260</td>\n",
              "                        <td id=\"T_40c284f0_4e0f_11ec_8974_0242ac1c0002row2_col8\" class=\"data row2 col8\" >428.125486</td>\n",
              "                        <td id=\"T_40c284f0_4e0f_11ec_8974_0242ac1c0002row2_col9\" class=\"data row2 col9\" >443.034226</td>\n",
              "                        <td id=\"T_40c284f0_4e0f_11ec_8974_0242ac1c0002row2_col10\" class=\"data row2 col10\" >34.005785</td>\n",
              "                        <td id=\"T_40c284f0_4e0f_11ec_8974_0242ac1c0002row2_col11\" class=\"data row2 col11\" >468.307391</td>\n",
              "            </tr>\n",
              "            <tr>\n",
              "                        <th id=\"T_40c284f0_4e0f_11ec_8974_0242ac1c0002level0_row3\" class=\"row_heading level0 row3\" >min</th>\n",
              "                        <td id=\"T_40c284f0_4e0f_11ec_8974_0242ac1c0002row3_col0\" class=\"data row3 col0\" >1.000000</td>\n",
              "                        <td id=\"T_40c284f0_4e0f_11ec_8974_0242ac1c0002row3_col1\" class=\"data row3 col1\" >1.983889</td>\n",
              "                        <td id=\"T_40c284f0_4e0f_11ec_8974_0242ac1c0002row3_col2\" class=\"data row3 col2\" >0.001491</td>\n",
              "                        <td id=\"T_40c284f0_4e0f_11ec_8974_0242ac1c0002row3_col3\" class=\"data row3 col3\" >0.038462</td>\n",
              "                        <td id=\"T_40c284f0_4e0f_11ec_8974_0242ac1c0002row3_col4\" class=\"data row3 col4\" >0.017334</td>\n",
              "                        <td id=\"T_40c284f0_4e0f_11ec_8974_0242ac1c0002row3_col5\" class=\"data row3 col5\" >0.075248</td>\n",
              "                        <td id=\"T_40c284f0_4e0f_11ec_8974_0242ac1c0002row3_col6\" class=\"data row3 col6\" >0.176019</td>\n",
              "                        <td id=\"T_40c284f0_4e0f_11ec_8974_0242ac1c0002row3_col7\" class=\"data row3 col7\" >0.292166</td>\n",
              "                        <td id=\"T_40c284f0_4e0f_11ec_8974_0242ac1c0002row3_col8\" class=\"data row3 col8\" >0.142140</td>\n",
              "                        <td id=\"T_40c284f0_4e0f_11ec_8974_0242ac1c0002row3_col9\" class=\"data row3 col9\" >8.418161</td>\n",
              "                        <td id=\"T_40c284f0_4e0f_11ec_8974_0242ac1c0002row3_col10\" class=\"data row3 col10\" >2.734081</td>\n",
              "                        <td id=\"T_40c284f0_4e0f_11ec_8974_0242ac1c0002row3_col11\" class=\"data row3 col11\" >31.708726</td>\n",
              "            </tr>\n",
              "            <tr>\n",
              "                        <th id=\"T_40c284f0_4e0f_11ec_8974_0242ac1c0002level0_row4\" class=\"row_heading level0 row4\" >25%</th>\n",
              "                        <td id=\"T_40c284f0_4e0f_11ec_8974_0242ac1c0002row4_col0\" class=\"data row4 col0\" >1.000000</td>\n",
              "                        <td id=\"T_40c284f0_4e0f_11ec_8974_0242ac1c0002row4_col1\" class=\"data row4 col1\" >19.807778</td>\n",
              "                        <td id=\"T_40c284f0_4e0f_11ec_8974_0242ac1c0002row4_col2\" class=\"data row4 col2\" >1.155168</td>\n",
              "                        <td id=\"T_40c284f0_4e0f_11ec_8974_0242ac1c0002row4_col3\" class=\"data row4 col3\" >5.667339</td>\n",
              "                        <td id=\"T_40c284f0_4e0f_11ec_8974_0242ac1c0002row4_col4\" class=\"data row4 col4\" >1.596910</td>\n",
              "                        <td id=\"T_40c284f0_4e0f_11ec_8974_0242ac1c0002row4_col5\" class=\"data row4 col5\" >17.767991</td>\n",
              "                        <td id=\"T_40c284f0_4e0f_11ec_8974_0242ac1c0002row4_col6\" class=\"data row4 col6\" >17.696355</td>\n",
              "                        <td id=\"T_40c284f0_4e0f_11ec_8974_0242ac1c0002row4_col7\" class=\"data row4 col7\" >274.718392</td>\n",
              "                        <td id=\"T_40c284f0_4e0f_11ec_8974_0242ac1c0002row4_col8\" class=\"data row4 col8\" >272.331153</td>\n",
              "                        <td id=\"T_40c284f0_4e0f_11ec_8974_0242ac1c0002row4_col9\" class=\"data row4 col9\" >300.242485</td>\n",
              "                        <td id=\"T_40c284f0_4e0f_11ec_8974_0242ac1c0002row4_col10\" class=\"data row4 col10\" >34.709430</td>\n",
              "                        <td id=\"T_40c284f0_4e0f_11ec_8974_0242ac1c0002row4_col11\" class=\"data row4 col11\" >341.939838</td>\n",
              "            </tr>\n",
              "            <tr>\n",
              "                        <th id=\"T_40c284f0_4e0f_11ec_8974_0242ac1c0002level0_row5\" class=\"row_heading level0 row5\" >50%</th>\n",
              "                        <td id=\"T_40c284f0_4e0f_11ec_8974_0242ac1c0002row5_col0\" class=\"data row5 col0\" >1.000000</td>\n",
              "                        <td id=\"T_40c284f0_4e0f_11ec_8974_0242ac1c0002row5_col1\" class=\"data row5 col1\" >28.538889</td>\n",
              "                        <td id=\"T_40c284f0_4e0f_11ec_8974_0242ac1c0002row5_col2\" class=\"data row5 col2\" >2.197033</td>\n",
              "                        <td id=\"T_40c284f0_4e0f_11ec_8974_0242ac1c0002row5_col3\" class=\"data row5 col3\" >9.142068</td>\n",
              "                        <td id=\"T_40c284f0_4e0f_11ec_8974_0242ac1c0002row5_col4\" class=\"data row5 col4\" >2.670121</td>\n",
              "                        <td id=\"T_40c284f0_4e0f_11ec_8974_0242ac1c0002row5_col5\" class=\"data row5 col5\" >25.558830</td>\n",
              "                        <td id=\"T_40c284f0_4e0f_11ec_8974_0242ac1c0002row5_col6\" class=\"data row5 col6\" >25.481119</td>\n",
              "                        <td id=\"T_40c284f0_4e0f_11ec_8974_0242ac1c0002row5_col7\" class=\"data row5 col7\" >517.224509</td>\n",
              "                        <td id=\"T_40c284f0_4e0f_11ec_8974_0242ac1c0002row5_col8\" class=\"data row5 col8\" >514.824241</td>\n",
              "                        <td id=\"T_40c284f0_4e0f_11ec_8974_0242ac1c0002row5_col9\" class=\"data row5 col9\" >543.945048</td>\n",
              "                        <td id=\"T_40c284f0_4e0f_11ec_8974_0242ac1c0002row5_col10\" class=\"data row5 col10\" >44.626108</td>\n",
              "                        <td id=\"T_40c284f0_4e0f_11ec_8974_0242ac1c0002row5_col11\" class=\"data row5 col11\" >589.297426</td>\n",
              "            </tr>\n",
              "            <tr>\n",
              "                        <th id=\"T_40c284f0_4e0f_11ec_8974_0242ac1c0002level0_row6\" class=\"row_heading level0 row6\" >75%</th>\n",
              "                        <td id=\"T_40c284f0_4e0f_11ec_8974_0242ac1c0002row6_col0\" class=\"data row6 col0\" >2.000000</td>\n",
              "                        <td id=\"T_40c284f0_4e0f_11ec_8974_0242ac1c0002row6_col1\" class=\"data row6 col1\" >47.999722</td>\n",
              "                        <td id=\"T_40c284f0_4e0f_11ec_8974_0242ac1c0002row6_col2\" class=\"data row6 col2\" >3.154286</td>\n",
              "                        <td id=\"T_40c284f0_4e0f_11ec_8974_0242ac1c0002row6_col3\" class=\"data row6 col3\" >12.602558</td>\n",
              "                        <td id=\"T_40c284f0_4e0f_11ec_8974_0242ac1c0002row6_col4\" class=\"data row6 col4\" >3.668973</td>\n",
              "                        <td id=\"T_40c284f0_4e0f_11ec_8974_0242ac1c0002row6_col5\" class=\"data row6 col5\" >36.170936</td>\n",
              "                        <td id=\"T_40c284f0_4e0f_11ec_8974_0242ac1c0002row6_col6\" class=\"data row6 col6\" >36.217649</td>\n",
              "                        <td id=\"T_40c284f0_4e0f_11ec_8974_0242ac1c0002row6_col7\" class=\"data row6 col7\" >741.294992</td>\n",
              "                        <td id=\"T_40c284f0_4e0f_11ec_8974_0242ac1c0002row6_col8\" class=\"data row6 col8\" >739.476710</td>\n",
              "                        <td id=\"T_40c284f0_4e0f_11ec_8974_0242ac1c0002row6_col9\" class=\"data row6 col9\" >769.962778</td>\n",
              "                        <td id=\"T_40c284f0_4e0f_11ec_8974_0242ac1c0002row6_col10\" class=\"data row6 col10\" >62.686913</td>\n",
              "                        <td id=\"T_40c284f0_4e0f_11ec_8974_0242ac1c0002row6_col11\" class=\"data row6 col11\" >817.713878</td>\n",
              "            </tr>\n",
              "            <tr>\n",
              "                        <th id=\"T_40c284f0_4e0f_11ec_8974_0242ac1c0002level0_row7\" class=\"row_heading level0 row7\" >max</th>\n",
              "                        <td id=\"T_40c284f0_4e0f_11ec_8974_0242ac1c0002row7_col0\" class=\"data row7 col0\" >18.000000</td>\n",
              "                        <td id=\"T_40c284f0_4e0f_11ec_8974_0242ac1c0002row7_col1\" class=\"data row7 col1\" >5153.820556</td>\n",
              "                        <td id=\"T_40c284f0_4e0f_11ec_8974_0242ac1c0002row7_col2\" class=\"data row7 col2\" >41.365413</td>\n",
              "                        <td id=\"T_40c284f0_4e0f_11ec_8974_0242ac1c0002row7_col3\" class=\"data row7 col3\" >145.141460</td>\n",
              "                        <td id=\"T_40c284f0_4e0f_11ec_8974_0242ac1c0002row7_col4\" class=\"data row7 col4\" >40.453703</td>\n",
              "                        <td id=\"T_40c284f0_4e0f_11ec_8974_0242ac1c0002row7_col5\" class=\"data row7 col5\" >431.975144</td>\n",
              "                        <td id=\"T_40c284f0_4e0f_11ec_8974_0242ac1c0002row7_col6\" class=\"data row7 col6\" >381.011085</td>\n",
              "                        <td id=\"T_40c284f0_4e0f_11ec_8974_0242ac1c0002row7_col7\" class=\"data row7 col7\" >7390.434488</td>\n",
              "                        <td id=\"T_40c284f0_4e0f_11ec_8974_0242ac1c0002row7_col8\" class=\"data row7 col8\" >7789.495255</td>\n",
              "                        <td id=\"T_40c284f0_4e0f_11ec_8974_0242ac1c0002row7_col9\" class=\"data row7 col9\" >7778.876775</td>\n",
              "                        <td id=\"T_40c284f0_4e0f_11ec_8974_0242ac1c0002row7_col10\" class=\"data row7 col10\" >695.779209</td>\n",
              "                        <td id=\"T_40c284f0_4e0f_11ec_8974_0242ac1c0002row7_col11\" class=\"data row7 col11\" >8436.419004</td>\n",
              "            </tr>\n",
              "    </tbody></table>"
            ],
            "text/plain": [
              "<pandas.io.formats.style.Styler at 0x7efdc1b7f0d0>"
            ]
          },
          "metadata": {},
          "execution_count": 39
        }
      ]
    },
    {
      "cell_type": "markdown",
      "metadata": {
        "id": "PbfrtZ6VlW1_"
      },
      "source": [
        "###### removing outliers : any user with session duration greater than (30*12) mins "
      ]
    },
    {
      "cell_type": "code",
      "metadata": {
        "id": "PWYezgeclW2A"
      },
      "source": [
        "outliers_index = \\\n",
        "aggregates[\"tot sessions duration (hrs)\"][aggregates[\"tot sessions duration (hrs)\"] > (30*12)].keys()\n",
        "aggregates.loc[outliers_index] = np.nan\n",
        "aggregates.dropna(inplace=True)"
      ],
      "execution_count": 40,
      "outputs": []
    },
    {
      "cell_type": "code",
      "metadata": {
        "colab": {
          "base_uri": "https://localhost:8080/",
          "height": 0
        },
        "id": "GjonDErGlW2A",
        "outputId": "df65c24e-76a5-47c1-e4df-e68d9c3f3b8e"
      },
      "source": [
        "aggregates.describe().style"
      ],
      "execution_count": 41,
      "outputs": [
        {
          "output_type": "execute_result",
          "data": {
            "text/html": [
              "<style  type=\"text/css\" >\n",
              "</style><table id=\"T_40e52fc8_4e0f_11ec_8974_0242ac1c0002\" class=\"dataframe\"><thead>    <tr>        <th class=\"blank level0\" ></th>        <th class=\"col_heading level0 col0\" >tot number of session</th>        <th class=\"col_heading level0 col1\" >tot sessions duration (hrs)</th>        <th class=\"col_heading level0 col2\" >social media data usage (MBs)</th>        <th class=\"col_heading level0 col3\" >google data usage (MBs)</th>        <th class=\"col_heading level0 col4\" >Email data usage (MBs)</th>        <th class=\"col_heading level0 col5\" >youtube data usage (MBs)</th>        <th class=\"col_heading level0 col6\" >netflix data usage (MBs)</th>        <th class=\"col_heading level0 col7\" >gaming apps data usage (MBs)</th>        <th class=\"col_heading level0 col8\" >other apps data usage (MBs)</th>        <th class=\"col_heading level0 col9\" >tot downloaded data (MBs)</th>        <th class=\"col_heading level0 col10\" >tot uploaded data (MBs)</th>        <th class=\"col_heading level0 col11\" >tot data usage (MBs)</th>    </tr></thead><tbody>\n",
              "                <tr>\n",
              "                        <th id=\"T_40e52fc8_4e0f_11ec_8974_0242ac1c0002level0_row0\" class=\"row_heading level0 row0\" >count</th>\n",
              "                        <td id=\"T_40e52fc8_4e0f_11ec_8974_0242ac1c0002row0_col0\" class=\"data row0 col0\" >106554.000000</td>\n",
              "                        <td id=\"T_40e52fc8_4e0f_11ec_8974_0242ac1c0002row0_col1\" class=\"data row0 col1\" >106554.000000</td>\n",
              "                        <td id=\"T_40e52fc8_4e0f_11ec_8974_0242ac1c0002row0_col2\" class=\"data row0 col2\" >106554.000000</td>\n",
              "                        <td id=\"T_40e52fc8_4e0f_11ec_8974_0242ac1c0002row0_col3\" class=\"data row0 col3\" >106554.000000</td>\n",
              "                        <td id=\"T_40e52fc8_4e0f_11ec_8974_0242ac1c0002row0_col4\" class=\"data row0 col4\" >106554.000000</td>\n",
              "                        <td id=\"T_40e52fc8_4e0f_11ec_8974_0242ac1c0002row0_col5\" class=\"data row0 col5\" >106554.000000</td>\n",
              "                        <td id=\"T_40e52fc8_4e0f_11ec_8974_0242ac1c0002row0_col6\" class=\"data row0 col6\" >106554.000000</td>\n",
              "                        <td id=\"T_40e52fc8_4e0f_11ec_8974_0242ac1c0002row0_col7\" class=\"data row0 col7\" >106554.000000</td>\n",
              "                        <td id=\"T_40e52fc8_4e0f_11ec_8974_0242ac1c0002row0_col8\" class=\"data row0 col8\" >106554.000000</td>\n",
              "                        <td id=\"T_40e52fc8_4e0f_11ec_8974_0242ac1c0002row0_col9\" class=\"data row0 col9\" >106554.000000</td>\n",
              "                        <td id=\"T_40e52fc8_4e0f_11ec_8974_0242ac1c0002row0_col10\" class=\"data row0 col10\" >106554.000000</td>\n",
              "                        <td id=\"T_40e52fc8_4e0f_11ec_8974_0242ac1c0002row0_col11\" class=\"data row0 col11\" >106554.000000</td>\n",
              "            </tr>\n",
              "            <tr>\n",
              "                        <th id=\"T_40e52fc8_4e0f_11ec_8974_0242ac1c0002level0_row1\" class=\"row_heading level0 row1\" >mean</th>\n",
              "                        <td id=\"T_40e52fc8_4e0f_11ec_8974_0242ac1c0002row1_col0\" class=\"data row1 col0\" >1.379986</td>\n",
              "                        <td id=\"T_40e52fc8_4e0f_11ec_8974_0242ac1c0002row1_col1\" class=\"data row1 col1\" >38.945798</td>\n",
              "                        <td id=\"T_40e52fc8_4e0f_11ec_8974_0242ac1c0002row1_col2\" class=\"data row1 col2\" >2.406328</td>\n",
              "                        <td id=\"T_40e52fc8_4e0f_11ec_8974_0242ac1c0002row1_col3\" class=\"data row1 col3\" >10.273692</td>\n",
              "                        <td id=\"T_40e52fc8_4e0f_11ec_8974_0242ac1c0002row1_col4\" class=\"data row1 col4\" >2.972841</td>\n",
              "                        <td id=\"T_40e52fc8_4e0f_11ec_8974_0242ac1c0002row1_col5\" class=\"data row1 col5\" >29.795385</td>\n",
              "                        <td id=\"T_40e52fc8_4e0f_11ec_8974_0242ac1c0002row1_col6\" class=\"data row1 col6\" >29.777472</td>\n",
              "                        <td id=\"T_40e52fc8_4e0f_11ec_8974_0242ac1c0002row1_col7\" class=\"data row1 col7\" >566.283479</td>\n",
              "                        <td id=\"T_40e52fc8_4e0f_11ec_8974_0242ac1c0002row1_col8\" class=\"data row1 col8\" >565.158929</td>\n",
              "                        <td id=\"T_40e52fc8_4e0f_11ec_8974_0242ac1c0002row1_col9\" class=\"data row1 col9\" >598.270156</td>\n",
              "                        <td id=\"T_40e52fc8_4e0f_11ec_8974_0242ac1c0002row1_col10\" class=\"data row1 col10\" >54.113350</td>\n",
              "                        <td id=\"T_40e52fc8_4e0f_11ec_8974_0242ac1c0002row1_col11\" class=\"data row1 col11\" >652.383505</td>\n",
              "            </tr>\n",
              "            <tr>\n",
              "                        <th id=\"T_40e52fc8_4e0f_11ec_8974_0242ac1c0002level0_row2\" class=\"row_heading level0 row2\" >std</th>\n",
              "                        <td id=\"T_40e52fc8_4e0f_11ec_8974_0242ac1c0002row2_col0\" class=\"data row2 col0\" >0.751298</td>\n",
              "                        <td id=\"T_40e52fc8_4e0f_11ec_8974_0242ac1c0002row2_col1\" class=\"data row2 col1\" >34.344976</td>\n",
              "                        <td id=\"T_40e52fc8_4e0f_11ec_8974_0242ac1c0002row2_col2\" class=\"data row2 col2\" >1.744367</td>\n",
              "                        <td id=\"T_40e52fc8_4e0f_11ec_8974_0242ac1c0002row2_col3\" class=\"data row2 col3\" >6.838355</td>\n",
              "                        <td id=\"T_40e52fc8_4e0f_11ec_8974_0242ac1c0002row2_col4\" class=\"data row2 col4\" >2.016566</td>\n",
              "                        <td id=\"T_40e52fc8_4e0f_11ec_8974_0242ac1c0002row2_col5\" class=\"data row2 col5\" >19.260624</td>\n",
              "                        <td id=\"T_40e52fc8_4e0f_11ec_8974_0242ac1c0002row2_col6\" class=\"data row2 col6\" >19.266514</td>\n",
              "                        <td id=\"T_40e52fc8_4e0f_11ec_8974_0242ac1c0002row2_col7\" class=\"data row2 col7\" >409.946436</td>\n",
              "                        <td id=\"T_40e52fc8_4e0f_11ec_8974_0242ac1c0002row2_col8\" class=\"data row2 col8\" >410.941550</td>\n",
              "                        <td id=\"T_40e52fc8_4e0f_11ec_8974_0242ac1c0002row2_col9\" class=\"data row2 col9\" >423.254635</td>\n",
              "                        <td id=\"T_40e52fc8_4e0f_11ec_8974_0242ac1c0002row2_col10\" class=\"data row2 col10\" >31.994931</td>\n",
              "                        <td id=\"T_40e52fc8_4e0f_11ec_8974_0242ac1c0002row2_col11\" class=\"data row2 col11\" >446.221514</td>\n",
              "            </tr>\n",
              "            <tr>\n",
              "                        <th id=\"T_40e52fc8_4e0f_11ec_8974_0242ac1c0002level0_row3\" class=\"row_heading level0 row3\" >min</th>\n",
              "                        <td id=\"T_40e52fc8_4e0f_11ec_8974_0242ac1c0002row3_col0\" class=\"data row3 col0\" >1.000000</td>\n",
              "                        <td id=\"T_40e52fc8_4e0f_11ec_8974_0242ac1c0002row3_col1\" class=\"data row3 col1\" >1.983889</td>\n",
              "                        <td id=\"T_40e52fc8_4e0f_11ec_8974_0242ac1c0002row3_col2\" class=\"data row3 col2\" >0.001491</td>\n",
              "                        <td id=\"T_40e52fc8_4e0f_11ec_8974_0242ac1c0002row3_col3\" class=\"data row3 col3\" >0.038462</td>\n",
              "                        <td id=\"T_40e52fc8_4e0f_11ec_8974_0242ac1c0002row3_col4\" class=\"data row3 col4\" >0.017334</td>\n",
              "                        <td id=\"T_40e52fc8_4e0f_11ec_8974_0242ac1c0002row3_col5\" class=\"data row3 col5\" >0.075248</td>\n",
              "                        <td id=\"T_40e52fc8_4e0f_11ec_8974_0242ac1c0002row3_col6\" class=\"data row3 col6\" >0.176019</td>\n",
              "                        <td id=\"T_40e52fc8_4e0f_11ec_8974_0242ac1c0002row3_col7\" class=\"data row3 col7\" >0.292166</td>\n",
              "                        <td id=\"T_40e52fc8_4e0f_11ec_8974_0242ac1c0002row3_col8\" class=\"data row3 col8\" >0.142140</td>\n",
              "                        <td id=\"T_40e52fc8_4e0f_11ec_8974_0242ac1c0002row3_col9\" class=\"data row3 col9\" >8.418161</td>\n",
              "                        <td id=\"T_40e52fc8_4e0f_11ec_8974_0242ac1c0002row3_col10\" class=\"data row3 col10\" >2.734081</td>\n",
              "                        <td id=\"T_40e52fc8_4e0f_11ec_8974_0242ac1c0002row3_col11\" class=\"data row3 col11\" >31.708726</td>\n",
              "            </tr>\n",
              "            <tr>\n",
              "                        <th id=\"T_40e52fc8_4e0f_11ec_8974_0242ac1c0002level0_row4\" class=\"row_heading level0 row4\" >25%</th>\n",
              "                        <td id=\"T_40e52fc8_4e0f_11ec_8974_0242ac1c0002row4_col0\" class=\"data row4 col0\" >1.000000</td>\n",
              "                        <td id=\"T_40e52fc8_4e0f_11ec_8974_0242ac1c0002row4_col1\" class=\"data row4 col1\" >19.710625</td>\n",
              "                        <td id=\"T_40e52fc8_4e0f_11ec_8974_0242ac1c0002row4_col2\" class=\"data row4 col2\" >1.152503</td>\n",
              "                        <td id=\"T_40e52fc8_4e0f_11ec_8974_0242ac1c0002row4_col3\" class=\"data row4 col3\" >5.656567</td>\n",
              "                        <td id=\"T_40e52fc8_4e0f_11ec_8974_0242ac1c0002row4_col4\" class=\"data row4 col4\" >1.593564</td>\n",
              "                        <td id=\"T_40e52fc8_4e0f_11ec_8974_0242ac1c0002row4_col5\" class=\"data row4 col5\" >17.742988</td>\n",
              "                        <td id=\"T_40e52fc8_4e0f_11ec_8974_0242ac1c0002row4_col6\" class=\"data row4 col6\" >17.674101</td>\n",
              "                        <td id=\"T_40e52fc8_4e0f_11ec_8974_0242ac1c0002row4_col7\" class=\"data row4 col7\" >274.037992</td>\n",
              "                        <td id=\"T_40e52fc8_4e0f_11ec_8974_0242ac1c0002row4_col8\" class=\"data row4 col8\" >271.572208</td>\n",
              "                        <td id=\"T_40e52fc8_4e0f_11ec_8974_0242ac1c0002row4_col9\" class=\"data row4 col9\" >299.494924</td>\n",
              "                        <td id=\"T_40e52fc8_4e0f_11ec_8974_0242ac1c0002row4_col10\" class=\"data row4 col10\" >34.676584</td>\n",
              "                        <td id=\"T_40e52fc8_4e0f_11ec_8974_0242ac1c0002row4_col11\" class=\"data row4 col11\" >341.003925</td>\n",
              "            </tr>\n",
              "            <tr>\n",
              "                        <th id=\"T_40e52fc8_4e0f_11ec_8974_0242ac1c0002level0_row5\" class=\"row_heading level0 row5\" >50%</th>\n",
              "                        <td id=\"T_40e52fc8_4e0f_11ec_8974_0242ac1c0002row5_col0\" class=\"data row5 col0\" >1.000000</td>\n",
              "                        <td id=\"T_40e52fc8_4e0f_11ec_8974_0242ac1c0002row5_col1\" class=\"data row5 col1\" >28.456111</td>\n",
              "                        <td id=\"T_40e52fc8_4e0f_11ec_8974_0242ac1c0002row5_col2\" class=\"data row5 col2\" >2.191891</td>\n",
              "                        <td id=\"T_40e52fc8_4e0f_11ec_8974_0242ac1c0002row5_col3\" class=\"data row5 col3\" >9.124181</td>\n",
              "                        <td id=\"T_40e52fc8_4e0f_11ec_8974_0242ac1c0002row5_col4\" class=\"data row5 col4\" >2.664310</td>\n",
              "                        <td id=\"T_40e52fc8_4e0f_11ec_8974_0242ac1c0002row5_col5\" class=\"data row5 col5\" >25.511245</td>\n",
              "                        <td id=\"T_40e52fc8_4e0f_11ec_8974_0242ac1c0002row5_col6\" class=\"data row5 col6\" >25.433387</td>\n",
              "                        <td id=\"T_40e52fc8_4e0f_11ec_8974_0242ac1c0002row5_col7\" class=\"data row5 col7\" >515.971701</td>\n",
              "                        <td id=\"T_40e52fc8_4e0f_11ec_8974_0242ac1c0002row5_col8\" class=\"data row5 col8\" >513.621295</td>\n",
              "                        <td id=\"T_40e52fc8_4e0f_11ec_8974_0242ac1c0002row5_col9\" class=\"data row5 col9\" >542.765436</td>\n",
              "                        <td id=\"T_40e52fc8_4e0f_11ec_8974_0242ac1c0002row5_col10\" class=\"data row5 col10\" >44.576648</td>\n",
              "                        <td id=\"T_40e52fc8_4e0f_11ec_8974_0242ac1c0002row5_col11\" class=\"data row5 col11\" >587.853882</td>\n",
              "            </tr>\n",
              "            <tr>\n",
              "                        <th id=\"T_40e52fc8_4e0f_11ec_8974_0242ac1c0002level0_row6\" class=\"row_heading level0 row6\" >75%</th>\n",
              "                        <td id=\"T_40e52fc8_4e0f_11ec_8974_0242ac1c0002row6_col0\" class=\"data row6 col0\" >2.000000</td>\n",
              "                        <td id=\"T_40e52fc8_4e0f_11ec_8974_0242ac1c0002row6_col1\" class=\"data row6 col1\" >47.999722</td>\n",
              "                        <td id=\"T_40e52fc8_4e0f_11ec_8974_0242ac1c0002row6_col2\" class=\"data row6 col2\" >3.146709</td>\n",
              "                        <td id=\"T_40e52fc8_4e0f_11ec_8974_0242ac1c0002row6_col3\" class=\"data row6 col3\" >12.565546</td>\n",
              "                        <td id=\"T_40e52fc8_4e0f_11ec_8974_0242ac1c0002row6_col4\" class=\"data row6 col4\" >3.659199</td>\n",
              "                        <td id=\"T_40e52fc8_4e0f_11ec_8974_0242ac1c0002row6_col5\" class=\"data row6 col5\" >36.047137</td>\n",
              "                        <td id=\"T_40e52fc8_4e0f_11ec_8974_0242ac1c0002row6_col6\" class=\"data row6 col6\" >36.091989</td>\n",
              "                        <td id=\"T_40e52fc8_4e0f_11ec_8974_0242ac1c0002row6_col7\" class=\"data row6 col7\" >739.504440</td>\n",
              "                        <td id=\"T_40e52fc8_4e0f_11ec_8974_0242ac1c0002row6_col8\" class=\"data row6 col8\" >737.657516</td>\n",
              "                        <td id=\"T_40e52fc8_4e0f_11ec_8974_0242ac1c0002row6_col9\" class=\"data row6 col9\" >767.978338</td>\n",
              "                        <td id=\"T_40e52fc8_4e0f_11ec_8974_0242ac1c0002row6_col10\" class=\"data row6 col10\" >62.295820</td>\n",
              "                        <td id=\"T_40e52fc8_4e0f_11ec_8974_0242ac1c0002row6_col11\" class=\"data row6 col11\" >815.835433</td>\n",
              "            </tr>\n",
              "            <tr>\n",
              "                        <th id=\"T_40e52fc8_4e0f_11ec_8974_0242ac1c0002level0_row7\" class=\"row_heading level0 row7\" >max</th>\n",
              "                        <td id=\"T_40e52fc8_4e0f_11ec_8974_0242ac1c0002row7_col0\" class=\"data row7 col0\" >11.000000</td>\n",
              "                        <td id=\"T_40e52fc8_4e0f_11ec_8974_0242ac1c0002row7_col1\" class=\"data row7 col1\" >359.504444</td>\n",
              "                        <td id=\"T_40e52fc8_4e0f_11ec_8974_0242ac1c0002row7_col2\" class=\"data row7 col2\" >22.698244</td>\n",
              "                        <td id=\"T_40e52fc8_4e0f_11ec_8974_0242ac1c0002row7_col3\" class=\"data row7 col3\" >83.574781</td>\n",
              "                        <td id=\"T_40e52fc8_4e0f_11ec_8974_0242ac1c0002row7_col4\" class=\"data row7 col4\" >21.861470</td>\n",
              "                        <td id=\"T_40e52fc8_4e0f_11ec_8974_0242ac1c0002row7_col5\" class=\"data row7 col5\" >237.480580</td>\n",
              "                        <td id=\"T_40e52fc8_4e0f_11ec_8974_0242ac1c0002row7_col6\" class=\"data row7 col6\" >222.896995</td>\n",
              "                        <td id=\"T_40e52fc8_4e0f_11ec_8974_0242ac1c0002row7_col7\" class=\"data row7 col7\" >4343.421737</td>\n",
              "                        <td id=\"T_40e52fc8_4e0f_11ec_8974_0242ac1c0002row7_col8\" class=\"data row7 col8\" >4392.022408</td>\n",
              "                        <td id=\"T_40e52fc8_4e0f_11ec_8974_0242ac1c0002row7_col9\" class=\"data row7 col9\" >4545.041459</td>\n",
              "                        <td id=\"T_40e52fc8_4e0f_11ec_8974_0242ac1c0002row7_col10\" class=\"data row7 col10\" >435.936921</td>\n",
              "                        <td id=\"T_40e52fc8_4e0f_11ec_8974_0242ac1c0002row7_col11\" class=\"data row7 col11\" >4860.047088</td>\n",
              "            </tr>\n",
              "    </tbody></table>"
            ],
            "text/plain": [
              "<pandas.io.formats.style.Styler at 0x7efdc0d8c750>"
            ]
          },
          "metadata": {},
          "execution_count": 41
        }
      ]
    },
    {
      "cell_type": "markdown",
      "metadata": {
        "id": "_p_EhmH_lW2B"
      },
      "source": [
        "## Task 1.2\n",
        "\n",
        "○\tDescribe all relevant variables and associated data types (slide). \n",
        "\n",
        "○\tAnalyze the basic metrics (mean, median, etc) in the Dataset (explain) & their importance for the global objective.\n",
        "\n",
        "○\tConduct a Non-Graphical Univariate Analysis by computing dispersion parameters for each quantitative variable and providing useful interpretation. \n",
        "\n",
        "○\tConduct a Graphical Univariate Analysis by identifying the most suitable plotting options for each variable and interpreting your findings.\n",
        "\n",
        "○\tBivariate Analysis – explore the relationship between each application & the total DL+UL data using appropriate methods and interpret your findings. \n",
        "\n",
        "○\tVariable transformations – segment the users into the top five decile classes based on the total duration for all sessions and compute the total data (DL+UL) per decile class. \n",
        "\n",
        "○\tCorrelation Analysis – compute a correlation matrix for the following variables and interpret your findings: Social Media data, Google data, Email data, Youtube data, Netflix data, Gaming data, Other data \n",
        "\n",
        "○\tDimensionality Reduction – perform a principal component analysis to reduce the dimensions of your data and provide a useful interpretation of the results (Provide your interpretation in four (4) bullet points-maximum). \n"
      ]
    },
    {
      "cell_type": "code",
      "metadata": {
        "scrolled": false,
        "colab": {
          "base_uri": "https://localhost:8080/"
        },
        "id": "NBDakAwjlW2B",
        "outputId": "bdaf1cc2-b4b1-41d5-cf2d-c78e2fb51db8"
      },
      "source": [
        "aggregates.dtypes"
      ],
      "execution_count": 42,
      "outputs": [
        {
          "output_type": "execute_result",
          "data": {
            "text/plain": [
              "tot number of session            float64\n",
              "tot sessions duration (hrs)      float64\n",
              "social media data usage (MBs)    float64\n",
              "google data usage (MBs)          float64\n",
              "Email data usage (MBs)           float64\n",
              "youtube data usage (MBs)         float64\n",
              "netflix data usage (MBs)         float64\n",
              "gaming apps data usage (MBs)     float64\n",
              "other apps data usage (MBs)      float64\n",
              "tot downloaded data (MBs)        float64\n",
              "tot uploaded data (MBs)          float64\n",
              "tot data usage (MBs)             float64\n",
              "dtype: object"
            ]
          },
          "metadata": {},
          "execution_count": 42
        }
      ]
    },
    {
      "cell_type": "code",
      "metadata": {
        "id": "iukPR0FolW2C"
      },
      "source": [
        "ss = aggregates.describe().loc[[\"mean\", \"min\", \"50%\", \"75%\", \"max\"]].T"
      ],
      "execution_count": 43,
      "outputs": []
    },
    {
      "cell_type": "code",
      "metadata": {
        "scrolled": false,
        "colab": {
          "base_uri": "https://localhost:8080/",
          "height": 426
        },
        "id": "mAkCwclHlW2D",
        "outputId": "e70199a2-ac71-4a55-dd34-1a6ef637ae13"
      },
      "source": [
        "ss.style.set_precision(2).set_properties(**{\"width\": \"100px\", \"color\": \"blue\"})"
      ],
      "execution_count": 44,
      "outputs": [
        {
          "output_type": "execute_result",
          "data": {
            "text/html": [
              "<style  type=\"text/css\" >\n",
              "#T_41023fbe_4e0f_11ec_8974_0242ac1c0002row0_col0,#T_41023fbe_4e0f_11ec_8974_0242ac1c0002row0_col1,#T_41023fbe_4e0f_11ec_8974_0242ac1c0002row0_col2,#T_41023fbe_4e0f_11ec_8974_0242ac1c0002row0_col3,#T_41023fbe_4e0f_11ec_8974_0242ac1c0002row0_col4,#T_41023fbe_4e0f_11ec_8974_0242ac1c0002row1_col0,#T_41023fbe_4e0f_11ec_8974_0242ac1c0002row1_col1,#T_41023fbe_4e0f_11ec_8974_0242ac1c0002row1_col2,#T_41023fbe_4e0f_11ec_8974_0242ac1c0002row1_col3,#T_41023fbe_4e0f_11ec_8974_0242ac1c0002row1_col4,#T_41023fbe_4e0f_11ec_8974_0242ac1c0002row2_col0,#T_41023fbe_4e0f_11ec_8974_0242ac1c0002row2_col1,#T_41023fbe_4e0f_11ec_8974_0242ac1c0002row2_col2,#T_41023fbe_4e0f_11ec_8974_0242ac1c0002row2_col3,#T_41023fbe_4e0f_11ec_8974_0242ac1c0002row2_col4,#T_41023fbe_4e0f_11ec_8974_0242ac1c0002row3_col0,#T_41023fbe_4e0f_11ec_8974_0242ac1c0002row3_col1,#T_41023fbe_4e0f_11ec_8974_0242ac1c0002row3_col2,#T_41023fbe_4e0f_11ec_8974_0242ac1c0002row3_col3,#T_41023fbe_4e0f_11ec_8974_0242ac1c0002row3_col4,#T_41023fbe_4e0f_11ec_8974_0242ac1c0002row4_col0,#T_41023fbe_4e0f_11ec_8974_0242ac1c0002row4_col1,#T_41023fbe_4e0f_11ec_8974_0242ac1c0002row4_col2,#T_41023fbe_4e0f_11ec_8974_0242ac1c0002row4_col3,#T_41023fbe_4e0f_11ec_8974_0242ac1c0002row4_col4,#T_41023fbe_4e0f_11ec_8974_0242ac1c0002row5_col0,#T_41023fbe_4e0f_11ec_8974_0242ac1c0002row5_col1,#T_41023fbe_4e0f_11ec_8974_0242ac1c0002row5_col2,#T_41023fbe_4e0f_11ec_8974_0242ac1c0002row5_col3,#T_41023fbe_4e0f_11ec_8974_0242ac1c0002row5_col4,#T_41023fbe_4e0f_11ec_8974_0242ac1c0002row6_col0,#T_41023fbe_4e0f_11ec_8974_0242ac1c0002row6_col1,#T_41023fbe_4e0f_11ec_8974_0242ac1c0002row6_col2,#T_41023fbe_4e0f_11ec_8974_0242ac1c0002row6_col3,#T_41023fbe_4e0f_11ec_8974_0242ac1c0002row6_col4,#T_41023fbe_4e0f_11ec_8974_0242ac1c0002row7_col0,#T_41023fbe_4e0f_11ec_8974_0242ac1c0002row7_col1,#T_41023fbe_4e0f_11ec_8974_0242ac1c0002row7_col2,#T_41023fbe_4e0f_11ec_8974_0242ac1c0002row7_col3,#T_41023fbe_4e0f_11ec_8974_0242ac1c0002row7_col4,#T_41023fbe_4e0f_11ec_8974_0242ac1c0002row8_col0,#T_41023fbe_4e0f_11ec_8974_0242ac1c0002row8_col1,#T_41023fbe_4e0f_11ec_8974_0242ac1c0002row8_col2,#T_41023fbe_4e0f_11ec_8974_0242ac1c0002row8_col3,#T_41023fbe_4e0f_11ec_8974_0242ac1c0002row8_col4,#T_41023fbe_4e0f_11ec_8974_0242ac1c0002row9_col0,#T_41023fbe_4e0f_11ec_8974_0242ac1c0002row9_col1,#T_41023fbe_4e0f_11ec_8974_0242ac1c0002row9_col2,#T_41023fbe_4e0f_11ec_8974_0242ac1c0002row9_col3,#T_41023fbe_4e0f_11ec_8974_0242ac1c0002row9_col4,#T_41023fbe_4e0f_11ec_8974_0242ac1c0002row10_col0,#T_41023fbe_4e0f_11ec_8974_0242ac1c0002row10_col1,#T_41023fbe_4e0f_11ec_8974_0242ac1c0002row10_col2,#T_41023fbe_4e0f_11ec_8974_0242ac1c0002row10_col3,#T_41023fbe_4e0f_11ec_8974_0242ac1c0002row10_col4,#T_41023fbe_4e0f_11ec_8974_0242ac1c0002row11_col0,#T_41023fbe_4e0f_11ec_8974_0242ac1c0002row11_col1,#T_41023fbe_4e0f_11ec_8974_0242ac1c0002row11_col2,#T_41023fbe_4e0f_11ec_8974_0242ac1c0002row11_col3,#T_41023fbe_4e0f_11ec_8974_0242ac1c0002row11_col4{\n",
              "            width:  100px;\n",
              "            color:  blue;\n",
              "        }</style><table id=\"T_41023fbe_4e0f_11ec_8974_0242ac1c0002\" class=\"dataframe\"><thead>    <tr>        <th class=\"blank level0\" ></th>        <th class=\"col_heading level0 col0\" >mean</th>        <th class=\"col_heading level0 col1\" >min</th>        <th class=\"col_heading level0 col2\" >50%</th>        <th class=\"col_heading level0 col3\" >75%</th>        <th class=\"col_heading level0 col4\" >max</th>    </tr></thead><tbody>\n",
              "                <tr>\n",
              "                        <th id=\"T_41023fbe_4e0f_11ec_8974_0242ac1c0002level0_row0\" class=\"row_heading level0 row0\" >tot number of session</th>\n",
              "                        <td id=\"T_41023fbe_4e0f_11ec_8974_0242ac1c0002row0_col0\" class=\"data row0 col0\" >1.38</td>\n",
              "                        <td id=\"T_41023fbe_4e0f_11ec_8974_0242ac1c0002row0_col1\" class=\"data row0 col1\" >1.00</td>\n",
              "                        <td id=\"T_41023fbe_4e0f_11ec_8974_0242ac1c0002row0_col2\" class=\"data row0 col2\" >1.00</td>\n",
              "                        <td id=\"T_41023fbe_4e0f_11ec_8974_0242ac1c0002row0_col3\" class=\"data row0 col3\" >2.00</td>\n",
              "                        <td id=\"T_41023fbe_4e0f_11ec_8974_0242ac1c0002row0_col4\" class=\"data row0 col4\" >11.00</td>\n",
              "            </tr>\n",
              "            <tr>\n",
              "                        <th id=\"T_41023fbe_4e0f_11ec_8974_0242ac1c0002level0_row1\" class=\"row_heading level0 row1\" >tot sessions duration (hrs)</th>\n",
              "                        <td id=\"T_41023fbe_4e0f_11ec_8974_0242ac1c0002row1_col0\" class=\"data row1 col0\" >38.95</td>\n",
              "                        <td id=\"T_41023fbe_4e0f_11ec_8974_0242ac1c0002row1_col1\" class=\"data row1 col1\" >1.98</td>\n",
              "                        <td id=\"T_41023fbe_4e0f_11ec_8974_0242ac1c0002row1_col2\" class=\"data row1 col2\" >28.46</td>\n",
              "                        <td id=\"T_41023fbe_4e0f_11ec_8974_0242ac1c0002row1_col3\" class=\"data row1 col3\" >48.00</td>\n",
              "                        <td id=\"T_41023fbe_4e0f_11ec_8974_0242ac1c0002row1_col4\" class=\"data row1 col4\" >359.50</td>\n",
              "            </tr>\n",
              "            <tr>\n",
              "                        <th id=\"T_41023fbe_4e0f_11ec_8974_0242ac1c0002level0_row2\" class=\"row_heading level0 row2\" >social media data usage (MBs)</th>\n",
              "                        <td id=\"T_41023fbe_4e0f_11ec_8974_0242ac1c0002row2_col0\" class=\"data row2 col0\" >2.41</td>\n",
              "                        <td id=\"T_41023fbe_4e0f_11ec_8974_0242ac1c0002row2_col1\" class=\"data row2 col1\" >0.00</td>\n",
              "                        <td id=\"T_41023fbe_4e0f_11ec_8974_0242ac1c0002row2_col2\" class=\"data row2 col2\" >2.19</td>\n",
              "                        <td id=\"T_41023fbe_4e0f_11ec_8974_0242ac1c0002row2_col3\" class=\"data row2 col3\" >3.15</td>\n",
              "                        <td id=\"T_41023fbe_4e0f_11ec_8974_0242ac1c0002row2_col4\" class=\"data row2 col4\" >22.70</td>\n",
              "            </tr>\n",
              "            <tr>\n",
              "                        <th id=\"T_41023fbe_4e0f_11ec_8974_0242ac1c0002level0_row3\" class=\"row_heading level0 row3\" >google data usage (MBs)</th>\n",
              "                        <td id=\"T_41023fbe_4e0f_11ec_8974_0242ac1c0002row3_col0\" class=\"data row3 col0\" >10.27</td>\n",
              "                        <td id=\"T_41023fbe_4e0f_11ec_8974_0242ac1c0002row3_col1\" class=\"data row3 col1\" >0.04</td>\n",
              "                        <td id=\"T_41023fbe_4e0f_11ec_8974_0242ac1c0002row3_col2\" class=\"data row3 col2\" >9.12</td>\n",
              "                        <td id=\"T_41023fbe_4e0f_11ec_8974_0242ac1c0002row3_col3\" class=\"data row3 col3\" >12.57</td>\n",
              "                        <td id=\"T_41023fbe_4e0f_11ec_8974_0242ac1c0002row3_col4\" class=\"data row3 col4\" >83.57</td>\n",
              "            </tr>\n",
              "            <tr>\n",
              "                        <th id=\"T_41023fbe_4e0f_11ec_8974_0242ac1c0002level0_row4\" class=\"row_heading level0 row4\" >Email data usage (MBs)</th>\n",
              "                        <td id=\"T_41023fbe_4e0f_11ec_8974_0242ac1c0002row4_col0\" class=\"data row4 col0\" >2.97</td>\n",
              "                        <td id=\"T_41023fbe_4e0f_11ec_8974_0242ac1c0002row4_col1\" class=\"data row4 col1\" >0.02</td>\n",
              "                        <td id=\"T_41023fbe_4e0f_11ec_8974_0242ac1c0002row4_col2\" class=\"data row4 col2\" >2.66</td>\n",
              "                        <td id=\"T_41023fbe_4e0f_11ec_8974_0242ac1c0002row4_col3\" class=\"data row4 col3\" >3.66</td>\n",
              "                        <td id=\"T_41023fbe_4e0f_11ec_8974_0242ac1c0002row4_col4\" class=\"data row4 col4\" >21.86</td>\n",
              "            </tr>\n",
              "            <tr>\n",
              "                        <th id=\"T_41023fbe_4e0f_11ec_8974_0242ac1c0002level0_row5\" class=\"row_heading level0 row5\" >youtube data usage (MBs)</th>\n",
              "                        <td id=\"T_41023fbe_4e0f_11ec_8974_0242ac1c0002row5_col0\" class=\"data row5 col0\" >29.80</td>\n",
              "                        <td id=\"T_41023fbe_4e0f_11ec_8974_0242ac1c0002row5_col1\" class=\"data row5 col1\" >0.08</td>\n",
              "                        <td id=\"T_41023fbe_4e0f_11ec_8974_0242ac1c0002row5_col2\" class=\"data row5 col2\" >25.51</td>\n",
              "                        <td id=\"T_41023fbe_4e0f_11ec_8974_0242ac1c0002row5_col3\" class=\"data row5 col3\" >36.05</td>\n",
              "                        <td id=\"T_41023fbe_4e0f_11ec_8974_0242ac1c0002row5_col4\" class=\"data row5 col4\" >237.48</td>\n",
              "            </tr>\n",
              "            <tr>\n",
              "                        <th id=\"T_41023fbe_4e0f_11ec_8974_0242ac1c0002level0_row6\" class=\"row_heading level0 row6\" >netflix data usage (MBs)</th>\n",
              "                        <td id=\"T_41023fbe_4e0f_11ec_8974_0242ac1c0002row6_col0\" class=\"data row6 col0\" >29.78</td>\n",
              "                        <td id=\"T_41023fbe_4e0f_11ec_8974_0242ac1c0002row6_col1\" class=\"data row6 col1\" >0.18</td>\n",
              "                        <td id=\"T_41023fbe_4e0f_11ec_8974_0242ac1c0002row6_col2\" class=\"data row6 col2\" >25.43</td>\n",
              "                        <td id=\"T_41023fbe_4e0f_11ec_8974_0242ac1c0002row6_col3\" class=\"data row6 col3\" >36.09</td>\n",
              "                        <td id=\"T_41023fbe_4e0f_11ec_8974_0242ac1c0002row6_col4\" class=\"data row6 col4\" >222.90</td>\n",
              "            </tr>\n",
              "            <tr>\n",
              "                        <th id=\"T_41023fbe_4e0f_11ec_8974_0242ac1c0002level0_row7\" class=\"row_heading level0 row7\" >gaming apps data usage (MBs)</th>\n",
              "                        <td id=\"T_41023fbe_4e0f_11ec_8974_0242ac1c0002row7_col0\" class=\"data row7 col0\" >566.28</td>\n",
              "                        <td id=\"T_41023fbe_4e0f_11ec_8974_0242ac1c0002row7_col1\" class=\"data row7 col1\" >0.29</td>\n",
              "                        <td id=\"T_41023fbe_4e0f_11ec_8974_0242ac1c0002row7_col2\" class=\"data row7 col2\" >515.97</td>\n",
              "                        <td id=\"T_41023fbe_4e0f_11ec_8974_0242ac1c0002row7_col3\" class=\"data row7 col3\" >739.50</td>\n",
              "                        <td id=\"T_41023fbe_4e0f_11ec_8974_0242ac1c0002row7_col4\" class=\"data row7 col4\" >4343.42</td>\n",
              "            </tr>\n",
              "            <tr>\n",
              "                        <th id=\"T_41023fbe_4e0f_11ec_8974_0242ac1c0002level0_row8\" class=\"row_heading level0 row8\" >other apps data usage (MBs)</th>\n",
              "                        <td id=\"T_41023fbe_4e0f_11ec_8974_0242ac1c0002row8_col0\" class=\"data row8 col0\" >565.16</td>\n",
              "                        <td id=\"T_41023fbe_4e0f_11ec_8974_0242ac1c0002row8_col1\" class=\"data row8 col1\" >0.14</td>\n",
              "                        <td id=\"T_41023fbe_4e0f_11ec_8974_0242ac1c0002row8_col2\" class=\"data row8 col2\" >513.62</td>\n",
              "                        <td id=\"T_41023fbe_4e0f_11ec_8974_0242ac1c0002row8_col3\" class=\"data row8 col3\" >737.66</td>\n",
              "                        <td id=\"T_41023fbe_4e0f_11ec_8974_0242ac1c0002row8_col4\" class=\"data row8 col4\" >4392.02</td>\n",
              "            </tr>\n",
              "            <tr>\n",
              "                        <th id=\"T_41023fbe_4e0f_11ec_8974_0242ac1c0002level0_row9\" class=\"row_heading level0 row9\" >tot downloaded data (MBs)</th>\n",
              "                        <td id=\"T_41023fbe_4e0f_11ec_8974_0242ac1c0002row9_col0\" class=\"data row9 col0\" >598.27</td>\n",
              "                        <td id=\"T_41023fbe_4e0f_11ec_8974_0242ac1c0002row9_col1\" class=\"data row9 col1\" >8.42</td>\n",
              "                        <td id=\"T_41023fbe_4e0f_11ec_8974_0242ac1c0002row9_col2\" class=\"data row9 col2\" >542.77</td>\n",
              "                        <td id=\"T_41023fbe_4e0f_11ec_8974_0242ac1c0002row9_col3\" class=\"data row9 col3\" >767.98</td>\n",
              "                        <td id=\"T_41023fbe_4e0f_11ec_8974_0242ac1c0002row9_col4\" class=\"data row9 col4\" >4545.04</td>\n",
              "            </tr>\n",
              "            <tr>\n",
              "                        <th id=\"T_41023fbe_4e0f_11ec_8974_0242ac1c0002level0_row10\" class=\"row_heading level0 row10\" >tot uploaded data (MBs)</th>\n",
              "                        <td id=\"T_41023fbe_4e0f_11ec_8974_0242ac1c0002row10_col0\" class=\"data row10 col0\" >54.11</td>\n",
              "                        <td id=\"T_41023fbe_4e0f_11ec_8974_0242ac1c0002row10_col1\" class=\"data row10 col1\" >2.73</td>\n",
              "                        <td id=\"T_41023fbe_4e0f_11ec_8974_0242ac1c0002row10_col2\" class=\"data row10 col2\" >44.58</td>\n",
              "                        <td id=\"T_41023fbe_4e0f_11ec_8974_0242ac1c0002row10_col3\" class=\"data row10 col3\" >62.30</td>\n",
              "                        <td id=\"T_41023fbe_4e0f_11ec_8974_0242ac1c0002row10_col4\" class=\"data row10 col4\" >435.94</td>\n",
              "            </tr>\n",
              "            <tr>\n",
              "                        <th id=\"T_41023fbe_4e0f_11ec_8974_0242ac1c0002level0_row11\" class=\"row_heading level0 row11\" >tot data usage (MBs)</th>\n",
              "                        <td id=\"T_41023fbe_4e0f_11ec_8974_0242ac1c0002row11_col0\" class=\"data row11 col0\" >652.38</td>\n",
              "                        <td id=\"T_41023fbe_4e0f_11ec_8974_0242ac1c0002row11_col1\" class=\"data row11 col1\" >31.71</td>\n",
              "                        <td id=\"T_41023fbe_4e0f_11ec_8974_0242ac1c0002row11_col2\" class=\"data row11 col2\" >587.85</td>\n",
              "                        <td id=\"T_41023fbe_4e0f_11ec_8974_0242ac1c0002row11_col3\" class=\"data row11 col3\" >815.84</td>\n",
              "                        <td id=\"T_41023fbe_4e0f_11ec_8974_0242ac1c0002row11_col4\" class=\"data row11 col4\" >4860.05</td>\n",
              "            </tr>\n",
              "    </tbody></table>"
            ],
            "text/plain": [
              "<pandas.io.formats.style.Styler at 0x7efdc0d93a90>"
            ]
          },
          "metadata": {},
          "execution_count": 44
        }
      ]
    },
    {
      "cell_type": "code",
      "metadata": {
        "id": "YRarEkv9lW2E"
      },
      "source": [
        "# aggregates.iloc[:,:1].boxplot(figsize= (20,10), whis= (0,100))"
      ],
      "execution_count": 45,
      "outputs": []
    },
    {
      "cell_type": "code",
      "metadata": {
        "id": "a8HOuLFKlW2F"
      },
      "source": [
        "# aggregates.iloc[:,1:2].boxplot(figsize= (20,10), whis= (0,100))"
      ],
      "execution_count": 46,
      "outputs": []
    },
    {
      "cell_type": "code",
      "metadata": {
        "id": "o_lgSMXPlW2G"
      },
      "source": [
        "# aggregates.iloc[:,2:7].boxplot(figsize= (20,10), whis= (0,100))"
      ],
      "execution_count": 47,
      "outputs": []
    },
    {
      "cell_type": "code",
      "metadata": {
        "id": "bz8Qct2TlW2G"
      },
      "source": [
        "# aggregates.iloc[:,7:12].boxplot(figsize= (20,10), whis= (0,100))"
      ],
      "execution_count": 48,
      "outputs": []
    },
    {
      "cell_type": "code",
      "metadata": {
        "id": "nmDdMhtflW2G"
      },
      "source": [
        "sessions_and_data_used_sorted = \\\n",
        "(aggregates[[\"tot sessions duration (hrs)\", \"tot data usage (MBs)\"]]\n",
        " .sort_values([\"tot sessions duration (hrs)\"], ascending= False)\n",
        ")"
      ],
      "execution_count": 49,
      "outputs": []
    },
    {
      "cell_type": "code",
      "metadata": {
        "id": "YGgmBPONlW2H"
      },
      "source": [
        "sessions_binned = pd.qcut(sessions_and_data_used_sorted.iloc[:,0], 10, labels=np.arange(10))\n",
        "sessions_binned.name = \"sessions_bin_class\""
      ],
      "execution_count": 50,
      "outputs": []
    },
    {
      "cell_type": "code",
      "metadata": {
        "id": "nldB1LfAlW2H"
      },
      "source": [
        "tot_sessions_and_data_used_binned = (sessions_and_data_used_sorted.join(sessions_binned)\n",
        "                                     .groupby(\"sessions_bin_class\").aggregate(\"mean\")\n",
        "                                    )"
      ],
      "execution_count": 51,
      "outputs": []
    },
    {
      "cell_type": "code",
      "metadata": {
        "colab": {
          "base_uri": "https://localhost:8080/",
          "height": 394
        },
        "id": "b8gP9KUplW2I",
        "outputId": "4eea736c-fb08-4eab-b4ad-f2844230c94a"
      },
      "source": [
        "tot_sessions_and_data_used_binned"
      ],
      "execution_count": 52,
      "outputs": [
        {
          "output_type": "execute_result",
          "data": {
            "text/html": [
              "<div>\n",
              "<style scoped>\n",
              "    .dataframe tbody tr th:only-of-type {\n",
              "        vertical-align: middle;\n",
              "    }\n",
              "\n",
              "    .dataframe tbody tr th {\n",
              "        vertical-align: top;\n",
              "    }\n",
              "\n",
              "    .dataframe thead th {\n",
              "        text-align: right;\n",
              "    }\n",
              "</style>\n",
              "<table border=\"1\" class=\"dataframe\">\n",
              "  <thead>\n",
              "    <tr style=\"text-align: right;\">\n",
              "      <th></th>\n",
              "      <th>tot sessions duration (hrs)</th>\n",
              "      <th>tot data usage (MBs)</th>\n",
              "    </tr>\n",
              "    <tr>\n",
              "      <th>sessions_bin_class</th>\n",
              "      <th></th>\n",
              "      <th></th>\n",
              "    </tr>\n",
              "  </thead>\n",
              "  <tbody>\n",
              "    <tr>\n",
              "      <th>0</th>\n",
              "      <td>5.567984</td>\n",
              "      <td>485.476552</td>\n",
              "    </tr>\n",
              "    <tr>\n",
              "      <th>1</th>\n",
              "      <td>11.143625</td>\n",
              "      <td>544.368834</td>\n",
              "    </tr>\n",
              "    <tr>\n",
              "      <th>2</th>\n",
              "      <td>19.699618</td>\n",
              "      <td>581.556603</td>\n",
              "    </tr>\n",
              "    <tr>\n",
              "      <th>3</th>\n",
              "      <td>23.990098</td>\n",
              "      <td>476.309916</td>\n",
              "    </tr>\n",
              "    <tr>\n",
              "      <th>4</th>\n",
              "      <td>26.147770</td>\n",
              "      <td>531.532518</td>\n",
              "    </tr>\n",
              "    <tr>\n",
              "      <th>5</th>\n",
              "      <td>32.491201</td>\n",
              "      <td>573.819973</td>\n",
              "    </tr>\n",
              "    <tr>\n",
              "      <th>6</th>\n",
              "      <td>40.890934</td>\n",
              "      <td>548.189196</td>\n",
              "    </tr>\n",
              "    <tr>\n",
              "      <th>7</th>\n",
              "      <td>48.434390</td>\n",
              "      <td>694.320787</td>\n",
              "    </tr>\n",
              "    <tr>\n",
              "      <th>8</th>\n",
              "      <td>64.085545</td>\n",
              "      <td>827.252899</td>\n",
              "    </tr>\n",
              "    <tr>\n",
              "      <th>9</th>\n",
              "      <td>117.345103</td>\n",
              "      <td>1268.616709</td>\n",
              "    </tr>\n",
              "  </tbody>\n",
              "</table>\n",
              "</div>"
            ],
            "text/plain": [
              "                    tot sessions duration (hrs)  tot data usage (MBs)\n",
              "sessions_bin_class                                                   \n",
              "0                                      5.567984            485.476552\n",
              "1                                     11.143625            544.368834\n",
              "2                                     19.699618            581.556603\n",
              "3                                     23.990098            476.309916\n",
              "4                                     26.147770            531.532518\n",
              "5                                     32.491201            573.819973\n",
              "6                                     40.890934            548.189196\n",
              "7                                     48.434390            694.320787\n",
              "8                                     64.085545            827.252899\n",
              "9                                    117.345103           1268.616709"
            ]
          },
          "metadata": {},
          "execution_count": 52
        }
      ]
    },
    {
      "cell_type": "code",
      "metadata": {
        "colab": {
          "base_uri": "https://localhost:8080/",
          "height": 355
        },
        "id": "Mmf9qhAzlW2S",
        "outputId": "c81549ba-32be-4119-b7a4-bf11a4e36133"
      },
      "source": [
        "aggregates.describe()"
      ],
      "execution_count": 53,
      "outputs": [
        {
          "output_type": "execute_result",
          "data": {
            "text/html": [
              "<div>\n",
              "<style scoped>\n",
              "    .dataframe tbody tr th:only-of-type {\n",
              "        vertical-align: middle;\n",
              "    }\n",
              "\n",
              "    .dataframe tbody tr th {\n",
              "        vertical-align: top;\n",
              "    }\n",
              "\n",
              "    .dataframe thead th {\n",
              "        text-align: right;\n",
              "    }\n",
              "</style>\n",
              "<table border=\"1\" class=\"dataframe\">\n",
              "  <thead>\n",
              "    <tr style=\"text-align: right;\">\n",
              "      <th></th>\n",
              "      <th>tot number of session</th>\n",
              "      <th>tot sessions duration (hrs)</th>\n",
              "      <th>social media data usage (MBs)</th>\n",
              "      <th>google data usage (MBs)</th>\n",
              "      <th>Email data usage (MBs)</th>\n",
              "      <th>youtube data usage (MBs)</th>\n",
              "      <th>netflix data usage (MBs)</th>\n",
              "      <th>gaming apps data usage (MBs)</th>\n",
              "      <th>other apps data usage (MBs)</th>\n",
              "      <th>tot downloaded data (MBs)</th>\n",
              "      <th>tot uploaded data (MBs)</th>\n",
              "      <th>tot data usage (MBs)</th>\n",
              "    </tr>\n",
              "  </thead>\n",
              "  <tbody>\n",
              "    <tr>\n",
              "      <th>count</th>\n",
              "      <td>106554.000000</td>\n",
              "      <td>106554.000000</td>\n",
              "      <td>106554.000000</td>\n",
              "      <td>106554.000000</td>\n",
              "      <td>106554.000000</td>\n",
              "      <td>106554.000000</td>\n",
              "      <td>106554.000000</td>\n",
              "      <td>106554.000000</td>\n",
              "      <td>106554.000000</td>\n",
              "      <td>106554.000000</td>\n",
              "      <td>106554.000000</td>\n",
              "      <td>106554.000000</td>\n",
              "    </tr>\n",
              "    <tr>\n",
              "      <th>mean</th>\n",
              "      <td>1.379986</td>\n",
              "      <td>38.945798</td>\n",
              "      <td>2.406328</td>\n",
              "      <td>10.273692</td>\n",
              "      <td>2.972841</td>\n",
              "      <td>29.795385</td>\n",
              "      <td>29.777472</td>\n",
              "      <td>566.283479</td>\n",
              "      <td>565.158929</td>\n",
              "      <td>598.270156</td>\n",
              "      <td>54.113350</td>\n",
              "      <td>652.383505</td>\n",
              "    </tr>\n",
              "    <tr>\n",
              "      <th>std</th>\n",
              "      <td>0.751298</td>\n",
              "      <td>34.344976</td>\n",
              "      <td>1.744367</td>\n",
              "      <td>6.838355</td>\n",
              "      <td>2.016566</td>\n",
              "      <td>19.260624</td>\n",
              "      <td>19.266514</td>\n",
              "      <td>409.946436</td>\n",
              "      <td>410.941550</td>\n",
              "      <td>423.254635</td>\n",
              "      <td>31.994931</td>\n",
              "      <td>446.221514</td>\n",
              "    </tr>\n",
              "    <tr>\n",
              "      <th>min</th>\n",
              "      <td>1.000000</td>\n",
              "      <td>1.983889</td>\n",
              "      <td>0.001491</td>\n",
              "      <td>0.038462</td>\n",
              "      <td>0.017334</td>\n",
              "      <td>0.075248</td>\n",
              "      <td>0.176019</td>\n",
              "      <td>0.292166</td>\n",
              "      <td>0.142140</td>\n",
              "      <td>8.418161</td>\n",
              "      <td>2.734081</td>\n",
              "      <td>31.708726</td>\n",
              "    </tr>\n",
              "    <tr>\n",
              "      <th>25%</th>\n",
              "      <td>1.000000</td>\n",
              "      <td>19.710625</td>\n",
              "      <td>1.152503</td>\n",
              "      <td>5.656567</td>\n",
              "      <td>1.593564</td>\n",
              "      <td>17.742988</td>\n",
              "      <td>17.674101</td>\n",
              "      <td>274.037992</td>\n",
              "      <td>271.572208</td>\n",
              "      <td>299.494924</td>\n",
              "      <td>34.676584</td>\n",
              "      <td>341.003925</td>\n",
              "    </tr>\n",
              "    <tr>\n",
              "      <th>50%</th>\n",
              "      <td>1.000000</td>\n",
              "      <td>28.456111</td>\n",
              "      <td>2.191891</td>\n",
              "      <td>9.124181</td>\n",
              "      <td>2.664310</td>\n",
              "      <td>25.511245</td>\n",
              "      <td>25.433387</td>\n",
              "      <td>515.971701</td>\n",
              "      <td>513.621295</td>\n",
              "      <td>542.765436</td>\n",
              "      <td>44.576648</td>\n",
              "      <td>587.853882</td>\n",
              "    </tr>\n",
              "    <tr>\n",
              "      <th>75%</th>\n",
              "      <td>2.000000</td>\n",
              "      <td>47.999722</td>\n",
              "      <td>3.146709</td>\n",
              "      <td>12.565546</td>\n",
              "      <td>3.659199</td>\n",
              "      <td>36.047137</td>\n",
              "      <td>36.091989</td>\n",
              "      <td>739.504440</td>\n",
              "      <td>737.657516</td>\n",
              "      <td>767.978338</td>\n",
              "      <td>62.295820</td>\n",
              "      <td>815.835433</td>\n",
              "    </tr>\n",
              "    <tr>\n",
              "      <th>max</th>\n",
              "      <td>11.000000</td>\n",
              "      <td>359.504444</td>\n",
              "      <td>22.698244</td>\n",
              "      <td>83.574781</td>\n",
              "      <td>21.861470</td>\n",
              "      <td>237.480580</td>\n",
              "      <td>222.896995</td>\n",
              "      <td>4343.421737</td>\n",
              "      <td>4392.022408</td>\n",
              "      <td>4545.041459</td>\n",
              "      <td>435.936921</td>\n",
              "      <td>4860.047088</td>\n",
              "    </tr>\n",
              "  </tbody>\n",
              "</table>\n",
              "</div>"
            ],
            "text/plain": [
              "       tot number of session  ...  tot data usage (MBs)\n",
              "count          106554.000000  ...         106554.000000\n",
              "mean                1.379986  ...            652.383505\n",
              "std                 0.751298  ...            446.221514\n",
              "min                 1.000000  ...             31.708726\n",
              "25%                 1.000000  ...            341.003925\n",
              "50%                 1.000000  ...            587.853882\n",
              "75%                 2.000000  ...            815.835433\n",
              "max                11.000000  ...           4860.047088\n",
              "\n",
              "[8 rows x 12 columns]"
            ]
          },
          "metadata": {},
          "execution_count": 53
        }
      ]
    },
    {
      "cell_type": "code",
      "metadata": {
        "colab": {
          "base_uri": "https://localhost:8080/"
        },
        "id": "h8mFIOs4lW2S",
        "outputId": "3825735b-6cc2-4650-8350-48c8956fd5b9"
      },
      "source": [
        "sessions_and_data_used_sorted.duplicated([\"tot sessions duration (hrs)\"]).sum()"
      ],
      "execution_count": 54,
      "outputs": [
        {
          "output_type": "execute_result",
          "data": {
            "text/plain": [
              "29318"
            ]
          },
          "metadata": {},
          "execution_count": 54
        }
      ]
    },
    {
      "cell_type": "code",
      "metadata": {
        "colab": {
          "base_uri": "https://localhost:8080/",
          "height": 282
        },
        "id": "LerO8I6elW2T",
        "outputId": "0e8f6a5c-919b-446f-ec51-42a6f676c2f6"
      },
      "source": [
        "aggregates[[\"gaming apps data usage (MBs)\"]].boxplot()"
      ],
      "execution_count": 55,
      "outputs": [
        {
          "output_type": "execute_result",
          "data": {
            "text/plain": [
              "<matplotlib.axes._subplots.AxesSubplot at 0x7efdc0aa70d0>"
            ]
          },
          "metadata": {},
          "execution_count": 55
        },
        {
          "output_type": "display_data",
          "data": {
            "image/png": "[encoded data removed]",
            "text/plain": [
              "<Figure size 432x288 with 1 Axes>"
            ]
          },
          "metadata": {
            "needs_background": "light"
          }
        }
      ]
    },
    {
      "cell_type": "code",
      "metadata": {
        "colab": {
          "base_uri": "https://localhost:8080/"
        },
        "id": "kCIOOwmSlW2T",
        "outputId": "38050f9a-b5b0-4757-e618-b84d852d9cef"
      },
      "source": [
        "(aggregates[\"tot sessions duration (hrs)\"] > 360).sum()"
      ],
      "execution_count": 56,
      "outputs": [
        {
          "output_type": "execute_result",
          "data": {
            "text/plain": [
              "0"
            ]
          },
          "metadata": {},
          "execution_count": 56
        }
      ]
    },
    {
      "cell_type": "code",
      "metadata": {
        "colab": {
          "base_uri": "https://localhost:8080/"
        },
        "id": "r-NAwJNHlW2U",
        "outputId": "f35467ae-6c6b-4e60-ef62-f75dc5be3374"
      },
      "source": [
        "12 * 30"
      ],
      "execution_count": 57,
      "outputs": [
        {
          "output_type": "execute_result",
          "data": {
            "text/plain": [
              "360"
            ]
          },
          "metadata": {},
          "execution_count": 57
        }
      ]
    },
    {
      "cell_type": "code",
      "metadata": {
        "colab": {
          "base_uri": "https://localhost:8080/"
        },
        "id": "uNQXGXYulW2U",
        "outputId": "1eb8eb4c-abaf-4d55-c52b-a8a8887cf0db"
      },
      "source": [
        "data[['Dur. (ms).1']].duplicated().sum()"
      ],
      "execution_count": 58,
      "outputs": [
        {
          "output_type": "execute_result",
          "data": {
            "text/plain": [
              "27129"
            ]
          },
          "metadata": {},
          "execution_count": 58
        }
      ]
    },
    {
      "cell_type": "code",
      "metadata": {
        "colab": {
          "base_uri": "https://localhost:8080/"
        },
        "id": "P1hVTT_llW2V",
        "outputId": "41048dc5-3312-43b9-ba36-fd7ee1deeeaa"
      },
      "source": [
        "data.columns"
      ],
      "execution_count": 59,
      "outputs": [
        {
          "output_type": "execute_result",
          "data": {
            "text/plain": [
              "Index(['Bearer Id', 'Start', 'Start ms', 'End', 'End ms', 'Dur. (ms)', 'IMSI',\n",
              "       'MSISDN/Number', 'IMEI', 'Last Location Name', 'Avg RTT DL (ms)',\n",
              "       'Avg RTT UL (ms)', 'Avg Bearer TP DL (kbps)', 'Avg Bearer TP UL (kbps)',\n",
              "       'TCP DL Retrans. Vol (Bytes)', 'TCP UL Retrans. Vol (Bytes)',\n",
              "       'DL TP < 50 Kbps (%)', '50 Kbps < DL TP < 250 Kbps (%)',\n",
              "       '250 Kbps < DL TP < 1 Mbps (%)', 'DL TP > 1 Mbps (%)',\n",
              "       'UL TP < 10 Kbps (%)', '10 Kbps < UL TP < 50 Kbps (%)',\n",
              "       '50 Kbps < UL TP < 300 Kbps (%)', 'UL TP > 300 Kbps (%)',\n",
              "       'HTTP DL (Bytes)', 'HTTP UL (Bytes)', 'Activity Duration DL (ms)',\n",
              "       'Activity Duration UL (ms)', 'Dur. (ms).1', 'Handset Manufacturer',\n",
              "       'Handset Type', 'Nb of sec with 125000B < Vol DL',\n",
              "       'Nb of sec with 1250B < Vol UL < 6250B',\n",
              "       'Nb of sec with 31250B < Vol DL < 125000B',\n",
              "       'Nb of sec with 37500B < Vol UL',\n",
              "       'Nb of sec with 6250B < Vol DL < 31250B',\n",
              "       'Nb of sec with 6250B < Vol UL < 37500B',\n",
              "       'Nb of sec with Vol DL < 6250B', 'Nb of sec with Vol UL < 1250B',\n",
              "       'Social Media DL (Bytes)', 'Social Media UL (Bytes)',\n",
              "       'Google DL (Bytes)', 'Google UL (Bytes)', 'Email DL (Bytes)',\n",
              "       'Email UL (Bytes)', 'Youtube DL (Bytes)', 'Youtube UL (Bytes)',\n",
              "       'Netflix DL (Bytes)', 'Netflix UL (Bytes)', 'Gaming DL (Bytes)',\n",
              "       'Gaming UL (Bytes)', 'Other DL (Bytes)', 'Other UL (Bytes)',\n",
              "       'Total UL (Bytes)', 'Total DL (Bytes)'],\n",
              "      dtype='object')"
            ]
          },
          "metadata": {},
          "execution_count": 59
        }
      ]
    },
    {
      "cell_type": "code",
      "metadata": {
        "colab": {
          "base_uri": "https://localhost:8080/",
          "height": 455
        },
        "id": "xVcFhJG7lW2V",
        "outputId": "c5162a14-d1df-40f2-fb9f-c9025675de15"
      },
      "source": [
        "aggregates[[\"tot sessions duration (hrs)\"]]"
      ],
      "execution_count": 60,
      "outputs": [
        {
          "output_type": "execute_result",
          "data": {
            "text/html": [
              "<div>\n",
              "<style scoped>\n",
              "    .dataframe tbody tr th:only-of-type {\n",
              "        vertical-align: middle;\n",
              "    }\n",
              "\n",
              "    .dataframe tbody tr th {\n",
              "        vertical-align: top;\n",
              "    }\n",
              "\n",
              "    .dataframe thead th {\n",
              "        text-align: right;\n",
              "    }\n",
              "</style>\n",
              "<table border=\"1\" class=\"dataframe\">\n",
              "  <thead>\n",
              "    <tr style=\"text-align: right;\">\n",
              "      <th></th>\n",
              "      <th>tot sessions duration (hrs)</th>\n",
              "    </tr>\n",
              "    <tr>\n",
              "      <th>MSISDN</th>\n",
              "      <th></th>\n",
              "    </tr>\n",
              "  </thead>\n",
              "  <tbody>\n",
              "    <tr>\n",
              "      <th>33669068942</th>\n",
              "      <td>169.666944</td>\n",
              "    </tr>\n",
              "    <tr>\n",
              "      <th>33665083783</th>\n",
              "      <td>240.018333</td>\n",
              "    </tr>\n",
              "    <tr>\n",
              "      <th>33650426463</th>\n",
              "      <td>214.266111</td>\n",
              "    </tr>\n",
              "    <tr>\n",
              "      <th>33666169635</th>\n",
              "      <td>166.000000</td>\n",
              "    </tr>\n",
              "    <tr>\n",
              "      <th>33646181976</th>\n",
              "      <td>347.178889</td>\n",
              "    </tr>\n",
              "    <tr>\n",
              "      <th>...</th>\n",
              "      <td>...</td>\n",
              "    </tr>\n",
              "    <tr>\n",
              "      <th>33660334768</th>\n",
              "      <td>42.762778</td>\n",
              "    </tr>\n",
              "    <tr>\n",
              "      <th>33761969553</th>\n",
              "      <td>35.785556</td>\n",
              "    </tr>\n",
              "    <tr>\n",
              "      <th>33634114229</th>\n",
              "      <td>44.094167</td>\n",
              "    </tr>\n",
              "    <tr>\n",
              "      <th>33687581368</th>\n",
              "      <td>23.736111</td>\n",
              "    </tr>\n",
              "    <tr>\n",
              "      <th>33760822085</th>\n",
              "      <td>47.336944</td>\n",
              "    </tr>\n",
              "  </tbody>\n",
              "</table>\n",
              "<p>106554 rows × 1 columns</p>\n",
              "</div>"
            ],
            "text/plain": [
              "             tot sessions duration (hrs)\n",
              "MSISDN                                  \n",
              "33669068942                   169.666944\n",
              "33665083783                   240.018333\n",
              "33650426463                   214.266111\n",
              "33666169635                   166.000000\n",
              "33646181976                   347.178889\n",
              "...                                  ...\n",
              "33660334768                    42.762778\n",
              "33761969553                    35.785556\n",
              "33634114229                    44.094167\n",
              "33687581368                    23.736111\n",
              "33760822085                    47.336944\n",
              "\n",
              "[106554 rows x 1 columns]"
            ]
          },
          "metadata": {},
          "execution_count": 60
        }
      ]
    },
    {
      "cell_type": "code",
      "metadata": {
        "colab": {
          "base_uri": "https://localhost:8080/"
        },
        "id": "0FF_NY2vlW2W",
        "outputId": "2175a487-195e-4ba0-ad95-a04d844b76cb"
      },
      "source": [
        "data.max()"
      ],
      "execution_count": 61,
      "outputs": [
        {
          "output_type": "execute_result",
          "data": {
            "text/plain": [
              "Bearer Id                                       1.31865e+19\n",
              "Start                                         4/9/2019 9:47\n",
              "Start ms                                                999\n",
              "End                                          4/30/2019 9:59\n",
              "End ms                                                  999\n",
              "Dur. (ms)                                       1.85934e+06\n",
              "IMSI                                            2.14074e+14\n",
              "MSISDN/Number                               882397108489451\n",
              "IMEI                                            9.90012e+13\n",
              "Avg RTT DL (ms)                                       96923\n",
              "Avg RTT UL (ms)                                        7120\n",
              "Avg Bearer TP DL (kbps)                              378160\n",
              "Avg Bearer TP UL (kbps)                               58613\n",
              "TCP DL Retrans. Vol (Bytes)                     4.29443e+09\n",
              "TCP UL Retrans. Vol (Bytes)                     2.90823e+09\n",
              "DL TP < 50 Kbps (%)                                     100\n",
              "50 Kbps < DL TP < 250 Kbps (%)                           93\n",
              "250 Kbps < DL TP < 1 Mbps (%)                           100\n",
              "DL TP > 1 Mbps (%)                                       94\n",
              "UL TP < 10 Kbps (%)                                     100\n",
              "10 Kbps < UL TP < 50 Kbps (%)                            98\n",
              "50 Kbps < UL TP < 300 Kbps (%)                          100\n",
              "UL TP > 300 Kbps (%)                                     96\n",
              "HTTP DL (Bytes)                                 7.25306e+10\n",
              "HTTP UL (Bytes)                                 1.49189e+09\n",
              "Activity Duration DL (ms)                       1.36536e+08\n",
              "Activity Duration UL (ms)                       1.44911e+08\n",
              "Dur. (ms).1                                     1.85934e+09\n",
              "Nb of sec with 125000B < Vol DL                       81476\n",
              "Nb of sec with 1250B < Vol UL < 6250B                 85412\n",
              "Nb of sec with 31250B < Vol DL < 125000B              58525\n",
              "Nb of sec with 37500B < Vol UL                        50553\n",
              "Nb of sec with 6250B < Vol DL < 31250B                66913\n",
              "Nb of sec with 6250B < Vol UL < 37500B                49565\n",
              "Nb of sec with Vol DL < 6250B                        604061\n",
              "Nb of sec with Vol UL < 1250B                        604122\n",
              "Social Media DL (Bytes)                         3.58606e+06\n",
              "Social Media UL (Bytes)                               65870\n",
              "Google DL (Bytes)                               1.14628e+07\n",
              "Google UL (Bytes)                               4.12136e+06\n",
              "Email DL (Bytes)                                3.58615e+06\n",
              "Email UL (Bytes)                                     936418\n",
              "Youtube DL (Bytes)                              2.32591e+07\n",
              "Youtube UL (Bytes)                               2.2012e+07\n",
              "Netflix DL (Bytes)                              2.32592e+07\n",
              "Netflix UL (Bytes)                               2.2012e+07\n",
              "Gaming DL (Bytes)                               8.43442e+08\n",
              "Gaming UL (Bytes)                               1.65588e+07\n",
              "Other DL (Bytes)                                8.43442e+08\n",
              "Other UL (Bytes)                                1.65588e+07\n",
              "Total UL (Bytes)                                7.83313e+07\n",
              "Total DL (Bytes)                                 9.0297e+08\n",
              "dtype: object"
            ]
          },
          "metadata": {},
          "execution_count": 61
        }
      ]
    },
    {
      "cell_type": "code",
      "metadata": {
        "colab": {
          "base_uri": "https://localhost:8080/"
        },
        "id": "lcefNnfSlW2W",
        "outputId": "7c296599-19ba-4c5d-d436-9af68569cbcb"
      },
      "source": [
        "81479/60/24"
      ],
      "execution_count": 62,
      "outputs": [
        {
          "output_type": "execute_result",
          "data": {
            "text/plain": [
              "56.58263888888889"
            ]
          },
          "metadata": {},
          "execution_count": 62
        }
      ]
    },
    {
      "cell_type": "code",
      "metadata": {
        "id": "f7O-x0TwlW2X"
      },
      "source": [
        ""
      ],
      "execution_count": 62,
      "outputs": []
    }
  ]
}