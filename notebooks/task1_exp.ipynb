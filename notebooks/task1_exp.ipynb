{
 "cells": [
  {
   "cell_type": "code",
   "execution_count": 2,
   "metadata": {},
   "outputs": [],
   "source": [
    "import numpy as np\n",
    "import pandas as pd\n",
    "import matplotlib.pyplot as plt\n",
    "import seaborn as sns\n",
    "import os"
   ]
  },
  {
   "cell_type": "code",
   "execution_count": 8,
   "metadata": {},
   "outputs": [],
   "source": [
    "path = os.path.dirname(os.getcwd()) + \"\\\\data\\\\\""
   ]
  },
  {
   "cell_type": "code",
   "execution_count": 10,
   "metadata": {},
   "outputs": [],
   "source": [
    "data = pd.read_csv(path + \"telco.csv\")"
   ]
  },
  {
   "cell_type": "code",
   "execution_count": 24,
   "metadata": {},
   "outputs": [],
   "source": [
    "desc = pd.read_excel(path + \"field_descriptions.xlsx\")"
   ]
  },
  {
   "cell_type": "code",
   "execution_count": 27,
   "metadata": {},
   "outputs": [
    {
     "data": {
      "text/plain": [
       "'Milliseconds offset of start time for the xDR (first frame timestamp)'"
      ]
     },
     "execution_count": 27,
     "metadata": {},
     "output_type": "execute_result"
    }
   ],
   "source": [
    "desc[\"Description\"][3]"
   ]
  },
  {
   "cell_type": "code",
   "execution_count": 22,
   "metadata": {
    "scrolled": false
   },
   "outputs": [
    {
     "name": "stdout",
     "output_type": "stream",
     "text": [
      "Bearer Id       ==> 15293\n",
      "Start           ==> 140004\n",
      "Start ms        ==> 149001\n",
      "End             ==> 143598\n",
      "End ms          ==> 149001\n",
      "Dur. (ms)       ==> 60476\n",
      "IMSI            ==> 42736\n",
      "MSISDN/Number   ==> 43145\n",
      "IMEI            ==> 42731\n",
      "Last Location Name ==> 104454\n",
      "Avg RTT DL (ms) ==> 147871\n",
      "Avg RTT UL (ms) ==> 149279\n",
      "Avg Bearer TP DL (kbps) ==> 108248\n",
      "Avg Bearer TP UL (kbps) ==> 135473\n",
      "TCP DL Retrans. Vol (Bytes) ==> 95602\n",
      "TCP UL Retrans. Vol (Bytes) ==> 114881\n",
      "DL TP < 50 Kbps (%) ==> 149901\n",
      "50 Kbps < DL TP < 250 Kbps (%) ==> 149917\n",
      "250 Kbps < DL TP < 1 Mbps (%) ==> 149928\n",
      "DL TP > 1 Mbps (%) ==> 149916\n",
      "UL TP < 10 Kbps (%) ==> 149903\n",
      "10 Kbps < UL TP < 50 Kbps (%) ==> 149916\n",
      "50 Kbps < UL TP < 300 Kbps (%) ==> 149933\n",
      "UL TP > 300 Kbps (%) ==> 149938\n",
      "HTTP DL (Bytes) ==> 86474\n",
      "HTTP UL (Bytes) ==> 90059\n",
      "Activity Duration DL (ms) ==> 47441\n",
      "Activity Duration UL (ms) ==> 43709\n",
      "Dur. (ms).1     ==> 27130\n",
      "Handset Manufacturer ==> 149831\n",
      "Handset Type    ==> 148605\n",
      "Nb of sec with 125000B < Vol DL ==> 143543\n",
      "Nb of sec with 1250B < Vol UL < 6250B ==> 146603\n",
      "Nb of sec with 31250B < Vol DL < 125000B ==> 144246\n",
      "Nb of sec with 37500B < Vol UL ==> 148897\n",
      "Nb of sec with 6250B < Vol DL < 31250B ==> 143829\n",
      "Nb of sec with 6250B < Vol UL < 37500B ==> 148291\n",
      "Nb of sec with Vol DL < 6250B ==> 127731\n",
      "Nb of sec with Vol UL < 1250B ==> 127025\n",
      "Social Media DL (Bytes) ==> 3145\n",
      "Social Media UL (Bytes) ==> 90923\n",
      "Google DL (Bytes) ==> 977\n",
      "Google UL (Bytes) ==> 2734\n",
      "Email DL (Bytes) ==> 3085\n",
      "Email UL (Bytes) ==> 11302\n",
      "Youtube DL (Bytes) ==> 454\n",
      "Youtube UL (Bytes) ==> 524\n",
      "Netflix DL (Bytes) ==> 483\n",
      "Netflix UL (Bytes) ==> 511\n",
      "Gaming DL (Bytes) ==> 18\n",
      "Gaming UL (Bytes) ==> 685\n",
      "Other DL (Bytes) ==> 15\n",
      "Other UL (Bytes) ==> 717\n",
      "Total UL (Bytes) ==> 273\n",
      "Total DL (Bytes) ==> 14\n"
     ]
    }
   ],
   "source": [
    "for i in data.columns:\n",
    "    val = data[i].shape[0] - data[i].nunique()\n",
    "    print(f\"{i:15s} ==> {val}\")"
   ]
  },
  {
   "cell_type": "code",
   "execution_count": 14,
   "metadata": {},
   "outputs": [
    {
     "name": "stdout",
     "output_type": "stream",
     "text": [
      "<class 'pandas.core.frame.DataFrame'>\n",
      "RangeIndex: 150001 entries, 0 to 150000\n",
      "Data columns (total 55 columns):\n",
      " #   Column                                    Non-Null Count   Dtype  \n",
      "---  ------                                    --------------   -----  \n",
      " 0   Bearer Id                                 149010 non-null  float64\n",
      " 1   Start                                     150000 non-null  object \n",
      " 2   Start ms                                  150000 non-null  float64\n",
      " 3   End                                       150000 non-null  object \n",
      " 4   End ms                                    150000 non-null  float64\n",
      " 5   Dur. (ms)                                 150000 non-null  float64\n",
      " 6   IMSI                                      149431 non-null  float64\n",
      " 7   MSISDN/Number                             148935 non-null  float64\n",
      " 8   IMEI                                      149429 non-null  float64\n",
      " 9   Last Location Name                        148848 non-null  object \n",
      " 10  Avg RTT DL (ms)                           122172 non-null  float64\n",
      " 11  Avg RTT UL (ms)                           122189 non-null  float64\n",
      " 12  Avg Bearer TP DL (kbps)                   150000 non-null  float64\n",
      " 13  Avg Bearer TP UL (kbps)                   150000 non-null  float64\n",
      " 14  TCP DL Retrans. Vol (Bytes)               61855 non-null   float64\n",
      " 15  TCP UL Retrans. Vol (Bytes)               53352 non-null   float64\n",
      " 16  DL TP < 50 Kbps (%)                       149247 non-null  float64\n",
      " 17  50 Kbps < DL TP < 250 Kbps (%)            149247 non-null  float64\n",
      " 18  250 Kbps < DL TP < 1 Mbps (%)             149247 non-null  float64\n",
      " 19  DL TP > 1 Mbps (%)                        149247 non-null  float64\n",
      " 20  UL TP < 10 Kbps (%)                       149209 non-null  float64\n",
      " 21  10 Kbps < UL TP < 50 Kbps (%)             149209 non-null  float64\n",
      " 22  50 Kbps < UL TP < 300 Kbps (%)            149209 non-null  float64\n",
      " 23  UL TP > 300 Kbps (%)                      149209 non-null  float64\n",
      " 24  HTTP DL (Bytes)                           68527 non-null   float64\n",
      " 25  HTTP UL (Bytes)                           68191 non-null   float64\n",
      " 26  Activity Duration DL (ms)                 150000 non-null  float64\n",
      " 27  Activity Duration UL (ms)                 150000 non-null  float64\n",
      " 28  Dur. (ms).1                               150000 non-null  float64\n",
      " 29  Handset Manufacturer                      149429 non-null  object \n",
      " 30  Handset Type                              149429 non-null  object \n",
      " 31  Nb of sec with 125000B < Vol DL           52463 non-null   float64\n",
      " 32  Nb of sec with 1250B < Vol UL < 6250B     57107 non-null   float64\n",
      " 33  Nb of sec with 31250B < Vol DL < 125000B  56415 non-null   float64\n",
      " 34  Nb of sec with 37500B < Vol UL            19747 non-null   float64\n",
      " 35  Nb of sec with 6250B < Vol DL < 31250B    61684 non-null   float64\n",
      " 36  Nb of sec with 6250B < Vol UL < 37500B    38158 non-null   float64\n",
      " 37  Nb of sec with Vol DL < 6250B             149246 non-null  float64\n",
      " 38  Nb of sec with Vol UL < 1250B             149208 non-null  float64\n",
      " 39  Social Media DL (Bytes)                   150001 non-null  float64\n",
      " 40  Social Media UL (Bytes)                   150001 non-null  float64\n",
      " 41  Google DL (Bytes)                         150001 non-null  float64\n",
      " 42  Google UL (Bytes)                         150001 non-null  float64\n",
      " 43  Email DL (Bytes)                          150001 non-null  float64\n",
      " 44  Email UL (Bytes)                          150001 non-null  float64\n",
      " 45  Youtube DL (Bytes)                        150001 non-null  float64\n",
      " 46  Youtube UL (Bytes)                        150001 non-null  float64\n",
      " 47  Netflix DL (Bytes)                        150001 non-null  float64\n",
      " 48  Netflix UL (Bytes)                        150001 non-null  float64\n",
      " 49  Gaming DL (Bytes)                         150001 non-null  float64\n",
      " 50  Gaming UL (Bytes)                         150001 non-null  float64\n",
      " 51  Other DL (Bytes)                          150001 non-null  float64\n",
      " 52  Other UL (Bytes)                          150001 non-null  float64\n",
      " 53  Total UL (Bytes)                          150000 non-null  float64\n",
      " 54  Total DL (Bytes)                          150000 non-null  float64\n",
      "dtypes: float64(50), object(5)\n",
      "memory usage: 62.9+ MB\n"
     ]
    }
   ],
   "source": [
    "data.info()"
   ]
  },
  {
   "cell_type": "code",
   "execution_count": null,
   "metadata": {},
   "outputs": [],
   "source": []
  }
 ],
 "metadata": {
  "kernelspec": {
   "display_name": "Python 3",
   "language": "python",
   "name": "python3"
  },
  "language_info": {
   "codemirror_mode": {
    "name": "ipython",
    "version": 3
   },
   "file_extension": ".py",
   "mimetype": "text/x-python",
   "name": "python",
   "nbconvert_exporter": "python",
   "pygments_lexer": "ipython3",
   "version": "3.8.5"
  },
  "latex_envs": {
   "LaTeX_envs_menu_present": true,
   "autoclose": false,
   "autocomplete": true,
   "bibliofile": "biblio.bib",
   "cite_by": "apalike",
   "current_citInitial": 1,
   "eqLabelWithNumbers": true,
   "eqNumInitial": 1,
   "hotkeys": {
    "equation": "Ctrl-E",
    "itemize": "Ctrl-I"
   },
   "labels_anchors": false,
   "latex_user_defs": false,
   "report_style_numbering": false,
   "user_envs_cfg": false
  },
  "toc": {
   "base_numbering": 1,
   "nav_menu": {},
   "number_sections": true,
   "sideBar": true,
   "skip_h1_title": false,
   "title_cell": "Table of Contents",
   "title_sidebar": "Contents",
   "toc_cell": false,
   "toc_position": {},
   "toc_section_display": true,
   "toc_window_display": false
  },
  "varInspector": {
   "cols": {
    "lenName": 16,
    "lenType": 16,
    "lenVar": 40
   },
   "kernels_config": {
    "python": {
     "delete_cmd_postfix": "",
     "delete_cmd_prefix": "del ",
     "library": "var_list.py",
     "varRefreshCmd": "print(var_dic_list())"
    },
    "r": {
     "delete_cmd_postfix": ") ",
     "delete_cmd_prefix": "rm(",
     "library": "var_list.r",
     "varRefreshCmd": "cat(var_dic_list()) "
    }
   },
   "types_to_exclude": [
    "module",
    "function",
    "builtin_function_or_method",
    "instance",
    "_Feature"
   ],
   "window_display": false
  }
 },
 "nbformat": 4,
 "nbformat_minor": 4
}
