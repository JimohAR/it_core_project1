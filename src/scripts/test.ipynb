{
 "cells": [
  {
   "cell_type": "markdown",
   "metadata": {
    "colab_type": "text",
    "id": "view-in-github"
   },
   "source": [
    "<a href=\"https://colab.research.google.com/github/JimohAR/it_core_project1/blob/main/notebooks/task1_exp.ipynb\" target=\"_parent\"><img src=\"https://colab.research.google.com/assets/colab-badge.svg\" alt=\"Open In Colab\"/></a>"
   ]
  },
  {
   "cell_type": "code",
   "execution_count": 43,
   "metadata": {
    "id": "LqI_40COlW1i"
   },
   "outputs": [],
   "source": [
    "import numpy as np\n",
    "import pandas as pd\n",
    "import matplotlib.pyplot as plt\n",
    "import seaborn as sns\n",
    "import os, sys"
   ]
  },
  {
   "cell_type": "code",
   "execution_count": 44,
   "metadata": {},
   "outputs": [],
   "source": [
    "path = os.path.abspath(os.getcwd() + \"/../../data\") + \"/\""
   ]
  },
  {
   "cell_type": "code",
   "execution_count": 45,
   "metadata": {
    "id": "bh3FZ0HdlW1q"
   },
   "outputs": [],
   "source": [
    "data = pd.read_csv(path + \"telco.csv\").iloc[:-1]"
   ]
  },
  {
   "cell_type": "code",
   "execution_count": 46,
   "metadata": {
    "id": "oy-7FiY8lW1r"
   },
   "outputs": [],
   "source": [
    "desc = pd.read_excel(path + \"field_descriptions.xlsx\").set_index(\"Fields\")"
   ]
  },
  {
   "cell_type": "code",
   "execution_count": 47,
   "metadata": {},
   "outputs": [],
   "source": [
    "from task1 import Task1"
   ]
  },
  {
   "cell_type": "markdown",
   "metadata": {
    "id": "suAyffu5lW1u"
   },
   "source": [
    "## User Overview Analysis\n",
    "* Start by identifying the top 10 handsets used by the customers.\n",
    "\n",
    "* Then, identify the top 3 handset manufacturers\n",
    "\n",
    "* Next, identify the top 5 handsets per top 3 handset manufacturer\n",
    "\n",
    "* Make a short interpretation and recommendation to marketing teams"
   ]
  },
  {
   "cell_type": "code",
   "execution_count": 48,
   "metadata": {},
   "outputs": [],
   "source": [
    "overview = Task1(data)"
   ]
  },
  {
   "cell_type": "code",
   "execution_count": 49,
   "metadata": {
    "tags": []
   },
   "outputs": [
    {
     "name": "stdout",
     "output_type": "stream",
     "text": [
      ">> top 10 handsets used by customers\n",
      "+------------------------------+-------+\n",
      "| Huawei B528S-23A             | 19752 |\n",
      "+------------------------------+-------+\n",
      "| Apple iPhone 6S (A1688)      |  9419 |\n",
      "+------------------------------+-------+\n",
      "| Apple iPhone 6 (A1586)       |  9023 |\n",
      "+------------------------------+-------+\n",
      "| Apple iPhone 7 (A1778)       |  6326 |\n",
      "+------------------------------+-------+\n",
      "| Apple iPhone Se (A1723)      |  5187 |\n",
      "+------------------------------+-------+\n",
      "| Apple iPhone 8 (A1905)       |  4993 |\n",
      "+------------------------------+-------+\n",
      "| Apple iPhone Xr (A2105)      |  4568 |\n",
      "+------------------------------+-------+\n",
      "| Samsung Galaxy S8 (Sm-G950F) |  4520 |\n",
      "+------------------------------+-------+\n",
      "| Apple iPhone X (A1901)       |  3813 |\n",
      "+------------------------------+-------+\n",
      "| Samsung Galaxy A5 Sm-A520F   |  3724 |\n",
      "+------------------------------+-------+\n",
      "\n",
      ">> top 3 handsets manufacturers patronized by customers\n",
      "+---------+-------+\n",
      "| Apple   | 59565 |\n",
      "+---------+-------+\n",
      "| Samsung | 40839 |\n",
      "+---------+-------+\n",
      "| Huawei  | 34423 |\n",
      "+---------+-------+\n",
      "\n",
      ">> top 5 handsets produced by the top 3 handset manufacturers patronized by customers\n",
      "+----------------------------------------------+-------+\n",
      "| ('Apple', 'Apple iPhone 6S (A1688)')         |  9419 |\n",
      "+----------------------------------------------+-------+\n",
      "| ('Apple', 'Apple iPhone 6 (A1586)')          |  9023 |\n",
      "+----------------------------------------------+-------+\n",
      "| ('Apple', 'Apple iPhone 7 (A1778)')          |  6326 |\n",
      "+----------------------------------------------+-------+\n",
      "| ('Apple', 'Apple iPhone Se (A1723)')         |  5187 |\n",
      "+----------------------------------------------+-------+\n",
      "| ('Apple', 'Apple iPhone 8 (A1905)')          |  4993 |\n",
      "+----------------------------------------------+-------+\n",
      "| ('Samsung', 'Samsung Galaxy S8 (Sm-G950F)')  |  4520 |\n",
      "+----------------------------------------------+-------+\n",
      "| ('Samsung', 'Samsung Galaxy A5 Sm-A520F')    |  3724 |\n",
      "+----------------------------------------------+-------+\n",
      "| ('Samsung', 'Samsung Galaxy J5 (Sm-J530)')   |  3696 |\n",
      "+----------------------------------------------+-------+\n",
      "| ('Samsung', 'Samsung Galaxy J3 (Sm-J330)')   |  3484 |\n",
      "+----------------------------------------------+-------+\n",
      "| ('Samsung', 'Samsung Galaxy S7 (Sm-G930X)')  |  3199 |\n",
      "+----------------------------------------------+-------+\n",
      "| ('Huawei', 'Huawei B528S-23A')               | 19752 |\n",
      "+----------------------------------------------+-------+\n",
      "| ('Huawei', 'Huawei E5180')                   |  2079 |\n",
      "+----------------------------------------------+-------+\n",
      "| ('Huawei', 'Huawei P20 Lite Huawei Nova 3E') |  2021 |\n",
      "+----------------------------------------------+-------+\n",
      "| ('Huawei', 'Huawei P20')                     |  1480 |\n",
      "+----------------------------------------------+-------+\n",
      "| ('Huawei', 'Huawei Y6 2018')                 |   997 |\n",
      "+----------------------------------------------+-------+\n"
     ]
    }
   ],
   "source": [
    "overview.user_overview_analysis()"
   ]
  },
  {
   "cell_type": "markdown",
   "metadata": {
    "id": "3HOjw60SlW12",
    "tags": []
   },
   "source": [
    "## Task 1.1\n",
    "Aggregate per user the following information in the column  \n",
    "- number of xDR sessions\n",
    "- session duration\n",
    "- the total download (DL) and upload (UL) data\n",
    "- the total data volume (in Bytes) during this session for each application"
   ]
  },
  {
   "cell_type": "code",
   "execution_count": 50,
   "metadata": {
    "id": "MujSbPd-lW13"
   },
   "outputs": [],
   "source": [
    "data[\"MSISDN/Number\"] = data[\"MSISDN/Number\"].fillna(-999).astype(\"int\")"
   ]
  },
  {
   "cell_type": "code",
   "execution_count": 51,
   "metadata": {
    "id": "dpleB-I3lW14"
   },
   "outputs": [],
   "source": [
    "no_of_xdr_sessions = data[\"MSISDN/Number\"].fillna(\"median\").value_counts()"
   ]
  },
  {
   "cell_type": "code",
   "execution_count": 52,
   "metadata": {
    "id": "XpO8BNHblW15"
   },
   "outputs": [],
   "source": [
    "total_sessions_duration = (data[[\"MSISDN/Number\", \"Dur. (ms)\"]]\n",
    "                           .fillna(\"median\").groupby([\"MSISDN/Number\"])[\"Dur. (ms)\"]\n",
    "                           .sum()\n",
    "                          )/(60*60)"
   ]
  },
  {
   "cell_type": "code",
   "execution_count": 53,
   "metadata": {
    "id": "iApin7_AlW16"
   },
   "outputs": [],
   "source": [
    "total_dl_ul_data = (data[[\"MSISDN/Number\", \"Total DL (Bytes)\", \"Total UL (Bytes)\"]]\n",
    "                    .fillna(\"median\").groupby([\"MSISDN/Number\"])[[\"Total DL (Bytes)\", \"Total UL (Bytes)\"]]\n",
    "                    .sum()\n",
    "                   )/(2**20)"
   ]
  },
  {
   "cell_type": "code",
   "execution_count": 54,
   "metadata": {
    "id": "5LgNT07ElW16"
   },
   "outputs": [],
   "source": [
    "total_dl_ul_data[\"total_data\"] = total_dl_ul_data.sum(1)"
   ]
  },
  {
   "cell_type": "code",
   "execution_count": 55,
   "metadata": {
    "id": "x9OriV2YlW16"
   },
   "outputs": [],
   "source": [
    "apps = ['Social Media DL (Bytes)', 'Social Media UL (Bytes)',\n",
    "       'Google DL (Bytes)', 'Google UL (Bytes)', 'Email DL (Bytes)',\n",
    "       'Email UL (Bytes)', 'Youtube DL (Bytes)', 'Youtube UL (Bytes)',\n",
    "       'Netflix DL (Bytes)', 'Netflix UL (Bytes)', 'Gaming DL (Bytes)',\n",
    "       'Gaming UL (Bytes)', 'Other DL (Bytes)', 'Other UL (Bytes)',]"
   ]
  },
  {
   "cell_type": "code",
   "execution_count": 56,
   "metadata": {
    "id": "pbTVEf9blW16"
   },
   "outputs": [],
   "source": [
    "total_dl_ul_data_per_app = (data[apps + [\"MSISDN/Number\"]].fillna(\"mean\")\n",
    "                            .groupby([\"MSISDN/Number\"])[apps].sum()\n",
    "                           )/(2**20)"
   ]
  },
  {
   "cell_type": "code",
   "execution_count": 57,
   "metadata": {
    "id": "675RZL9tlW18",
    "scrolled": true
   },
   "outputs": [],
   "source": [
    "total_data_per_app = pd.DataFrame()\n",
    "count = 0\n",
    "for i,j in zip(range(len(total_dl_ul_data_per_app.columns)), total_dl_ul_data_per_app.columns):\n",
    "    if count != 1:\n",
    "        total_data_per_app[j.split()[0]] = total_dl_ul_data_per_app.iloc[:, i] + total_dl_ul_data_per_app.iloc[:,i+1]\n",
    "        count = (count + 1) % 2\n",
    "    else: \n",
    "        count = (count + 1) % 2\n",
    "        continue"
   ]
  },
  {
   "cell_type": "code",
   "execution_count": 90,
   "metadata": {
    "id": "GAWPnp1wlW19"
   },
   "outputs": [],
   "source": [
    "aggregates = (no_of_xdr_sessions.to_frame()\n",
    "              .join(total_sessions_duration)\n",
    "              .join(total_data_per_app)\n",
    "              .join(total_dl_ul_data)\n",
    "             )"
   ]
  },
  {
   "cell_type": "code",
   "execution_count": 91,
   "metadata": {
    "id": "RD0y0q_2lW1-"
   },
   "outputs": [],
   "source": [
    "aggregates.index.name = \"MSISDN\"\n",
    "aggregates.columns = [\"tot number of session\", \"tot sessions duration (hrs)\", \"social media data usage (MBs)\",\n",
    "                      \"google data usage (MBs)\",\"Email data usage (MBs)\", \"youtube data usage (MBs)\", \n",
    "                      \"netflix data usage (MBs)\",  \"gaming apps data usage (MBs)\", \"other apps data usage (MBs)\", \n",
    "                      \"tot downloaded data (MBs)\", \"tot uploaded data (MBs)\", \"tot data usage (MBs)\",]\n",
    "aggregates = aggregates.drop(index = -999)"
   ]
  },
  {
   "cell_type": "code",
   "execution_count": 92,
   "metadata": {
    "colab": {
     "base_uri": "https://localhost:8080/",
     "height": 0
    },
    "id": "ctXDizN4lW1_",
    "outputId": "39d36f40-e497-4edd-fcd5-b0c30a85c955",
    "scrolled": true
   },
   "outputs": [
    {
     "data": {
      "text/html": [
       "<style type=\"text/css\">\n",
       "</style>\n",
       "<table id=\"T_b2c2a_\">\n",
       "  <thead>\n",
       "    <tr>\n",
       "      <th class=\"blank level0\" >&nbsp;</th>\n",
       "      <th class=\"col_heading level0 col0\" >tot number of session</th>\n",
       "      <th class=\"col_heading level0 col1\" >tot sessions duration (hrs)</th>\n",
       "      <th class=\"col_heading level0 col2\" >social media data usage (MBs)</th>\n",
       "      <th class=\"col_heading level0 col3\" >google data usage (MBs)</th>\n",
       "      <th class=\"col_heading level0 col4\" >Email data usage (MBs)</th>\n",
       "      <th class=\"col_heading level0 col5\" >youtube data usage (MBs)</th>\n",
       "      <th class=\"col_heading level0 col6\" >netflix data usage (MBs)</th>\n",
       "      <th class=\"col_heading level0 col7\" >gaming apps data usage (MBs)</th>\n",
       "      <th class=\"col_heading level0 col8\" >other apps data usage (MBs)</th>\n",
       "      <th class=\"col_heading level0 col9\" >tot downloaded data (MBs)</th>\n",
       "      <th class=\"col_heading level0 col10\" >tot uploaded data (MBs)</th>\n",
       "      <th class=\"col_heading level0 col11\" >tot data usage (MBs)</th>\n",
       "    </tr>\n",
       "  </thead>\n",
       "  <tbody>\n",
       "    <tr>\n",
       "      <th id=\"T_b2c2a_level0_row0\" class=\"row_heading level0 row0\" >count</th>\n",
       "      <td id=\"T_b2c2a_row0_col0\" class=\"data row0 col0\" >106856.000000</td>\n",
       "      <td id=\"T_b2c2a_row0_col1\" class=\"data row0 col1\" >106856.000000</td>\n",
       "      <td id=\"T_b2c2a_row0_col2\" class=\"data row0 col2\" >106856.000000</td>\n",
       "      <td id=\"T_b2c2a_row0_col3\" class=\"data row0 col3\" >106856.000000</td>\n",
       "      <td id=\"T_b2c2a_row0_col4\" class=\"data row0 col4\" >106856.000000</td>\n",
       "      <td id=\"T_b2c2a_row0_col5\" class=\"data row0 col5\" >106856.000000</td>\n",
       "      <td id=\"T_b2c2a_row0_col6\" class=\"data row0 col6\" >106856.000000</td>\n",
       "      <td id=\"T_b2c2a_row0_col7\" class=\"data row0 col7\" >106856.000000</td>\n",
       "      <td id=\"T_b2c2a_row0_col8\" class=\"data row0 col8\" >106856.000000</td>\n",
       "      <td id=\"T_b2c2a_row0_col9\" class=\"data row0 col9\" >106856.000000</td>\n",
       "      <td id=\"T_b2c2a_row0_col10\" class=\"data row0 col10\" >106856.000000</td>\n",
       "      <td id=\"T_b2c2a_row0_col11\" class=\"data row0 col11\" >106856.000000</td>\n",
       "    </tr>\n",
       "    <tr>\n",
       "      <th id=\"T_b2c2a_level0_row1\" class=\"row_heading level0 row1\" >mean</th>\n",
       "      <td id=\"T_b2c2a_row1_col0\" class=\"data row1 col0\" >1.393792</td>\n",
       "      <td id=\"T_b2c2a_row1_col1\" class=\"data row1 col1\" >40.601988</td>\n",
       "      <td id=\"T_b2c2a_row1_col2\" class=\"data row1 col2\" >2.429931</td>\n",
       "      <td id=\"T_b2c2a_row1_col3\" class=\"data row1 col3\" >10.378298</td>\n",
       "      <td id=\"T_b2c2a_row1_col4\" class=\"data row1 col4\" >3.002926</td>\n",
       "      <td id=\"T_b2c2a_row1_col5\" class=\"data row1 col5\" >30.096435</td>\n",
       "      <td id=\"T_b2c2a_row1_col6\" class=\"data row1 col6\" >30.077298</td>\n",
       "      <td id=\"T_b2c2a_row1_col7\" class=\"data row1 col7\" >571.984301</td>\n",
       "      <td id=\"T_b2c2a_row1_col8\" class=\"data row1 col8\" >570.782437</td>\n",
       "      <td id=\"T_b2c2a_row1_col9\" class=\"data row1 col9\" >604.298287</td>\n",
       "      <td id=\"T_b2c2a_row1_col10\" class=\"data row1 col10\" >54.654524</td>\n",
       "      <td id=\"T_b2c2a_row1_col11\" class=\"data row1 col11\" >658.952812</td>\n",
       "    </tr>\n",
       "    <tr>\n",
       "      <th id=\"T_b2c2a_level0_row2\" class=\"row_heading level0 row2\" >std</th>\n",
       "      <td id=\"T_b2c2a_row2_col0\" class=\"data row2 col0\" >0.806022</td>\n",
       "      <td id=\"T_b2c2a_row2_col1\" class=\"data row2 col1\" >51.766297</td>\n",
       "      <td id=\"T_b2c2a_row2_col2\" class=\"data row2 col2\" >1.819647</td>\n",
       "      <td id=\"T_b2c2a_row2_col3\" class=\"data row2 col3\" >7.195341</td>\n",
       "      <td id=\"T_b2c2a_row2_col4\" class=\"data row2 col4\" >2.119446</td>\n",
       "      <td id=\"T_b2c2a_row2_col5\" class=\"data row2 col5\" >20.308416</td>\n",
       "      <td id=\"T_b2c2a_row2_col6\" class=\"data row2 col6\" >20.303304</td>\n",
       "      <td id=\"T_b2c2a_row2_col7\" class=\"data row2 col7\" >428.343260</td>\n",
       "      <td id=\"T_b2c2a_row2_col8\" class=\"data row2 col8\" >428.125486</td>\n",
       "      <td id=\"T_b2c2a_row2_col9\" class=\"data row2 col9\" >443.034226</td>\n",
       "      <td id=\"T_b2c2a_row2_col10\" class=\"data row2 col10\" >34.005785</td>\n",
       "      <td id=\"T_b2c2a_row2_col11\" class=\"data row2 col11\" >468.307391</td>\n",
       "    </tr>\n",
       "    <tr>\n",
       "      <th id=\"T_b2c2a_level0_row3\" class=\"row_heading level0 row3\" >min</th>\n",
       "      <td id=\"T_b2c2a_row3_col0\" class=\"data row3 col0\" >1.000000</td>\n",
       "      <td id=\"T_b2c2a_row3_col1\" class=\"data row3 col1\" >1.983889</td>\n",
       "      <td id=\"T_b2c2a_row3_col2\" class=\"data row3 col2\" >0.001491</td>\n",
       "      <td id=\"T_b2c2a_row3_col3\" class=\"data row3 col3\" >0.038462</td>\n",
       "      <td id=\"T_b2c2a_row3_col4\" class=\"data row3 col4\" >0.017334</td>\n",
       "      <td id=\"T_b2c2a_row3_col5\" class=\"data row3 col5\" >0.075248</td>\n",
       "      <td id=\"T_b2c2a_row3_col6\" class=\"data row3 col6\" >0.176019</td>\n",
       "      <td id=\"T_b2c2a_row3_col7\" class=\"data row3 col7\" >0.292166</td>\n",
       "      <td id=\"T_b2c2a_row3_col8\" class=\"data row3 col8\" >0.142140</td>\n",
       "      <td id=\"T_b2c2a_row3_col9\" class=\"data row3 col9\" >8.418161</td>\n",
       "      <td id=\"T_b2c2a_row3_col10\" class=\"data row3 col10\" >2.734081</td>\n",
       "      <td id=\"T_b2c2a_row3_col11\" class=\"data row3 col11\" >31.708726</td>\n",
       "    </tr>\n",
       "    <tr>\n",
       "      <th id=\"T_b2c2a_level0_row4\" class=\"row_heading level0 row4\" >25%</th>\n",
       "      <td id=\"T_b2c2a_row4_col0\" class=\"data row4 col0\" >1.000000</td>\n",
       "      <td id=\"T_b2c2a_row4_col1\" class=\"data row4 col1\" >19.807778</td>\n",
       "      <td id=\"T_b2c2a_row4_col2\" class=\"data row4 col2\" >1.155168</td>\n",
       "      <td id=\"T_b2c2a_row4_col3\" class=\"data row4 col3\" >5.667339</td>\n",
       "      <td id=\"T_b2c2a_row4_col4\" class=\"data row4 col4\" >1.596910</td>\n",
       "      <td id=\"T_b2c2a_row4_col5\" class=\"data row4 col5\" >17.767991</td>\n",
       "      <td id=\"T_b2c2a_row4_col6\" class=\"data row4 col6\" >17.696355</td>\n",
       "      <td id=\"T_b2c2a_row4_col7\" class=\"data row4 col7\" >274.718392</td>\n",
       "      <td id=\"T_b2c2a_row4_col8\" class=\"data row4 col8\" >272.331153</td>\n",
       "      <td id=\"T_b2c2a_row4_col9\" class=\"data row4 col9\" >300.242485</td>\n",
       "      <td id=\"T_b2c2a_row4_col10\" class=\"data row4 col10\" >34.709430</td>\n",
       "      <td id=\"T_b2c2a_row4_col11\" class=\"data row4 col11\" >341.939838</td>\n",
       "    </tr>\n",
       "    <tr>\n",
       "      <th id=\"T_b2c2a_level0_row5\" class=\"row_heading level0 row5\" >50%</th>\n",
       "      <td id=\"T_b2c2a_row5_col0\" class=\"data row5 col0\" >1.000000</td>\n",
       "      <td id=\"T_b2c2a_row5_col1\" class=\"data row5 col1\" >28.538889</td>\n",
       "      <td id=\"T_b2c2a_row5_col2\" class=\"data row5 col2\" >2.197033</td>\n",
       "      <td id=\"T_b2c2a_row5_col3\" class=\"data row5 col3\" >9.142068</td>\n",
       "      <td id=\"T_b2c2a_row5_col4\" class=\"data row5 col4\" >2.670121</td>\n",
       "      <td id=\"T_b2c2a_row5_col5\" class=\"data row5 col5\" >25.558830</td>\n",
       "      <td id=\"T_b2c2a_row5_col6\" class=\"data row5 col6\" >25.481119</td>\n",
       "      <td id=\"T_b2c2a_row5_col7\" class=\"data row5 col7\" >517.224509</td>\n",
       "      <td id=\"T_b2c2a_row5_col8\" class=\"data row5 col8\" >514.824241</td>\n",
       "      <td id=\"T_b2c2a_row5_col9\" class=\"data row5 col9\" >543.945048</td>\n",
       "      <td id=\"T_b2c2a_row5_col10\" class=\"data row5 col10\" >44.626108</td>\n",
       "      <td id=\"T_b2c2a_row5_col11\" class=\"data row5 col11\" >589.297426</td>\n",
       "    </tr>\n",
       "    <tr>\n",
       "      <th id=\"T_b2c2a_level0_row6\" class=\"row_heading level0 row6\" >75%</th>\n",
       "      <td id=\"T_b2c2a_row6_col0\" class=\"data row6 col0\" >2.000000</td>\n",
       "      <td id=\"T_b2c2a_row6_col1\" class=\"data row6 col1\" >47.999722</td>\n",
       "      <td id=\"T_b2c2a_row6_col2\" class=\"data row6 col2\" >3.154286</td>\n",
       "      <td id=\"T_b2c2a_row6_col3\" class=\"data row6 col3\" >12.602558</td>\n",
       "      <td id=\"T_b2c2a_row6_col4\" class=\"data row6 col4\" >3.668973</td>\n",
       "      <td id=\"T_b2c2a_row6_col5\" class=\"data row6 col5\" >36.170936</td>\n",
       "      <td id=\"T_b2c2a_row6_col6\" class=\"data row6 col6\" >36.217649</td>\n",
       "      <td id=\"T_b2c2a_row6_col7\" class=\"data row6 col7\" >741.294992</td>\n",
       "      <td id=\"T_b2c2a_row6_col8\" class=\"data row6 col8\" >739.476710</td>\n",
       "      <td id=\"T_b2c2a_row6_col9\" class=\"data row6 col9\" >769.962778</td>\n",
       "      <td id=\"T_b2c2a_row6_col10\" class=\"data row6 col10\" >62.686913</td>\n",
       "      <td id=\"T_b2c2a_row6_col11\" class=\"data row6 col11\" >817.713878</td>\n",
       "    </tr>\n",
       "    <tr>\n",
       "      <th id=\"T_b2c2a_level0_row7\" class=\"row_heading level0 row7\" >max</th>\n",
       "      <td id=\"T_b2c2a_row7_col0\" class=\"data row7 col0\" >18.000000</td>\n",
       "      <td id=\"T_b2c2a_row7_col1\" class=\"data row7 col1\" >5153.820556</td>\n",
       "      <td id=\"T_b2c2a_row7_col2\" class=\"data row7 col2\" >41.365413</td>\n",
       "      <td id=\"T_b2c2a_row7_col3\" class=\"data row7 col3\" >145.141460</td>\n",
       "      <td id=\"T_b2c2a_row7_col4\" class=\"data row7 col4\" >40.453703</td>\n",
       "      <td id=\"T_b2c2a_row7_col5\" class=\"data row7 col5\" >431.975144</td>\n",
       "      <td id=\"T_b2c2a_row7_col6\" class=\"data row7 col6\" >381.011085</td>\n",
       "      <td id=\"T_b2c2a_row7_col7\" class=\"data row7 col7\" >7390.434488</td>\n",
       "      <td id=\"T_b2c2a_row7_col8\" class=\"data row7 col8\" >7789.495255</td>\n",
       "      <td id=\"T_b2c2a_row7_col9\" class=\"data row7 col9\" >7778.876775</td>\n",
       "      <td id=\"T_b2c2a_row7_col10\" class=\"data row7 col10\" >695.779209</td>\n",
       "      <td id=\"T_b2c2a_row7_col11\" class=\"data row7 col11\" >8436.419004</td>\n",
       "    </tr>\n",
       "  </tbody>\n",
       "</table>\n"
      ],
      "text/plain": [
       "<pandas.io.formats.style.Styler at 0x7fd1a88b88b0>"
      ]
     },
     "execution_count": 92,
     "metadata": {},
     "output_type": "execute_result"
    }
   ],
   "source": [
    "aggregates.describe().style#.set_properties(**{\"width\": \"100px\"})"
   ]
  },
  {
   "cell_type": "markdown",
   "metadata": {
    "id": "PbfrtZ6VlW1_"
   },
   "source": [
    "###### removing outliers : any user with session duration greater than (30*12) mins "
   ]
  },
  {
   "cell_type": "code",
   "execution_count": 93,
   "metadata": {
    "id": "PWYezgeclW2A"
   },
   "outputs": [],
   "source": [
    "outliers_index = \\\n",
    "aggregates[\"tot sessions duration (hrs)\"][aggregates[\"tot sessions duration (hrs)\"] > (30*12)].keys()\n",
    "aggregates.loc[outliers_index] = np.nan\n",
    "aggregates.dropna(inplace=True)"
   ]
  },
  {
   "cell_type": "code",
   "execution_count": 94,
   "metadata": {
    "colab": {
     "base_uri": "https://localhost:8080/",
     "height": 0
    },
    "id": "GjonDErGlW2A",
    "outputId": "df65c24e-76a5-47c1-e4df-e68d9c3f3b8e"
   },
   "outputs": [
    {
     "data": {
      "text/html": [
       "<style type=\"text/css\">\n",
       "</style>\n",
       "<table id=\"T_1c6af_\">\n",
       "  <thead>\n",
       "    <tr>\n",
       "      <th class=\"blank level0\" >&nbsp;</th>\n",
       "      <th class=\"col_heading level0 col0\" >tot number of session</th>\n",
       "      <th class=\"col_heading level0 col1\" >tot sessions duration (hrs)</th>\n",
       "      <th class=\"col_heading level0 col2\" >social media data usage (MBs)</th>\n",
       "      <th class=\"col_heading level0 col3\" >google data usage (MBs)</th>\n",
       "      <th class=\"col_heading level0 col4\" >Email data usage (MBs)</th>\n",
       "      <th class=\"col_heading level0 col5\" >youtube data usage (MBs)</th>\n",
       "      <th class=\"col_heading level0 col6\" >netflix data usage (MBs)</th>\n",
       "      <th class=\"col_heading level0 col7\" >gaming apps data usage (MBs)</th>\n",
       "      <th class=\"col_heading level0 col8\" >other apps data usage (MBs)</th>\n",
       "      <th class=\"col_heading level0 col9\" >tot downloaded data (MBs)</th>\n",
       "      <th class=\"col_heading level0 col10\" >tot uploaded data (MBs)</th>\n",
       "      <th class=\"col_heading level0 col11\" >tot data usage (MBs)</th>\n",
       "    </tr>\n",
       "  </thead>\n",
       "  <tbody>\n",
       "    <tr>\n",
       "      <th id=\"T_1c6af_level0_row0\" class=\"row_heading level0 row0\" >count</th>\n",
       "      <td id=\"T_1c6af_row0_col0\" class=\"data row0 col0\" >106554.000000</td>\n",
       "      <td id=\"T_1c6af_row0_col1\" class=\"data row0 col1\" >106554.000000</td>\n",
       "      <td id=\"T_1c6af_row0_col2\" class=\"data row0 col2\" >106554.000000</td>\n",
       "      <td id=\"T_1c6af_row0_col3\" class=\"data row0 col3\" >106554.000000</td>\n",
       "      <td id=\"T_1c6af_row0_col4\" class=\"data row0 col4\" >106554.000000</td>\n",
       "      <td id=\"T_1c6af_row0_col5\" class=\"data row0 col5\" >106554.000000</td>\n",
       "      <td id=\"T_1c6af_row0_col6\" class=\"data row0 col6\" >106554.000000</td>\n",
       "      <td id=\"T_1c6af_row0_col7\" class=\"data row0 col7\" >106554.000000</td>\n",
       "      <td id=\"T_1c6af_row0_col8\" class=\"data row0 col8\" >106554.000000</td>\n",
       "      <td id=\"T_1c6af_row0_col9\" class=\"data row0 col9\" >106554.000000</td>\n",
       "      <td id=\"T_1c6af_row0_col10\" class=\"data row0 col10\" >106554.000000</td>\n",
       "      <td id=\"T_1c6af_row0_col11\" class=\"data row0 col11\" >106554.000000</td>\n",
       "    </tr>\n",
       "    <tr>\n",
       "      <th id=\"T_1c6af_level0_row1\" class=\"row_heading level0 row1\" >mean</th>\n",
       "      <td id=\"T_1c6af_row1_col0\" class=\"data row1 col0\" >1.379986</td>\n",
       "      <td id=\"T_1c6af_row1_col1\" class=\"data row1 col1\" >38.945798</td>\n",
       "      <td id=\"T_1c6af_row1_col2\" class=\"data row1 col2\" >2.406328</td>\n",
       "      <td id=\"T_1c6af_row1_col3\" class=\"data row1 col3\" >10.273692</td>\n",
       "      <td id=\"T_1c6af_row1_col4\" class=\"data row1 col4\" >2.972841</td>\n",
       "      <td id=\"T_1c6af_row1_col5\" class=\"data row1 col5\" >29.795385</td>\n",
       "      <td id=\"T_1c6af_row1_col6\" class=\"data row1 col6\" >29.777472</td>\n",
       "      <td id=\"T_1c6af_row1_col7\" class=\"data row1 col7\" >566.283479</td>\n",
       "      <td id=\"T_1c6af_row1_col8\" class=\"data row1 col8\" >565.158929</td>\n",
       "      <td id=\"T_1c6af_row1_col9\" class=\"data row1 col9\" >598.270156</td>\n",
       "      <td id=\"T_1c6af_row1_col10\" class=\"data row1 col10\" >54.113350</td>\n",
       "      <td id=\"T_1c6af_row1_col11\" class=\"data row1 col11\" >652.383505</td>\n",
       "    </tr>\n",
       "    <tr>\n",
       "      <th id=\"T_1c6af_level0_row2\" class=\"row_heading level0 row2\" >std</th>\n",
       "      <td id=\"T_1c6af_row2_col0\" class=\"data row2 col0\" >0.751298</td>\n",
       "      <td id=\"T_1c6af_row2_col1\" class=\"data row2 col1\" >34.344976</td>\n",
       "      <td id=\"T_1c6af_row2_col2\" class=\"data row2 col2\" >1.744367</td>\n",
       "      <td id=\"T_1c6af_row2_col3\" class=\"data row2 col3\" >6.838355</td>\n",
       "      <td id=\"T_1c6af_row2_col4\" class=\"data row2 col4\" >2.016566</td>\n",
       "      <td id=\"T_1c6af_row2_col5\" class=\"data row2 col5\" >19.260624</td>\n",
       "      <td id=\"T_1c6af_row2_col6\" class=\"data row2 col6\" >19.266514</td>\n",
       "      <td id=\"T_1c6af_row2_col7\" class=\"data row2 col7\" >409.946436</td>\n",
       "      <td id=\"T_1c6af_row2_col8\" class=\"data row2 col8\" >410.941550</td>\n",
       "      <td id=\"T_1c6af_row2_col9\" class=\"data row2 col9\" >423.254635</td>\n",
       "      <td id=\"T_1c6af_row2_col10\" class=\"data row2 col10\" >31.994931</td>\n",
       "      <td id=\"T_1c6af_row2_col11\" class=\"data row2 col11\" >446.221514</td>\n",
       "    </tr>\n",
       "    <tr>\n",
       "      <th id=\"T_1c6af_level0_row3\" class=\"row_heading level0 row3\" >min</th>\n",
       "      <td id=\"T_1c6af_row3_col0\" class=\"data row3 col0\" >1.000000</td>\n",
       "      <td id=\"T_1c6af_row3_col1\" class=\"data row3 col1\" >1.983889</td>\n",
       "      <td id=\"T_1c6af_row3_col2\" class=\"data row3 col2\" >0.001491</td>\n",
       "      <td id=\"T_1c6af_row3_col3\" class=\"data row3 col3\" >0.038462</td>\n",
       "      <td id=\"T_1c6af_row3_col4\" class=\"data row3 col4\" >0.017334</td>\n",
       "      <td id=\"T_1c6af_row3_col5\" class=\"data row3 col5\" >0.075248</td>\n",
       "      <td id=\"T_1c6af_row3_col6\" class=\"data row3 col6\" >0.176019</td>\n",
       "      <td id=\"T_1c6af_row3_col7\" class=\"data row3 col7\" >0.292166</td>\n",
       "      <td id=\"T_1c6af_row3_col8\" class=\"data row3 col8\" >0.142140</td>\n",
       "      <td id=\"T_1c6af_row3_col9\" class=\"data row3 col9\" >8.418161</td>\n",
       "      <td id=\"T_1c6af_row3_col10\" class=\"data row3 col10\" >2.734081</td>\n",
       "      <td id=\"T_1c6af_row3_col11\" class=\"data row3 col11\" >31.708726</td>\n",
       "    </tr>\n",
       "    <tr>\n",
       "      <th id=\"T_1c6af_level0_row4\" class=\"row_heading level0 row4\" >25%</th>\n",
       "      <td id=\"T_1c6af_row4_col0\" class=\"data row4 col0\" >1.000000</td>\n",
       "      <td id=\"T_1c6af_row4_col1\" class=\"data row4 col1\" >19.710625</td>\n",
       "      <td id=\"T_1c6af_row4_col2\" class=\"data row4 col2\" >1.152503</td>\n",
       "      <td id=\"T_1c6af_row4_col3\" class=\"data row4 col3\" >5.656567</td>\n",
       "      <td id=\"T_1c6af_row4_col4\" class=\"data row4 col4\" >1.593564</td>\n",
       "      <td id=\"T_1c6af_row4_col5\" class=\"data row4 col5\" >17.742988</td>\n",
       "      <td id=\"T_1c6af_row4_col6\" class=\"data row4 col6\" >17.674101</td>\n",
       "      <td id=\"T_1c6af_row4_col7\" class=\"data row4 col7\" >274.037992</td>\n",
       "      <td id=\"T_1c6af_row4_col8\" class=\"data row4 col8\" >271.572208</td>\n",
       "      <td id=\"T_1c6af_row4_col9\" class=\"data row4 col9\" >299.494924</td>\n",
       "      <td id=\"T_1c6af_row4_col10\" class=\"data row4 col10\" >34.676584</td>\n",
       "      <td id=\"T_1c6af_row4_col11\" class=\"data row4 col11\" >341.003925</td>\n",
       "    </tr>\n",
       "    <tr>\n",
       "      <th id=\"T_1c6af_level0_row5\" class=\"row_heading level0 row5\" >50%</th>\n",
       "      <td id=\"T_1c6af_row5_col0\" class=\"data row5 col0\" >1.000000</td>\n",
       "      <td id=\"T_1c6af_row5_col1\" class=\"data row5 col1\" >28.456111</td>\n",
       "      <td id=\"T_1c6af_row5_col2\" class=\"data row5 col2\" >2.191891</td>\n",
       "      <td id=\"T_1c6af_row5_col3\" class=\"data row5 col3\" >9.124181</td>\n",
       "      <td id=\"T_1c6af_row5_col4\" class=\"data row5 col4\" >2.664310</td>\n",
       "      <td id=\"T_1c6af_row5_col5\" class=\"data row5 col5\" >25.511245</td>\n",
       "      <td id=\"T_1c6af_row5_col6\" class=\"data row5 col6\" >25.433387</td>\n",
       "      <td id=\"T_1c6af_row5_col7\" class=\"data row5 col7\" >515.971701</td>\n",
       "      <td id=\"T_1c6af_row5_col8\" class=\"data row5 col8\" >513.621295</td>\n",
       "      <td id=\"T_1c6af_row5_col9\" class=\"data row5 col9\" >542.765436</td>\n",
       "      <td id=\"T_1c6af_row5_col10\" class=\"data row5 col10\" >44.576648</td>\n",
       "      <td id=\"T_1c6af_row5_col11\" class=\"data row5 col11\" >587.853882</td>\n",
       "    </tr>\n",
       "    <tr>\n",
       "      <th id=\"T_1c6af_level0_row6\" class=\"row_heading level0 row6\" >75%</th>\n",
       "      <td id=\"T_1c6af_row6_col0\" class=\"data row6 col0\" >2.000000</td>\n",
       "      <td id=\"T_1c6af_row6_col1\" class=\"data row6 col1\" >47.999722</td>\n",
       "      <td id=\"T_1c6af_row6_col2\" class=\"data row6 col2\" >3.146709</td>\n",
       "      <td id=\"T_1c6af_row6_col3\" class=\"data row6 col3\" >12.565546</td>\n",
       "      <td id=\"T_1c6af_row6_col4\" class=\"data row6 col4\" >3.659199</td>\n",
       "      <td id=\"T_1c6af_row6_col5\" class=\"data row6 col5\" >36.047137</td>\n",
       "      <td id=\"T_1c6af_row6_col6\" class=\"data row6 col6\" >36.091989</td>\n",
       "      <td id=\"T_1c6af_row6_col7\" class=\"data row6 col7\" >739.504440</td>\n",
       "      <td id=\"T_1c6af_row6_col8\" class=\"data row6 col8\" >737.657516</td>\n",
       "      <td id=\"T_1c6af_row6_col9\" class=\"data row6 col9\" >767.978338</td>\n",
       "      <td id=\"T_1c6af_row6_col10\" class=\"data row6 col10\" >62.295820</td>\n",
       "      <td id=\"T_1c6af_row6_col11\" class=\"data row6 col11\" >815.835433</td>\n",
       "    </tr>\n",
       "    <tr>\n",
       "      <th id=\"T_1c6af_level0_row7\" class=\"row_heading level0 row7\" >max</th>\n",
       "      <td id=\"T_1c6af_row7_col0\" class=\"data row7 col0\" >11.000000</td>\n",
       "      <td id=\"T_1c6af_row7_col1\" class=\"data row7 col1\" >359.504444</td>\n",
       "      <td id=\"T_1c6af_row7_col2\" class=\"data row7 col2\" >22.698244</td>\n",
       "      <td id=\"T_1c6af_row7_col3\" class=\"data row7 col3\" >83.574781</td>\n",
       "      <td id=\"T_1c6af_row7_col4\" class=\"data row7 col4\" >21.861470</td>\n",
       "      <td id=\"T_1c6af_row7_col5\" class=\"data row7 col5\" >237.480580</td>\n",
       "      <td id=\"T_1c6af_row7_col6\" class=\"data row7 col6\" >222.896995</td>\n",
       "      <td id=\"T_1c6af_row7_col7\" class=\"data row7 col7\" >4343.421737</td>\n",
       "      <td id=\"T_1c6af_row7_col8\" class=\"data row7 col8\" >4392.022408</td>\n",
       "      <td id=\"T_1c6af_row7_col9\" class=\"data row7 col9\" >4545.041459</td>\n",
       "      <td id=\"T_1c6af_row7_col10\" class=\"data row7 col10\" >435.936921</td>\n",
       "      <td id=\"T_1c6af_row7_col11\" class=\"data row7 col11\" >4860.047088</td>\n",
       "    </tr>\n",
       "  </tbody>\n",
       "</table>\n"
      ],
      "text/plain": [
       "<pandas.io.formats.style.Styler at 0x7fd1e97f6640>"
      ]
     },
     "execution_count": 94,
     "metadata": {},
     "output_type": "execute_result"
    }
   ],
   "source": [
    "aggregates.describe().style"
   ]
  },
  {
   "cell_type": "markdown",
   "metadata": {
    "id": "_p_EhmH_lW2B"
   },
   "source": [
    "## Task 1.2\n",
    "\n",
    "○\tDescribe all relevant variables and associated data types (slide). \n",
    "\n",
    "○\tAnalyze the basic metrics (mean, median, etc) in the Dataset (explain) & their importance for the global objective.\n",
    "\n",
    "○\tConduct a Non-Graphical Univariate Analysis by computing dispersion parameters for each quantitative variable and providing useful interpretation. \n",
    "\n",
    "○\tConduct a Graphical Univariate Analysis by identifying the most suitable plotting options for each variable and interpreting your findings.\n",
    "\n",
    "○\tBivariate Analysis – explore the relationship between each application & the total DL+UL data using appropriate methods and interpret your findings. \n",
    "\n",
    "○\tVariable transformations – segment the users into the top five decile classes based on the total duration for all sessions and compute the total data (DL+UL) per decile class. \n",
    "\n",
    "○\tCorrelation Analysis – compute a correlation matrix for the following variables and interpret your findings: Social Media data, Google data, Email data, Youtube data, Netflix data, Gaming data, Other data \n",
    "\n",
    "○\tDimensionality Reduction – perform a principal component analysis to reduce the dimensions of your data and provide a useful interpretation of the results (Provide your interpretation in four (4) bullet points-maximum). \n"
   ]
  },
  {
   "cell_type": "code",
   "execution_count": 95,
   "metadata": {
    "colab": {
     "base_uri": "https://localhost:8080/"
    },
    "id": "NBDakAwjlW2B",
    "outputId": "bdaf1cc2-b4b1-41d5-cf2d-c78e2fb51db8"
   },
   "outputs": [
    {
     "data": {
      "text/plain": [
       "tot number of session            float64\n",
       "tot sessions duration (hrs)      float64\n",
       "social media data usage (MBs)    float64\n",
       "google data usage (MBs)          float64\n",
       "Email data usage (MBs)           float64\n",
       "youtube data usage (MBs)         float64\n",
       "netflix data usage (MBs)         float64\n",
       "gaming apps data usage (MBs)     float64\n",
       "other apps data usage (MBs)      float64\n",
       "tot downloaded data (MBs)        float64\n",
       "tot uploaded data (MBs)          float64\n",
       "tot data usage (MBs)             float64\n",
       "dtype: object"
      ]
     },
     "execution_count": 95,
     "metadata": {},
     "output_type": "execute_result"
    }
   ],
   "source": [
    "aggregates.dtypes"
   ]
  },
  {
   "cell_type": "code",
   "execution_count": 96,
   "metadata": {
    "id": "iukPR0FolW2C"
   },
   "outputs": [],
   "source": [
    "ss = aggregates.describe().loc[[\"mean\", \"min\", \"50%\", \"75%\", \"max\"]].T"
   ]
  },
  {
   "cell_type": "code",
   "execution_count": 97,
   "metadata": {
    "colab": {
     "base_uri": "https://localhost:8080/",
     "height": 426
    },
    "id": "mAkCwclHlW2D",
    "outputId": "e70199a2-ac71-4a55-dd34-1a6ef637ae13"
   },
   "outputs": [
    {
     "name": "stderr",
     "output_type": "stream",
     "text": [
      "/tmp/ipykernel_2576/4215655550.py:1: FutureWarning: this method is deprecated in favour of `Styler.format(precision=..)`\n",
      "  ss.style.set_precision(2).set_properties(**{\"width\": \"100px\", \"color\": \"blue\"})\n"
     ]
    },
    {
     "data": {
      "text/html": [
       "<style type=\"text/css\">\n",
       "#T_dc599_row0_col0, #T_dc599_row0_col1, #T_dc599_row0_col2, #T_dc599_row0_col3, #T_dc599_row0_col4, #T_dc599_row1_col0, #T_dc599_row1_col1, #T_dc599_row1_col2, #T_dc599_row1_col3, #T_dc599_row1_col4, #T_dc599_row2_col0, #T_dc599_row2_col1, #T_dc599_row2_col2, #T_dc599_row2_col3, #T_dc599_row2_col4, #T_dc599_row3_col0, #T_dc599_row3_col1, #T_dc599_row3_col2, #T_dc599_row3_col3, #T_dc599_row3_col4, #T_dc599_row4_col0, #T_dc599_row4_col1, #T_dc599_row4_col2, #T_dc599_row4_col3, #T_dc599_row4_col4, #T_dc599_row5_col0, #T_dc599_row5_col1, #T_dc599_row5_col2, #T_dc599_row5_col3, #T_dc599_row5_col4, #T_dc599_row6_col0, #T_dc599_row6_col1, #T_dc599_row6_col2, #T_dc599_row6_col3, #T_dc599_row6_col4, #T_dc599_row7_col0, #T_dc599_row7_col1, #T_dc599_row7_col2, #T_dc599_row7_col3, #T_dc599_row7_col4, #T_dc599_row8_col0, #T_dc599_row8_col1, #T_dc599_row8_col2, #T_dc599_row8_col3, #T_dc599_row8_col4, #T_dc599_row9_col0, #T_dc599_row9_col1, #T_dc599_row9_col2, #T_dc599_row9_col3, #T_dc599_row9_col4, #T_dc599_row10_col0, #T_dc599_row10_col1, #T_dc599_row10_col2, #T_dc599_row10_col3, #T_dc599_row10_col4, #T_dc599_row11_col0, #T_dc599_row11_col1, #T_dc599_row11_col2, #T_dc599_row11_col3, #T_dc599_row11_col4 {\n",
       "  width: 100px;\n",
       "  color: blue;\n",
       "}\n",
       "</style>\n",
       "<table id=\"T_dc599_\">\n",
       "  <thead>\n",
       "    <tr>\n",
       "      <th class=\"blank level0\" >&nbsp;</th>\n",
       "      <th class=\"col_heading level0 col0\" >mean</th>\n",
       "      <th class=\"col_heading level0 col1\" >min</th>\n",
       "      <th class=\"col_heading level0 col2\" >50%</th>\n",
       "      <th class=\"col_heading level0 col3\" >75%</th>\n",
       "      <th class=\"col_heading level0 col4\" >max</th>\n",
       "    </tr>\n",
       "  </thead>\n",
       "  <tbody>\n",
       "    <tr>\n",
       "      <th id=\"T_dc599_level0_row0\" class=\"row_heading level0 row0\" >tot number of session</th>\n",
       "      <td id=\"T_dc599_row0_col0\" class=\"data row0 col0\" >1.38</td>\n",
       "      <td id=\"T_dc599_row0_col1\" class=\"data row0 col1\" >1.00</td>\n",
       "      <td id=\"T_dc599_row0_col2\" class=\"data row0 col2\" >1.00</td>\n",
       "      <td id=\"T_dc599_row0_col3\" class=\"data row0 col3\" >2.00</td>\n",
       "      <td id=\"T_dc599_row0_col4\" class=\"data row0 col4\" >11.00</td>\n",
       "    </tr>\n",
       "    <tr>\n",
       "      <th id=\"T_dc599_level0_row1\" class=\"row_heading level0 row1\" >tot sessions duration (hrs)</th>\n",
       "      <td id=\"T_dc599_row1_col0\" class=\"data row1 col0\" >38.95</td>\n",
       "      <td id=\"T_dc599_row1_col1\" class=\"data row1 col1\" >1.98</td>\n",
       "      <td id=\"T_dc599_row1_col2\" class=\"data row1 col2\" >28.46</td>\n",
       "      <td id=\"T_dc599_row1_col3\" class=\"data row1 col3\" >48.00</td>\n",
       "      <td id=\"T_dc599_row1_col4\" class=\"data row1 col4\" >359.50</td>\n",
       "    </tr>\n",
       "    <tr>\n",
       "      <th id=\"T_dc599_level0_row2\" class=\"row_heading level0 row2\" >social media data usage (MBs)</th>\n",
       "      <td id=\"T_dc599_row2_col0\" class=\"data row2 col0\" >2.41</td>\n",
       "      <td id=\"T_dc599_row2_col1\" class=\"data row2 col1\" >0.00</td>\n",
       "      <td id=\"T_dc599_row2_col2\" class=\"data row2 col2\" >2.19</td>\n",
       "      <td id=\"T_dc599_row2_col3\" class=\"data row2 col3\" >3.15</td>\n",
       "      <td id=\"T_dc599_row2_col4\" class=\"data row2 col4\" >22.70</td>\n",
       "    </tr>\n",
       "    <tr>\n",
       "      <th id=\"T_dc599_level0_row3\" class=\"row_heading level0 row3\" >google data usage (MBs)</th>\n",
       "      <td id=\"T_dc599_row3_col0\" class=\"data row3 col0\" >10.27</td>\n",
       "      <td id=\"T_dc599_row3_col1\" class=\"data row3 col1\" >0.04</td>\n",
       "      <td id=\"T_dc599_row3_col2\" class=\"data row3 col2\" >9.12</td>\n",
       "      <td id=\"T_dc599_row3_col3\" class=\"data row3 col3\" >12.57</td>\n",
       "      <td id=\"T_dc599_row3_col4\" class=\"data row3 col4\" >83.57</td>\n",
       "    </tr>\n",
       "    <tr>\n",
       "      <th id=\"T_dc599_level0_row4\" class=\"row_heading level0 row4\" >Email data usage (MBs)</th>\n",
       "      <td id=\"T_dc599_row4_col0\" class=\"data row4 col0\" >2.97</td>\n",
       "      <td id=\"T_dc599_row4_col1\" class=\"data row4 col1\" >0.02</td>\n",
       "      <td id=\"T_dc599_row4_col2\" class=\"data row4 col2\" >2.66</td>\n",
       "      <td id=\"T_dc599_row4_col3\" class=\"data row4 col3\" >3.66</td>\n",
       "      <td id=\"T_dc599_row4_col4\" class=\"data row4 col4\" >21.86</td>\n",
       "    </tr>\n",
       "    <tr>\n",
       "      <th id=\"T_dc599_level0_row5\" class=\"row_heading level0 row5\" >youtube data usage (MBs)</th>\n",
       "      <td id=\"T_dc599_row5_col0\" class=\"data row5 col0\" >29.80</td>\n",
       "      <td id=\"T_dc599_row5_col1\" class=\"data row5 col1\" >0.08</td>\n",
       "      <td id=\"T_dc599_row5_col2\" class=\"data row5 col2\" >25.51</td>\n",
       "      <td id=\"T_dc599_row5_col3\" class=\"data row5 col3\" >36.05</td>\n",
       "      <td id=\"T_dc599_row5_col4\" class=\"data row5 col4\" >237.48</td>\n",
       "    </tr>\n",
       "    <tr>\n",
       "      <th id=\"T_dc599_level0_row6\" class=\"row_heading level0 row6\" >netflix data usage (MBs)</th>\n",
       "      <td id=\"T_dc599_row6_col0\" class=\"data row6 col0\" >29.78</td>\n",
       "      <td id=\"T_dc599_row6_col1\" class=\"data row6 col1\" >0.18</td>\n",
       "      <td id=\"T_dc599_row6_col2\" class=\"data row6 col2\" >25.43</td>\n",
       "      <td id=\"T_dc599_row6_col3\" class=\"data row6 col3\" >36.09</td>\n",
       "      <td id=\"T_dc599_row6_col4\" class=\"data row6 col4\" >222.90</td>\n",
       "    </tr>\n",
       "    <tr>\n",
       "      <th id=\"T_dc599_level0_row7\" class=\"row_heading level0 row7\" >gaming apps data usage (MBs)</th>\n",
       "      <td id=\"T_dc599_row7_col0\" class=\"data row7 col0\" >566.28</td>\n",
       "      <td id=\"T_dc599_row7_col1\" class=\"data row7 col1\" >0.29</td>\n",
       "      <td id=\"T_dc599_row7_col2\" class=\"data row7 col2\" >515.97</td>\n",
       "      <td id=\"T_dc599_row7_col3\" class=\"data row7 col3\" >739.50</td>\n",
       "      <td id=\"T_dc599_row7_col4\" class=\"data row7 col4\" >4343.42</td>\n",
       "    </tr>\n",
       "    <tr>\n",
       "      <th id=\"T_dc599_level0_row8\" class=\"row_heading level0 row8\" >other apps data usage (MBs)</th>\n",
       "      <td id=\"T_dc599_row8_col0\" class=\"data row8 col0\" >565.16</td>\n",
       "      <td id=\"T_dc599_row8_col1\" class=\"data row8 col1\" >0.14</td>\n",
       "      <td id=\"T_dc599_row8_col2\" class=\"data row8 col2\" >513.62</td>\n",
       "      <td id=\"T_dc599_row8_col3\" class=\"data row8 col3\" >737.66</td>\n",
       "      <td id=\"T_dc599_row8_col4\" class=\"data row8 col4\" >4392.02</td>\n",
       "    </tr>\n",
       "    <tr>\n",
       "      <th id=\"T_dc599_level0_row9\" class=\"row_heading level0 row9\" >tot downloaded data (MBs)</th>\n",
       "      <td id=\"T_dc599_row9_col0\" class=\"data row9 col0\" >598.27</td>\n",
       "      <td id=\"T_dc599_row9_col1\" class=\"data row9 col1\" >8.42</td>\n",
       "      <td id=\"T_dc599_row9_col2\" class=\"data row9 col2\" >542.77</td>\n",
       "      <td id=\"T_dc599_row9_col3\" class=\"data row9 col3\" >767.98</td>\n",
       "      <td id=\"T_dc599_row9_col4\" class=\"data row9 col4\" >4545.04</td>\n",
       "    </tr>\n",
       "    <tr>\n",
       "      <th id=\"T_dc599_level0_row10\" class=\"row_heading level0 row10\" >tot uploaded data (MBs)</th>\n",
       "      <td id=\"T_dc599_row10_col0\" class=\"data row10 col0\" >54.11</td>\n",
       "      <td id=\"T_dc599_row10_col1\" class=\"data row10 col1\" >2.73</td>\n",
       "      <td id=\"T_dc599_row10_col2\" class=\"data row10 col2\" >44.58</td>\n",
       "      <td id=\"T_dc599_row10_col3\" class=\"data row10 col3\" >62.30</td>\n",
       "      <td id=\"T_dc599_row10_col4\" class=\"data row10 col4\" >435.94</td>\n",
       "    </tr>\n",
       "    <tr>\n",
       "      <th id=\"T_dc599_level0_row11\" class=\"row_heading level0 row11\" >tot data usage (MBs)</th>\n",
       "      <td id=\"T_dc599_row11_col0\" class=\"data row11 col0\" >652.38</td>\n",
       "      <td id=\"T_dc599_row11_col1\" class=\"data row11 col1\" >31.71</td>\n",
       "      <td id=\"T_dc599_row11_col2\" class=\"data row11 col2\" >587.85</td>\n",
       "      <td id=\"T_dc599_row11_col3\" class=\"data row11 col3\" >815.84</td>\n",
       "      <td id=\"T_dc599_row11_col4\" class=\"data row11 col4\" >4860.05</td>\n",
       "    </tr>\n",
       "  </tbody>\n",
       "</table>\n"
      ],
      "text/plain": [
       "<pandas.io.formats.style.Styler at 0x7fd1a897d8b0>"
      ]
     },
     "execution_count": 97,
     "metadata": {},
     "output_type": "execute_result"
    }
   ],
   "source": [
    "ss.style.set_precision(2).set_properties(**{\"width\": \"100px\", \"color\": \"blue\"})"
   ]
  },
  {
   "cell_type": "code",
   "execution_count": 98,
   "metadata": {
    "id": "YRarEkv9lW2E"
   },
   "outputs": [],
   "source": [
    "# aggregates.iloc[:,:1].boxplot(figsize= (20,10), whis= (0,100))"
   ]
  },
  {
   "cell_type": "code",
   "execution_count": 99,
   "metadata": {
    "id": "a8HOuLFKlW2F"
   },
   "outputs": [],
   "source": [
    "# aggregates.iloc[:,1:2].boxplot(figsize= (20,10), whis= (0,100))"
   ]
  },
  {
   "cell_type": "code",
   "execution_count": 100,
   "metadata": {
    "id": "o_lgSMXPlW2G"
   },
   "outputs": [],
   "source": [
    "# aggregates.iloc[:,2:7].boxplot(figsize= (20,10), whis= (0,100))"
   ]
  },
  {
   "cell_type": "code",
   "execution_count": 101,
   "metadata": {
    "id": "bz8Qct2TlW2G"
   },
   "outputs": [],
   "source": [
    "# aggregates.iloc[:,7:12].boxplot(figsize= (20,10), whis= (0,100))"
   ]
  },
  {
   "cell_type": "code",
   "execution_count": 102,
   "metadata": {
    "id": "nmDdMhtflW2G"
   },
   "outputs": [],
   "source": [
    "sessions_and_data_used_sorted = \\\n",
    "(aggregates[[\"tot sessions duration (hrs)\", \"tot data usage (MBs)\"]]\n",
    " .sort_values([\"tot sessions duration (hrs)\"], ascending= False)\n",
    ")"
   ]
  },
  {
   "cell_type": "code",
   "execution_count": 103,
   "metadata": {
    "id": "YGgmBPONlW2H"
   },
   "outputs": [],
   "source": [
    "sessions_binned = pd.qcut(sessions_and_data_used_sorted.iloc[:,0], 10, labels=np.arange(10))\n",
    "sessions_binned.name = \"sessions_bin_class\""
   ]
  },
  {
   "cell_type": "code",
   "execution_count": 104,
   "metadata": {
    "id": "nldB1LfAlW2H"
   },
   "outputs": [],
   "source": [
    "tot_sessions_and_data_used_binned = (sessions_and_data_used_sorted.join(sessions_binned)\n",
    "                                     .groupby(\"sessions_bin_class\").aggregate(\"mean\")\n",
    "                                    )"
   ]
  },
  {
   "cell_type": "code",
   "execution_count": 105,
   "metadata": {
    "colab": {
     "base_uri": "https://localhost:8080/",
     "height": 394
    },
    "id": "b8gP9KUplW2I",
    "outputId": "4eea736c-fb08-4eab-b4ad-f2844230c94a"
   },
   "outputs": [
    {
     "data": {
      "text/html": [
       "<div>\n",
       "<style scoped>\n",
       "    .dataframe tbody tr th:only-of-type {\n",
       "        vertical-align: middle;\n",
       "    }\n",
       "\n",
       "    .dataframe tbody tr th {\n",
       "        vertical-align: top;\n",
       "    }\n",
       "\n",
       "    .dataframe thead th {\n",
       "        text-align: right;\n",
       "    }\n",
       "</style>\n",
       "<table border=\"1\" class=\"dataframe\">\n",
       "  <thead>\n",
       "    <tr style=\"text-align: right;\">\n",
       "      <th></th>\n",
       "      <th>tot sessions duration (hrs)</th>\n",
       "      <th>tot data usage (MBs)</th>\n",
       "    </tr>\n",
       "    <tr>\n",
       "      <th>sessions_bin_class</th>\n",
       "      <th></th>\n",
       "      <th></th>\n",
       "    </tr>\n",
       "  </thead>\n",
       "  <tbody>\n",
       "    <tr>\n",
       "      <th>0</th>\n",
       "      <td>5.567984</td>\n",
       "      <td>485.476552</td>\n",
       "    </tr>\n",
       "    <tr>\n",
       "      <th>1</th>\n",
       "      <td>11.143625</td>\n",
       "      <td>544.368834</td>\n",
       "    </tr>\n",
       "    <tr>\n",
       "      <th>2</th>\n",
       "      <td>19.699618</td>\n",
       "      <td>581.556603</td>\n",
       "    </tr>\n",
       "    <tr>\n",
       "      <th>3</th>\n",
       "      <td>23.990098</td>\n",
       "      <td>476.309916</td>\n",
       "    </tr>\n",
       "    <tr>\n",
       "      <th>4</th>\n",
       "      <td>26.147770</td>\n",
       "      <td>531.532518</td>\n",
       "    </tr>\n",
       "    <tr>\n",
       "      <th>5</th>\n",
       "      <td>32.491201</td>\n",
       "      <td>573.819973</td>\n",
       "    </tr>\n",
       "    <tr>\n",
       "      <th>6</th>\n",
       "      <td>40.890934</td>\n",
       "      <td>548.189196</td>\n",
       "    </tr>\n",
       "    <tr>\n",
       "      <th>7</th>\n",
       "      <td>48.434390</td>\n",
       "      <td>694.320787</td>\n",
       "    </tr>\n",
       "    <tr>\n",
       "      <th>8</th>\n",
       "      <td>64.085545</td>\n",
       "      <td>827.252899</td>\n",
       "    </tr>\n",
       "    <tr>\n",
       "      <th>9</th>\n",
       "      <td>117.345103</td>\n",
       "      <td>1268.616709</td>\n",
       "    </tr>\n",
       "  </tbody>\n",
       "</table>\n",
       "</div>"
      ],
      "text/plain": [
       "                    tot sessions duration (hrs)  tot data usage (MBs)\n",
       "sessions_bin_class                                                   \n",
       "0                                      5.567984            485.476552\n",
       "1                                     11.143625            544.368834\n",
       "2                                     19.699618            581.556603\n",
       "3                                     23.990098            476.309916\n",
       "4                                     26.147770            531.532518\n",
       "5                                     32.491201            573.819973\n",
       "6                                     40.890934            548.189196\n",
       "7                                     48.434390            694.320787\n",
       "8                                     64.085545            827.252899\n",
       "9                                    117.345103           1268.616709"
      ]
     },
     "execution_count": 105,
     "metadata": {},
     "output_type": "execute_result"
    }
   ],
   "source": [
    "tot_sessions_and_data_used_binned"
   ]
  },
  {
   "cell_type": "code",
   "execution_count": 106,
   "metadata": {
    "colab": {
     "base_uri": "https://localhost:8080/",
     "height": 355
    },
    "id": "Mmf9qhAzlW2S",
    "outputId": "c81549ba-32be-4119-b7a4-bf11a4e36133"
   },
   "outputs": [
    {
     "data": {
      "text/html": [
       "<div>\n",
       "<style scoped>\n",
       "    .dataframe tbody tr th:only-of-type {\n",
       "        vertical-align: middle;\n",
       "    }\n",
       "\n",
       "    .dataframe tbody tr th {\n",
       "        vertical-align: top;\n",
       "    }\n",
       "\n",
       "    .dataframe thead th {\n",
       "        text-align: right;\n",
       "    }\n",
       "</style>\n",
       "<table border=\"1\" class=\"dataframe\">\n",
       "  <thead>\n",
       "    <tr style=\"text-align: right;\">\n",
       "      <th></th>\n",
       "      <th>tot number of session</th>\n",
       "      <th>tot sessions duration (hrs)</th>\n",
       "      <th>social media data usage (MBs)</th>\n",
       "      <th>google data usage (MBs)</th>\n",
       "      <th>Email data usage (MBs)</th>\n",
       "      <th>youtube data usage (MBs)</th>\n",
       "      <th>netflix data usage (MBs)</th>\n",
       "      <th>gaming apps data usage (MBs)</th>\n",
       "      <th>other apps data usage (MBs)</th>\n",
       "      <th>tot downloaded data (MBs)</th>\n",
       "      <th>tot uploaded data (MBs)</th>\n",
       "      <th>tot data usage (MBs)</th>\n",
       "    </tr>\n",
       "  </thead>\n",
       "  <tbody>\n",
       "    <tr>\n",
       "      <th>count</th>\n",
       "      <td>106554.000000</td>\n",
       "      <td>106554.000000</td>\n",
       "      <td>106554.000000</td>\n",
       "      <td>106554.000000</td>\n",
       "      <td>106554.000000</td>\n",
       "      <td>106554.000000</td>\n",
       "      <td>106554.000000</td>\n",
       "      <td>106554.000000</td>\n",
       "      <td>106554.000000</td>\n",
       "      <td>106554.000000</td>\n",
       "      <td>106554.000000</td>\n",
       "      <td>106554.000000</td>\n",
       "    </tr>\n",
       "    <tr>\n",
       "      <th>mean</th>\n",
       "      <td>1.379986</td>\n",
       "      <td>38.945798</td>\n",
       "      <td>2.406328</td>\n",
       "      <td>10.273692</td>\n",
       "      <td>2.972841</td>\n",
       "      <td>29.795385</td>\n",
       "      <td>29.777472</td>\n",
       "      <td>566.283479</td>\n",
       "      <td>565.158929</td>\n",
       "      <td>598.270156</td>\n",
       "      <td>54.113350</td>\n",
       "      <td>652.383505</td>\n",
       "    </tr>\n",
       "    <tr>\n",
       "      <th>std</th>\n",
       "      <td>0.751298</td>\n",
       "      <td>34.344976</td>\n",
       "      <td>1.744367</td>\n",
       "      <td>6.838355</td>\n",
       "      <td>2.016566</td>\n",
       "      <td>19.260624</td>\n",
       "      <td>19.266514</td>\n",
       "      <td>409.946436</td>\n",
       "      <td>410.941550</td>\n",
       "      <td>423.254635</td>\n",
       "      <td>31.994931</td>\n",
       "      <td>446.221514</td>\n",
       "    </tr>\n",
       "    <tr>\n",
       "      <th>min</th>\n",
       "      <td>1.000000</td>\n",
       "      <td>1.983889</td>\n",
       "      <td>0.001491</td>\n",
       "      <td>0.038462</td>\n",
       "      <td>0.017334</td>\n",
       "      <td>0.075248</td>\n",
       "      <td>0.176019</td>\n",
       "      <td>0.292166</td>\n",
       "      <td>0.142140</td>\n",
       "      <td>8.418161</td>\n",
       "      <td>2.734081</td>\n",
       "      <td>31.708726</td>\n",
       "    </tr>\n",
       "    <tr>\n",
       "      <th>25%</th>\n",
       "      <td>1.000000</td>\n",
       "      <td>19.710625</td>\n",
       "      <td>1.152503</td>\n",
       "      <td>5.656567</td>\n",
       "      <td>1.593564</td>\n",
       "      <td>17.742988</td>\n",
       "      <td>17.674101</td>\n",
       "      <td>274.037992</td>\n",
       "      <td>271.572208</td>\n",
       "      <td>299.494924</td>\n",
       "      <td>34.676584</td>\n",
       "      <td>341.003925</td>\n",
       "    </tr>\n",
       "    <tr>\n",
       "      <th>50%</th>\n",
       "      <td>1.000000</td>\n",
       "      <td>28.456111</td>\n",
       "      <td>2.191891</td>\n",
       "      <td>9.124181</td>\n",
       "      <td>2.664310</td>\n",
       "      <td>25.511245</td>\n",
       "      <td>25.433387</td>\n",
       "      <td>515.971701</td>\n",
       "      <td>513.621295</td>\n",
       "      <td>542.765436</td>\n",
       "      <td>44.576648</td>\n",
       "      <td>587.853882</td>\n",
       "    </tr>\n",
       "    <tr>\n",
       "      <th>75%</th>\n",
       "      <td>2.000000</td>\n",
       "      <td>47.999722</td>\n",
       "      <td>3.146709</td>\n",
       "      <td>12.565546</td>\n",
       "      <td>3.659199</td>\n",
       "      <td>36.047137</td>\n",
       "      <td>36.091989</td>\n",
       "      <td>739.504440</td>\n",
       "      <td>737.657516</td>\n",
       "      <td>767.978338</td>\n",
       "      <td>62.295820</td>\n",
       "      <td>815.835433</td>\n",
       "    </tr>\n",
       "    <tr>\n",
       "      <th>max</th>\n",
       "      <td>11.000000</td>\n",
       "      <td>359.504444</td>\n",
       "      <td>22.698244</td>\n",
       "      <td>83.574781</td>\n",
       "      <td>21.861470</td>\n",
       "      <td>237.480580</td>\n",
       "      <td>222.896995</td>\n",
       "      <td>4343.421737</td>\n",
       "      <td>4392.022408</td>\n",
       "      <td>4545.041459</td>\n",
       "      <td>435.936921</td>\n",
       "      <td>4860.047088</td>\n",
       "    </tr>\n",
       "  </tbody>\n",
       "</table>\n",
       "</div>"
      ],
      "text/plain": [
       "       tot number of session  tot sessions duration (hrs)  \\\n",
       "count          106554.000000                106554.000000   \n",
       "mean                1.379986                    38.945798   \n",
       "std                 0.751298                    34.344976   \n",
       "min                 1.000000                     1.983889   \n",
       "25%                 1.000000                    19.710625   \n",
       "50%                 1.000000                    28.456111   \n",
       "75%                 2.000000                    47.999722   \n",
       "max                11.000000                   359.504444   \n",
       "\n",
       "       social media data usage (MBs)  google data usage (MBs)  \\\n",
       "count                  106554.000000            106554.000000   \n",
       "mean                        2.406328                10.273692   \n",
       "std                         1.744367                 6.838355   \n",
       "min                         0.001491                 0.038462   \n",
       "25%                         1.152503                 5.656567   \n",
       "50%                         2.191891                 9.124181   \n",
       "75%                         3.146709                12.565546   \n",
       "max                        22.698244                83.574781   \n",
       "\n",
       "       Email data usage (MBs)  youtube data usage (MBs)  \\\n",
       "count           106554.000000             106554.000000   \n",
       "mean                 2.972841                 29.795385   \n",
       "std                  2.016566                 19.260624   \n",
       "min                  0.017334                  0.075248   \n",
       "25%                  1.593564                 17.742988   \n",
       "50%                  2.664310                 25.511245   \n",
       "75%                  3.659199                 36.047137   \n",
       "max                 21.861470                237.480580   \n",
       "\n",
       "       netflix data usage (MBs)  gaming apps data usage (MBs)  \\\n",
       "count             106554.000000                 106554.000000   \n",
       "mean                  29.777472                    566.283479   \n",
       "std                   19.266514                    409.946436   \n",
       "min                    0.176019                      0.292166   \n",
       "25%                   17.674101                    274.037992   \n",
       "50%                   25.433387                    515.971701   \n",
       "75%                   36.091989                    739.504440   \n",
       "max                  222.896995                   4343.421737   \n",
       "\n",
       "       other apps data usage (MBs)  tot downloaded data (MBs)  \\\n",
       "count                106554.000000              106554.000000   \n",
       "mean                    565.158929                 598.270156   \n",
       "std                     410.941550                 423.254635   \n",
       "min                       0.142140                   8.418161   \n",
       "25%                     271.572208                 299.494924   \n",
       "50%                     513.621295                 542.765436   \n",
       "75%                     737.657516                 767.978338   \n",
       "max                    4392.022408                4545.041459   \n",
       "\n",
       "       tot uploaded data (MBs)  tot data usage (MBs)  \n",
       "count            106554.000000         106554.000000  \n",
       "mean                 54.113350            652.383505  \n",
       "std                  31.994931            446.221514  \n",
       "min                   2.734081             31.708726  \n",
       "25%                  34.676584            341.003925  \n",
       "50%                  44.576648            587.853882  \n",
       "75%                  62.295820            815.835433  \n",
       "max                 435.936921           4860.047088  "
      ]
     },
     "execution_count": 106,
     "metadata": {},
     "output_type": "execute_result"
    }
   ],
   "source": [
    "aggregates.describe()"
   ]
  },
  {
   "cell_type": "code",
   "execution_count": 107,
   "metadata": {
    "colab": {
     "base_uri": "https://localhost:8080/"
    },
    "id": "h8mFIOs4lW2S",
    "outputId": "3825735b-6cc2-4650-8350-48c8956fd5b9"
   },
   "outputs": [
    {
     "data": {
      "text/plain": [
       "29318"
      ]
     },
     "execution_count": 107,
     "metadata": {},
     "output_type": "execute_result"
    }
   ],
   "source": [
    "sessions_and_data_used_sorted.duplicated([\"tot sessions duration (hrs)\"]).sum()"
   ]
  },
  {
   "cell_type": "code",
   "execution_count": 108,
   "metadata": {
    "colab": {
     "base_uri": "https://localhost:8080/",
     "height": 282
    },
    "id": "LerO8I6elW2T",
    "outputId": "0e8f6a5c-919b-446f-ec51-42a6f676c2f6"
   },
   "outputs": [
    {
     "data": {
      "text/plain": [
       "<AxesSubplot:>"
      ]
     },
     "execution_count": 108,
     "metadata": {},
     "output_type": "execute_result"
    },
    {
     "data": {
      "image/png": "[encoded data removed]",
      "text/plain": [
       "<Figure size 432x288 with 1 Axes>"
      ]
     },
     "metadata": {
      "needs_background": "light"
     },
     "output_type": "display_data"
    }
   ],
   "source": [
    "aggregates[[\"gaming apps data usage (MBs)\"]].boxplot()"
   ]
  },
  {
   "cell_type": "code",
   "execution_count": 109,
   "metadata": {
    "colab": {
     "base_uri": "https://localhost:8080/"
    },
    "id": "kCIOOwmSlW2T",
    "outputId": "38050f9a-b5b0-4757-e618-b84d852d9cef"
   },
   "outputs": [
    {
     "data": {
      "text/plain": [
       "0"
      ]
     },
     "execution_count": 109,
     "metadata": {},
     "output_type": "execute_result"
    }
   ],
   "source": [
    "(aggregates[\"tot sessions duration (hrs)\"] > 360).sum()"
   ]
  },
  {
   "cell_type": "code",
   "execution_count": 110,
   "metadata": {},
   "outputs": [
    {
     "data": {
      "text/plain": [
       "360"
      ]
     },
     "execution_count": 110,
     "metadata": {},
     "output_type": "execute_result"
    }
   ],
   "source": [
    "12 * 30"
   ]
  },
  {
   "cell_type": "code",
   "execution_count": 111,
   "metadata": {},
   "outputs": [
    {
     "data": {
      "text/plain": [
       "27129"
      ]
     },
     "execution_count": 111,
     "metadata": {},
     "output_type": "execute_result"
    }
   ],
   "source": [
    "data[['Dur. (ms).1']].duplicated().sum()"
   ]
  },
  {
   "cell_type": "code",
   "execution_count": 112,
   "metadata": {},
   "outputs": [
    {
     "data": {
      "text/plain": [
       "Index(['Bearer Id', 'Start', 'Start ms', 'End', 'End ms', 'Dur. (ms)', 'IMSI',\n",
       "       'MSISDN/Number', 'IMEI', 'Last Location Name', 'Avg RTT DL (ms)',\n",
       "       'Avg RTT UL (ms)', 'Avg Bearer TP DL (kbps)', 'Avg Bearer TP UL (kbps)',\n",
       "       'TCP DL Retrans. Vol (Bytes)', 'TCP UL Retrans. Vol (Bytes)',\n",
       "       'DL TP < 50 Kbps (%)', '50 Kbps < DL TP < 250 Kbps (%)',\n",
       "       '250 Kbps < DL TP < 1 Mbps (%)', 'DL TP > 1 Mbps (%)',\n",
       "       'UL TP < 10 Kbps (%)', '10 Kbps < UL TP < 50 Kbps (%)',\n",
       "       '50 Kbps < UL TP < 300 Kbps (%)', 'UL TP > 300 Kbps (%)',\n",
       "       'HTTP DL (Bytes)', 'HTTP UL (Bytes)', 'Activity Duration DL (ms)',\n",
       "       'Activity Duration UL (ms)', 'Dur. (ms).1', 'Handset Manufacturer',\n",
       "       'Handset Type', 'Nb of sec with 125000B < Vol DL',\n",
       "       'Nb of sec with 1250B < Vol UL < 6250B',\n",
       "       'Nb of sec with 31250B < Vol DL < 125000B',\n",
       "       'Nb of sec with 37500B < Vol UL',\n",
       "       'Nb of sec with 6250B < Vol DL < 31250B',\n",
       "       'Nb of sec with 6250B < Vol UL < 37500B',\n",
       "       'Nb of sec with Vol DL < 6250B', 'Nb of sec with Vol UL < 1250B',\n",
       "       'Social Media DL (Bytes)', 'Social Media UL (Bytes)',\n",
       "       'Google DL (Bytes)', 'Google UL (Bytes)', 'Email DL (Bytes)',\n",
       "       'Email UL (Bytes)', 'Youtube DL (Bytes)', 'Youtube UL (Bytes)',\n",
       "       'Netflix DL (Bytes)', 'Netflix UL (Bytes)', 'Gaming DL (Bytes)',\n",
       "       'Gaming UL (Bytes)', 'Other DL (Bytes)', 'Other UL (Bytes)',\n",
       "       'Total UL (Bytes)', 'Total DL (Bytes)'],\n",
       "      dtype='object')"
      ]
     },
     "execution_count": 112,
     "metadata": {},
     "output_type": "execute_result"
    }
   ],
   "source": [
    "data.columns"
   ]
  },
  {
   "cell_type": "code",
   "execution_count": 113,
   "metadata": {},
   "outputs": [
    {
     "data": {
      "text/html": [
       "<div>\n",
       "<style scoped>\n",
       "    .dataframe tbody tr th:only-of-type {\n",
       "        vertical-align: middle;\n",
       "    }\n",
       "\n",
       "    .dataframe tbody tr th {\n",
       "        vertical-align: top;\n",
       "    }\n",
       "\n",
       "    .dataframe thead th {\n",
       "        text-align: right;\n",
       "    }\n",
       "</style>\n",
       "<table border=\"1\" class=\"dataframe\">\n",
       "  <thead>\n",
       "    <tr style=\"text-align: right;\">\n",
       "      <th></th>\n",
       "      <th>tot sessions duration (hrs)</th>\n",
       "    </tr>\n",
       "    <tr>\n",
       "      <th>MSISDN</th>\n",
       "      <th></th>\n",
       "    </tr>\n",
       "  </thead>\n",
       "  <tbody>\n",
       "    <tr>\n",
       "      <th>33669068942</th>\n",
       "      <td>169.666944</td>\n",
       "    </tr>\n",
       "    <tr>\n",
       "      <th>33665083783</th>\n",
       "      <td>240.018333</td>\n",
       "    </tr>\n",
       "    <tr>\n",
       "      <th>33650426463</th>\n",
       "      <td>214.266111</td>\n",
       "    </tr>\n",
       "    <tr>\n",
       "      <th>33669710478</th>\n",
       "      <td>182.404167</td>\n",
       "    </tr>\n",
       "    <tr>\n",
       "      <th>33666169635</th>\n",
       "      <td>166.000000</td>\n",
       "    </tr>\n",
       "    <tr>\n",
       "      <th>...</th>\n",
       "      <td>...</td>\n",
       "    </tr>\n",
       "    <tr>\n",
       "      <th>33664955942</th>\n",
       "      <td>43.766944</td>\n",
       "    </tr>\n",
       "    <tr>\n",
       "      <th>33663469453</th>\n",
       "      <td>47.070000</td>\n",
       "    </tr>\n",
       "    <tr>\n",
       "      <th>33665287654</th>\n",
       "      <td>49.665278</td>\n",
       "    </tr>\n",
       "    <tr>\n",
       "      <th>33659372298</th>\n",
       "      <td>49.979444</td>\n",
       "    </tr>\n",
       "    <tr>\n",
       "      <th>33619622058</th>\n",
       "      <td>27.197222</td>\n",
       "    </tr>\n",
       "  </tbody>\n",
       "</table>\n",
       "<p>106554 rows × 1 columns</p>\n",
       "</div>"
      ],
      "text/plain": [
       "             tot sessions duration (hrs)\n",
       "MSISDN                                  \n",
       "33669068942                   169.666944\n",
       "33665083783                   240.018333\n",
       "33650426463                   214.266111\n",
       "33669710478                   182.404167\n",
       "33666169635                   166.000000\n",
       "...                                  ...\n",
       "33664955942                    43.766944\n",
       "33663469453                    47.070000\n",
       "33665287654                    49.665278\n",
       "33659372298                    49.979444\n",
       "33619622058                    27.197222\n",
       "\n",
       "[106554 rows x 1 columns]"
      ]
     },
     "execution_count": 113,
     "metadata": {},
     "output_type": "execute_result"
    }
   ],
   "source": [
    "aggregates[[\"tot sessions duration (hrs)\"]]"
   ]
  },
  {
   "cell_type": "code",
   "execution_count": 119,
   "metadata": {},
   "outputs": [],
   "source": [
    "foo = aggregates[[\"social media data usage (MBs)\", \"google data usage (MBs)\", \"Email data usage (MBs)\", \"youtube data usage (MBs)\",\n",
    "\"netflix data usage (MBs)\", \"gaming apps data usage (MBs)\", \"other apps data usage (MBs)\"]]"
   ]
  },
  {
   "cell_type": "code",
   "execution_count": 132,
   "metadata": {},
   "outputs": [
    {
     "data": {
      "image/png": "[encoded data removed]",
      "text/plain": [
       "<Figure size 1440x1440 with 1 Axes>"
      ]
     },
     "metadata": {
      "needs_background": "light"
     },
     "output_type": "display_data"
    }
   ],
   "source": [
    "pd.plotting.boxplot(foo, figsize= (20,20));"
   ]
  },
  {
   "cell_type": "code",
   "execution_count": null,
   "metadata": {},
   "outputs": [],
   "source": []
  }
 ],
 "metadata": {
  "colab": {
   "include_colab_link": true,
   "name": "task1_exp.ipynb",
   "provenance": []
  },
  "kernelspec": {
   "display_name": "Python 3 (ipykernel)",
   "language": "python",
   "name": "python3"
  },
  "language_info": {
   "codemirror_mode": {
    "name": "ipython",
    "version": 3
   },
   "file_extension": ".py",
   "mimetype": "text/x-python",
   "name": "python",
   "nbconvert_exporter": "python",
   "pygments_lexer": "ipython3",
   "version": "3.9.7"
  },
  "latex_envs": {
   "LaTeX_envs_menu_present": true,
   "autoclose": false,
   "autocomplete": true,
   "bibliofile": "biblio.bib",
   "cite_by": "apalike",
   "current_citInitial": 1,
   "eqLabelWithNumbers": true,
   "eqNumInitial": 1,
   "hotkeys": {
    "equation": "Ctrl-E",
    "itemize": "Ctrl-I"
   },
   "labels_anchors": false,
   "latex_user_defs": false,
   "report_style_numbering": false,
   "user_envs_cfg": false
  },
  "metadata": {
   "interpreter": {
    "hash": "4cd7ab41f5fca4b9b44701077e38c5ffd31fe66a6cab21e0214b68d958d0e462"
   }
  },
  "toc": {
   "base_numbering": 1,
   "nav_menu": {},
   "number_sections": true,
   "sideBar": true,
   "skip_h1_title": false,
   "title_cell": "Table of Contents",
   "title_sidebar": "Contents",
   "toc_cell": false,
   "toc_position": {},
   "toc_section_display": true,
   "toc_window_display": false
  },
  "varInspector": {
   "cols": {
    "lenName": 16,
    "lenType": 16,
    "lenVar": 40
   },
   "kernels_config": {
    "python": {
     "delete_cmd_postfix": "",
     "delete_cmd_prefix": "del ",
     "library": "var_list.py",
     "varRefreshCmd": "print(var_dic_list())"
    },
    "r": {
     "delete_cmd_postfix": ") ",
     "delete_cmd_prefix": "rm(",
     "library": "var_list.r",
     "varRefreshCmd": "cat(var_dic_list()) "
    }
   },
   "types_to_exclude": [
    "module",
    "function",
    "builtin_function_or_method",
    "instance",
    "_Feature"
   ],
   "window_display": false
  }
 },
 "nbformat": 4,
 "nbformat_minor": 4
}
