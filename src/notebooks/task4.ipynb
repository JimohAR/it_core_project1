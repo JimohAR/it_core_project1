{
 "cells": [
  {
   "cell_type": "markdown",
   "id": "6e910284-2b71-4686-99ac-f8fe072da677",
   "metadata": {},
   "source": [
    "Task 4 - Satisfaction Analysis\n",
    "Assuming that the satisfaction of a user is dependent on user engagement and experience, you’re expected in this section to analyze customer satisfaction in depth. The following tasks will guide you: \n",
    "\n",
    "Based on the engagement analysis + the experience analysis you conducted above,\n",
    "Task 4. 1 - Write a python program to assign:\n",
    "a.\tengagement score to each user. Consider the engagement score as the Euclidean distance between the user data point & the less engaged cluster (use the first clustering for this) (Euclidean Distance)\n",
    "b.\texperience score to each user. Consider the experience score as the Euclidean distance between the user data point & the worst experience’s cluster. \n",
    "Task 4.2 - Consider the average of both engagement & experience scores as  the satisfaction score & report the top 10 satisfied customer \n",
    "Task 4.3 - Build a regression model of your choice to predict the satisfaction score of a customer. \n",
    "Task 4.4 - Run a k-means (k=2) on the engagement & the experience score. \n",
    "Task 4.5 - Aggregate the average satisfaction & experience score per cluster. \n",
    "Task 4.6 - Export your final table containing all user id + engagement, experience & satisfaction scores in your local MySQL database. Report a screenshot of a select query output on the exported table. \n",
    "Task 4.7 Model deployment tracking- deploy the model and monitor your model. Here you can use Docker or other MlOps tools which can help you to track your model’s change.  Your model tracking report includes code version, start and end time, source, parameters, metrics (loss convergence), and artifacts or any output file regarding each specific run. (CSV file, screenshot)\n"
   ]
  },
  {
   "cell_type": "code",
   "execution_count": null,
   "id": "1a8b9a70-352d-4f34-a251-22239f7b580f",
   "metadata": {},
   "outputs": [],
   "source": [
    "import numpy as np\n",
    "import pandas as pd\n",
    "import matplotlib.pyplot as plt\n",
    "import seaborn as sns\n",
    "import os\n",
    "from sklearn.decomposition import PCA\n",
    "from sklearn.preprocessing import StandardScaler\n",
    "from sklearn.cluster import KMeans"
   ]
  },
  {
   "cell_type": "markdown",
   "id": "b5825a3e-05d8-4409-8a9e-a1f192c46e4d",
   "metadata": {},
   "source": [
    "### Task 4. 1 - Write a python program to assign: a. engagement score to each user. Consider the engagement score as the Euclidean distance between the user data point & the less engaged cluster (use the first clustering for this) (Euclidean Distance) b. experience score to each user. Consider the experience score as the Euclidean distance between the user data point & the worst experience’s cluster"
   ]
  },
  {
   "cell_type": "code",
   "execution_count": null,
   "id": "f70db31a-86fd-4a97-9273-287730d10517",
   "metadata": {},
   "outputs": [],
   "source": [
    "if \"google.colab\" in str(get_ipython()):\n",
    "    !pip install dvc[gdrive] > /content/piplog.txt\n",
    "    print(\">> g-colab detected \\ncloning repo from github\\n\")\n",
    "    !git clone https://github.com/JimohAR/it_core_project1\n",
    "\n",
    "    print(\"\\n>> changing path to the repo\\n\")\n",
    "    os.chdir(\"/content/it_core_project1\")\n",
    "\n",
    "    print(\"\\n>> downloading the datasets\\n\")\n",
    "    !dvc import https://github.com/JimohAR/it_core_project1 data/telco.csv \\\n",
    "    -o data/telco.csv\n",
    "\n",
    "    print(\"\\n>> set up path to the data directory\")\n",
    "    path = os.getcwd() + \"/data/\"\n",
    "else:\n",
    "    print(\"\\n>> set up path to the data directory\")\n",
    "    path = os.path.abspath(os.getcwd() + \"/../../data\") + \"/\""
   ]
  }
 ],
 "metadata": {
  "kernelspec": {
   "display_name": "Python 3 (ipykernel)",
   "language": "python",
   "name": "python3"
  },
  "language_info": {
   "codemirror_mode": {
    "name": "ipython",
    "version": 3
   },
   "file_extension": ".py",
   "mimetype": "text/x-python",
   "name": "python",
   "nbconvert_exporter": "python",
   "pygments_lexer": "ipython3",
   "version": "3.9.7"
  }
 },
 "nbformat": 4,
 "nbformat_minor": 5
}
