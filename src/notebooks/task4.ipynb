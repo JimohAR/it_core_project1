{
 "cells": [
  {
   "cell_type": "markdown",
   "id": "6e910284-2b71-4686-99ac-f8fe072da677",
   "metadata": {},
   "source": [
    "Task 4 - Satisfaction Analysis\n",
    "Assuming that the satisfaction of a user is dependent on user engagement and experience, you’re expected in this section to analyze customer satisfaction in depth. The following tasks will guide you: \n",
    "\n",
    "Based on the engagement analysis + the experience analysis you conducted above,\n",
    "Task 4. 1 - Write a python program to assign:\n",
    "a.\tengagement score to each user. Consider the engagement score as the Euclidean distance between the user data point & the less engaged cluster (use the first clustering for this) (Euclidean Distance)\n",
    "b.\texperience score to each user. Consider the experience score as the Euclidean distance between the user data point & the worst experience’s cluster. \n",
    "Task 4.2 - Consider the average of both engagement & experience scores as  the satisfaction score & report the top 10 satisfied customer \n",
    "Task 4.3 - Build a regression model of your choice to predict the satisfaction score of a customer. \n",
    "Task 4.4 - Run a k-means (k=2) on the engagement & the experience score. \n",
    "Task 4.5 - Aggregate the average satisfaction & experience score per cluster. \n",
    "Task 4.6 - Export your final table containing all user id + engagement, experience & satisfaction scores in your local MySQL database. Report a screenshot of a select query output on the exported table. \n",
    "Task 4.7 Model deployment tracking- deploy the model and monitor your model. Here you can use Docker or other MlOps tools which can help you to track your model’s change.  Your model tracking report includes code version, start and end time, source, parameters, metrics (loss convergence), and artifacts or any output file regarding each specific run. (CSV file, screenshot)\n"
   ]
  },
  {
   "cell_type": "code",
   "execution_count": 2,
   "id": "1a8b9a70-352d-4f34-a251-22239f7b580f",
   "metadata": {},
   "outputs": [],
   "source": [
    "import numpy as np\n",
    "import pandas as pd\n",
    "import matplotlib.pyplot as plt\n",
    "import seaborn as sns\n",
    "import os\n",
    "import sys\n",
    "from sklearn.decomposition import PCA\n",
    "from sklearn.preprocessing import MinMaxScaler, StandardScaler\n",
    "from sklearn.cluster import KMeans\n",
    "from sklearn.linear_model import RidgeCV\n",
    "from sklearn.model_selection import train_test_split as tts\n",
    "from sklearn.metrics import accuracy_score, r2_score\n",
    "import pickle"
   ]
  },
  {
   "cell_type": "code",
   "execution_count": null,
   "id": "d1725b2c",
   "metadata": {},
   "outputs": [],
   "source": [
    "base_path = os.getcwd().split(\"src\")[0]\n",
    "sys.path.append(base_path)\n",
    "\n",
    "from src.scripts.utils import set_path"
   ]
  },
  {
   "cell_type": "code",
   "execution_count": null,
   "id": "f70db31a-86fd-4a97-9273-287730d10517",
   "metadata": {},
   "outputs": [
    {
     "name": "stdout",
     "output_type": "stream",
     "text": [
      "\n",
      ">> set up path to the data directory\n"
     ]
    }
   ],
   "source": [
    "path = set_path(\"data\")"
   ]
  },
  {
   "cell_type": "markdown",
   "id": "b5825a3e-05d8-4409-8a9e-a1f192c46e4d",
   "metadata": {},
   "source": [
    "### Task 4. 1 - Write a python program to assign: a. engagement score to each user. Consider the engagement score as the Euclidean distance between the user data point & the less engaged cluster (use the first clustering for this) (Euclidean Distance) b. experience score to each user. Consider the experience score as the Euclidean distance between the user data point & the worst experience’s cluster"
   ]
  },
  {
   "cell_type": "code",
   "execution_count": 4,
   "id": "bc989016-c237-4b6b-8a53-72e7919d3047",
   "metadata": {},
   "outputs": [],
   "source": [
    "ue_data = pd.read_csv(path + \"user_engagement_data.csv\", index_col= 'MSISDN')\n",
    "ux_data = pd.read_csv(path + \"user_experience_data.csv\", index_col= 'MSISDN/Number')"
   ]
  },
  {
   "cell_type": "code",
   "execution_count": 5,
   "id": "66f4194e-63b8-48a8-8cc5-b4060aa68f92",
   "metadata": {},
   "outputs": [
    {
     "data": {
      "text/plain": [
       "tot number of session            0\n",
       "tot sessions duration (hrs)      0\n",
       "social media data usage (MBs)    0\n",
       "google data usage (MBs)          0\n",
       "Email data usage (MBs)           0\n",
       "youtube data usage (MBs)         0\n",
       "netflix data usage (MBs)         0\n",
       "gaming apps data usage (MBs)     0\n",
       "other apps data usage (MBs)      0\n",
       "tot downloaded data (MBs)        0\n",
       "tot uploaded data (MBs)          0\n",
       "tot data usage (MBs)             0\n",
       "labels                           0\n",
       "dtype: int64"
      ]
     },
     "execution_count": 5,
     "metadata": {},
     "output_type": "execute_result"
    }
   ],
   "source": [
    "ue_data.isna().sum()"
   ]
  },
  {
   "cell_type": "code",
   "execution_count": 6,
   "id": "66ec3868-deff-45be-9250-cef2dadac4ec",
   "metadata": {},
   "outputs": [],
   "source": [
    "# ue_data = ue_data.rename(columns= {\"label\": \"labels\"})"
   ]
  },
  {
   "cell_type": "code",
   "execution_count": 7,
   "id": "0d36a3e5-aef0-40cc-8faa-c2e92b25c959",
   "metadata": {},
   "outputs": [],
   "source": [
    "ue_clusters = pd.read_csv(path + \"user_engagement_cluster_centers.csv\", index_col= 'labels')#.loc[[\"less engagement\"]]\n",
    "ux_clusters = pd.read_csv(path + \"user_experience_cluster_centers.csv\", index_col= 'labels')#.loc[[\"bad experience\"]]"
   ]
  },
  {
   "cell_type": "code",
   "execution_count": 8,
   "id": "72974b5d-c2f8-4c84-b458-9f67469aa991",
   "metadata": {},
   "outputs": [],
   "source": [
    "scaler_ux = MinMaxScaler()\n",
    "scaler_ue = MinMaxScaler()"
   ]
  },
  {
   "cell_type": "code",
   "execution_count": 9,
   "id": "4e4b5e39-1c4a-4d7f-8c41-6bb889e90c71",
   "metadata": {},
   "outputs": [],
   "source": [
    "# keys = ue_data.select_dtypes(exclude = [\"int\", \"float\"]).keys()\n",
    "# ue_data_scaled = pd.DataFrame(ue_data[keys])\n",
    "\n",
    "ue_data_scaled = pd.DataFrame(index= ue_data.index)\n",
    "keys = ue_data.select_dtypes([\"int\", \"float\"]).keys()\n",
    "ue_data_scaled[keys] = scaler_ue.fit_transform(ue_data[keys])"
   ]
  },
  {
   "cell_type": "code",
   "execution_count": 10,
   "id": "a0af07b9-2c90-446c-8f51-ade25560804b",
   "metadata": {},
   "outputs": [],
   "source": [
    "# keys = ux_data.select_dtypes(exclude = [\"int\", \"float\"]).keys()\n",
    "# ux_data_scaled = pd.DataFrame(ux_data[keys])\n",
    "\n",
    "ux_data_scaled = pd.DataFrame(index= ux_data.index)\n",
    "keys = ux_data.select_dtypes([\"int\", \"float\"]).keys()\n",
    "ux_data_scaled[keys] = scaler_ux.fit_transform(ux_data[keys])"
   ]
  },
  {
   "cell_type": "code",
   "execution_count": 11,
   "id": "2da1d762-799f-4d86-83c2-16e347ddd407",
   "metadata": {},
   "outputs": [],
   "source": [
    "ue_clusters_high_scaled = scaler_ue.transform(ue_clusters.loc[[\"much engagement\"]])\n",
    "ux_clusters_high_scaled = scaler_ux.transform(ux_clusters.loc[[\"good experience\"]])"
   ]
  },
  {
   "cell_type": "code",
   "execution_count": 12,
   "id": "d934123d-fa1f-4916-8fd1-f822d16d2fe1",
   "metadata": {},
   "outputs": [],
   "source": [
    "ue_clusters_low_scaled = scaler_ue.transform(ue_clusters.loc[[\"less engagement\"]])\n",
    "ux_clusters_low_scaled = scaler_ux.transform(ux_clusters.loc[[\"bad experience\"]])"
   ]
  },
  {
   "cell_type": "code",
   "execution_count": 13,
   "id": "873994b1-741a-4a1c-804c-720956615af7",
   "metadata": {
    "tags": []
   },
   "outputs": [],
   "source": [
    "# ue_data_scaled[\"ue_score\"] = ((ue_data_scaled - ue_clusters_low_scaled) / ue_clusters_high_scaled).sum(1)/ue_data_scaled.shape[1]\n",
    "ue_data[\"ue_score\"] = ((ue_data_scaled - ue_clusters_low_scaled) / ue_clusters_high_scaled).sum(1) / ue_data_scaled.shape[1]"
   ]
  },
  {
   "cell_type": "code",
   "execution_count": 14,
   "id": "be5de03f-db09-4a84-b9f1-c2c66f5b087a",
   "metadata": {},
   "outputs": [],
   "source": [
    "# ux_data_scaled[\"ux_score\"] = ((ux_data_scaled - ux_clusters_low_scaled) / ux_clusters_high_scaled).sum(1)/ux_data_scaled.shape[1]\n",
    "ux_data[\"ux_score\"] = ((ux_data_scaled - ux_clusters_low_scaled) / ux_clusters_high_scaled).sum(1) / ux_data_scaled.shape[1]"
   ]
  },
  {
   "cell_type": "markdown",
   "id": "8161a9d4-5bae-4811-8c2f-258a51b5eded",
   "metadata": {
    "tags": []
   },
   "source": [
    "### Task 4.2 - Consider the average of both engagement & experience scores as  the satisfaction score & report the top 10 satisfied customer "
   ]
  },
  {
   "cell_type": "code",
   "execution_count": 15,
   "id": "7e594711-0ee2-4b6d-8e11-106f2f7fb8c0",
   "metadata": {},
   "outputs": [],
   "source": [
    "satisfaction_data = ux_data.merge(ue_data, left_index= True, right_index= True, suffixes= (\"_ux\", \"_ue\"))"
   ]
  },
  {
   "cell_type": "code",
   "execution_count": 16,
   "id": "b45e7d81-2cd1-4f32-8247-409d3700d36d",
   "metadata": {},
   "outputs": [],
   "source": [
    "satisfaction_data[\"satisfaction_score\"] = (satisfaction_data[\"ux_score\"] + satisfaction_data[\"ue_score\"]) / 2"
   ]
  },
  {
   "cell_type": "code",
   "execution_count": 17,
   "id": "f51ca84d-bc05-471d-826b-fb7210011657",
   "metadata": {},
   "outputs": [
    {
     "data": {
      "text/html": [
       "<div>\n",
       "<style scoped>\n",
       "    .dataframe tbody tr th:only-of-type {\n",
       "        vertical-align: middle;\n",
       "    }\n",
       "\n",
       "    .dataframe tbody tr th {\n",
       "        vertical-align: top;\n",
       "    }\n",
       "\n",
       "    .dataframe thead th {\n",
       "        text-align: right;\n",
       "    }\n",
       "</style>\n",
       "<table border=\"1\" class=\"dataframe\">\n",
       "  <thead>\n",
       "    <tr style=\"text-align: right;\">\n",
       "      <th></th>\n",
       "      <th>satisfaction_score</th>\n",
       "    </tr>\n",
       "  </thead>\n",
       "  <tbody>\n",
       "    <tr>\n",
       "      <th>33665083783.0</th>\n",
       "      <td>2.514509</td>\n",
       "    </tr>\n",
       "    <tr>\n",
       "      <th>33669068942.0</th>\n",
       "      <td>2.248839</td>\n",
       "    </tr>\n",
       "    <tr>\n",
       "      <th>33665550456.0</th>\n",
       "      <td>2.190662</td>\n",
       "    </tr>\n",
       "    <tr>\n",
       "      <th>33650426463.0</th>\n",
       "      <td>2.186684</td>\n",
       "    </tr>\n",
       "    <tr>\n",
       "      <th>33658946065.0</th>\n",
       "      <td>2.160375</td>\n",
       "    </tr>\n",
       "    <tr>\n",
       "      <th>33662332182.0</th>\n",
       "      <td>2.069536</td>\n",
       "    </tr>\n",
       "    <tr>\n",
       "      <th>33662141079.0</th>\n",
       "      <td>2.064240</td>\n",
       "    </tr>\n",
       "    <tr>\n",
       "      <th>33661622844.0</th>\n",
       "      <td>2.041932</td>\n",
       "    </tr>\n",
       "    <tr>\n",
       "      <th>33761832986.0</th>\n",
       "      <td>2.026163</td>\n",
       "    </tr>\n",
       "    <tr>\n",
       "      <th>33658849197.0</th>\n",
       "      <td>2.024667</td>\n",
       "    </tr>\n",
       "  </tbody>\n",
       "</table>\n",
       "</div>"
      ],
      "text/plain": [
       "               satisfaction_score\n",
       "33665083783.0            2.514509\n",
       "33669068942.0            2.248839\n",
       "33665550456.0            2.190662\n",
       "33650426463.0            2.186684\n",
       "33658946065.0            2.160375\n",
       "33662332182.0            2.069536\n",
       "33662141079.0            2.064240\n",
       "33661622844.0            2.041932\n",
       "33761832986.0            2.026163\n",
       "33658849197.0            2.024667"
      ]
     },
     "execution_count": 17,
     "metadata": {},
     "output_type": "execute_result"
    }
   ],
   "source": [
    "satisfaction_data[[\"satisfaction_score\"]].sort_values([\"satisfaction_score\"], ascending= False).head(10)"
   ]
  },
  {
   "cell_type": "markdown",
   "id": "74b00b5e-4695-4c2b-96f1-bb526939e859",
   "metadata": {},
   "source": [
    "### Build a regression model of your choice to predict the satisfaction score of a customer."
   ]
  },
  {
   "cell_type": "code",
   "execution_count": 18,
   "id": "01395dd2-d6be-4dbd-837f-2f20e676b7b2",
   "metadata": {},
   "outputs": [],
   "source": [
    "satisfaction_data_trimmed = satisfaction_data.drop(columns= [\"labels_ux\", \"ux_score\", \"labels_ue\", \"ue_score\"])"
   ]
  },
  {
   "cell_type": "code",
   "execution_count": 19,
   "id": "cb7ca6d3-5da1-42fe-aebe-dc4b0671b064",
   "metadata": {},
   "outputs": [
    {
     "data": {
      "text/html": [
       "<div>\n",
       "<style scoped>\n",
       "    .dataframe tbody tr th:only-of-type {\n",
       "        vertical-align: middle;\n",
       "    }\n",
       "\n",
       "    .dataframe tbody tr th {\n",
       "        vertical-align: top;\n",
       "    }\n",
       "\n",
       "    .dataframe thead th {\n",
       "        text-align: right;\n",
       "    }\n",
       "</style>\n",
       "<table border=\"1\" class=\"dataframe\">\n",
       "  <thead>\n",
       "    <tr style=\"text-align: right;\">\n",
       "      <th></th>\n",
       "      <th>Avg RTT Data (ms)</th>\n",
       "      <th>Avg Bearer TP Data (kbps)</th>\n",
       "      <th>TCP Data Retrans. Vol (MBs)</th>\n",
       "      <th>tot number of session</th>\n",
       "      <th>tot sessions duration (hrs)</th>\n",
       "      <th>social media data usage (MBs)</th>\n",
       "      <th>google data usage (MBs)</th>\n",
       "      <th>Email data usage (MBs)</th>\n",
       "      <th>youtube data usage (MBs)</th>\n",
       "      <th>netflix data usage (MBs)</th>\n",
       "      <th>gaming apps data usage (MBs)</th>\n",
       "      <th>other apps data usage (MBs)</th>\n",
       "      <th>tot downloaded data (MBs)</th>\n",
       "      <th>tot uploaded data (MBs)</th>\n",
       "      <th>tot data usage (MBs)</th>\n",
       "      <th>satisfaction_score</th>\n",
       "    </tr>\n",
       "  </thead>\n",
       "  <tbody>\n",
       "    <tr>\n",
       "      <th>3.360100e+10</th>\n",
       "      <td>46.000000</td>\n",
       "      <td>76.0000</td>\n",
       "      <td>0.000000</td>\n",
       "      <td>1.0</td>\n",
       "      <td>32.422222</td>\n",
       "      <td>2.128730</td>\n",
       "      <td>4.185681</td>\n",
       "      <td>1.269686</td>\n",
       "      <td>20.622776</td>\n",
       "      <td>25.921803</td>\n",
       "      <td>774.820958</td>\n",
       "      <td>368.662712</td>\n",
       "      <td>803.601709</td>\n",
       "      <td>34.382923</td>\n",
       "      <td>837.984632</td>\n",
       "      <td>-0.067313</td>\n",
       "    </tr>\n",
       "    <tr>\n",
       "      <th>3.360100e+10</th>\n",
       "      <td>31.000000</td>\n",
       "      <td>99.0000</td>\n",
       "      <td>0.000000</td>\n",
       "      <td>1.0</td>\n",
       "      <td>50.341667</td>\n",
       "      <td>2.537313</td>\n",
       "      <td>5.087722</td>\n",
       "      <td>3.154546</td>\n",
       "      <td>11.856292</td>\n",
       "      <td>10.701907</td>\n",
       "      <td>114.202574</td>\n",
       "      <td>268.659659</td>\n",
       "      <td>115.161118</td>\n",
       "      <td>34.431895</td>\n",
       "      <td>149.593013</td>\n",
       "      <td>-0.183090</td>\n",
       "    </tr>\n",
       "    <tr>\n",
       "      <th>3.360100e+10</th>\n",
       "      <td>93.959964</td>\n",
       "      <td>97.0000</td>\n",
       "      <td>0.000000</td>\n",
       "      <td>1.0</td>\n",
       "      <td>37.491389</td>\n",
       "      <td>3.047584</td>\n",
       "      <td>3.283621</td>\n",
       "      <td>3.056889</td>\n",
       "      <td>20.345278</td>\n",
       "      <td>18.457317</td>\n",
       "      <td>513.866151</td>\n",
       "      <td>478.452370</td>\n",
       "      <td>530.872024</td>\n",
       "      <td>37.485905</td>\n",
       "      <td>568.357928</td>\n",
       "      <td>0.032627</td>\n",
       "    </tr>\n",
       "    <tr>\n",
       "      <th>3.360101e+10</th>\n",
       "      <td>84.000000</td>\n",
       "      <td>248.0000</td>\n",
       "      <td>0.001017</td>\n",
       "      <td>1.0</td>\n",
       "      <td>13.855000</td>\n",
       "      <td>0.267309</td>\n",
       "      <td>9.230130</td>\n",
       "      <td>2.178831</td>\n",
       "      <td>6.654092</td>\n",
       "      <td>1.852123</td>\n",
       "      <td>373.006942</td>\n",
       "      <td>33.645346</td>\n",
       "      <td>383.370564</td>\n",
       "      <td>19.385839</td>\n",
       "      <td>402.756403</td>\n",
       "      <td>-0.115370</td>\n",
       "    </tr>\n",
       "    <tr>\n",
       "      <th>3.360101e+10</th>\n",
       "      <td>59.500000</td>\n",
       "      <td>20784.0232</td>\n",
       "      <td>0.054125</td>\n",
       "      <td>2.0</td>\n",
       "      <td>10.306667</td>\n",
       "      <td>2.777617</td>\n",
       "      <td>17.642609</td>\n",
       "      <td>3.152341</td>\n",
       "      <td>39.608957</td>\n",
       "      <td>46.922421</td>\n",
       "      <td>1253.888912</td>\n",
       "      <td>767.521366</td>\n",
       "      <td>1299.982469</td>\n",
       "      <td>89.912917</td>\n",
       "      <td>1389.895386</td>\n",
       "      <td>0.341938</td>\n",
       "    </tr>\n",
       "    <tr>\n",
       "      <th>...</th>\n",
       "      <td>...</td>\n",
       "      <td>...</td>\n",
       "      <td>...</td>\n",
       "      <td>...</td>\n",
       "      <td>...</td>\n",
       "      <td>...</td>\n",
       "      <td>...</td>\n",
       "      <td>...</td>\n",
       "      <td>...</td>\n",
       "      <td>...</td>\n",
       "      <td>...</td>\n",
       "      <td>...</td>\n",
       "      <td>...</td>\n",
       "      <td>...</td>\n",
       "      <td>...</td>\n",
       "      <td>...</td>\n",
       "    </tr>\n",
       "    <tr>\n",
       "      <th>3.379000e+10</th>\n",
       "      <td>52.000000</td>\n",
       "      <td>10365.0000</td>\n",
       "      <td>0.207944</td>\n",
       "      <td>1.0</td>\n",
       "      <td>2.447222</td>\n",
       "      <td>0.286277</td>\n",
       "      <td>7.182378</td>\n",
       "      <td>0.960269</td>\n",
       "      <td>25.413363</td>\n",
       "      <td>14.212168</td>\n",
       "      <td>629.769668</td>\n",
       "      <td>281.603639</td>\n",
       "      <td>656.056606</td>\n",
       "      <td>25.478772</td>\n",
       "      <td>681.535378</td>\n",
       "      <td>0.038561</td>\n",
       "    </tr>\n",
       "    <tr>\n",
       "      <th>3.379000e+10</th>\n",
       "      <td>40.000000</td>\n",
       "      <td>116.0000</td>\n",
       "      <td>0.000000</td>\n",
       "      <td>1.0</td>\n",
       "      <td>39.163333</td>\n",
       "      <td>0.475472</td>\n",
       "      <td>5.178170</td>\n",
       "      <td>2.397630</td>\n",
       "      <td>18.931934</td>\n",
       "      <td>8.135853</td>\n",
       "      <td>416.758816</td>\n",
       "      <td>201.335061</td>\n",
       "      <td>423.979847</td>\n",
       "      <td>34.076922</td>\n",
       "      <td>458.056769</td>\n",
       "      <td>-0.159387</td>\n",
       "    </tr>\n",
       "    <tr>\n",
       "      <th>3.197021e+12</th>\n",
       "      <td>93.959964</td>\n",
       "      <td>1.0000</td>\n",
       "      <td>0.000000</td>\n",
       "      <td>1.0</td>\n",
       "      <td>243.718056</td>\n",
       "      <td>0.682091</td>\n",
       "      <td>9.955082</td>\n",
       "      <td>1.450320</td>\n",
       "      <td>11.405854</td>\n",
       "      <td>25.360394</td>\n",
       "      <td>169.800508</td>\n",
       "      <td>448.729012</td>\n",
       "      <td>185.802513</td>\n",
       "      <td>35.568156</td>\n",
       "      <td>221.370669</td>\n",
       "      <td>0.136427</td>\n",
       "    </tr>\n",
       "    <tr>\n",
       "      <th>3.370000e+14</th>\n",
       "      <td>93.959964</td>\n",
       "      <td>33.0000</td>\n",
       "      <td>0.000000</td>\n",
       "      <td>1.0</td>\n",
       "      <td>70.286111</td>\n",
       "      <td>0.497404</td>\n",
       "      <td>9.375207</td>\n",
       "      <td>3.164846</td>\n",
       "      <td>35.033169</td>\n",
       "      <td>29.473345</td>\n",
       "      <td>486.509986</td>\n",
       "      <td>142.277183</td>\n",
       "      <td>514.636025</td>\n",
       "      <td>54.028358</td>\n",
       "      <td>568.664383</td>\n",
       "      <td>0.065461</td>\n",
       "    </tr>\n",
       "    <tr>\n",
       "      <th>8.823971e+14</th>\n",
       "      <td>93.959964</td>\n",
       "      <td>2.0000</td>\n",
       "      <td>0.000000</td>\n",
       "      <td>1.0</td>\n",
       "      <td>241.623333</td>\n",
       "      <td>1.474464</td>\n",
       "      <td>8.791587</td>\n",
       "      <td>3.176664</td>\n",
       "      <td>39.044104</td>\n",
       "      <td>27.509909</td>\n",
       "      <td>41.075001</td>\n",
       "      <td>382.767159</td>\n",
       "      <td>75.051877</td>\n",
       "      <td>57.655381</td>\n",
       "      <td>132.707258</td>\n",
       "      <td>0.179614</td>\n",
       "    </tr>\n",
       "  </tbody>\n",
       "</table>\n",
       "<p>106446 rows × 16 columns</p>\n",
       "</div>"
      ],
      "text/plain": [
       "              Avg RTT Data (ms)  Avg Bearer TP Data (kbps)  \\\n",
       "3.360100e+10          46.000000                    76.0000   \n",
       "3.360100e+10          31.000000                    99.0000   \n",
       "3.360100e+10          93.959964                    97.0000   \n",
       "3.360101e+10          84.000000                   248.0000   \n",
       "3.360101e+10          59.500000                 20784.0232   \n",
       "...                         ...                        ...   \n",
       "3.379000e+10          52.000000                 10365.0000   \n",
       "3.379000e+10          40.000000                   116.0000   \n",
       "3.197021e+12          93.959964                     1.0000   \n",
       "3.370000e+14          93.959964                    33.0000   \n",
       "8.823971e+14          93.959964                     2.0000   \n",
       "\n",
       "              TCP Data Retrans. Vol (MBs)  tot number of session  \\\n",
       "3.360100e+10                     0.000000                    1.0   \n",
       "3.360100e+10                     0.000000                    1.0   \n",
       "3.360100e+10                     0.000000                    1.0   \n",
       "3.360101e+10                     0.001017                    1.0   \n",
       "3.360101e+10                     0.054125                    2.0   \n",
       "...                                   ...                    ...   \n",
       "3.379000e+10                     0.207944                    1.0   \n",
       "3.379000e+10                     0.000000                    1.0   \n",
       "3.197021e+12                     0.000000                    1.0   \n",
       "3.370000e+14                     0.000000                    1.0   \n",
       "8.823971e+14                     0.000000                    1.0   \n",
       "\n",
       "              tot sessions duration (hrs)  social media data usage (MBs)  \\\n",
       "3.360100e+10                    32.422222                       2.128730   \n",
       "3.360100e+10                    50.341667                       2.537313   \n",
       "3.360100e+10                    37.491389                       3.047584   \n",
       "3.360101e+10                    13.855000                       0.267309   \n",
       "3.360101e+10                    10.306667                       2.777617   \n",
       "...                                   ...                            ...   \n",
       "3.379000e+10                     2.447222                       0.286277   \n",
       "3.379000e+10                    39.163333                       0.475472   \n",
       "3.197021e+12                   243.718056                       0.682091   \n",
       "3.370000e+14                    70.286111                       0.497404   \n",
       "8.823971e+14                   241.623333                       1.474464   \n",
       "\n",
       "              google data usage (MBs)  Email data usage (MBs)  \\\n",
       "3.360100e+10                 4.185681                1.269686   \n",
       "3.360100e+10                 5.087722                3.154546   \n",
       "3.360100e+10                 3.283621                3.056889   \n",
       "3.360101e+10                 9.230130                2.178831   \n",
       "3.360101e+10                17.642609                3.152341   \n",
       "...                               ...                     ...   \n",
       "3.379000e+10                 7.182378                0.960269   \n",
       "3.379000e+10                 5.178170                2.397630   \n",
       "3.197021e+12                 9.955082                1.450320   \n",
       "3.370000e+14                 9.375207                3.164846   \n",
       "8.823971e+14                 8.791587                3.176664   \n",
       "\n",
       "              youtube data usage (MBs)  netflix data usage (MBs)  \\\n",
       "3.360100e+10                 20.622776                 25.921803   \n",
       "3.360100e+10                 11.856292                 10.701907   \n",
       "3.360100e+10                 20.345278                 18.457317   \n",
       "3.360101e+10                  6.654092                  1.852123   \n",
       "3.360101e+10                 39.608957                 46.922421   \n",
       "...                                ...                       ...   \n",
       "3.379000e+10                 25.413363                 14.212168   \n",
       "3.379000e+10                 18.931934                  8.135853   \n",
       "3.197021e+12                 11.405854                 25.360394   \n",
       "3.370000e+14                 35.033169                 29.473345   \n",
       "8.823971e+14                 39.044104                 27.509909   \n",
       "\n",
       "              gaming apps data usage (MBs)  other apps data usage (MBs)  \\\n",
       "3.360100e+10                    774.820958                   368.662712   \n",
       "3.360100e+10                    114.202574                   268.659659   \n",
       "3.360100e+10                    513.866151                   478.452370   \n",
       "3.360101e+10                    373.006942                    33.645346   \n",
       "3.360101e+10                   1253.888912                   767.521366   \n",
       "...                                    ...                          ...   \n",
       "3.379000e+10                    629.769668                   281.603639   \n",
       "3.379000e+10                    416.758816                   201.335061   \n",
       "3.197021e+12                    169.800508                   448.729012   \n",
       "3.370000e+14                    486.509986                   142.277183   \n",
       "8.823971e+14                     41.075001                   382.767159   \n",
       "\n",
       "              tot downloaded data (MBs)  tot uploaded data (MBs)  \\\n",
       "3.360100e+10                 803.601709                34.382923   \n",
       "3.360100e+10                 115.161118                34.431895   \n",
       "3.360100e+10                 530.872024                37.485905   \n",
       "3.360101e+10                 383.370564                19.385839   \n",
       "3.360101e+10                1299.982469                89.912917   \n",
       "...                                 ...                      ...   \n",
       "3.379000e+10                 656.056606                25.478772   \n",
       "3.379000e+10                 423.979847                34.076922   \n",
       "3.197021e+12                 185.802513                35.568156   \n",
       "3.370000e+14                 514.636025                54.028358   \n",
       "8.823971e+14                  75.051877                57.655381   \n",
       "\n",
       "              tot data usage (MBs)  satisfaction_score  \n",
       "3.360100e+10            837.984632           -0.067313  \n",
       "3.360100e+10            149.593013           -0.183090  \n",
       "3.360100e+10            568.357928            0.032627  \n",
       "3.360101e+10            402.756403           -0.115370  \n",
       "3.360101e+10           1389.895386            0.341938  \n",
       "...                            ...                 ...  \n",
       "3.379000e+10            681.535378            0.038561  \n",
       "3.379000e+10            458.056769           -0.159387  \n",
       "3.197021e+12            221.370669            0.136427  \n",
       "3.370000e+14            568.664383            0.065461  \n",
       "8.823971e+14            132.707258            0.179614  \n",
       "\n",
       "[106446 rows x 16 columns]"
      ]
     },
     "execution_count": 19,
     "metadata": {},
     "output_type": "execute_result"
    }
   ],
   "source": [
    "satisfaction_data_trimmed"
   ]
  },
  {
   "cell_type": "code",
   "execution_count": 20,
   "id": "2e7fce03-6bb2-4934-9855-93deec6a8382",
   "metadata": {},
   "outputs": [],
   "source": [
    "X = satisfaction_data_trimmed.drop(columns= [\"satisfaction_score\"])\n",
    "y = satisfaction_data[\"satisfaction_score\"]"
   ]
  },
  {
   "cell_type": "code",
   "execution_count": 35,
   "id": "32b7b4e1-251f-4038-ac77-f15c09d59e04",
   "metadata": {},
   "outputs": [
    {
     "data": {
      "text/plain": [
       "(106446, 15)"
      ]
     },
     "execution_count": 35,
     "metadata": {},
     "output_type": "execute_result"
    }
   ],
   "source": [
    "X.shape"
   ]
  },
  {
   "cell_type": "code",
   "execution_count": 37,
   "id": "4b60456a-82ed-45ef-b703-da98b496f775",
   "metadata": {},
   "outputs": [
    {
     "name": "stdout",
     "output_type": "stream",
     "text": [
      "[64.06430797019692, 8487.171010243357, 0.08243352133933705, 1.380352479191327, 38.95564243581951, 2.407051068131031, 10.27640998118684, 2.9735533008109916, 29.80310426772457, 29.784538091524762, 566.4601331982316, 565.2895428700966, 598.4550648059651, 54.126604937598614, 652.5816697435637]\n"
     ]
    }
   ],
   "source": []
  },
  {
   "cell_type": "code",
   "execution_count": 21,
   "id": "69a9f063-7613-4421-8049-0fd96fa46836",
   "metadata": {},
   "outputs": [],
   "source": [
    "X.to_csv(path + \"test_case.csv\")"
   ]
  },
  {
   "cell_type": "code",
   "execution_count": 22,
   "id": "a69ebd8a-adae-4221-a5fd-24f63a47a817",
   "metadata": {},
   "outputs": [],
   "source": [
    "# splitting the data\n",
    "X_train, X_test, y_train, y_test = tts(X,y, test_size= 0.3, random_state= 0)"
   ]
  },
  {
   "cell_type": "code",
   "execution_count": 23,
   "id": "61ab4e6b-8f1a-45f6-9b7c-52598040c4a1",
   "metadata": {},
   "outputs": [],
   "source": [
    "scaler = StandardScaler()"
   ]
  },
  {
   "cell_type": "code",
   "execution_count": 24,
   "id": "42223528-b208-460f-a9bc-2c1941b831a6",
   "metadata": {},
   "outputs": [],
   "source": [
    "# scale test_sets\n",
    "X_train_scaled = scaler.fit_transform(X_train)"
   ]
  },
  {
   "cell_type": "code",
   "execution_count": 25,
   "id": "82af72c3-669a-40fa-b305-c2877f5798e6",
   "metadata": {},
   "outputs": [],
   "source": [
    "model = RidgeCV(cv = 5)"
   ]
  },
  {
   "cell_type": "code",
   "execution_count": 26,
   "id": "85eea43d-fd29-4ecc-ab68-4fefb42e3b6c",
   "metadata": {},
   "outputs": [
    {
     "data": {
      "text/plain": [
       "RidgeCV(alphas=array([ 0.1,  1. , 10. ]), cv=5)"
      ]
     },
     "execution_count": 26,
     "metadata": {},
     "output_type": "execute_result"
    }
   ],
   "source": [
    "model.fit(X_train_scaled, y_train.values)"
   ]
  },
  {
   "cell_type": "code",
   "execution_count": 30,
   "id": "af903f6b-be84-4ac5-a7cd-ab20b191c4ee",
   "metadata": {},
   "outputs": [],
   "source": [
    "pickle.dump( model, open( path + \"model.pkl\", \"wb\" ) )"
   ]
  },
  {
   "cell_type": "markdown",
   "id": "af84d1c7-fc6c-4975-90c4-b63093a9dff1",
   "metadata": {},
   "source": [
    "#### try predicting"
   ]
  },
  {
   "cell_type": "code",
   "execution_count": 32,
   "id": "8552e2ea-b22d-4845-b763-35642048d9dc",
   "metadata": {},
   "outputs": [],
   "source": [
    "X_test_scaled = scaler.transform(X_test)"
   ]
  },
  {
   "cell_type": "code",
   "execution_count": null,
   "id": "13f85197-d417-448f-862d-58407ebe44d9",
   "metadata": {},
   "outputs": [],
   "source": [
    "y_pred = model.predict(X_test_scaled)"
   ]
  },
  {
   "cell_type": "code",
   "execution_count": 34,
   "id": "62b803ce-d49c-499a-8f40-ae99c891ae6a",
   "metadata": {},
   "outputs": [
    {
     "data": {
      "text/plain": [
       "(31934, 15)"
      ]
     },
     "execution_count": 34,
     "metadata": {},
     "output_type": "execute_result"
    }
   ],
   "source": [
    "X_test_scaled.shape"
   ]
  },
  {
   "cell_type": "code",
   "execution_count": null,
   "id": "291abccc-d78e-44f4-9b84-19e5488c8985",
   "metadata": {},
   "outputs": [],
   "source": [
    "r2_score(y_test, y_pred)"
   ]
  },
  {
   "cell_type": "markdown",
   "id": "9248512a-5e80-45ba-85a1-ae92835cb780",
   "metadata": {},
   "source": [
    "### Task 4.4 - Run a k-means (k=2) on the engagement & the experience score. \n",
    "\n",
    "### Task 4.5 - Aggregate the average engagement  & experience score per cluster."
   ]
  },
  {
   "cell_type": "code",
   "execution_count": null,
   "id": "66c42aa0-eeb9-4774-b10d-5a4f4a996faa",
   "metadata": {},
   "outputs": [],
   "source": [
    "ue_et_ux = satisfaction_data[[\"ux_score\", \"ue_score\"]]"
   ]
  },
  {
   "cell_type": "code",
   "execution_count": null,
   "id": "22b157d6-65a2-4442-a421-1afb313e6e28",
   "metadata": {},
   "outputs": [],
   "source": [
    "kmeans = KMeans(2, random_state= 0, algorithm= \"elkan\")\n",
    "kmeans.fit(scaler_ux.fit_transform(ue_et_ux))"
   ]
  },
  {
   "cell_type": "code",
   "execution_count": null,
   "id": "ddabaa06-dcfe-4d88-94d2-6fa4b48d43b8",
   "metadata": {},
   "outputs": [],
   "source": [
    "ue_et_ux[\"labels\"] = kmeans.labels_"
   ]
  },
  {
   "cell_type": "code",
   "execution_count": null,
   "id": "ce8ac5c3-6534-4a8c-9ab5-0ddf6b078002",
   "metadata": {},
   "outputs": [],
   "source": [
    "plt.scatter(x= ue_et_ux[\"ue_score\"], y= ue_et_ux[\"ux_score\"], c= ue_et_ux[\"labels\"], s= 5)\n",
    "plt.xlabel(\"user engagement score\")\n",
    "plt.ylabel(\"user experience score\")"
   ]
  },
  {
   "cell_type": "code",
   "execution_count": null,
   "id": "5ef0ae11-258b-4e15-87f6-11f03c40e515",
   "metadata": {},
   "outputs": [],
   "source": [
    "# the average scores per cluster\n",
    "ue_et_ux.groupby(\"labels\").mean()"
   ]
  },
  {
   "cell_type": "markdown",
   "id": "0e564989-460a-49f4-b069-9e616b05386f",
   "metadata": {
    "tags": []
   },
   "source": [
    "### Task 4.6 - Export your final table containing all user id + engagement, experience & satisfaction scores in your local MySQL database. Report a screenshot of a select query output on the exported table. "
   ]
  },
  {
   "cell_type": "code",
   "execution_count": null,
   "id": "9196ccd8-52a6-41fe-8149-1b29b0c30dec",
   "metadata": {},
   "outputs": [],
   "source": [
    "to_db = satisfaction_data[[\"ux_score\", \"ue_score\", \"satisfaction_score\"]].round(4)\n",
    "to_db.index.name = \"user_id\""
   ]
  },
  {
   "cell_type": "code",
   "execution_count": null,
   "id": "237ce97d-a4e5-49c1-88a6-09be459ce075",
   "metadata": {},
   "outputs": [],
   "source": [
    "to_db.to_csv(path + \"scores.csv\")"
   ]
  },
  {
   "cell_type": "code",
   "execution_count": null,
   "id": "fefa025e-d794-4254-8a11-abc12c9c458c",
   "metadata": {},
   "outputs": [],
   "source": [
    "to_db.to_csv(path + \"scores.csv\")"
   ]
  },
  {
   "cell_type": "code",
   "execution_count": null,
   "id": "21ca0b33-3aa2-4eaa-addf-73bc17c5e50d",
   "metadata": {},
   "outputs": [],
   "source": [
    "from getpass import getpass\n",
    "import mysql.connector"
   ]
  },
  {
   "cell_type": "code",
   "execution_count": null,
   "id": "930cad54-3a5b-4781-8d3f-4e5de7f6f9ce",
   "metadata": {},
   "outputs": [],
   "source": [
    "name = input(\"input username\")\n",
    "pswd = getpass(\"input password\")\n",
    "dbname = input(\"choose a name for the Database\")"
   ]
  },
  {
   "cell_type": "code",
   "execution_count": null,
   "id": "b5748fb2-3840-4b11-b5a0-e2a0681acc87",
   "metadata": {},
   "outputs": [],
   "source": [
    "# Connect to server\n",
    "cnx = mysql.connector.connect(\n",
    "    host= \"localhost\",\n",
    "    user= name,\n",
    "    password= pswd,\n",
    "    # database = \"scores\"\n",
    ")\n",
    "\n",
    "# Get a cursor\n",
    "cur = cnx.cursor()"
   ]
  },
  {
   "cell_type": "code",
   "execution_count": null,
   "id": "a2540ad6-4d4a-48f8-a54d-0e82c3b9b46d",
   "metadata": {},
   "outputs": [],
   "source": [
    "cur.execute(f\"CREATE DATABASE IF NOT EXISTS {dbname};\")\n",
    "\n",
    "cur.execute(f\"USE {dbname};\")\n",
    "\n",
    "cur.execute(\n",
    "\"\"\"CREATE TABLE IF NOT EXISTS scores (\n",
    "user_id DOUBLE NOT NULL PRIMARY KEY,\n",
    "ux_score FLOAT NOT NULL,\n",
    "ue_score FLOAT NOT NULL,\n",
    "satisfaction_score FLOAT NOT NULL\n",
    ");\"\"\"\n",
    ")\n",
    "\n",
    "try:\n",
    "    cur.execute(\n",
    "    f\"\"\"LOAD DATA INFILE \"{path}scores.csv\" \n",
    "    INTO TABLE scores\n",
    "    FIELDS TERMINATED BY ','\n",
    "    LINES TERMINATED BY '\\r\\n' \n",
    "    IGNORE 1 LINES \n",
    "    (user_id, ux_score, ue_score, satisfaction_score);\"\"\"\n",
    "    )\n",
    "except mysql.connector.errors.IntegrityError:\n",
    "    print(\"DATA ALREADY LOADED INTO TABLE\")   \n",
    "\n",
    "cur.execute(\"select * from scores\")\n",
    "data = cur.fetchall()\n",
    "data[:5]\n",
    "\n",
    "# close connection \n",
    "cnx.close()"
   ]
  },
  {
   "cell_type": "code",
   "execution_count": null,
   "id": "aaaea2dc-e6c0-4ae3-84ac-b74187e33c84",
   "metadata": {},
   "outputs": [],
   "source": []
  },
  {
   "cell_type": "markdown",
   "id": "1276daff-5fd4-4f9f-9b2b-238d2fca10a8",
   "metadata": {
    "tags": []
   },
   "source": [
    "### Task 4.7 Model deployment tracking- deploy the model and monitor your model. Here you can use Docker or other MlOps tools which can help you to track your model’s change.  Your model tracking report includes code version, start and end time, source, parameters, metrics (loss convergence), and artifacts or any output file regarding each specific run. (CSV file, screenshot)"
   ]
  },
  {
   "cell_type": "code",
   "execution_count": null,
   "id": "b902ba8b-3849-4c05-a5c6-e2876e6b2a54",
   "metadata": {},
   "outputs": [],
   "source": []
  }
 ],
 "metadata": {
  "kernelspec": {
   "display_name": "Python 3 (ipykernel)",
   "language": "python",
   "name": "python3"
  },
  "language_info": {
   "codemirror_mode": {
    "name": "ipython",
    "version": 3
   },
   "file_extension": ".py",
   "mimetype": "text/x-python",
   "name": "python",
   "nbconvert_exporter": "python",
   "pygments_lexer": "ipython3",
   "version": "3.9.7"
  }
 },
 "nbformat": 4,
 "nbformat_minor": 5
}
