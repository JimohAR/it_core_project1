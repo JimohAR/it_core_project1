{
 "cells": [
  {
   "cell_type": "code",
   "execution_count": 1,
   "metadata": {},
   "outputs": [],
   "source": [
    "import numpy as np\n",
    "import pandas as pd\n",
    "import matplotlib.pyplot as plt\n",
    "import seaborn as sns\n",
    "import os\n",
    "from sklearn.decomposition import PCA\n",
    "from sklearn.preprocessing import StandardScaler\n",
    "from sklearn.cluster import k_means"
   ]
  },
  {
   "cell_type": "code",
   "execution_count": null,
   "metadata": {},
   "outputs": [],
   "source": []
  },
  {
   "cell_type": "code",
   "execution_count": null,
   "metadata": {},
   "outputs": [],
   "source": []
  },
  {
   "cell_type": "markdown",
   "metadata": {},
   "source": [
    "# USER ENGAGEMENT ANALYSIS (TASK 2)"
   ]
  },
  {
   "cell_type": "markdown",
   "metadata": {},
   "source": [
    "In the current dataset you’re expected to track the user’s engagement using the following engagement metrics: \n",
    "●\tsessions frequency \n",
    "●\tthe duration of the session \n",
    "●\tthe sessions total traffic (download and upload (bytes))\n",
    "\n",
    "Task 2.1 - Based on the above submit python script and slide :\n",
    "●\tAggregate the above metrics per customer id (MSISDN) and report the top 10 customers per engagement metric \n",
    "●\tNormalize each engagement metric and run a k-means (k=3) to classify customers into three groups of engagement. \n",
    "●\tCompute the minimum, maximum, average & total non- normalized metrics for each cluster. Interpret your results visually with accompanying text explaining your findings.\n",
    "●\tAggregate user total traffic per application and derive the top 10 most engaged users per application\n",
    "●\tPlot the top 3 most used applications using appropriate charts.  \n",
    "●\tUsing k-means clustering algorithm, group users in k engagement clusters based on the engagement metrics: \n",
    "○\tWhat is the optimized value of k (use elbow method for this)?  \n",
    "○\tInterpret your findings."
   ]
  },
  {
   "cell_type": "code",
   "execution_count": null,
   "metadata": {},
   "outputs": [],
   "source": [
    "engagement = aggregates[[\"tot number of session\", \"tot sessions duration (hrs)\", \"tot data usage (MBs)\"]]"
   ]
  },
  {
   "cell_type": "code",
   "execution_count": null,
   "metadata": {},
   "outputs": [],
   "source": [
    "top10_users_with_high_session_freq = (engagement[\"tot number of session\"]\n",
    "                                      .sort_values(ascending = False).to_frame()\n",
    "                                      .head(10)\n",
    "                                     )\n",
    "\n",
    "top10_users_with_high_sessions_duration = (engagement[\"tot sessions duration (hrs)\"]\n",
    "                                      .sort_values(ascending = False).to_frame()\n",
    "                                      .head(10)\n",
    "                                     )\n",
    "\n",
    "top10_users_with_high_data_usage = (engagement[\"tot data usage (MBs)\"]\n",
    "                                      .sort_values(ascending = False).to_frame()\n",
    "                                      .head(10)\n",
    "                                     )"
   ]
  },
  {
   "cell_type": "code",
   "execution_count": null,
   "metadata": {},
   "outputs": [
    {
     "data": {
      "text/html": [
       "<div>\n",
       "<style scoped>\n",
       "    .dataframe tbody tr th:only-of-type {\n",
       "        vertical-align: middle;\n",
       "    }\n",
       "\n",
       "    .dataframe tbody tr th {\n",
       "        vertical-align: top;\n",
       "    }\n",
       "\n",
       "    .dataframe thead th {\n",
       "        text-align: right;\n",
       "    }\n",
       "</style>\n",
       "<table border=\"1\" class=\"dataframe\">\n",
       "  <thead>\n",
       "    <tr style=\"text-align: right;\">\n",
       "      <th></th>\n",
       "      <th>tot sessions duration (hrs)</th>\n",
       "    </tr>\n",
       "    <tr>\n",
       "      <th>MSISDN</th>\n",
       "      <th></th>\n",
       "    </tr>\n",
       "  </thead>\n",
       "  <tbody>\n",
       "    <tr>\n",
       "      <th>33627084803</th>\n",
       "      <td>359.504444</td>\n",
       "    </tr>\n",
       "    <tr>\n",
       "      <th>33662998365</th>\n",
       "      <td>359.318611</td>\n",
       "    </tr>\n",
       "    <tr>\n",
       "      <th>33762433011</th>\n",
       "      <td>357.366667</td>\n",
       "    </tr>\n",
       "    <tr>\n",
       "      <th>33659532268</th>\n",
       "      <td>356.520833</td>\n",
       "    </tr>\n",
       "    <tr>\n",
       "      <th>33650929884</th>\n",
       "      <td>355.551111</td>\n",
       "    </tr>\n",
       "    <tr>\n",
       "      <th>33664872535</th>\n",
       "      <td>353.680556</td>\n",
       "    </tr>\n",
       "    <tr>\n",
       "      <th>33650936804</th>\n",
       "      <td>353.205278</td>\n",
       "    </tr>\n",
       "    <tr>\n",
       "      <th>33761528796</th>\n",
       "      <td>353.054722</td>\n",
       "    </tr>\n",
       "    <tr>\n",
       "      <th>33664990693</th>\n",
       "      <td>353.001111</td>\n",
       "    </tr>\n",
       "    <tr>\n",
       "      <th>33659993358</th>\n",
       "      <td>350.575556</td>\n",
       "    </tr>\n",
       "  </tbody>\n",
       "</table>\n",
       "</div>"
      ],
      "text/plain": [
       "             tot sessions duration (hrs)\n",
       "MSISDN                                  \n",
       "33627084803                   359.504444\n",
       "33662998365                   359.318611\n",
       "33762433011                   357.366667\n",
       "33659532268                   356.520833\n",
       "33650929884                   355.551111\n",
       "33664872535                   353.680556\n",
       "33650936804                   353.205278\n",
       "33761528796                   353.054722\n",
       "33664990693                   353.001111\n",
       "33659993358                   350.575556"
      ]
     },
     "metadata": {},
     "output_type": "display_data"
    }
   ],
   "source": []
  }
 ],
 "metadata": {
  "interpreter": {
   "hash": "586fe34d15106bb7669a4d03fcdd8674cc0ed2b6c91395f15836e22713ffa223"
  },
  "kernelspec": {
   "display_name": "Python 3 (ipykernel)",
   "language": "python",
   "name": "python3"
  },
  "language_info": {
   "codemirror_mode": {
    "name": "ipython",
    "version": 3
   },
   "file_extension": ".py",
   "mimetype": "text/x-python",
   "name": "python",
   "nbconvert_exporter": "python",
   "pygments_lexer": "ipython3",
   "version": "3.9.7"
  }
 },
 "nbformat": 4,
 "nbformat_minor": 4
}
