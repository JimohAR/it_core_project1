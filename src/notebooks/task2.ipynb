{
 "cells": [
  {
   "cell_type": "code",
   "execution_count": 1,
   "metadata": {},
   "outputs": [],
   "source": [
    "import numpy as np\n",
    "import pandas as pd\n",
    "import matplotlib.pyplot as plt\n",
    "import seaborn as sns\n",
    "import os\n",
    "import sys\n",
    "from sklearn.decomposition import PCA\n",
    "from sklearn.preprocessing import MinMaxScaler\n",
    "from sklearn.cluster import KMeans"
   ]
  },
  {
   "cell_type": "code",
   "execution_count": 2,
   "metadata": {},
   "outputs": [
    {
     "data": {
      "text/plain": [
       "['.ipynb_checkpoints',\n",
       " 'deployment.ipynb',\n",
       " 'task1_exp.ipynb',\n",
       " 'task2.ipynb',\n",
       " 'task3.ipynb',\n",
       " 'task4 doc.txt',\n",
       " 'task4.ipynb']"
      ]
     },
     "execution_count": 2,
     "metadata": {},
     "output_type": "execute_result"
    }
   ],
   "source": [
    "base_path = os.getcwd().split(\"it_core_project1\")[0] + \"it_core_project1\"\n",
    "sys.path.append(base_path)\n",
    "\n",
    "from src.scripts.utils import set_path"
   ]
  },
  {
   "cell_type": "code",
   "execution_count": 2,
   "metadata": {},
   "outputs": [],
   "source": [
    "%matplotlib widget"
   ]
  },
  {
   "cell_type": "markdown",
   "metadata": {},
   "source": [
    "# USER ENGAGEMENT ANALYSIS (TASK 2)"
   ]
  },
  {
   "cell_type": "markdown",
   "metadata": {},
   "source": [
    "In the current dataset you’re expected to track the user’s engagement using the following engagement metrics: \n",
    "●\tsessions frequency \n",
    "●\tthe duration of the session \n",
    "●\tthe sessions total traffic (download and upload (bytes))\n",
    "\n",
    "Task 2.1 - Based on the above submit python script and slide :\n",
    "●\tAggregate the above metrics per customer id (MSISDN) and report the top 10 customers per engagement metric \n",
    "●\tNormalize each engagement metric and run a k-means (k=3) to classify customers into three groups of engagement. \n",
    "●\tCompute the minimum, maximum, average & total non- normalized metrics for each cluster. Interpret your results visually with accompanying text explaining your findings.\n",
    "●\tAggregate user total traffic per application and derive the top 10 most engaged users per application\n",
    "●\tPlot the top 3 most used applications using appropriate charts.  \n",
    "●\tUsing k-means clustering algorithm, group users in k engagement clusters based on the engagement metrics: \n",
    "○\tWhat is the optimized value of k (use elbow method for this)?  \n",
    "○\tInterpret your findings."
   ]
  },
  {
   "cell_type": "code",
   "execution_count": 3,
   "metadata": {},
   "outputs": [
    {
     "name": "stdout",
     "output_type": "stream",
     "text": [
      "\n",
      ">> set up path to the data directory\n"
     ]
    }
   ],
   "source": [
    "path = set_path(\"data\")"
   ]
  },
  {
   "cell_type": "code",
   "execution_count": 4,
   "metadata": {},
   "outputs": [],
   "source": [
    "def resolve_outlier_iqr(df):\n",
    "    data = df.copy()\n",
    "    for i in data.select_dtypes([\"int\", \"float\"]).keys():\n",
    "        Q1,Q3 = data[i].quantile([.20,.80])\n",
    "        IQR = Q3 - Q1\n",
    "        lower_range = Q1 - (1.5 * IQR)\n",
    "        upper_range = Q3 + (1.5 * IQR)\n",
    "\n",
    "        lr_ind = data[i][data[i] < lower_range].keys()\n",
    "        ur_ind = data[i][data[i] > upper_range].keys()\n",
    "\n",
    "        data.loc[lr_ind, i] = np.nan\n",
    "        data.loc[ur_ind, i] = np.nan\n",
    "        data[i].fillna(data[i].mean(), inplace= True)\n",
    "    return data"
   ]
  },
  {
   "cell_type": "code",
   "execution_count": 5,
   "metadata": {},
   "outputs": [],
   "source": [
    "def resolve_outlier(df):\n",
    "    ## using z-score, then iqr\n",
    "    data = df.copy()\n",
    "    for i in data.select_dtypes([\"int\", \"float\"]).keys():\n",
    "        outliers = data[i][(abs((data[i] - data[i].mean()) / data[i].std()) > 3)].keys()\n",
    "        data.loc[outliers, i] = np.nan\n",
    "        data[i].fillna(data[i].mean(), inplace= True)\n",
    "    ## iqr\n",
    "    data = resolve_outlier_iqr(data)\n",
    "    return data"
   ]
  },
  {
   "cell_type": "code",
   "execution_count": 6,
   "metadata": {},
   "outputs": [],
   "source": [
    "aggregates = pd.read_csv(path + \"aggregates.csv\", index_col=[\"MSISDN\"])"
   ]
  },
  {
   "cell_type": "code",
   "execution_count": 7,
   "metadata": {},
   "outputs": [],
   "source": [
    "engagement = aggregates[[\"tot number of session\", \"tot sessions duration (hrs)\", \"tot data usage (MBs)\"]]"
   ]
  },
  {
   "cell_type": "code",
   "execution_count": 8,
   "metadata": {},
   "outputs": [],
   "source": [
    "top10_users_with_high_session_freq = (engagement[\"tot number of session\"]\n",
    "                                      .sort_values(ascending = False).to_frame()\n",
    "                                      .head(10)\n",
    "                                     )\n",
    "\n",
    "top10_users_with_high_sessions_duration = (engagement[\"tot sessions duration (hrs)\"]\n",
    "                                      .sort_values(ascending = False).to_frame()\n",
    "                                      .head(10)\n",
    "                                     )\n",
    "\n",
    "top10_users_with_high_data_usage = (engagement[\"tot data usage (MBs)\"]\n",
    "                                      .sort_values(ascending = False).to_frame()\n",
    "                                      .head(10)\n",
    "                                     )"
   ]
  },
  {
   "cell_type": "code",
   "execution_count": 9,
   "metadata": {},
   "outputs": [
    {
     "data": {
      "text/html": [
       "<div>\n",
       "<style scoped>\n",
       "    .dataframe tbody tr th:only-of-type {\n",
       "        vertical-align: middle;\n",
       "    }\n",
       "\n",
       "    .dataframe tbody tr th {\n",
       "        vertical-align: top;\n",
       "    }\n",
       "\n",
       "    .dataframe thead th {\n",
       "        text-align: right;\n",
       "    }\n",
       "</style>\n",
       "<table border=\"1\" class=\"dataframe\">\n",
       "  <thead>\n",
       "    <tr style=\"text-align: right;\">\n",
       "      <th></th>\n",
       "      <th>tot data usage (MBs)</th>\n",
       "    </tr>\n",
       "    <tr>\n",
       "      <th>MSISDN</th>\n",
       "      <th></th>\n",
       "    </tr>\n",
       "  </thead>\n",
       "  <tbody>\n",
       "    <tr>\n",
       "      <th>33650426463</th>\n",
       "      <td>4860.047088</td>\n",
       "    </tr>\n",
       "    <tr>\n",
       "      <th>33666169635</th>\n",
       "      <td>4550.902257</td>\n",
       "    </tr>\n",
       "    <tr>\n",
       "      <th>33665354456</th>\n",
       "      <td>4387.362709</td>\n",
       "    </tr>\n",
       "    <tr>\n",
       "      <th>33699904865</th>\n",
       "      <td>4270.838906</td>\n",
       "    </tr>\n",
       "    <tr>\n",
       "      <th>33665550456</th>\n",
       "      <td>4177.437149</td>\n",
       "    </tr>\n",
       "    <tr>\n",
       "      <th>33699382524</th>\n",
       "      <td>4070.142609</td>\n",
       "    </tr>\n",
       "    <tr>\n",
       "      <th>33763573482</th>\n",
       "      <td>4041.040859</td>\n",
       "    </tr>\n",
       "    <tr>\n",
       "      <th>33661622844</th>\n",
       "      <td>4017.970123</td>\n",
       "    </tr>\n",
       "    <tr>\n",
       "      <th>33658849197</th>\n",
       "      <td>3979.991702</td>\n",
       "    </tr>\n",
       "    <tr>\n",
       "      <th>33662141079</th>\n",
       "      <td>3973.398366</td>\n",
       "    </tr>\n",
       "  </tbody>\n",
       "</table>\n",
       "</div>"
      ],
      "text/plain": [
       "             tot data usage (MBs)\n",
       "MSISDN                           \n",
       "33650426463           4860.047088\n",
       "33666169635           4550.902257\n",
       "33665354456           4387.362709\n",
       "33699904865           4270.838906\n",
       "33665550456           4177.437149\n",
       "33699382524           4070.142609\n",
       "33763573482           4041.040859\n",
       "33661622844           4017.970123\n",
       "33658849197           3979.991702\n",
       "33662141079           3973.398366"
      ]
     },
     "execution_count": 9,
     "metadata": {},
     "output_type": "execute_result"
    }
   ],
   "source": [
    "top10_users_with_high_data_usage"
   ]
  },
  {
   "cell_type": "code",
   "execution_count": 10,
   "metadata": {},
   "outputs": [],
   "source": [
    "scaler = MinMaxScaler()"
   ]
  },
  {
   "cell_type": "code",
   "execution_count": 11,
   "metadata": {},
   "outputs": [],
   "source": [
    "agg_scaled = pd.DataFrame(scaler.fit_transform(resolve_outlier(aggregates)), columns= aggregates.columns)"
   ]
  },
  {
   "cell_type": "code",
   "execution_count": 12,
   "metadata": {},
   "outputs": [],
   "source": [
    "kmeans = KMeans(n_clusters=3, random_state=0)"
   ]
  },
  {
   "cell_type": "code",
   "execution_count": 13,
   "metadata": {},
   "outputs": [
    {
     "data": {
      "text/plain": [
       "KMeans(n_clusters=3, random_state=0)"
      ]
     },
     "execution_count": 13,
     "metadata": {},
     "output_type": "execute_result"
    }
   ],
   "source": [
    "kmeans.fit(agg_scaled)"
   ]
  },
  {
   "cell_type": "code",
   "execution_count": 14,
   "metadata": {},
   "outputs": [],
   "source": [
    "agg_plus_cluster = aggregates.copy()\n",
    "agg_plus_cluster[\"labels\"] = kmeans.labels_"
   ]
  },
  {
   "cell_type": "code",
   "execution_count": 15,
   "metadata": {},
   "outputs": [],
   "source": [
    "task2_cluster_centers = pd.DataFrame(scaler.inverse_transform(kmeans.cluster_centers_), columns = aggregates.columns)"
   ]
  },
  {
   "cell_type": "code",
   "execution_count": 16,
   "metadata": {},
   "outputs": [],
   "source": [
    "mapper = dict(zip(task2_cluster_centers[\"tot data usage (MBs)\"].sort_values().keys(), [\"less engagement\", \"medium engagement\", \"much engagement\"]))"
   ]
  },
  {
   "cell_type": "code",
   "execution_count": 17,
   "metadata": {},
   "outputs": [],
   "source": [
    "task2_cluster_centers = task2_cluster_centers.rename(index = mapper).rename_axis(\"labels\")\n",
    "task2_cluster_centers.to_csv(path + \"user_engagement_cluster_centers.csv\")"
   ]
  },
  {
   "cell_type": "code",
   "execution_count": 18,
   "metadata": {},
   "outputs": [],
   "source": [
    "agg_plus_cluster[\"labels\"] = agg_plus_cluster[\"labels\"].map(mapper)"
   ]
  },
  {
   "cell_type": "markdown",
   "metadata": {
    "tags": []
   },
   "source": [
    "### Compute the minimum, maximum, average & total non- normalized metrics for each cluster. Interpret your results visually with accompanying text explaining your findings."
   ]
  },
  {
   "cell_type": "code",
   "execution_count": 19,
   "metadata": {
    "tags": []
   },
   "outputs": [
    {
     "data": {
      "text/html": [
       "<style type=\"text/css\">\n",
       "</style>\n",
       "<table id=\"T_1fef7_\">\n",
       "  <thead>\n",
       "    <tr>\n",
       "      <th class=\"index_name level0\" >labels</th>\n",
       "      <th class=\"col_heading level0 col0\" >less engagement</th>\n",
       "      <th class=\"col_heading level0 col1\" >medium engagement</th>\n",
       "      <th class=\"col_heading level0 col2\" >much engagement</th>\n",
       "    </tr>\n",
       "  </thead>\n",
       "  <tbody>\n",
       "    <tr>\n",
       "      <th id=\"T_1fef7_level0_row0\" class=\"row_heading level0 row0\" >tot number of session</th>\n",
       "      <td id=\"T_1fef7_row0_col0\" class=\"data row0 col0\" >1.006169</td>\n",
       "      <td id=\"T_1fef7_row0_col1\" class=\"data row0 col1\" >1.143942</td>\n",
       "      <td id=\"T_1fef7_row0_col2\" class=\"data row0 col2\" >2.275222</td>\n",
       "    </tr>\n",
       "    <tr>\n",
       "      <th id=\"T_1fef7_level0_row1\" class=\"row_heading level0 row1\" >tot sessions duration (hrs)</th>\n",
       "      <td id=\"T_1fef7_row1_col0\" class=\"data row1 col0\" >28.643424</td>\n",
       "      <td id=\"T_1fef7_row1_col1\" class=\"data row1 col1\" >33.271918</td>\n",
       "      <td id=\"T_1fef7_row1_col2\" class=\"data row1 col2\" >62.364477</td>\n",
       "    </tr>\n",
       "    <tr>\n",
       "      <th id=\"T_1fef7_level0_row2\" class=\"row_heading level0 row2\" >social media data usage (MBs)</th>\n",
       "      <td id=\"T_1fef7_row2_col0\" class=\"data row2 col0\" >1.741781</td>\n",
       "      <td id=\"T_1fef7_row2_col1\" class=\"data row2 col1\" >2.003693</td>\n",
       "      <td id=\"T_1fef7_row2_col2\" class=\"data row2 col2\" >3.972197</td>\n",
       "    </tr>\n",
       "    <tr>\n",
       "      <th id=\"T_1fef7_level0_row3\" class=\"row_heading level0 row3\" >google data usage (MBs)</th>\n",
       "      <td id=\"T_1fef7_row3_col0\" class=\"data row3 col0\" >7.434825</td>\n",
       "      <td id=\"T_1fef7_row3_col1\" class=\"data row3 col1\" >8.571129</td>\n",
       "      <td id=\"T_1fef7_row3_col2\" class=\"data row3 col2\" >16.936597</td>\n",
       "    </tr>\n",
       "    <tr>\n",
       "      <th id=\"T_1fef7_level0_row4\" class=\"row_heading level0 row4\" >Email data usage (MBs)</th>\n",
       "      <td id=\"T_1fef7_row4_col0\" class=\"data row4 col0\" >2.162402</td>\n",
       "      <td id=\"T_1fef7_row4_col1\" class=\"data row4 col1\" >2.478249</td>\n",
       "      <td id=\"T_1fef7_row4_col2\" class=\"data row4 col2\" >4.887854</td>\n",
       "    </tr>\n",
       "    <tr>\n",
       "      <th id=\"T_1fef7_level0_row5\" class=\"row_heading level0 row5\" >youtube data usage (MBs)</th>\n",
       "      <td id=\"T_1fef7_row5_col0\" class=\"data row5 col0\" >21.585511</td>\n",
       "      <td id=\"T_1fef7_row5_col1\" class=\"data row5 col1\" >24.865649</td>\n",
       "      <td id=\"T_1fef7_row5_col2\" class=\"data row5 col2\" >49.073259</td>\n",
       "    </tr>\n",
       "    <tr>\n",
       "      <th id=\"T_1fef7_level0_row6\" class=\"row_heading level0 row6\" >netflix data usage (MBs)</th>\n",
       "      <td id=\"T_1fef7_row6_col0\" class=\"data row6 col0\" >21.550335</td>\n",
       "      <td id=\"T_1fef7_row6_col1\" class=\"data row6 col1\" >24.765109</td>\n",
       "      <td id=\"T_1fef7_row6_col2\" class=\"data row6 col2\" >49.204858</td>\n",
       "    </tr>\n",
       "    <tr>\n",
       "      <th id=\"T_1fef7_level0_row7\" class=\"row_heading level0 row7\" >gaming apps data usage (MBs)</th>\n",
       "      <td id=\"T_1fef7_row7_col0\" class=\"data row7 col0\" >209.304470</td>\n",
       "      <td id=\"T_1fef7_row7_col1\" class=\"data row7 col1\" >665.690679</td>\n",
       "      <td id=\"T_1fef7_row7_col2\" class=\"data row7 col2\" >931.323524</td>\n",
       "    </tr>\n",
       "    <tr>\n",
       "      <th id=\"T_1fef7_level0_row8\" class=\"row_heading level0 row8\" >other apps data usage (MBs)</th>\n",
       "      <td id=\"T_1fef7_row8_col0\" class=\"data row8 col0\" >410.194389</td>\n",
       "      <td id=\"T_1fef7_row8_col1\" class=\"data row8 col1\" >470.607694</td>\n",
       "      <td id=\"T_1fef7_row8_col2\" class=\"data row8 col2\" >931.299281</td>\n",
       "    </tr>\n",
       "    <tr>\n",
       "      <th id=\"T_1fef7_level0_row9\" class=\"row_heading level0 row9\" >tot downloaded data (MBs)</th>\n",
       "      <td id=\"T_1fef7_row9_col0\" class=\"data row9 col0\" >232.423783</td>\n",
       "      <td id=\"T_1fef7_row9_col1\" class=\"data row9 col1\" >692.412324</td>\n",
       "      <td id=\"T_1fef7_row9_col2\" class=\"data row9 col2\" >984.042207</td>\n",
       "    </tr>\n",
       "    <tr>\n",
       "      <th id=\"T_1fef7_level0_row10\" class=\"row_heading level0 row10\" >tot uploaded data (MBs)</th>\n",
       "      <td id=\"T_1fef7_row10_col0\" class=\"data row10 col0\" >39.283157</td>\n",
       "      <td id=\"T_1fef7_row10_col1\" class=\"data row10 col1\" >44.980662</td>\n",
       "      <td id=\"T_1fef7_row10_col2\" class=\"data row10 col2\" >89.279992</td>\n",
       "    </tr>\n",
       "    <tr>\n",
       "      <th id=\"T_1fef7_level0_row11\" class=\"row_heading level0 row11\" >tot data usage (MBs)</th>\n",
       "      <td id=\"T_1fef7_row11_col0\" class=\"data row11 col0\" >271.706940</td>\n",
       "      <td id=\"T_1fef7_row11_col1\" class=\"data row11 col1\" >737.392985</td>\n",
       "      <td id=\"T_1fef7_row11_col2\" class=\"data row11 col2\" >1073.322199</td>\n",
       "    </tr>\n",
       "  </tbody>\n",
       "</table>\n"
      ],
      "text/plain": [
       "<pandas.io.formats.style.Styler at 0x274aca61b50>"
      ]
     },
     "execution_count": 19,
     "metadata": {},
     "output_type": "execute_result"
    }
   ],
   "source": [
    "agg_plus_cluster.groupby(\"labels\").mean().T.style"
   ]
  },
  {
   "cell_type": "code",
   "execution_count": 20,
   "metadata": {},
   "outputs": [
    {
     "data": {
      "text/html": [
       "<style type=\"text/css\">\n",
       "</style>\n",
       "<table id=\"T_734b5_\">\n",
       "  <thead>\n",
       "    <tr>\n",
       "      <th class=\"index_name level0\" >labels</th>\n",
       "      <th class=\"col_heading level0 col0\" >less engagement</th>\n",
       "      <th class=\"col_heading level0 col1\" >medium engagement</th>\n",
       "      <th class=\"col_heading level0 col2\" >much engagement</th>\n",
       "    </tr>\n",
       "  </thead>\n",
       "  <tbody>\n",
       "    <tr>\n",
       "      <th id=\"T_734b5_level0_row0\" class=\"row_heading level0 row0\" >tot number of session</th>\n",
       "      <td id=\"T_734b5_row0_col0\" class=\"data row0 col0\" >2.000000</td>\n",
       "      <td id=\"T_734b5_row0_col1\" class=\"data row0 col1\" >11.000000</td>\n",
       "      <td id=\"T_734b5_row0_col2\" class=\"data row0 col2\" >6.000000</td>\n",
       "    </tr>\n",
       "    <tr>\n",
       "      <th id=\"T_734b5_level0_row1\" class=\"row_heading level0 row1\" >tot sessions duration (hrs)</th>\n",
       "      <td id=\"T_734b5_row1_col0\" class=\"data row1 col0\" >327.088056</td>\n",
       "      <td id=\"T_734b5_row1_col1\" class=\"data row1 col1\" >359.504444</td>\n",
       "      <td id=\"T_734b5_row1_col2\" class=\"data row1 col2\" >353.680556</td>\n",
       "    </tr>\n",
       "    <tr>\n",
       "      <th id=\"T_734b5_level0_row2\" class=\"row_heading level0 row2\" >social media data usage (MBs)</th>\n",
       "      <td id=\"T_734b5_row2_col0\" class=\"data row2 col0\" >6.783621</td>\n",
       "      <td id=\"T_734b5_row2_col1\" class=\"data row2 col1\" >22.698244</td>\n",
       "      <td id=\"T_734b5_row2_col2\" class=\"data row2 col2\" >14.190845</td>\n",
       "    </tr>\n",
       "    <tr>\n",
       "      <th id=\"T_734b5_level0_row3\" class=\"row_heading level0 row3\" >google data usage (MBs)</th>\n",
       "      <td id=\"T_734b5_row3_col0\" class=\"data row3 col0\" >27.493017</td>\n",
       "      <td id=\"T_734b5_row3_col1\" class=\"data row3 col1\" >83.574781</td>\n",
       "      <td id=\"T_734b5_row3_col2\" class=\"data row3 col2\" >50.450966</td>\n",
       "    </tr>\n",
       "    <tr>\n",
       "      <th id=\"T_734b5_level0_row4\" class=\"row_heading level0 row4\" >Email data usage (MBs)</th>\n",
       "      <td id=\"T_734b5_row4_col0\" class=\"data row4 col0\" >8.075029</td>\n",
       "      <td id=\"T_734b5_row4_col1\" class=\"data row4 col1\" >21.861470</td>\n",
       "      <td id=\"T_734b5_row4_col2\" class=\"data row4 col2\" >17.333397</td>\n",
       "    </tr>\n",
       "    <tr>\n",
       "      <th id=\"T_734b5_level0_row5\" class=\"row_heading level0 row5\" >youtube data usage (MBs)</th>\n",
       "      <td id=\"T_734b5_row5_col0\" class=\"data row5 col0\" >71.286839</td>\n",
       "      <td id=\"T_734b5_row5_col1\" class=\"data row5 col1\" >237.480580</td>\n",
       "      <td id=\"T_734b5_row5_col2\" class=\"data row5 col2\" >158.641153</td>\n",
       "    </tr>\n",
       "    <tr>\n",
       "      <th id=\"T_734b5_level0_row6\" class=\"row_heading level0 row6\" >netflix data usage (MBs)</th>\n",
       "      <td id=\"T_734b5_row6_col0\" class=\"data row6 col0\" >66.785300</td>\n",
       "      <td id=\"T_734b5_row6_col1\" class=\"data row6 col1\" >222.896995</td>\n",
       "      <td id=\"T_734b5_row6_col2\" class=\"data row6 col2\" >148.620392</td>\n",
       "    </tr>\n",
       "    <tr>\n",
       "      <th id=\"T_734b5_level0_row7\" class=\"row_heading level0 row7\" >gaming apps data usage (MBs)</th>\n",
       "      <td id=\"T_734b5_row7_col0\" class=\"data row7 col0\" >441.201642</td>\n",
       "      <td id=\"T_734b5_row7_col1\" class=\"data row7 col1\" >4343.421737</td>\n",
       "      <td id=\"T_734b5_row7_col2\" class=\"data row7 col2\" >3060.295975</td>\n",
       "    </tr>\n",
       "    <tr>\n",
       "      <th id=\"T_734b5_level0_row8\" class=\"row_heading level0 row8\" >other apps data usage (MBs)</th>\n",
       "      <td id=\"T_734b5_row8_col0\" class=\"data row8 col0\" >1478.810741</td>\n",
       "      <td id=\"T_734b5_row8_col1\" class=\"data row8 col1\" >4392.022408</td>\n",
       "      <td id=\"T_734b5_row8_col2\" class=\"data row8 col2\" >3115.962507</td>\n",
       "    </tr>\n",
       "    <tr>\n",
       "      <th id=\"T_734b5_level0_row9\" class=\"row_heading level0 row9\" >tot downloaded data (MBs)</th>\n",
       "      <td id=\"T_734b5_row9_col0\" class=\"data row9 col0\" >453.979897</td>\n",
       "      <td id=\"T_734b5_row9_col1\" class=\"data row9 col1\" >4545.041459</td>\n",
       "      <td id=\"T_734b5_row9_col2\" class=\"data row9 col2\" >3161.623498</td>\n",
       "    </tr>\n",
       "    <tr>\n",
       "      <th id=\"T_734b5_level0_row10\" class=\"row_heading level0 row10\" >tot uploaded data (MBs)</th>\n",
       "      <td id=\"T_734b5_row10_col0\" class=\"data row10 col0\" >100.665612</td>\n",
       "      <td id=\"T_734b5_row10_col1\" class=\"data row10 col1\" >435.936921</td>\n",
       "      <td id=\"T_734b5_row10_col2\" class=\"data row10 col2\" >251.618708</td>\n",
       "    </tr>\n",
       "    <tr>\n",
       "      <th id=\"T_734b5_level0_row11\" class=\"row_heading level0 row11\" >tot data usage (MBs)</th>\n",
       "      <td id=\"T_734b5_row11_col0\" class=\"data row11 col0\" >499.989498</td>\n",
       "      <td id=\"T_734b5_row11_col1\" class=\"data row11 col1\" >4860.047088</td>\n",
       "      <td id=\"T_734b5_row11_col2\" class=\"data row11 col2\" >3359.775573</td>\n",
       "    </tr>\n",
       "  </tbody>\n",
       "</table>\n"
      ],
      "text/plain": [
       "<pandas.io.formats.style.Styler at 0x274aefc0400>"
      ]
     },
     "execution_count": 20,
     "metadata": {},
     "output_type": "execute_result"
    }
   ],
   "source": [
    "agg_plus_cluster.groupby(\"labels\").max().T.style"
   ]
  },
  {
   "cell_type": "code",
   "execution_count": 21,
   "metadata": {},
   "outputs": [
    {
     "data": {
      "text/html": [
       "<style type=\"text/css\">\n",
       "</style>\n",
       "<table id=\"T_d3107_\">\n",
       "  <thead>\n",
       "    <tr>\n",
       "      <th class=\"index_name level0\" >labels</th>\n",
       "      <th class=\"col_heading level0 col0\" >less engagement</th>\n",
       "      <th class=\"col_heading level0 col1\" >medium engagement</th>\n",
       "      <th class=\"col_heading level0 col2\" >much engagement</th>\n",
       "    </tr>\n",
       "  </thead>\n",
       "  <tbody>\n",
       "    <tr>\n",
       "      <th id=\"T_d3107_level0_row0\" class=\"row_heading level0 row0\" >tot number of session</th>\n",
       "      <td id=\"T_d3107_row0_col0\" class=\"data row0 col0\" >1.006169</td>\n",
       "      <td id=\"T_d3107_row0_col1\" class=\"data row0 col1\" >1.143942</td>\n",
       "      <td id=\"T_d3107_row0_col2\" class=\"data row0 col2\" >2.275222</td>\n",
       "    </tr>\n",
       "    <tr>\n",
       "      <th id=\"T_d3107_level0_row1\" class=\"row_heading level0 row1\" >tot sessions duration (hrs)</th>\n",
       "      <td id=\"T_d3107_row1_col0\" class=\"data row1 col0\" >28.643424</td>\n",
       "      <td id=\"T_d3107_row1_col1\" class=\"data row1 col1\" >33.271918</td>\n",
       "      <td id=\"T_d3107_row1_col2\" class=\"data row1 col2\" >62.364477</td>\n",
       "    </tr>\n",
       "    <tr>\n",
       "      <th id=\"T_d3107_level0_row2\" class=\"row_heading level0 row2\" >social media data usage (MBs)</th>\n",
       "      <td id=\"T_d3107_row2_col0\" class=\"data row2 col0\" >1.741781</td>\n",
       "      <td id=\"T_d3107_row2_col1\" class=\"data row2 col1\" >2.003693</td>\n",
       "      <td id=\"T_d3107_row2_col2\" class=\"data row2 col2\" >3.972197</td>\n",
       "    </tr>\n",
       "    <tr>\n",
       "      <th id=\"T_d3107_level0_row3\" class=\"row_heading level0 row3\" >google data usage (MBs)</th>\n",
       "      <td id=\"T_d3107_row3_col0\" class=\"data row3 col0\" >7.434825</td>\n",
       "      <td id=\"T_d3107_row3_col1\" class=\"data row3 col1\" >8.571129</td>\n",
       "      <td id=\"T_d3107_row3_col2\" class=\"data row3 col2\" >16.936597</td>\n",
       "    </tr>\n",
       "    <tr>\n",
       "      <th id=\"T_d3107_level0_row4\" class=\"row_heading level0 row4\" >Email data usage (MBs)</th>\n",
       "      <td id=\"T_d3107_row4_col0\" class=\"data row4 col0\" >2.162402</td>\n",
       "      <td id=\"T_d3107_row4_col1\" class=\"data row4 col1\" >2.478249</td>\n",
       "      <td id=\"T_d3107_row4_col2\" class=\"data row4 col2\" >4.887854</td>\n",
       "    </tr>\n",
       "    <tr>\n",
       "      <th id=\"T_d3107_level0_row5\" class=\"row_heading level0 row5\" >youtube data usage (MBs)</th>\n",
       "      <td id=\"T_d3107_row5_col0\" class=\"data row5 col0\" >21.585511</td>\n",
       "      <td id=\"T_d3107_row5_col1\" class=\"data row5 col1\" >24.865649</td>\n",
       "      <td id=\"T_d3107_row5_col2\" class=\"data row5 col2\" >49.073259</td>\n",
       "    </tr>\n",
       "    <tr>\n",
       "      <th id=\"T_d3107_level0_row6\" class=\"row_heading level0 row6\" >netflix data usage (MBs)</th>\n",
       "      <td id=\"T_d3107_row6_col0\" class=\"data row6 col0\" >21.550335</td>\n",
       "      <td id=\"T_d3107_row6_col1\" class=\"data row6 col1\" >24.765109</td>\n",
       "      <td id=\"T_d3107_row6_col2\" class=\"data row6 col2\" >49.204858</td>\n",
       "    </tr>\n",
       "    <tr>\n",
       "      <th id=\"T_d3107_level0_row7\" class=\"row_heading level0 row7\" >gaming apps data usage (MBs)</th>\n",
       "      <td id=\"T_d3107_row7_col0\" class=\"data row7 col0\" >209.304470</td>\n",
       "      <td id=\"T_d3107_row7_col1\" class=\"data row7 col1\" >665.690679</td>\n",
       "      <td id=\"T_d3107_row7_col2\" class=\"data row7 col2\" >931.323524</td>\n",
       "    </tr>\n",
       "    <tr>\n",
       "      <th id=\"T_d3107_level0_row8\" class=\"row_heading level0 row8\" >other apps data usage (MBs)</th>\n",
       "      <td id=\"T_d3107_row8_col0\" class=\"data row8 col0\" >410.194389</td>\n",
       "      <td id=\"T_d3107_row8_col1\" class=\"data row8 col1\" >470.607694</td>\n",
       "      <td id=\"T_d3107_row8_col2\" class=\"data row8 col2\" >931.299281</td>\n",
       "    </tr>\n",
       "    <tr>\n",
       "      <th id=\"T_d3107_level0_row9\" class=\"row_heading level0 row9\" >tot downloaded data (MBs)</th>\n",
       "      <td id=\"T_d3107_row9_col0\" class=\"data row9 col0\" >232.423783</td>\n",
       "      <td id=\"T_d3107_row9_col1\" class=\"data row9 col1\" >692.412324</td>\n",
       "      <td id=\"T_d3107_row9_col2\" class=\"data row9 col2\" >984.042207</td>\n",
       "    </tr>\n",
       "    <tr>\n",
       "      <th id=\"T_d3107_level0_row10\" class=\"row_heading level0 row10\" >tot uploaded data (MBs)</th>\n",
       "      <td id=\"T_d3107_row10_col0\" class=\"data row10 col0\" >39.283157</td>\n",
       "      <td id=\"T_d3107_row10_col1\" class=\"data row10 col1\" >44.980662</td>\n",
       "      <td id=\"T_d3107_row10_col2\" class=\"data row10 col2\" >89.279992</td>\n",
       "    </tr>\n",
       "    <tr>\n",
       "      <th id=\"T_d3107_level0_row11\" class=\"row_heading level0 row11\" >tot data usage (MBs)</th>\n",
       "      <td id=\"T_d3107_row11_col0\" class=\"data row11 col0\" >271.706940</td>\n",
       "      <td id=\"T_d3107_row11_col1\" class=\"data row11 col1\" >737.392985</td>\n",
       "      <td id=\"T_d3107_row11_col2\" class=\"data row11 col2\" >1073.322199</td>\n",
       "    </tr>\n",
       "  </tbody>\n",
       "</table>\n"
      ],
      "text/plain": [
       "<pandas.io.formats.style.Styler at 0x274af025d00>"
      ]
     },
     "execution_count": 21,
     "metadata": {},
     "output_type": "execute_result"
    }
   ],
   "source": [
    "agg_plus_cluster.groupby(\"labels\").mean().T.style"
   ]
  },
  {
   "cell_type": "code",
   "execution_count": 22,
   "metadata": {},
   "outputs": [
    {
     "data": {
      "text/plain": [
       "labels\n",
       "less engagement      38907\n",
       "medium engagement    40676\n",
       "much engagement      26971\n",
       "Name: tot number of session, dtype: int64"
      ]
     },
     "execution_count": 22,
     "metadata": {},
     "output_type": "execute_result"
    }
   ],
   "source": [
    "agg_plus_cluster.groupby(\"labels\").count().T.iloc[0]"
   ]
  },
  {
   "cell_type": "code",
   "execution_count": 23,
   "metadata": {},
   "outputs": [],
   "source": [
    "agg_plus_cluster.to_csv(path + \"user_engagement_data.csv\")"
   ]
  },
  {
   "cell_type": "code",
   "execution_count": 24,
   "metadata": {
    "tags": []
   },
   "outputs": [
    {
     "data": {
      "text/plain": [
       "''"
      ]
     },
     "execution_count": 24,
     "metadata": {},
     "output_type": "execute_result"
    },
    {
     "data": {
      "application/vnd.jupyter.widget-view+json": {
       "model_id": "798b8ca185424f949c69f598f47b2c81",
       "version_major": 2,
       "version_minor": 0
      },
      "text/html": [
       "\n",
       "            <div style=\"display: inline-block;\">\n",
       "                <div class=\"jupyter-widgets widget-label\" style=\"text-align: center;\">\n",
       "                    Figure\n",
       "                </div>\n",
       "                <img src='data:image/png;base64,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' width=700.0/>\n",
       "            </div>\n",
       "        "
      ],
      "text/plain": [
       "Canvas(toolbar=Toolbar(toolitems=[('Home', 'Reset original view', 'home', 'home'), ('Back', 'Back to previous …"
      ]
     },
     "metadata": {},
     "output_type": "display_data"
    }
   ],
   "source": [
    "fig, ax = plt.subplots(1,1, figsize=(7,4))\n",
    "ax.scatter(agg_plus_cluster[\"labels\"], agg_plus_cluster[\"tot number of session\"], s=3)\n",
    "plt.xlabel(\"clusters\")\n",
    "plt.ylabel(\"Total number of sessions\");"
   ]
  },
  {
   "cell_type": "markdown",
   "metadata": {},
   "source": [
    "###  ● Aggregate user total traffic per application and derive the top 10 most engaged users per application ● Plot the top 3 most used applications using appropriate charts."
   ]
  },
  {
   "cell_type": "code",
   "execution_count": 25,
   "metadata": {},
   "outputs": [],
   "source": [
    "app_cols = ['social media data usage (MBs)', 'google data usage (MBs)',\n",
    "       'Email data usage (MBs)', 'youtube data usage (MBs)',\n",
    "       'netflix data usage (MBs)', 'gaming apps data usage (MBs)',\n",
    "       ]\n",
    "largest_10_entries_per_metric = pd.DataFrame()\n",
    "for i in app_cols:\n",
    "    largest_10_entries_per_metric[i] = aggregates[i].sort_values(ascending= False).head(10).tolist()"
   ]
  },
  {
   "cell_type": "code",
   "execution_count": 26,
   "metadata": {},
   "outputs": [
    {
     "data": {
      "text/html": [
       "<div>\n",
       "<style scoped>\n",
       "    .dataframe tbody tr th:only-of-type {\n",
       "        vertical-align: middle;\n",
       "    }\n",
       "\n",
       "    .dataframe tbody tr th {\n",
       "        vertical-align: top;\n",
       "    }\n",
       "\n",
       "    .dataframe thead th {\n",
       "        text-align: right;\n",
       "    }\n",
       "</style>\n",
       "<table border=\"1\" class=\"dataframe\">\n",
       "  <thead>\n",
       "    <tr style=\"text-align: right;\">\n",
       "      <th></th>\n",
       "      <th>social media data usage (MBs)</th>\n",
       "      <th>google data usage (MBs)</th>\n",
       "      <th>Email data usage (MBs)</th>\n",
       "      <th>youtube data usage (MBs)</th>\n",
       "      <th>netflix data usage (MBs)</th>\n",
       "      <th>gaming apps data usage (MBs)</th>\n",
       "    </tr>\n",
       "  </thead>\n",
       "  <tbody>\n",
       "    <tr>\n",
       "      <th>0</th>\n",
       "      <td>22.698244</td>\n",
       "      <td>83.574781</td>\n",
       "      <td>21.861470</td>\n",
       "      <td>237.480580</td>\n",
       "      <td>222.896995</td>\n",
       "      <td>4343.421737</td>\n",
       "    </tr>\n",
       "    <tr>\n",
       "      <th>1</th>\n",
       "      <td>18.186049</td>\n",
       "      <td>75.072834</td>\n",
       "      <td>20.907565</td>\n",
       "      <td>226.046673</td>\n",
       "      <td>202.187567</td>\n",
       "      <td>4050.096912</td>\n",
       "    </tr>\n",
       "    <tr>\n",
       "      <th>2</th>\n",
       "      <td>17.218717</td>\n",
       "      <td>74.219402</td>\n",
       "      <td>20.026962</td>\n",
       "      <td>225.451283</td>\n",
       "      <td>197.875129</td>\n",
       "      <td>3993.737237</td>\n",
       "    </tr>\n",
       "    <tr>\n",
       "      <th>3</th>\n",
       "      <td>17.149566</td>\n",
       "      <td>68.766560</td>\n",
       "      <td>19.655470</td>\n",
       "      <td>191.224544</td>\n",
       "      <td>195.816385</td>\n",
       "      <td>3919.795651</td>\n",
       "    </tr>\n",
       "    <tr>\n",
       "      <th>4</th>\n",
       "      <td>15.816863</td>\n",
       "      <td>68.640566</td>\n",
       "      <td>19.284823</td>\n",
       "      <td>183.959473</td>\n",
       "      <td>192.058394</td>\n",
       "      <td>3790.729834</td>\n",
       "    </tr>\n",
       "    <tr>\n",
       "      <th>5</th>\n",
       "      <td>15.753781</td>\n",
       "      <td>66.362096</td>\n",
       "      <td>18.671650</td>\n",
       "      <td>181.911520</td>\n",
       "      <td>190.238172</td>\n",
       "      <td>3647.933038</td>\n",
       "    </tr>\n",
       "    <tr>\n",
       "      <th>6</th>\n",
       "      <td>15.429578</td>\n",
       "      <td>66.128575</td>\n",
       "      <td>18.587090</td>\n",
       "      <td>180.657377</td>\n",
       "      <td>186.781820</td>\n",
       "      <td>3603.136848</td>\n",
       "    </tr>\n",
       "    <tr>\n",
       "      <th>7</th>\n",
       "      <td>15.359530</td>\n",
       "      <td>64.254685</td>\n",
       "      <td>18.344635</td>\n",
       "      <td>179.941454</td>\n",
       "      <td>184.438187</td>\n",
       "      <td>3571.500108</td>\n",
       "    </tr>\n",
       "    <tr>\n",
       "      <th>8</th>\n",
       "      <td>15.227897</td>\n",
       "      <td>62.406015</td>\n",
       "      <td>18.168324</td>\n",
       "      <td>179.292764</td>\n",
       "      <td>184.264451</td>\n",
       "      <td>3561.990721</td>\n",
       "    </tr>\n",
       "    <tr>\n",
       "      <th>9</th>\n",
       "      <td>14.992252</td>\n",
       "      <td>62.305976</td>\n",
       "      <td>17.984228</td>\n",
       "      <td>178.700468</td>\n",
       "      <td>181.814404</td>\n",
       "      <td>3540.684531</td>\n",
       "    </tr>\n",
       "  </tbody>\n",
       "</table>\n",
       "</div>"
      ],
      "text/plain": [
       "   social media data usage (MBs)  google data usage (MBs)  \\\n",
       "0                      22.698244                83.574781   \n",
       "1                      18.186049                75.072834   \n",
       "2                      17.218717                74.219402   \n",
       "3                      17.149566                68.766560   \n",
       "4                      15.816863                68.640566   \n",
       "5                      15.753781                66.362096   \n",
       "6                      15.429578                66.128575   \n",
       "7                      15.359530                64.254685   \n",
       "8                      15.227897                62.406015   \n",
       "9                      14.992252                62.305976   \n",
       "\n",
       "   Email data usage (MBs)  youtube data usage (MBs)  netflix data usage (MBs)  \\\n",
       "0               21.861470                237.480580                222.896995   \n",
       "1               20.907565                226.046673                202.187567   \n",
       "2               20.026962                225.451283                197.875129   \n",
       "3               19.655470                191.224544                195.816385   \n",
       "4               19.284823                183.959473                192.058394   \n",
       "5               18.671650                181.911520                190.238172   \n",
       "6               18.587090                180.657377                186.781820   \n",
       "7               18.344635                179.941454                184.438187   \n",
       "8               18.168324                179.292764                184.264451   \n",
       "9               17.984228                178.700468                181.814404   \n",
       "\n",
       "   gaming apps data usage (MBs)  \n",
       "0                   4343.421737  \n",
       "1                   4050.096912  \n",
       "2                   3993.737237  \n",
       "3                   3919.795651  \n",
       "4                   3790.729834  \n",
       "5                   3647.933038  \n",
       "6                   3603.136848  \n",
       "7                   3571.500108  \n",
       "8                   3561.990721  \n",
       "9                   3540.684531  "
      ]
     },
     "execution_count": 26,
     "metadata": {},
     "output_type": "execute_result"
    }
   ],
   "source": [
    "largest_10_entries_per_metric"
   ]
  },
  {
   "cell_type": "markdown",
   "metadata": {},
   "source": [
    "### ● Plot the top 3 most used applications using appropriate charts."
   ]
  },
  {
   "cell_type": "markdown",
   "metadata": {
    "tags": []
   },
   "source": [
    "we assume that the total amount of data used is prortional to how much the app is used. This may not be totally accurate but that's the best we can deduce from this data"
   ]
  },
  {
   "cell_type": "code",
   "execution_count": 27,
   "metadata": {},
   "outputs": [],
   "source": [
    "top3_most_used_apps = aggregates[app_cols].sum().sort_values(ascending=False).head(3)"
   ]
  },
  {
   "cell_type": "code",
   "execution_count": 28,
   "metadata": {},
   "outputs": [],
   "source": [
    "# convert MB to GB\n",
    "top3_most_used_apps = top3_most_used_apps/1024 "
   ]
  },
  {
   "cell_type": "code",
   "execution_count": 29,
   "metadata": {},
   "outputs": [],
   "source": [
    "top3_most_used_apps.columns = [\"gaming apps data usage (GBs)\", \"youtube data usage (GBs)\", \"netflix data usage (GBs)\"]"
   ]
  },
  {
   "cell_type": "code",
   "execution_count": 30,
   "metadata": {},
   "outputs": [
    {
     "data": {
      "text/plain": [
       "Text(0, 0.5, 'App total data usage (GBs)')"
      ]
     },
     "execution_count": 30,
     "metadata": {},
     "output_type": "execute_result"
    },
    {
     "data": {
      "application/vnd.jupyter.widget-view+json": {
       "model_id": "c9ab384469244dcbb004f0cf2d49b0c8",
       "version_major": 2,
       "version_minor": 0
      },
      "text/html": [
       "\n",
       "            <div style=\"display: inline-block;\">\n",
       "                <div class=\"jupyter-widgets widget-label\" style=\"text-align: center;\">\n",
       "                    Figure\n",
       "                </div>\n",
       "                <img src='data:image/png;base64,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' width=700.0/>\n",
       "            </div>\n",
       "        "
      ],
      "text/plain": [
       "Canvas(toolbar=Toolbar(toolitems=[('Home', 'Reset original view', 'home', 'home'), ('Back', 'Back to previous …"
      ]
     },
     "metadata": {},
     "output_type": "display_data"
    }
   ],
   "source": [
    "fig2, ax2 = plt.subplots(1,1, figsize=(7,4))\n",
    "ax2.bar([i.split(\" data\")[0] for i in top3_most_used_apps.columns], top3_most_used_apps)\n",
    "plt.xlabel(\"App name\")\n",
    "plt.ylabel(\"App total data usage (GBs)\")"
   ]
  },
  {
   "cell_type": "code",
   "execution_count": 31,
   "metadata": {},
   "outputs": [],
   "source": [
    "%matplotlib inline"
   ]
  },
  {
   "cell_type": "markdown",
   "metadata": {},
   "source": [
    "### Using k-means clustering algorithm, group users in k engagement clusters based on the engagement metrics: ○ What is the optimized value of k (use elbow method for this)?"
   ]
  },
  {
   "cell_type": "code",
   "execution_count": 32,
   "metadata": {},
   "outputs": [],
   "source": [
    "kmeans_kwargs = {\n",
    "        \"init\": \"random\",\n",
    "        \"n_init\": 10,\n",
    "        \"max_iter\": 300,\n",
    "        \"random_state\": 42,\n",
    "    }\n",
    "   \n",
    "# A list holds the SSE values for each k\n",
    "sse = []\n",
    "for k in range(1, 11):\n",
    "    kmeans = KMeans(n_clusters=k, **kmeans_kwargs)\n",
    "    kmeans.fit(agg_scaled)\n",
    "    sse.append(kmeans.inertia_)"
   ]
  },
  {
   "cell_type": "code",
   "execution_count": 33,
   "metadata": {
    "tags": []
   },
   "outputs": [
    {
     "data": {
      "image/png": "[encoded data removed]",
      "text/plain": [
       "<Figure size 432x288 with 1 Axes>"
      ]
     },
     "metadata": {
      "needs_background": "light"
     },
     "output_type": "display_data"
    }
   ],
   "source": [
    "# plt.style.use(\"fivethirtyeight\")\n",
    "plt.plot(range(1, 11), sse)\n",
    "plt.xticks(range(1, 11))\n",
    "plt.xlabel(\"Number of Clusters\")\n",
    "plt.ylabel(\"SSE\")\n",
    "plt.grid(True)\n",
    "#plt.show()"
   ]
  },
  {
   "cell_type": "markdown",
   "metadata": {},
   "source": [
    "### ○ Interpret your findings."
   ]
  },
  {
   "cell_type": "code",
   "execution_count": null,
   "metadata": {},
   "outputs": [],
   "source": []
  }
 ],
 "metadata": {
  "interpreter": {
   "hash": "586fe34d15106bb7669a4d03fcdd8674cc0ed2b6c91395f15836e22713ffa223"
  },
  "kernelspec": {
   "display_name": "Python 3 (ipykernel)",
   "language": "python",
   "name": "python3"
  },
  "language_info": {
   "codemirror_mode": {
    "name": "ipython",
    "version": 3
   },
   "file_extension": ".py",
   "mimetype": "text/x-python",
   "name": "python",
   "nbconvert_exporter": "python",
   "pygments_lexer": "ipython3",
   "version": "3.9.7"
  }
 },
 "nbformat": 4,
 "nbformat_minor": 4
}
