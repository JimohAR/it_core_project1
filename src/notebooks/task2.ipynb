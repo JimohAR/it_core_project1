{
 "cells": [
  {
   "cell_type": "code",
   "execution_count": 1,
   "metadata": {},
   "outputs": [],
   "source": [
    "import numpy as np\n",
    "import pandas as pd\n",
    "import matplotlib.pyplot as plt\n",
    "import seaborn as sns\n",
    "import os\n",
    "from sklearn.decomposition import PCA\n",
    "from sklearn.preprocessing import StandardScaler\n",
    "from sklearn.cluster import KMeans"
   ]
  },
  {
   "cell_type": "code",
   "execution_count": 2,
   "metadata": {},
   "outputs": [],
   "source": [
    "%matplotlib widget"
   ]
  },
  {
   "cell_type": "markdown",
   "metadata": {},
   "source": [
    "# USER ENGAGEMENT ANALYSIS (TASK 2)"
   ]
  },
  {
   "cell_type": "markdown",
   "metadata": {},
   "source": [
    "In the current dataset you’re expected to track the user’s engagement using the following engagement metrics: \n",
    "●\tsessions frequency \n",
    "●\tthe duration of the session \n",
    "●\tthe sessions total traffic (download and upload (bytes))\n",
    "\n",
    "Task 2.1 - Based on the above submit python script and slide :\n",
    "●\tAggregate the above metrics per customer id (MSISDN) and report the top 10 customers per engagement metric \n",
    "●\tNormalize each engagement metric and run a k-means (k=3) to classify customers into three groups of engagement. \n",
    "●\tCompute the minimum, maximum, average & total non- normalized metrics for each cluster. Interpret your results visually with accompanying text explaining your findings.\n",
    "●\tAggregate user total traffic per application and derive the top 10 most engaged users per application\n",
    "●\tPlot the top 3 most used applications using appropriate charts.  \n",
    "●\tUsing k-means clustering algorithm, group users in k engagement clusters based on the engagement metrics: \n",
    "○\tWhat is the optimized value of k (use elbow method for this)?  \n",
    "○\tInterpret your findings."
   ]
  },
  {
   "cell_type": "code",
   "execution_count": 3,
   "metadata": {},
   "outputs": [
    {
     "name": "stdout",
     "output_type": "stream",
     "text": [
      "\n",
      ">> set up path to the data directory\n"
     ]
    }
   ],
   "source": [
    "if \"google.colab\" in str(get_ipython()):\n",
    "    !pip install dvc[gdrive] > /content/piplog.txt\n",
    "    print(\">> g-colab detected \\ncloning repo from github\\n\")\n",
    "    !git clone https://github.com/JimohAR/it_core_project1\n",
    "\n",
    "    print(\"\\n>> changing path to the repo\\n\")\n",
    "    os.chdir(\"/content/it_core_project1\")\n",
    "\n",
    "    print(\"\\n>> downloading the datasets\\n\")\n",
    "    !dvc import https://github.com/JimohAR/it_core_project1 data/telco.csv \\\n",
    "    -o data/telco.csv\n",
    "\n",
    "    print(\"\\n>> set up path to the data directory\")\n",
    "    path = os.getcwd() + \"/data/\"\n",
    "else:\n",
    "    print(\"\\n>> set up path to the data directory\")\n",
    "    path = os.path.abspath(os.getcwd() + \"/../../data\") + \"/\""
   ]
  },
  {
   "cell_type": "code",
   "execution_count": 4,
   "metadata": {},
   "outputs": [],
   "source": [
    "def resolve_outlier(df):\n",
    "    data = df.copy()\n",
    "    for i in data.select_dtypes([\"int\", \"float\"]).keys():\n",
    "        Q1,Q3 = data[i].quantile([.25,.75])\n",
    "        IQR = Q3 - Q1\n",
    "        lower_range = Q1 - (1.5 * IQR)\n",
    "        upper_range = Q3 + (1.5 * IQR)\n",
    "\n",
    "        lr_ind = data[i][data[i] < lower_range].keys()\n",
    "        ur_ind = data[i][data[i] > upper_range].keys()\n",
    "\n",
    "        data.loc[lr_ind, i] = np.nan\n",
    "        data.loc[ur_ind, i] = np.nan\n",
    "        data[i].fillna(data[i].mean(), inplace= True)\n",
    "    return data"
   ]
  },
  {
   "cell_type": "code",
   "execution_count": 5,
   "metadata": {},
   "outputs": [],
   "source": [
    "aggregates = pd.read_csv(path + \"aggregates.csv\", index_col=[\"MSISDN\"])"
   ]
  },
  {
   "cell_type": "code",
   "execution_count": 6,
   "metadata": {},
   "outputs": [],
   "source": [
    "engagement = aggregates[[\"tot number of session\", \"tot sessions duration (hrs)\", \"tot data usage (MBs)\"]]"
   ]
  },
  {
   "cell_type": "code",
   "execution_count": 7,
   "metadata": {},
   "outputs": [],
   "source": [
    "top10_users_with_high_session_freq = (engagement[\"tot number of session\"]\n",
    "                                      .sort_values(ascending = False).to_frame()\n",
    "                                      .head(10)\n",
    "                                     )\n",
    "\n",
    "top10_users_with_high_sessions_duration = (engagement[\"tot sessions duration (hrs)\"]\n",
    "                                      .sort_values(ascending = False).to_frame()\n",
    "                                      .head(10)\n",
    "                                     )\n",
    "\n",
    "top10_users_with_high_data_usage = (engagement[\"tot data usage (MBs)\"]\n",
    "                                      .sort_values(ascending = False).to_frame()\n",
    "                                      .head(10)\n",
    "                                     )"
   ]
  },
  {
   "cell_type": "code",
   "execution_count": 8,
   "metadata": {},
   "outputs": [
    {
     "data": {
      "text/html": [
       "<div>\n",
       "<style scoped>\n",
       "    .dataframe tbody tr th:only-of-type {\n",
       "        vertical-align: middle;\n",
       "    }\n",
       "\n",
       "    .dataframe tbody tr th {\n",
       "        vertical-align: top;\n",
       "    }\n",
       "\n",
       "    .dataframe thead th {\n",
       "        text-align: right;\n",
       "    }\n",
       "</style>\n",
       "<table border=\"1\" class=\"dataframe\">\n",
       "  <thead>\n",
       "    <tr style=\"text-align: right;\">\n",
       "      <th></th>\n",
       "      <th>tot data usage (MBs)</th>\n",
       "    </tr>\n",
       "    <tr>\n",
       "      <th>MSISDN</th>\n",
       "      <th></th>\n",
       "    </tr>\n",
       "  </thead>\n",
       "  <tbody>\n",
       "    <tr>\n",
       "      <th>33650426463</th>\n",
       "      <td>4860.047088</td>\n",
       "    </tr>\n",
       "    <tr>\n",
       "      <th>33666169635</th>\n",
       "      <td>4550.902257</td>\n",
       "    </tr>\n",
       "    <tr>\n",
       "      <th>33665354456</th>\n",
       "      <td>4387.362709</td>\n",
       "    </tr>\n",
       "    <tr>\n",
       "      <th>33699904865</th>\n",
       "      <td>4270.838906</td>\n",
       "    </tr>\n",
       "    <tr>\n",
       "      <th>33665550456</th>\n",
       "      <td>4177.437149</td>\n",
       "    </tr>\n",
       "    <tr>\n",
       "      <th>33699382524</th>\n",
       "      <td>4070.142609</td>\n",
       "    </tr>\n",
       "    <tr>\n",
       "      <th>33763573482</th>\n",
       "      <td>4041.040859</td>\n",
       "    </tr>\n",
       "    <tr>\n",
       "      <th>33661622844</th>\n",
       "      <td>4017.970123</td>\n",
       "    </tr>\n",
       "    <tr>\n",
       "      <th>33658849197</th>\n",
       "      <td>3979.991702</td>\n",
       "    </tr>\n",
       "    <tr>\n",
       "      <th>33662141079</th>\n",
       "      <td>3973.398366</td>\n",
       "    </tr>\n",
       "  </tbody>\n",
       "</table>\n",
       "</div>"
      ],
      "text/plain": [
       "             tot data usage (MBs)\n",
       "MSISDN                           \n",
       "33650426463           4860.047088\n",
       "33666169635           4550.902257\n",
       "33665354456           4387.362709\n",
       "33699904865           4270.838906\n",
       "33665550456           4177.437149\n",
       "33699382524           4070.142609\n",
       "33763573482           4041.040859\n",
       "33661622844           4017.970123\n",
       "33658849197           3979.991702\n",
       "33662141079           3973.398366"
      ]
     },
     "execution_count": 8,
     "metadata": {},
     "output_type": "execute_result"
    }
   ],
   "source": [
    "top10_users_with_high_data_usage"
   ]
  },
  {
   "cell_type": "code",
   "execution_count": 9,
   "metadata": {},
   "outputs": [],
   "source": [
    "scaler = StandardScaler()"
   ]
  },
  {
   "cell_type": "code",
   "execution_count": 10,
   "metadata": {},
   "outputs": [],
   "source": [
    "agg_scaled = pd.DataFrame(scaler.fit_transform(resolve_outlier(aggregates)), columns= aggregates.columns)"
   ]
  },
  {
   "cell_type": "code",
   "execution_count": 11,
   "metadata": {},
   "outputs": [],
   "source": [
    "kmeans = KMeans(n_clusters=3, random_state=0)"
   ]
  },
  {
   "cell_type": "code",
   "execution_count": 12,
   "metadata": {},
   "outputs": [
    {
     "data": {
      "text/plain": [
       "KMeans(n_clusters=3, random_state=0)"
      ]
     },
     "execution_count": 12,
     "metadata": {},
     "output_type": "execute_result"
    }
   ],
   "source": [
    "kmeans.fit(agg_scaled)"
   ]
  },
  {
   "cell_type": "code",
   "execution_count": 13,
   "metadata": {},
   "outputs": [],
   "source": [
    "agg_plus_cluster = aggregates.copy()\n",
    "agg_plus_cluster[\"label\"] = kmeans.labels_"
   ]
  },
  {
   "cell_type": "code",
   "execution_count": 14,
   "metadata": {},
   "outputs": [],
   "source": [
    "task2_cluster_centers = pd.DataFrame(scaler.inverse_transform(kmeans.cluster_centers_), columns = aggregates.columns)"
   ]
  },
  {
   "cell_type": "code",
   "execution_count": 15,
   "metadata": {},
   "outputs": [],
   "source": [
    "mapper = dict(zip(task2_cluster_centers[\"tot data usage (MBs)\"].sort_values().keys(), [\"little engagement\", \"medium engagement\", \"large engagement\"]))"
   ]
  },
  {
   "cell_type": "code",
   "execution_count": 16,
   "metadata": {},
   "outputs": [],
   "source": [
    "task2_cluster_centers = task2_cluster_centers.rename(index = mapper).rename_axis(\"labels\")\n",
    "task2_cluster_centers.to_csv(path + \"user_engagement_cluster_centers.csv\")"
   ]
  },
  {
   "cell_type": "code",
   "execution_count": 17,
   "metadata": {},
   "outputs": [],
   "source": [
    "agg_plus_cluster[\"label\"] = agg_plus_cluster[\"label\"].map(mapper)"
   ]
  },
  {
   "cell_type": "markdown",
   "metadata": {
    "tags": []
   },
   "source": [
    "### Compute the minimum, maximum, average & total non- normalized metrics for each cluster. Interpret your results visually with accompanying text explaining your findings."
   ]
  },
  {
   "cell_type": "code",
   "execution_count": 18,
   "metadata": {
    "tags": []
   },
   "outputs": [
    {
     "data": {
      "text/html": [
       "<style type=\"text/css\">\n",
       "</style>\n",
       "<table id=\"T_535a5_\">\n",
       "  <thead>\n",
       "    <tr>\n",
       "      <th class=\"index_name level0\" >label</th>\n",
       "      <th class=\"col_heading level0 col0\" >large engagement</th>\n",
       "      <th class=\"col_heading level0 col1\" >little engagement</th>\n",
       "      <th class=\"col_heading level0 col2\" >medium engagement</th>\n",
       "    </tr>\n",
       "  </thead>\n",
       "  <tbody>\n",
       "    <tr>\n",
       "      <th id=\"T_535a5_level0_row0\" class=\"row_heading level0 row0\" >tot number of session</th>\n",
       "      <td id=\"T_535a5_row0_col0\" class=\"data row0 col0\" >1.000000</td>\n",
       "      <td id=\"T_535a5_row0_col1\" class=\"data row0 col1\" >1.000000</td>\n",
       "      <td id=\"T_535a5_row0_col2\" class=\"data row0 col2\" >1.000000</td>\n",
       "    </tr>\n",
       "    <tr>\n",
       "      <th id=\"T_535a5_level0_row1\" class=\"row_heading level0 row1\" >tot sessions duration (hrs)</th>\n",
       "      <td id=\"T_535a5_row1_col0\" class=\"data row1 col0\" >5.065278</td>\n",
       "      <td id=\"T_535a5_row1_col1\" class=\"data row1 col1\" >1.996944</td>\n",
       "      <td id=\"T_535a5_row1_col2\" class=\"data row1 col2\" >1.983889</td>\n",
       "    </tr>\n",
       "    <tr>\n",
       "      <th id=\"T_535a5_level0_row2\" class=\"row_heading level0 row2\" >social media data usage (MBs)</th>\n",
       "      <td id=\"T_535a5_row2_col0\" class=\"data row2 col0\" >0.059015</td>\n",
       "      <td id=\"T_535a5_row2_col1\" class=\"data row2 col1\" >0.001491</td>\n",
       "      <td id=\"T_535a5_row2_col2\" class=\"data row2 col2\" >0.004262</td>\n",
       "    </tr>\n",
       "    <tr>\n",
       "      <th id=\"T_535a5_level0_row3\" class=\"row_heading level0 row3\" >google data usage (MBs)</th>\n",
       "      <td id=\"T_535a5_row3_col0\" class=\"data row3 col0\" >1.284316</td>\n",
       "      <td id=\"T_535a5_row3_col1\" class=\"data row3 col1\" >0.038462</td>\n",
       "      <td id=\"T_535a5_row3_col2\" class=\"data row3 col2\" >0.112669</td>\n",
       "    </tr>\n",
       "    <tr>\n",
       "      <th id=\"T_535a5_level0_row4\" class=\"row_heading level0 row4\" >Email data usage (MBs)</th>\n",
       "      <td id=\"T_535a5_row4_col0\" class=\"data row4 col0\" >0.191657</td>\n",
       "      <td id=\"T_535a5_row4_col1\" class=\"data row4 col1\" >0.017334</td>\n",
       "      <td id=\"T_535a5_row4_col2\" class=\"data row4 col2\" >0.030950</td>\n",
       "    </tr>\n",
       "    <tr>\n",
       "      <th id=\"T_535a5_level0_row5\" class=\"row_heading level0 row5\" >youtube data usage (MBs)</th>\n",
       "      <td id=\"T_535a5_row5_col0\" class=\"data row5 col0\" >3.423847</td>\n",
       "      <td id=\"T_535a5_row5_col1\" class=\"data row5 col1\" >0.075248</td>\n",
       "      <td id=\"T_535a5_row5_col2\" class=\"data row5 col2\" >0.150152</td>\n",
       "    </tr>\n",
       "    <tr>\n",
       "      <th id=\"T_535a5_level0_row6\" class=\"row_heading level0 row6\" >netflix data usage (MBs)</th>\n",
       "      <td id=\"T_535a5_row6_col0\" class=\"data row6 col0\" >3.375638</td>\n",
       "      <td id=\"T_535a5_row6_col1\" class=\"data row6 col1\" >0.237110</td>\n",
       "      <td id=\"T_535a5_row6_col2\" class=\"data row6 col2\" >0.176019</td>\n",
       "    </tr>\n",
       "    <tr>\n",
       "      <th id=\"T_535a5_level0_row7\" class=\"row_heading level0 row7\" >gaming apps data usage (MBs)</th>\n",
       "      <td id=\"T_535a5_row7_col0\" class=\"data row7 col0\" >26.171268</td>\n",
       "      <td id=\"T_535a5_row7_col1\" class=\"data row7 col1\" >0.292166</td>\n",
       "      <td id=\"T_535a5_row7_col2\" class=\"data row7 col2\" >336.023965</td>\n",
       "    </tr>\n",
       "    <tr>\n",
       "      <th id=\"T_535a5_level0_row8\" class=\"row_heading level0 row8\" >other apps data usage (MBs)</th>\n",
       "      <td id=\"T_535a5_row8_col0\" class=\"data row8 col0\" >14.440469</td>\n",
       "      <td id=\"T_535a5_row8_col1\" class=\"data row8 col1\" >0.488061</td>\n",
       "      <td id=\"T_535a5_row8_col2\" class=\"data row8 col2\" >0.142140</td>\n",
       "    </tr>\n",
       "    <tr>\n",
       "      <th id=\"T_535a5_level0_row9\" class=\"row_heading level0 row9\" >tot downloaded data (MBs)</th>\n",
       "      <td id=\"T_535a5_row9_col0\" class=\"data row9 col0\" >62.247034</td>\n",
       "      <td id=\"T_535a5_row9_col1\" class=\"data row9 col1\" >8.418161</td>\n",
       "      <td id=\"T_535a5_row9_col2\" class=\"data row9 col2\" >407.187532</td>\n",
       "    </tr>\n",
       "    <tr>\n",
       "      <th id=\"T_535a5_level0_row10\" class=\"row_heading level0 row10\" >tot uploaded data (MBs)</th>\n",
       "      <td id=\"T_535a5_row10_col0\" class=\"data row10 col0\" >24.698150</td>\n",
       "      <td id=\"T_535a5_row10_col1\" class=\"data row10 col1\" >5.032278</td>\n",
       "      <td id=\"T_535a5_row10_col2\" class=\"data row10 col2\" >2.734081</td>\n",
       "    </tr>\n",
       "    <tr>\n",
       "      <th id=\"T_535a5_level0_row11\" class=\"row_heading level0 row11\" >tot data usage (MBs)</th>\n",
       "      <td id=\"T_535a5_row11_col0\" class=\"data row11 col0\" >141.452802</td>\n",
       "      <td id=\"T_535a5_row11_col1\" class=\"data row11 col1\" >31.708726</td>\n",
       "      <td id=\"T_535a5_row11_col2\" class=\"data row11 col2\" >458.887824</td>\n",
       "    </tr>\n",
       "  </tbody>\n",
       "</table>\n"
      ],
      "text/plain": [
       "<pandas.io.formats.style.Styler at 0x215302a10d0>"
      ]
     },
     "execution_count": 18,
     "metadata": {},
     "output_type": "execute_result"
    }
   ],
   "source": [
    "agg_plus_cluster.groupby(\"label\").min().T.style"
   ]
  },
  {
   "cell_type": "code",
   "execution_count": 19,
   "metadata": {},
   "outputs": [
    {
     "data": {
      "text/html": [
       "<style type=\"text/css\">\n",
       "</style>\n",
       "<table id=\"T_1a451_\">\n",
       "  <thead>\n",
       "    <tr>\n",
       "      <th class=\"index_name level0\" >label</th>\n",
       "      <th class=\"col_heading level0 col0\" >large engagement</th>\n",
       "      <th class=\"col_heading level0 col1\" >little engagement</th>\n",
       "      <th class=\"col_heading level0 col2\" >medium engagement</th>\n",
       "    </tr>\n",
       "  </thead>\n",
       "  <tbody>\n",
       "    <tr>\n",
       "      <th id=\"T_1a451_level0_row0\" class=\"row_heading level0 row0\" >tot number of session</th>\n",
       "      <td id=\"T_1a451_row0_col0\" class=\"data row0 col0\" >5.000000</td>\n",
       "      <td id=\"T_1a451_row0_col1\" class=\"data row0 col1\" >4.000000</td>\n",
       "      <td id=\"T_1a451_row0_col2\" class=\"data row0 col2\" >11.000000</td>\n",
       "    </tr>\n",
       "    <tr>\n",
       "      <th id=\"T_1a451_level0_row1\" class=\"row_heading level0 row1\" >tot sessions duration (hrs)</th>\n",
       "      <td id=\"T_1a451_row1_col0\" class=\"data row1 col0\" >347.586389</td>\n",
       "      <td id=\"T_1a451_row1_col1\" class=\"data row1 col1\" >327.088056</td>\n",
       "      <td id=\"T_1a451_row1_col2\" class=\"data row1 col2\" >359.504444</td>\n",
       "    </tr>\n",
       "    <tr>\n",
       "      <th id=\"T_1a451_level0_row2\" class=\"row_heading level0 row2\" >social media data usage (MBs)</th>\n",
       "      <td id=\"T_1a451_row2_col0\" class=\"data row2 col0\" >12.980293</td>\n",
       "      <td id=\"T_1a451_row2_col1\" class=\"data row2 col1\" >6.783621</td>\n",
       "      <td id=\"T_1a451_row2_col2\" class=\"data row2 col2\" >22.698244</td>\n",
       "    </tr>\n",
       "    <tr>\n",
       "      <th id=\"T_1a451_level0_row3\" class=\"row_heading level0 row3\" >google data usage (MBs)</th>\n",
       "      <td id=\"T_1a451_row3_col0\" class=\"data row3 col0\" >50.450966</td>\n",
       "      <td id=\"T_1a451_row3_col1\" class=\"data row3 col1\" >29.082510</td>\n",
       "      <td id=\"T_1a451_row3_col2\" class=\"data row3 col2\" >83.574781</td>\n",
       "    </tr>\n",
       "    <tr>\n",
       "      <th id=\"T_1a451_level0_row4\" class=\"row_heading level0 row4\" >Email data usage (MBs)</th>\n",
       "      <td id=\"T_1a451_row4_col0\" class=\"data row4 col0\" >14.724834</td>\n",
       "      <td id=\"T_1a451_row4_col1\" class=\"data row4 col1\" >7.764979</td>\n",
       "      <td id=\"T_1a451_row4_col2\" class=\"data row4 col2\" >21.861470</td>\n",
       "    </tr>\n",
       "    <tr>\n",
       "      <th id=\"T_1a451_level0_row5\" class=\"row_heading level0 row5\" >youtube data usage (MBs)</th>\n",
       "      <td id=\"T_1a451_row5_col0\" class=\"data row5 col0\" >152.671731</td>\n",
       "      <td id=\"T_1a451_row5_col1\" class=\"data row5 col1\" >73.319009</td>\n",
       "      <td id=\"T_1a451_row5_col2\" class=\"data row5 col2\" >237.480580</td>\n",
       "    </tr>\n",
       "    <tr>\n",
       "      <th id=\"T_1a451_level0_row6\" class=\"row_heading level0 row6\" >netflix data usage (MBs)</th>\n",
       "      <td id=\"T_1a451_row6_col0\" class=\"data row6 col0\" >139.875628</td>\n",
       "      <td id=\"T_1a451_row6_col1\" class=\"data row6 col1\" >83.048364</td>\n",
       "      <td id=\"T_1a451_row6_col2\" class=\"data row6 col2\" >222.896995</td>\n",
       "    </tr>\n",
       "    <tr>\n",
       "      <th id=\"T_1a451_level0_row7\" class=\"row_heading level0 row7\" >gaming apps data usage (MBs)</th>\n",
       "      <td id=\"T_1a451_row7_col0\" class=\"data row7 col0\" >3043.169817</td>\n",
       "      <td id=\"T_1a451_row7_col1\" class=\"data row7 col1\" >443.752156</td>\n",
       "      <td id=\"T_1a451_row7_col2\" class=\"data row7 col2\" >4343.421737</td>\n",
       "    </tr>\n",
       "    <tr>\n",
       "      <th id=\"T_1a451_level0_row8\" class=\"row_heading level0 row8\" >other apps data usage (MBs)</th>\n",
       "      <td id=\"T_1a451_row8_col0\" class=\"data row8 col0\" >3115.962507</td>\n",
       "      <td id=\"T_1a451_row8_col1\" class=\"data row8 col1\" >1887.022923</td>\n",
       "      <td id=\"T_1a451_row8_col2\" class=\"data row8 col2\" >4392.022408</td>\n",
       "    </tr>\n",
       "    <tr>\n",
       "      <th id=\"T_1a451_level0_row9\" class=\"row_heading level0 row9\" >tot downloaded data (MBs)</th>\n",
       "      <td id=\"T_1a451_row9_col0\" class=\"data row9 col0\" >3130.052783</td>\n",
       "      <td id=\"T_1a451_row9_col1\" class=\"data row9 col1\" >456.444612</td>\n",
       "      <td id=\"T_1a451_row9_col2\" class=\"data row9 col2\" >4545.041459</td>\n",
       "    </tr>\n",
       "    <tr>\n",
       "      <th id=\"T_1a451_level0_row10\" class=\"row_heading level0 row10\" >tot uploaded data (MBs)</th>\n",
       "      <td id=\"T_1a451_row10_col0\" class=\"data row10 col0\" >231.653378</td>\n",
       "      <td id=\"T_1a451_row10_col1\" class=\"data row10 col1\" >161.741358</td>\n",
       "      <td id=\"T_1a451_row10_col2\" class=\"data row10 col2\" >435.936921</td>\n",
       "    </tr>\n",
       "    <tr>\n",
       "      <th id=\"T_1a451_level0_row11\" class=\"row_heading level0 row11\" >tot data usage (MBs)</th>\n",
       "      <td id=\"T_1a451_row11_col0\" class=\"data row11 col0\" >3358.761377</td>\n",
       "      <td id=\"T_1a451_row11_col1\" class=\"data row11 col1\" >499.989498</td>\n",
       "      <td id=\"T_1a451_row11_col2\" class=\"data row11 col2\" >4860.047088</td>\n",
       "    </tr>\n",
       "  </tbody>\n",
       "</table>\n"
      ],
      "text/plain": [
       "<pandas.io.formats.style.Styler at 0x21531b8bbb0>"
      ]
     },
     "execution_count": 19,
     "metadata": {},
     "output_type": "execute_result"
    }
   ],
   "source": [
    "agg_plus_cluster.groupby(\"label\").max().T.style"
   ]
  },
  {
   "cell_type": "code",
   "execution_count": 20,
   "metadata": {},
   "outputs": [
    {
     "data": {
      "text/html": [
       "<style type=\"text/css\">\n",
       "</style>\n",
       "<table id=\"T_514ef_\">\n",
       "  <thead>\n",
       "    <tr>\n",
       "      <th class=\"index_name level0\" >label</th>\n",
       "      <th class=\"col_heading level0 col0\" >large engagement</th>\n",
       "      <th class=\"col_heading level0 col1\" >little engagement</th>\n",
       "      <th class=\"col_heading level0 col2\" >medium engagement</th>\n",
       "    </tr>\n",
       "  </thead>\n",
       "  <tbody>\n",
       "    <tr>\n",
       "      <th id=\"T_514ef_level0_row0\" class=\"row_heading level0 row0\" >tot number of session</th>\n",
       "      <td id=\"T_514ef_row0_col0\" class=\"data row0 col0\" >2.217118</td>\n",
       "      <td id=\"T_514ef_row0_col1\" class=\"data row0 col1\" >1.006944</td>\n",
       "      <td id=\"T_514ef_row0_col2\" class=\"data row0 col2\" >1.203842</td>\n",
       "    </tr>\n",
       "    <tr>\n",
       "      <th id=\"T_514ef_level0_row1\" class=\"row_heading level0 row1\" >tot sessions duration (hrs)</th>\n",
       "      <td id=\"T_514ef_row1_col0\" class=\"data row1 col0\" >60.618811</td>\n",
       "      <td id=\"T_514ef_row1_col1\" class=\"data row1 col1\" >28.729611</td>\n",
       "      <td id=\"T_514ef_row1_col2\" class=\"data row1 col2\" >34.907345</td>\n",
       "    </tr>\n",
       "    <tr>\n",
       "      <th id=\"T_514ef_level0_row2\" class=\"row_heading level0 row2\" >social media data usage (MBs)</th>\n",
       "      <td id=\"T_514ef_row2_col0\" class=\"data row2 col0\" >3.873011</td>\n",
       "      <td id=\"T_514ef_row2_col1\" class=\"data row2 col1\" >1.741421</td>\n",
       "      <td id=\"T_514ef_row2_col2\" class=\"data row2 col2\" >2.108304</td>\n",
       "    </tr>\n",
       "    <tr>\n",
       "      <th id=\"T_514ef_level0_row3\" class=\"row_heading level0 row3\" >google data usage (MBs)</th>\n",
       "      <td id=\"T_514ef_row3_col0\" class=\"data row3 col0\" >16.505717</td>\n",
       "      <td id=\"T_514ef_row3_col1\" class=\"data row3 col1\" >7.436863</td>\n",
       "      <td id=\"T_514ef_row3_col2\" class=\"data row3 col2\" >9.018213</td>\n",
       "    </tr>\n",
       "    <tr>\n",
       "      <th id=\"T_514ef_level0_row4\" class=\"row_heading level0 row4\" >Email data usage (MBs)</th>\n",
       "      <td id=\"T_514ef_row4_col0\" class=\"data row4 col0\" >4.762914</td>\n",
       "      <td id=\"T_514ef_row4_col1\" class=\"data row4 col1\" >2.163048</td>\n",
       "      <td id=\"T_514ef_row4_col2\" class=\"data row4 col2\" >2.607499</td>\n",
       "    </tr>\n",
       "    <tr>\n",
       "      <th id=\"T_514ef_level0_row5\" class=\"row_heading level0 row5\" >youtube data usage (MBs)</th>\n",
       "      <td id=\"T_514ef_row5_col0\" class=\"data row5 col0\" >47.847608</td>\n",
       "      <td id=\"T_514ef_row5_col1\" class=\"data row5 col1\" >21.578660</td>\n",
       "      <td id=\"T_514ef_row5_col2\" class=\"data row5 col2\" >26.158026</td>\n",
       "    </tr>\n",
       "    <tr>\n",
       "      <th id=\"T_514ef_level0_row6\" class=\"row_heading level0 row6\" >netflix data usage (MBs)</th>\n",
       "      <td id=\"T_514ef_row6_col0\" class=\"data row6 col0\" >48.000755</td>\n",
       "      <td id=\"T_514ef_row6_col1\" class=\"data row6 col1\" >21.542674</td>\n",
       "      <td id=\"T_514ef_row6_col2\" class=\"data row6 col2\" >26.049761</td>\n",
       "    </tr>\n",
       "    <tr>\n",
       "      <th id=\"T_514ef_level0_row7\" class=\"row_heading level0 row7\" >gaming apps data usage (MBs)</th>\n",
       "      <td id=\"T_514ef_row7_col0\" class=\"data row7 col0\" >908.664341</td>\n",
       "      <td id=\"T_514ef_row7_col1\" class=\"data row7 col1\" >209.110799</td>\n",
       "      <td id=\"T_514ef_row7_col2\" class=\"data row7 col2\" >685.484020</td>\n",
       "    </tr>\n",
       "    <tr>\n",
       "      <th id=\"T_514ef_level0_row8\" class=\"row_heading level0 row8\" >other apps data usage (MBs)</th>\n",
       "      <td id=\"T_514ef_row8_col0\" class=\"data row8 col0\" >908.108447</td>\n",
       "      <td id=\"T_514ef_row8_col1\" class=\"data row8 col1\" >410.002273</td>\n",
       "      <td id=\"T_514ef_row8_col2\" class=\"data row8 col2\" >495.177519</td>\n",
       "    </tr>\n",
       "    <tr>\n",
       "      <th id=\"T_514ef_level0_row9\" class=\"row_heading level0 row9\" >tot downloaded data (MBs)</th>\n",
       "      <td id=\"T_514ef_row9_col0\" class=\"data row9 col0\" >960.034678</td>\n",
       "      <td id=\"T_514ef_row9_col1\" class=\"data row9 col1\" >232.235446</td>\n",
       "      <td id=\"T_514ef_row9_col2\" class=\"data row9 col2\" >713.601782</td>\n",
       "    </tr>\n",
       "    <tr>\n",
       "      <th id=\"T_514ef_level0_row10\" class=\"row_heading level0 row10\" >tot uploaded data (MBs)</th>\n",
       "      <td id=\"T_514ef_row10_col0\" class=\"data row10 col0\" >87.097502</td>\n",
       "      <td id=\"T_514ef_row10_col1\" class=\"data row10 col1\" >39.266008</td>\n",
       "      <td id=\"T_514ef_row10_col2\" class=\"data row10 col2\" >47.312309</td>\n",
       "    </tr>\n",
       "    <tr>\n",
       "      <th id=\"T_514ef_level0_row11\" class=\"row_heading level0 row11\" >tot data usage (MBs)</th>\n",
       "      <td id=\"T_514ef_row11_col0\" class=\"data row11 col0\" >1047.132180</td>\n",
       "      <td id=\"T_514ef_row11_col1\" class=\"data row11 col1\" >271.501454</td>\n",
       "      <td id=\"T_514ef_row11_col2\" class=\"data row11 col2\" >760.914090</td>\n",
       "    </tr>\n",
       "  </tbody>\n",
       "</table>\n"
      ],
      "text/plain": [
       "<pandas.io.formats.style.Styler at 0x215302a1b80>"
      ]
     },
     "execution_count": 20,
     "metadata": {},
     "output_type": "execute_result"
    }
   ],
   "source": [
    "agg_plus_cluster.groupby(\"label\").mean().T.style"
   ]
  },
  {
   "cell_type": "code",
   "execution_count": 21,
   "metadata": {},
   "outputs": [
    {
     "data": {
      "text/plain": [
       "label\n",
       "large engagement     26078\n",
       "little engagement    38880\n",
       "medium engagement    41596\n",
       "Name: tot number of session, dtype: int64"
      ]
     },
     "execution_count": 21,
     "metadata": {},
     "output_type": "execute_result"
    }
   ],
   "source": [
    "agg_plus_cluster.groupby(\"label\").count().T.iloc[0]"
   ]
  },
  {
   "cell_type": "code",
   "execution_count": 22,
   "metadata": {
    "tags": []
   },
   "outputs": [
    {
     "data": {
      "text/plain": [
       "''"
      ]
     },
     "execution_count": 22,
     "metadata": {},
     "output_type": "execute_result"
    },
    {
     "data": {
      "application/vnd.jupyter.widget-view+json": {
       "model_id": "c759e7e8c6a243fc8f967fe8e3564ebd",
       "version_major": 2,
       "version_minor": 0
      },
      "text/html": [
       "\n",
       "            <div style=\"display: inline-block;\">\n",
       "                <div class=\"jupyter-widgets widget-label\" style=\"text-align: center;\">\n",
       "                    Figure\n",
       "                </div>\n",
       "                <img src='data:image/png;base64,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' width=700.0/>\n",
       "            </div>\n",
       "        "
      ],
      "text/plain": [
       "Canvas(toolbar=Toolbar(toolitems=[('Home', 'Reset original view', 'home', 'home'), ('Back', 'Back to previous …"
      ]
     },
     "metadata": {},
     "output_type": "display_data"
    }
   ],
   "source": [
    "fig, ax = plt.subplots(1,1, figsize=(7,4))\n",
    "ax.scatter(agg_plus_cluster[\"label\"], agg_plus_cluster[\"tot number of session\"], s=3)\n",
    "plt.xlabel(\"clusters\")\n",
    "plt.ylabel(\"Total number of sessions\")\n",
    ";"
   ]
  },
  {
   "cell_type": "markdown",
   "metadata": {},
   "source": [
    "###  ● Aggregate user total traffic per application and derive the top 10 most engaged users per application ● Plot the top 3 most used applications using appropriate charts."
   ]
  },
  {
   "cell_type": "code",
   "execution_count": 23,
   "metadata": {},
   "outputs": [],
   "source": [
    "app_cols = ['social media data usage (MBs)', 'google data usage (MBs)',\n",
    "       'Email data usage (MBs)', 'youtube data usage (MBs)',\n",
    "       'netflix data usage (MBs)', 'gaming apps data usage (MBs)',\n",
    "       ]\n",
    "largest_10_entries_per_metric = pd.DataFrame()\n",
    "for i in app_cols:\n",
    "    largest_10_entries_per_metric[i] = aggregates[i].sort_values(ascending= False).head(10).tolist()"
   ]
  },
  {
   "cell_type": "code",
   "execution_count": 24,
   "metadata": {},
   "outputs": [
    {
     "data": {
      "text/html": [
       "<div>\n",
       "<style scoped>\n",
       "    .dataframe tbody tr th:only-of-type {\n",
       "        vertical-align: middle;\n",
       "    }\n",
       "\n",
       "    .dataframe tbody tr th {\n",
       "        vertical-align: top;\n",
       "    }\n",
       "\n",
       "    .dataframe thead th {\n",
       "        text-align: right;\n",
       "    }\n",
       "</style>\n",
       "<table border=\"1\" class=\"dataframe\">\n",
       "  <thead>\n",
       "    <tr style=\"text-align: right;\">\n",
       "      <th></th>\n",
       "      <th>social media data usage (MBs)</th>\n",
       "      <th>google data usage (MBs)</th>\n",
       "      <th>Email data usage (MBs)</th>\n",
       "      <th>youtube data usage (MBs)</th>\n",
       "      <th>netflix data usage (MBs)</th>\n",
       "      <th>gaming apps data usage (MBs)</th>\n",
       "    </tr>\n",
       "  </thead>\n",
       "  <tbody>\n",
       "    <tr>\n",
       "      <th>0</th>\n",
       "      <td>22.698244</td>\n",
       "      <td>83.574781</td>\n",
       "      <td>21.861470</td>\n",
       "      <td>237.480580</td>\n",
       "      <td>222.896995</td>\n",
       "      <td>4343.421737</td>\n",
       "    </tr>\n",
       "    <tr>\n",
       "      <th>1</th>\n",
       "      <td>18.186049</td>\n",
       "      <td>75.072834</td>\n",
       "      <td>20.907565</td>\n",
       "      <td>226.046673</td>\n",
       "      <td>202.187567</td>\n",
       "      <td>4050.096912</td>\n",
       "    </tr>\n",
       "    <tr>\n",
       "      <th>2</th>\n",
       "      <td>17.218717</td>\n",
       "      <td>74.219402</td>\n",
       "      <td>20.026962</td>\n",
       "      <td>225.451283</td>\n",
       "      <td>197.875129</td>\n",
       "      <td>3993.737237</td>\n",
       "    </tr>\n",
       "    <tr>\n",
       "      <th>3</th>\n",
       "      <td>17.149566</td>\n",
       "      <td>68.766560</td>\n",
       "      <td>19.655470</td>\n",
       "      <td>191.224544</td>\n",
       "      <td>195.816385</td>\n",
       "      <td>3919.795651</td>\n",
       "    </tr>\n",
       "    <tr>\n",
       "      <th>4</th>\n",
       "      <td>15.816863</td>\n",
       "      <td>68.640566</td>\n",
       "      <td>19.284823</td>\n",
       "      <td>183.959473</td>\n",
       "      <td>192.058394</td>\n",
       "      <td>3790.729834</td>\n",
       "    </tr>\n",
       "    <tr>\n",
       "      <th>5</th>\n",
       "      <td>15.753781</td>\n",
       "      <td>66.362096</td>\n",
       "      <td>18.671650</td>\n",
       "      <td>181.911520</td>\n",
       "      <td>190.238172</td>\n",
       "      <td>3647.933038</td>\n",
       "    </tr>\n",
       "    <tr>\n",
       "      <th>6</th>\n",
       "      <td>15.429578</td>\n",
       "      <td>66.128575</td>\n",
       "      <td>18.587090</td>\n",
       "      <td>180.657377</td>\n",
       "      <td>186.781820</td>\n",
       "      <td>3603.136848</td>\n",
       "    </tr>\n",
       "    <tr>\n",
       "      <th>7</th>\n",
       "      <td>15.359530</td>\n",
       "      <td>64.254685</td>\n",
       "      <td>18.344635</td>\n",
       "      <td>179.941454</td>\n",
       "      <td>184.438187</td>\n",
       "      <td>3571.500108</td>\n",
       "    </tr>\n",
       "    <tr>\n",
       "      <th>8</th>\n",
       "      <td>15.227897</td>\n",
       "      <td>62.406015</td>\n",
       "      <td>18.168324</td>\n",
       "      <td>179.292764</td>\n",
       "      <td>184.264451</td>\n",
       "      <td>3561.990721</td>\n",
       "    </tr>\n",
       "    <tr>\n",
       "      <th>9</th>\n",
       "      <td>14.992252</td>\n",
       "      <td>62.305976</td>\n",
       "      <td>17.984228</td>\n",
       "      <td>178.700468</td>\n",
       "      <td>181.814404</td>\n",
       "      <td>3540.684531</td>\n",
       "    </tr>\n",
       "  </tbody>\n",
       "</table>\n",
       "</div>"
      ],
      "text/plain": [
       "   social media data usage (MBs)  google data usage (MBs)  \\\n",
       "0                      22.698244                83.574781   \n",
       "1                      18.186049                75.072834   \n",
       "2                      17.218717                74.219402   \n",
       "3                      17.149566                68.766560   \n",
       "4                      15.816863                68.640566   \n",
       "5                      15.753781                66.362096   \n",
       "6                      15.429578                66.128575   \n",
       "7                      15.359530                64.254685   \n",
       "8                      15.227897                62.406015   \n",
       "9                      14.992252                62.305976   \n",
       "\n",
       "   Email data usage (MBs)  youtube data usage (MBs)  netflix data usage (MBs)  \\\n",
       "0               21.861470                237.480580                222.896995   \n",
       "1               20.907565                226.046673                202.187567   \n",
       "2               20.026962                225.451283                197.875129   \n",
       "3               19.655470                191.224544                195.816385   \n",
       "4               19.284823                183.959473                192.058394   \n",
       "5               18.671650                181.911520                190.238172   \n",
       "6               18.587090                180.657377                186.781820   \n",
       "7               18.344635                179.941454                184.438187   \n",
       "8               18.168324                179.292764                184.264451   \n",
       "9               17.984228                178.700468                181.814404   \n",
       "\n",
       "   gaming apps data usage (MBs)  \n",
       "0                   4343.421737  \n",
       "1                   4050.096912  \n",
       "2                   3993.737237  \n",
       "3                   3919.795651  \n",
       "4                   3790.729834  \n",
       "5                   3647.933038  \n",
       "6                   3603.136848  \n",
       "7                   3571.500108  \n",
       "8                   3561.990721  \n",
       "9                   3540.684531  "
      ]
     },
     "execution_count": 24,
     "metadata": {},
     "output_type": "execute_result"
    }
   ],
   "source": [
    "largest_10_entries_per_metric"
   ]
  },
  {
   "cell_type": "markdown",
   "metadata": {},
   "source": [
    "### ● Plot the top 3 most used applications using appropriate charts."
   ]
  },
  {
   "cell_type": "markdown",
   "metadata": {
    "tags": []
   },
   "source": [
    "we assume that the total amount of data used is prortional to how much the app is used. This may not be totally accurate but that's the best we can deduce from this data"
   ]
  },
  {
   "cell_type": "code",
   "execution_count": 25,
   "metadata": {},
   "outputs": [],
   "source": [
    "top3_most_used_apps = aggregates[app_cols].sum().sort_values(ascending=False).head(3)"
   ]
  },
  {
   "cell_type": "code",
   "execution_count": 26,
   "metadata": {},
   "outputs": [],
   "source": [
    "# convert MB to GB\n",
    "top3_most_used_apps = top3_most_used_apps/1024 "
   ]
  },
  {
   "cell_type": "code",
   "execution_count": 27,
   "metadata": {},
   "outputs": [],
   "source": [
    "top3_most_used_apps.columns = [\"gaming apps data usage (GBs)\", \"youtube data usage (GBs)\", \"netflix data usage (GBs)\"]"
   ]
  },
  {
   "cell_type": "code",
   "execution_count": 28,
   "metadata": {},
   "outputs": [
    {
     "data": {
      "text/plain": [
       "Text(0, 0.5, 'App total data usage (GBs)')"
      ]
     },
     "execution_count": 28,
     "metadata": {},
     "output_type": "execute_result"
    },
    {
     "data": {
      "application/vnd.jupyter.widget-view+json": {
       "model_id": "32bc4edafcc6496a91d30d8722033b4b",
       "version_major": 2,
       "version_minor": 0
      },
      "text/html": [
       "\n",
       "            <div style=\"display: inline-block;\">\n",
       "                <div class=\"jupyter-widgets widget-label\" style=\"text-align: center;\">\n",
       "                    Figure\n",
       "                </div>\n",
       "                <img src='data:image/png;base64,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' width=700.0/>\n",
       "            </div>\n",
       "        "
      ],
      "text/plain": [
       "Canvas(toolbar=Toolbar(toolitems=[('Home', 'Reset original view', 'home', 'home'), ('Back', 'Back to previous …"
      ]
     },
     "metadata": {},
     "output_type": "display_data"
    }
   ],
   "source": [
    "fig2, ax2 = plt.subplots(1,1, figsize=(7,4))\n",
    "ax2.bar([i.split(\" data\")[0] for i in top3_most_used_apps.columns], top3_most_used_apps)\n",
    "plt.xlabel(\"App name\")\n",
    "plt.ylabel(\"App total data usage (GBs)\")"
   ]
  },
  {
   "cell_type": "code",
   "execution_count": 29,
   "metadata": {},
   "outputs": [],
   "source": [
    "%matplotlib inline"
   ]
  },
  {
   "cell_type": "markdown",
   "metadata": {},
   "source": [
    "### Using k-means clustering algorithm, group users in k engagement clusters based on the engagement metrics: ○ What is the optimized value of k (use elbow method for this)?"
   ]
  },
  {
   "cell_type": "code",
   "execution_count": 30,
   "metadata": {},
   "outputs": [],
   "source": [
    "kmeans_kwargs = {\n",
    "        \"init\": \"random\",\n",
    "        \"n_init\": 10,\n",
    "        \"max_iter\": 300,\n",
    "        \"random_state\": 42,\n",
    "    }\n",
    "   \n",
    "# A list holds the SSE values for each k\n",
    "sse = []\n",
    "for k in range(1, 11):\n",
    "    kmeans = KMeans(n_clusters=k, **kmeans_kwargs)\n",
    "    kmeans.fit(agg_scaled)\n",
    "    sse.append(kmeans.inertia_)"
   ]
  },
  {
   "cell_type": "code",
   "execution_count": 31,
   "metadata": {},
   "outputs": [
    {
     "data": {
      "image/png": "[encoded data removed]",
      "text/plain": [
       "<Figure size 432x288 with 1 Axes>"
      ]
     },
     "metadata": {
      "needs_background": "light"
     },
     "output_type": "display_data"
    }
   ],
   "source": [
    "# plt.style.use(\"fivethirtyeight\")\n",
    "plt.plot(range(1, 11), sse)\n",
    "plt.xticks(range(1, 11))\n",
    "plt.xlabel(\"Number of Clusters\")\n",
    "plt.ylabel(\"SSE\")\n",
    "plt.grid(True)\n",
    "#plt.show()"
   ]
  },
  {
   "cell_type": "markdown",
   "metadata": {},
   "source": [
    "### ○ Interpret your findings."
   ]
  },
  {
   "cell_type": "code",
   "execution_count": null,
   "metadata": {},
   "outputs": [],
   "source": []
  }
 ],
 "metadata": {
  "interpreter": {
   "hash": "586fe34d15106bb7669a4d03fcdd8674cc0ed2b6c91395f15836e22713ffa223"
  },
  "kernelspec": {
   "display_name": "Python 3 (ipykernel)",
   "language": "python",
   "name": "python3"
  },
  "language_info": {
   "codemirror_mode": {
    "name": "ipython",
    "version": 3
   },
   "file_extension": ".py",
   "mimetype": "text/x-python",
   "name": "python",
   "nbconvert_exporter": "python",
   "pygments_lexer": "ipython3",
   "version": "3.9.7"
  }
 },
 "nbformat": 4,
 "nbformat_minor": 4
}
