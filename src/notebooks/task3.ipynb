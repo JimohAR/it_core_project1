{
 "cells": [
  {
   "cell_type": "markdown",
   "id": "b38729a0-f484-4bad-a559-96243c440acc",
   "metadata": {},
   "source": [
    "The Telecommunication industry has experienced a great revolution since the last decade. Mobile devices have become the new fashion trend and play a vital role in everyone's life. The success of the mobile industry is largely dependent on its consumers. Therefore, it is necessary for the vendors to focus on their target audience i.e. what are the needs and requirements of their consumers and how they feel and perceive their products. Tracking & evaluating of customers’ experience can help organizations to optimize their products and services so that it meets the evolving user expectations, needs, and acceptance.\n",
    "\n",
    "In the telecommunication industry, the user experience is related, most of the time, to network parameter performances or the customers’ device characteristics.  \n",
    "\n",
    "In this section, you’re expected to focus on network parameters like TCP retransmission, Round Trip Time (RTT), Throughput, and the customers’ device characteristics like the handset type to conduct a deep user experience analysis. The network parameters are all columns in the dataset. The following questions are your guidance to complete the task. For this task, you need a python script that includes all solutions to tasks.\n",
    "\n",
    "Task 3. 1 - Aggregate, per customer, the following information (treat missing & outliers by replacing by the mean or the mode of the corresponding variable):\n",
    "●\tAverage TCP retransmission\n",
    "●\tAverage RTT\n",
    "●\tHandset type\n",
    "●\tAverage throughput\n",
    "Task 3.2 - Compute & list 10 of the top, bottom, and most frequent:\n",
    "a.\tTCP values in the dataset. \n",
    "b.\tRTT values in the dataset.\n",
    "c.\tThroughput values in the dataset.\n",
    "Task 3.3 - Compute & report:\n",
    "d.\tThe distribution of the average throughput per handset type and provide interpretation for your findings.\n",
    "e.\tThe average TCP retransmission view per handset type and provide interpretation for your findings.\n",
    "Task 3.4 - Using the experience metrics above, perform a k-means clustering (where k = 3) to segment users into groups of experiences and provide a brief description of each cluster. (The description must define each group based on your understanding of the data)\n"
   ]
  },
  {
   "cell_type": "code",
   "execution_count": 1,
   "id": "c640ded8-7f81-43fc-b80b-540e1838aaee",
   "metadata": {
    "id": "LqI_40COlW1i"
   },
   "outputs": [],
   "source": [
    "import numpy as np\n",
    "import pandas as pd\n",
    "import matplotlib.pyplot as plt\n",
    "import seaborn as sns\n",
    "import os\n",
    "from sklearn.decomposition import PCA\n",
    "from sklearn.preprocessing import StandardScaler\n",
    "from sklearn.cluster import KMeans"
   ]
  },
  {
   "cell_type": "code",
   "execution_count": 2,
   "id": "3dadd63d-4103-4cd0-9c40-cff2329e337b",
   "metadata": {
    "colab": {
     "base_uri": "https://localhost:8080/"
    },
    "id": "Cmv8Ani6mqA4",
    "outputId": "01d0759a-86a9-459a-f97f-40e5faa9e27a"
   },
   "outputs": [
    {
     "name": "stdout",
     "output_type": "stream",
     "text": [
      "\n",
      ">> set up path to the data directory\n"
     ]
    }
   ],
   "source": [
    "if \"google.colab\" in str(get_ipython()):\n",
    "    !pip install dvc[gdrive] > /content/piplog.txt\n",
    "    print(\">> g-colab detected \\ncloning repo from github\\n\")\n",
    "    !git clone https://github.com/JimohAR/it_core_project1\n",
    "\n",
    "    print(\"\\n>> changing path to the repo\\n\")\n",
    "    os.chdir(\"/content/it_core_project1\")\n",
    "\n",
    "    print(\"\\n>> downloading the datasets\\n\")\n",
    "    !dvc import https://github.com/JimohAR/it_core_project1 data/telco.csv \\\n",
    "    -o data/telco.csv\n",
    "\n",
    "    print(\"\\n>> set up path to the data directory\")\n",
    "    path = os.getcwd() + \"/data/\"\n",
    "else:\n",
    "    print(\"\\n>> set up path to the data directory\")\n",
    "    path = os.path.abspath(os.getcwd() + \"/../../data\") + \"/\""
   ]
  },
  {
   "cell_type": "code",
   "execution_count": 3,
   "id": "f0359c54-52f2-42e5-9e1a-514b36700661",
   "metadata": {
    "id": "bh3FZ0HdlW1q"
   },
   "outputs": [],
   "source": [
    "data = pd.read_csv(path + \"telco.csv\").iloc[:-1]"
   ]
  },
  {
   "cell_type": "code",
   "execution_count": 4,
   "id": "2580d235-ccbe-4413-a057-00def877de41",
   "metadata": {
    "id": "oy-7FiY8lW1r"
   },
   "outputs": [],
   "source": [
    "desc = pd.read_excel(path + \"field_descriptions.xlsx\").set_index(\"Fields\")"
   ]
  },
  {
   "cell_type": "code",
   "execution_count": 5,
   "id": "3d9f1a47-8456-49c7-8d5c-f6a83779dda9",
   "metadata": {},
   "outputs": [],
   "source": [
    "def resolve_outlier(df):\n",
    "    data = df.copy()\n",
    "    for i in data.select_dtypes([\"int\", \"float\"]).keys():\n",
    "        Q1,Q3 = data[i].quantile([.25,.75])\n",
    "        IQR = Q3 - Q1\n",
    "        lower_range = Q1 - (1.5 * IQR)\n",
    "        upper_range = Q3 + (1.5 * IQR)\n",
    "\n",
    "        lr_ind = data[i][data[i] < lower_range].keys()\n",
    "        ur_ind = data[i][data[i] > upper_range].keys()\n",
    "\n",
    "        data.loc[lr_ind, i] = np.nan\n",
    "        data.loc[ur_ind, i] = np.nan\n",
    "        data[i].fillna(data[i].mean(), inplace= True)\n",
    "    return data"
   ]
  },
  {
   "cell_type": "code",
   "execution_count": 6,
   "id": "9bbdf91e-9be5-4b50-a4ae-9884ad426998",
   "metadata": {},
   "outputs": [
    {
     "data": {
      "text/plain": [
       "Index(['Bearer Id', 'Start', 'Start ms', 'End', 'End ms', 'Dur. (ms)', 'IMSI',\n",
       "       'MSISDN/Number', 'IMEI', 'Last Location Name', 'Avg RTT DL (ms)',\n",
       "       'Avg RTT UL (ms)', 'Avg Bearer TP DL (kbps)', 'Avg Bearer TP UL (kbps)',\n",
       "       'TCP DL Retrans. Vol (Bytes)', 'TCP UL Retrans. Vol (Bytes)',\n",
       "       'DL TP < 50 Kbps (%)', '50 Kbps < DL TP < 250 Kbps (%)',\n",
       "       '250 Kbps < DL TP < 1 Mbps (%)', 'DL TP > 1 Mbps (%)',\n",
       "       'UL TP < 10 Kbps (%)', '10 Kbps < UL TP < 50 Kbps (%)',\n",
       "       '50 Kbps < UL TP < 300 Kbps (%)', 'UL TP > 300 Kbps (%)',\n",
       "       'HTTP DL (Bytes)', 'HTTP UL (Bytes)', 'Activity Duration DL (ms)',\n",
       "       'Activity Duration UL (ms)', 'Dur. (ms).1', 'Handset Manufacturer',\n",
       "       'Handset Type', 'Nb of sec with 125000B < Vol DL',\n",
       "       'Nb of sec with 1250B < Vol UL < 6250B',\n",
       "       'Nb of sec with 31250B < Vol DL < 125000B',\n",
       "       'Nb of sec with 37500B < Vol UL',\n",
       "       'Nb of sec with 6250B < Vol DL < 31250B',\n",
       "       'Nb of sec with 6250B < Vol UL < 37500B',\n",
       "       'Nb of sec with Vol DL < 6250B', 'Nb of sec with Vol UL < 1250B',\n",
       "       'Social Media DL (Bytes)', 'Social Media UL (Bytes)',\n",
       "       'Google DL (Bytes)', 'Google UL (Bytes)', 'Email DL (Bytes)',\n",
       "       'Email UL (Bytes)', 'Youtube DL (Bytes)', 'Youtube UL (Bytes)',\n",
       "       'Netflix DL (Bytes)', 'Netflix UL (Bytes)', 'Gaming DL (Bytes)',\n",
       "       'Gaming UL (Bytes)', 'Other DL (Bytes)', 'Other UL (Bytes)',\n",
       "       'Total UL (Bytes)', 'Total DL (Bytes)'],\n",
       "      dtype='object')"
      ]
     },
     "execution_count": 6,
     "metadata": {},
     "output_type": "execute_result"
    }
   ],
   "source": [
    "data.columns"
   ]
  },
  {
   "cell_type": "code",
   "execution_count": 7,
   "id": "f94b44e0-e17c-4529-ae7d-6b7a22ea766e",
   "metadata": {},
   "outputs": [],
   "source": [
    "network_stats_cols = ['Avg RTT DL (ms)', 'Avg RTT UL (ms)', 'Avg Bearer TP DL (kbps)', 'Avg Bearer TP UL (kbps)', \n",
    "                      'TCP DL Retrans. Vol (Bytes)', 'TCP UL Retrans. Vol (Bytes)', 'Handset Manufacturer', \n",
    "                      'Handset Type',\n",
    "                     ]"
   ]
  },
  {
   "cell_type": "code",
   "execution_count": 8,
   "id": "97b726c3-979e-420d-b518-767b3c0071bf",
   "metadata": {},
   "outputs": [],
   "source": [
    "ux_data = resolve_outlier(data[network_stats_cols])"
   ]
  },
  {
   "cell_type": "code",
   "execution_count": 9,
   "id": "e3630c32-4b2c-49ec-8cba-a931d0c8db3f",
   "metadata": {},
   "outputs": [
    {
     "data": {
      "text/html": [
       "<div>\n",
       "<style scoped>\n",
       "    .dataframe tbody tr th:only-of-type {\n",
       "        vertical-align: middle;\n",
       "    }\n",
       "\n",
       "    .dataframe tbody tr th {\n",
       "        vertical-align: top;\n",
       "    }\n",
       "\n",
       "    .dataframe thead th {\n",
       "        text-align: right;\n",
       "    }\n",
       "</style>\n",
       "<table border=\"1\" class=\"dataframe\">\n",
       "  <thead>\n",
       "    <tr style=\"text-align: right;\">\n",
       "      <th></th>\n",
       "      <th>Avg RTT DL (ms)</th>\n",
       "      <th>Avg RTT UL (ms)</th>\n",
       "      <th>Avg Bearer TP DL (kbps)</th>\n",
       "      <th>Avg Bearer TP UL (kbps)</th>\n",
       "      <th>TCP DL Retrans. Vol (Bytes)</th>\n",
       "      <th>TCP UL Retrans. Vol (Bytes)</th>\n",
       "    </tr>\n",
       "  </thead>\n",
       "  <tbody>\n",
       "    <tr>\n",
       "      <th>count</th>\n",
       "      <td>150000.000000</td>\n",
       "      <td>150000.000000</td>\n",
       "      <td>150000.000000</td>\n",
       "      <td>150000.000000</td>\n",
       "      <td>1.500000e+05</td>\n",
       "      <td>150000.000000</td>\n",
       "    </tr>\n",
       "    <tr>\n",
       "      <th>mean</th>\n",
       "      <td>47.250673</td>\n",
       "      <td>7.887062</td>\n",
       "      <td>7425.817491</td>\n",
       "      <td>366.371568</td>\n",
       "      <td>1.311051e+06</td>\n",
       "      <td>33719.823910</td>\n",
       "    </tr>\n",
       "    <tr>\n",
       "      <th>std</th>\n",
       "      <td>19.277858</td>\n",
       "      <td>6.952875</td>\n",
       "      <td>12450.903656</td>\n",
       "      <td>552.806965</td>\n",
       "      <td>1.214180e+06</td>\n",
       "      <td>24363.747133</td>\n",
       "    </tr>\n",
       "    <tr>\n",
       "      <th>min</th>\n",
       "      <td>0.000000</td>\n",
       "      <td>0.000000</td>\n",
       "      <td>0.000000</td>\n",
       "      <td>0.000000</td>\n",
       "      <td>2.000000e+00</td>\n",
       "      <td>1.000000</td>\n",
       "    </tr>\n",
       "    <tr>\n",
       "      <th>25%</th>\n",
       "      <td>35.000000</td>\n",
       "      <td>3.000000</td>\n",
       "      <td>43.000000</td>\n",
       "      <td>47.000000</td>\n",
       "      <td>1.311051e+06</td>\n",
       "      <td>33719.823910</td>\n",
       "    </tr>\n",
       "    <tr>\n",
       "      <th>50%</th>\n",
       "      <td>47.250673</td>\n",
       "      <td>7.000000</td>\n",
       "      <td>63.000000</td>\n",
       "      <td>63.000000</td>\n",
       "      <td>1.311051e+06</td>\n",
       "      <td>33719.823910</td>\n",
       "    </tr>\n",
       "    <tr>\n",
       "      <th>75%</th>\n",
       "      <td>51.000000</td>\n",
       "      <td>7.887062</td>\n",
       "      <td>7425.817491</td>\n",
       "      <td>366.371568</td>\n",
       "      <td>1.311051e+06</td>\n",
       "      <td>33719.823910</td>\n",
       "    </tr>\n",
       "    <tr>\n",
       "      <th>max</th>\n",
       "      <td>127.000000</td>\n",
       "      <td>34.000000</td>\n",
       "      <td>49211.000000</td>\n",
       "      <td>2729.000000</td>\n",
       "      <td>9.365124e+06</td>\n",
       "      <td>203003.000000</td>\n",
       "    </tr>\n",
       "  </tbody>\n",
       "</table>\n",
       "</div>"
      ],
      "text/plain": [
       "       Avg RTT DL (ms)  Avg RTT UL (ms)  Avg Bearer TP DL (kbps)  \\\n",
       "count    150000.000000    150000.000000            150000.000000   \n",
       "mean         47.250673         7.887062              7425.817491   \n",
       "std          19.277858         6.952875             12450.903656   \n",
       "min           0.000000         0.000000                 0.000000   \n",
       "25%          35.000000         3.000000                43.000000   \n",
       "50%          47.250673         7.000000                63.000000   \n",
       "75%          51.000000         7.887062              7425.817491   \n",
       "max         127.000000        34.000000             49211.000000   \n",
       "\n",
       "       Avg Bearer TP UL (kbps)  TCP DL Retrans. Vol (Bytes)  \\\n",
       "count            150000.000000                 1.500000e+05   \n",
       "mean                366.371568                 1.311051e+06   \n",
       "std                 552.806965                 1.214180e+06   \n",
       "min                   0.000000                 2.000000e+00   \n",
       "25%                  47.000000                 1.311051e+06   \n",
       "50%                  63.000000                 1.311051e+06   \n",
       "75%                 366.371568                 1.311051e+06   \n",
       "max                2729.000000                 9.365124e+06   \n",
       "\n",
       "       TCP UL Retrans. Vol (Bytes)  \n",
       "count                150000.000000  \n",
       "mean                  33719.823910  \n",
       "std                   24363.747133  \n",
       "min                       1.000000  \n",
       "25%                   33719.823910  \n",
       "50%                   33719.823910  \n",
       "75%                   33719.823910  \n",
       "max                  203003.000000  "
      ]
     },
     "execution_count": 9,
     "metadata": {},
     "output_type": "execute_result"
    }
   ],
   "source": [
    "ux_data.describe()"
   ]
  },
  {
   "cell_type": "markdown",
   "id": "7160e354-e088-4c4f-8e3e-122f7da70109",
   "metadata": {},
   "source": [
    "### Aggregate, per customer, the following information (treat missing & outliers by replacing by the mean or the mode of the corresponding variable): ● Average TCP retransmission ● Average RTT ● Handset type ● Average throughput "
   ]
  },
  {
   "cell_type": "code",
   "execution_count": 10,
   "id": "5dadde0c-0eea-43b6-8560-b7fd1363cad6",
   "metadata": {},
   "outputs": [],
   "source": [
    "def sum_ul_dl(df):\n",
    "    data = df.copy()\n",
    "    summed_data = data.select_dtypes(exclude= [\"int\", \"float\"]).copy()\n",
    "    count = 0\n",
    "    for i,j in enumerate(data.select_dtypes([\"int\", \"float\"]).columns):\n",
    "        if count != 1:\n",
    "            summed_data[j.replace(\"UL\", \"Data\").replace(\"DL\", \"Data\")] = data.iloc[:, i] + data.iloc[:,i+1]\n",
    "            count = (count + 1) % 2\n",
    "        else: \n",
    "            count = (count + 1) % 2\n",
    "            continue\n",
    "    return summed_data"
   ]
  },
  {
   "cell_type": "code",
   "execution_count": 11,
   "id": "88c07ada-387a-48c6-8b83-091e9fa209cb",
   "metadata": {},
   "outputs": [],
   "source": [
    "ux_data = sum_ul_dl(ux_data)"
   ]
  },
  {
   "cell_type": "code",
   "execution_count": 12,
   "id": "41a1755c-9628-463f-b9cc-c57c27d96520",
   "metadata": {},
   "outputs": [],
   "source": [
    "#convert throughput to MB\n",
    "ux_data[\"TCP Data Retrans. Vol (Bytes)\"] /= 2**20\n",
    "ux_data.rename(columns= {\"TCP Data Retrans. Vol (Bytes)\": \"TCP Data Retrans. Vol (MBs)\"}, inplace= True)"
   ]
  },
  {
   "cell_type": "code",
   "execution_count": 13,
   "id": "103b2abd-1317-44f6-a248-49f34b85231e",
   "metadata": {},
   "outputs": [],
   "source": [
    "ux_data['Bearer Id'] = data['Bearer Id']"
   ]
  },
  {
   "cell_type": "code",
   "execution_count": 14,
   "id": "94702d39-5ca2-4d59-9fdf-8866173fe9c9",
   "metadata": {},
   "outputs": [],
   "source": [
    "ux_data_per_user = ux_data.groupby('Bearer Id').mean()"
   ]
  },
  {
   "cell_type": "markdown",
   "id": "2298d546-6fa0-45b0-a3dc-2ce94e0b8b50",
   "metadata": {},
   "source": [
    "### Compute & list 10 of the top, bottom, and most frequent: a. TCP values in the dataset. b. RTT values in the dataset. c. Throughput values in the dataset. "
   ]
  },
  {
   "cell_type": "code",
   "execution_count": 15,
   "id": "3192ebb6-f1c4-4a8f-b0c5-e096d629b1e5",
   "metadata": {},
   "outputs": [],
   "source": [
    "def sort_each_col(df, aggregate, size= 10):\n",
    "    data = df.copy()\n",
    "    sorted_data = pd.DataFrame()\n",
    "    if aggregate == \"min\":\n",
    "        for i in data.select_dtypes([\"int\", \"float\"]).columns:\n",
    "            sorted_data[i] = data[i].sort_values(ascending= True).unique()[:size]\n",
    "            \n",
    "    elif aggregate == \"max\":\n",
    "        for i in data.select_dtypes([\"int\", \"float\"]).columns:\n",
    "            sorted_data[i] = data[i].sort_values(ascending= False).unique()[:size]\n",
    "            \n",
    "    elif aggregate == \"freq\":\n",
    "        for i in data.select_dtypes([\"int\", \"float\"]).columns:\n",
    "            sorted_data[i] = data[i].value_counts().keys()[:size]\n",
    "    \n",
    "    else:\n",
    "        raise Exception(f\"aggregate unknown - {aggregate}\\nValid - min, max, freq\")\n",
    "        \n",
    "    return sorted_data"
   ]
  },
  {
   "cell_type": "code",
   "execution_count": 16,
   "id": "00ea8f89-1292-4bb5-b5b0-171397034cdf",
   "metadata": {},
   "outputs": [
    {
     "data": {
      "text/html": [
       "<div>\n",
       "<style scoped>\n",
       "    .dataframe tbody tr th:only-of-type {\n",
       "        vertical-align: middle;\n",
       "    }\n",
       "\n",
       "    .dataframe tbody tr th {\n",
       "        vertical-align: top;\n",
       "    }\n",
       "\n",
       "    .dataframe thead th {\n",
       "        text-align: right;\n",
       "    }\n",
       "</style>\n",
       "<table border=\"1\" class=\"dataframe\">\n",
       "  <thead>\n",
       "    <tr style=\"text-align: right;\">\n",
       "      <th></th>\n",
       "      <th>Avg RTT Data (ms)</th>\n",
       "      <th>Avg Bearer TP Data (kbps)</th>\n",
       "      <th>TCP Data Retrans. Vol (MBs)</th>\n",
       "    </tr>\n",
       "  </thead>\n",
       "  <tbody>\n",
       "    <tr>\n",
       "      <th>0</th>\n",
       "      <td>55.137735</td>\n",
       "      <td>7792.189059</td>\n",
       "      <td>1.282473</td>\n",
       "    </tr>\n",
       "    <tr>\n",
       "      <th>1</th>\n",
       "      <td>29.000000</td>\n",
       "      <td>15.000000</td>\n",
       "      <td>1.251550</td>\n",
       "    </tr>\n",
       "    <tr>\n",
       "      <th>2</th>\n",
       "      <td>39.000000</td>\n",
       "      <td>63.000000</td>\n",
       "      <td>1.251584</td>\n",
       "    </tr>\n",
       "    <tr>\n",
       "      <th>3</th>\n",
       "      <td>38.000000</td>\n",
       "      <td>97.000000</td>\n",
       "      <td>0.033426</td>\n",
       "    </tr>\n",
       "    <tr>\n",
       "      <th>4</th>\n",
       "      <td>30.000000</td>\n",
       "      <td>90.000000</td>\n",
       "      <td>0.032194</td>\n",
       "    </tr>\n",
       "    <tr>\n",
       "      <th>5</th>\n",
       "      <td>40.000000</td>\n",
       "      <td>98.000000</td>\n",
       "      <td>1.251573</td>\n",
       "    </tr>\n",
       "    <tr>\n",
       "      <th>6</th>\n",
       "      <td>28.000000</td>\n",
       "      <td>96.000000</td>\n",
       "      <td>0.032245</td>\n",
       "    </tr>\n",
       "    <tr>\n",
       "      <th>7</th>\n",
       "      <td>49.000000</td>\n",
       "      <td>99.000000</td>\n",
       "      <td>0.034695</td>\n",
       "    </tr>\n",
       "    <tr>\n",
       "      <th>8</th>\n",
       "      <td>31.000000</td>\n",
       "      <td>89.000000</td>\n",
       "      <td>1.252852</td>\n",
       "    </tr>\n",
       "    <tr>\n",
       "      <th>9</th>\n",
       "      <td>41.000000</td>\n",
       "      <td>93.000000</td>\n",
       "      <td>0.033415</td>\n",
       "    </tr>\n",
       "  </tbody>\n",
       "</table>\n",
       "</div>"
      ],
      "text/plain": [
       "   Avg RTT Data (ms)  Avg Bearer TP Data (kbps)  TCP Data Retrans. Vol (MBs)\n",
       "0          55.137735                7792.189059                     1.282473\n",
       "1          29.000000                  15.000000                     1.251550\n",
       "2          39.000000                  63.000000                     1.251584\n",
       "3          38.000000                  97.000000                     0.033426\n",
       "4          30.000000                  90.000000                     0.032194\n",
       "5          40.000000                  98.000000                     1.251573\n",
       "6          28.000000                  96.000000                     0.032245\n",
       "7          49.000000                  99.000000                     0.034695\n",
       "8          31.000000                  89.000000                     1.252852\n",
       "9          41.000000                  93.000000                     0.033415"
      ]
     },
     "execution_count": 16,
     "metadata": {},
     "output_type": "execute_result"
    }
   ],
   "source": [
    "sort_each_col(ux_data_per_user, \"freq\")"
   ]
  },
  {
   "cell_type": "code",
   "execution_count": 17,
   "id": "6d3d5071-5abc-46d3-9b4f-c8ca537ea10b",
   "metadata": {},
   "outputs": [
    {
     "data": {
      "text/html": [
       "<div>\n",
       "<style scoped>\n",
       "    .dataframe tbody tr th:only-of-type {\n",
       "        vertical-align: middle;\n",
       "    }\n",
       "\n",
       "    .dataframe tbody tr th {\n",
       "        vertical-align: top;\n",
       "    }\n",
       "\n",
       "    .dataframe thead th {\n",
       "        text-align: right;\n",
       "    }\n",
       "</style>\n",
       "<table border=\"1\" class=\"dataframe\">\n",
       "  <thead>\n",
       "    <tr style=\"text-align: right;\">\n",
       "      <th></th>\n",
       "      <th>Avg RTT Data (ms)</th>\n",
       "      <th>Avg Bearer TP Data (kbps)</th>\n",
       "      <th>TCP Data Retrans. Vol (MBs)</th>\n",
       "    </tr>\n",
       "  </thead>\n",
       "  <tbody>\n",
       "    <tr>\n",
       "      <th>0</th>\n",
       "      <td>0.000000</td>\n",
       "      <td>0.000000</td>\n",
       "      <td>0.000093</td>\n",
       "    </tr>\n",
       "    <tr>\n",
       "      <th>1</th>\n",
       "      <td>2.000000</td>\n",
       "      <td>0.500000</td>\n",
       "      <td>0.000103</td>\n",
       "    </tr>\n",
       "    <tr>\n",
       "      <th>2</th>\n",
       "      <td>4.000000</td>\n",
       "      <td>1.000000</td>\n",
       "      <td>0.000108</td>\n",
       "    </tr>\n",
       "    <tr>\n",
       "      <th>3</th>\n",
       "      <td>5.000000</td>\n",
       "      <td>1.500000</td>\n",
       "      <td>0.000122</td>\n",
       "    </tr>\n",
       "    <tr>\n",
       "      <th>4</th>\n",
       "      <td>6.000000</td>\n",
       "      <td>2.000000</td>\n",
       "      <td>0.000123</td>\n",
       "    </tr>\n",
       "    <tr>\n",
       "      <th>5</th>\n",
       "      <td>7.000000</td>\n",
       "      <td>2.500000</td>\n",
       "      <td>0.000128</td>\n",
       "    </tr>\n",
       "    <tr>\n",
       "      <th>6</th>\n",
       "      <td>7.887062</td>\n",
       "      <td>3.000000</td>\n",
       "      <td>0.000136</td>\n",
       "    </tr>\n",
       "    <tr>\n",
       "      <th>7</th>\n",
       "      <td>8.000000</td>\n",
       "      <td>3.500000</td>\n",
       "      <td>0.000165</td>\n",
       "    </tr>\n",
       "    <tr>\n",
       "      <th>8</th>\n",
       "      <td>9.000000</td>\n",
       "      <td>3.666667</td>\n",
       "      <td>0.000167</td>\n",
       "    </tr>\n",
       "    <tr>\n",
       "      <th>9</th>\n",
       "      <td>10.000000</td>\n",
       "      <td>4.000000</td>\n",
       "      <td>0.000168</td>\n",
       "    </tr>\n",
       "  </tbody>\n",
       "</table>\n",
       "</div>"
      ],
      "text/plain": [
       "   Avg RTT Data (ms)  Avg Bearer TP Data (kbps)  TCP Data Retrans. Vol (MBs)\n",
       "0           0.000000                   0.000000                     0.000093\n",
       "1           2.000000                   0.500000                     0.000103\n",
       "2           4.000000                   1.000000                     0.000108\n",
       "3           5.000000                   1.500000                     0.000122\n",
       "4           6.000000                   2.000000                     0.000123\n",
       "5           7.000000                   2.500000                     0.000128\n",
       "6           7.887062                   3.000000                     0.000136\n",
       "7           8.000000                   3.500000                     0.000165\n",
       "8           9.000000                   3.666667                     0.000167\n",
       "9          10.000000                   4.000000                     0.000168"
      ]
     },
     "execution_count": 17,
     "metadata": {},
     "output_type": "execute_result"
    }
   ],
   "source": [
    "sort_each_col(ux_data_per_user, \"min\")"
   ]
  },
  {
   "cell_type": "code",
   "execution_count": 18,
   "id": "b1906829-a8f4-4e89-ab97-12b902ace8d1",
   "metadata": {},
   "outputs": [
    {
     "data": {
      "text/html": [
       "<div>\n",
       "<style scoped>\n",
       "    .dataframe tbody tr th:only-of-type {\n",
       "        vertical-align: middle;\n",
       "    }\n",
       "\n",
       "    .dataframe tbody tr th {\n",
       "        vertical-align: top;\n",
       "    }\n",
       "\n",
       "    .dataframe thead th {\n",
       "        text-align: right;\n",
       "    }\n",
       "</style>\n",
       "<table border=\"1\" class=\"dataframe\">\n",
       "  <thead>\n",
       "    <tr style=\"text-align: right;\">\n",
       "      <th></th>\n",
       "      <th>Avg RTT Data (ms)</th>\n",
       "      <th>Avg Bearer TP Data (kbps)</th>\n",
       "      <th>TCP Data Retrans. Vol (MBs)</th>\n",
       "    </tr>\n",
       "  </thead>\n",
       "  <tbody>\n",
       "    <tr>\n",
       "      <th>0</th>\n",
       "      <td>160.0</td>\n",
       "      <td>51844.0</td>\n",
       "      <td>9.096872</td>\n",
       "    </tr>\n",
       "    <tr>\n",
       "      <th>1</th>\n",
       "      <td>159.0</td>\n",
       "      <td>51790.0</td>\n",
       "      <td>9.086612</td>\n",
       "    </tr>\n",
       "    <tr>\n",
       "      <th>2</th>\n",
       "      <td>158.0</td>\n",
       "      <td>51730.0</td>\n",
       "      <td>9.070628</td>\n",
       "    </tr>\n",
       "    <tr>\n",
       "      <th>3</th>\n",
       "      <td>157.0</td>\n",
       "      <td>51695.0</td>\n",
       "      <td>9.066752</td>\n",
       "    </tr>\n",
       "    <tr>\n",
       "      <th>4</th>\n",
       "      <td>156.0</td>\n",
       "      <td>51588.0</td>\n",
       "      <td>9.060015</td>\n",
       "    </tr>\n",
       "    <tr>\n",
       "      <th>5</th>\n",
       "      <td>155.0</td>\n",
       "      <td>51513.0</td>\n",
       "      <td>9.031706</td>\n",
       "    </tr>\n",
       "    <tr>\n",
       "      <th>6</th>\n",
       "      <td>154.0</td>\n",
       "      <td>51440.0</td>\n",
       "      <td>9.016943</td>\n",
       "    </tr>\n",
       "    <tr>\n",
       "      <th>7</th>\n",
       "      <td>153.0</td>\n",
       "      <td>51423.0</td>\n",
       "      <td>9.013672</td>\n",
       "    </tr>\n",
       "    <tr>\n",
       "      <th>8</th>\n",
       "      <td>152.0</td>\n",
       "      <td>51392.0</td>\n",
       "      <td>9.009158</td>\n",
       "    </tr>\n",
       "    <tr>\n",
       "      <th>9</th>\n",
       "      <td>151.0</td>\n",
       "      <td>51383.0</td>\n",
       "      <td>9.007325</td>\n",
       "    </tr>\n",
       "  </tbody>\n",
       "</table>\n",
       "</div>"
      ],
      "text/plain": [
       "   Avg RTT Data (ms)  Avg Bearer TP Data (kbps)  TCP Data Retrans. Vol (MBs)\n",
       "0              160.0                    51844.0                     9.096872\n",
       "1              159.0                    51790.0                     9.086612\n",
       "2              158.0                    51730.0                     9.070628\n",
       "3              157.0                    51695.0                     9.066752\n",
       "4              156.0                    51588.0                     9.060015\n",
       "5              155.0                    51513.0                     9.031706\n",
       "6              154.0                    51440.0                     9.016943\n",
       "7              153.0                    51423.0                     9.013672\n",
       "8              152.0                    51392.0                     9.009158\n",
       "9              151.0                    51383.0                     9.007325"
      ]
     },
     "execution_count": 18,
     "metadata": {},
     "output_type": "execute_result"
    }
   ],
   "source": [
    "sort_each_col(ux_data_per_user, \"max\")"
   ]
  },
  {
   "cell_type": "markdown",
   "id": "bdd51691-4785-4d98-acca-bfd5702afd1e",
   "metadata": {
    "tags": []
   },
   "source": [
    "### Task 3.3 - Compute & report: d. The distribution of the average throughput per handset type and provide interpretation for your findings. e. The average TCP retransmission view per handset type and provide interpretation for your findings."
   ]
  },
  {
   "cell_type": "code",
   "execution_count": 19,
   "id": "f55a5fc3-fa18-4be9-b9bb-bf4cd08de42c",
   "metadata": {},
   "outputs": [
    {
     "data": {
      "text/html": [
       "<div>\n",
       "<style scoped>\n",
       "    .dataframe tbody tr th:only-of-type {\n",
       "        vertical-align: middle;\n",
       "    }\n",
       "\n",
       "    .dataframe tbody tr th {\n",
       "        vertical-align: top;\n",
       "    }\n",
       "\n",
       "    .dataframe thead th {\n",
       "        text-align: right;\n",
       "    }\n",
       "</style>\n",
       "<table border=\"1\" class=\"dataframe\">\n",
       "  <thead>\n",
       "    <tr style=\"text-align: right;\">\n",
       "      <th></th>\n",
       "      <th>Avg Bearer TP Data (kbps)</th>\n",
       "    </tr>\n",
       "    <tr>\n",
       "      <th>Handset Type</th>\n",
       "      <th></th>\n",
       "    </tr>\n",
       "  </thead>\n",
       "  <tbody>\n",
       "    <tr>\n",
       "      <th>Xiaomi Communica. M1803E1A</th>\n",
       "      <td>49538.371568</td>\n",
       "    </tr>\n",
       "    <tr>\n",
       "      <th>Xiaomi Communica. Redmi Note 2</th>\n",
       "      <td>49381.000000</td>\n",
       "    </tr>\n",
       "    <tr>\n",
       "      <th>Huawei Nova 2I Huawei Mate 10 Lite</th>\n",
       "      <td>47661.000000</td>\n",
       "    </tr>\n",
       "    <tr>\n",
       "      <th>Htc 2Q6E100</th>\n",
       "      <td>47493.000000</td>\n",
       "    </tr>\n",
       "    <tr>\n",
       "      <th>Lephone U Pro</th>\n",
       "      <td>45669.000000</td>\n",
       "    </tr>\n",
       "    <tr>\n",
       "      <th>...</th>\n",
       "      <td>...</td>\n",
       "    </tr>\n",
       "    <tr>\n",
       "      <th>Test IMEI</th>\n",
       "      <td>2.000000</td>\n",
       "    </tr>\n",
       "    <tr>\n",
       "      <th>Concox Informati. Concox Gt06 Gt06N Tr06</th>\n",
       "      <td>2.000000</td>\n",
       "    </tr>\n",
       "    <tr>\n",
       "      <th>Quectel Wireless. Quectel Ec25-E</th>\n",
       "      <td>1.000000</td>\n",
       "    </tr>\n",
       "    <tr>\n",
       "      <th>Lg Lg-T385</th>\n",
       "      <td>0.000000</td>\n",
       "    </tr>\n",
       "    <tr>\n",
       "      <th>Wct Uno</th>\n",
       "      <td>0.000000</td>\n",
       "    </tr>\n",
       "  </tbody>\n",
       "</table>\n",
       "<p>1396 rows × 1 columns</p>\n",
       "</div>"
      ],
      "text/plain": [
       "                                          Avg Bearer TP Data (kbps)\n",
       "Handset Type                                                       \n",
       "Xiaomi Communica. M1803E1A                             49538.371568\n",
       "Xiaomi Communica. Redmi Note 2                         49381.000000\n",
       "Huawei Nova 2I Huawei Mate 10 Lite                     47661.000000\n",
       "Htc 2Q6E100                                            47493.000000\n",
       "Lephone U Pro                                          45669.000000\n",
       "...                                                             ...\n",
       "Test IMEI                                                  2.000000\n",
       "Concox Informati. Concox Gt06 Gt06N Tr06                   2.000000\n",
       "Quectel Wireless. Quectel Ec25-E                           1.000000\n",
       "Lg Lg-T385                                                 0.000000\n",
       "Wct Uno                                                    0.000000\n",
       "\n",
       "[1396 rows x 1 columns]"
      ]
     },
     "execution_count": 19,
     "metadata": {},
     "output_type": "execute_result"
    }
   ],
   "source": [
    "ux_data.groupby(['Handset Type'])['Avg Bearer TP Data (kbps)'].mean().sort_values(ascending= False).to_frame()"
   ]
  },
  {
   "cell_type": "code",
   "execution_count": 20,
   "id": "52b03f02-dde0-462b-9568-07b95c99463d",
   "metadata": {},
   "outputs": [
    {
     "data": {
      "text/html": [
       "<div>\n",
       "<style scoped>\n",
       "    .dataframe tbody tr th:only-of-type {\n",
       "        vertical-align: middle;\n",
       "    }\n",
       "\n",
       "    .dataframe tbody tr th {\n",
       "        vertical-align: top;\n",
       "    }\n",
       "\n",
       "    .dataframe thead th {\n",
       "        text-align: right;\n",
       "    }\n",
       "</style>\n",
       "<table border=\"1\" class=\"dataframe\">\n",
       "  <thead>\n",
       "    <tr style=\"text-align: right;\">\n",
       "      <th></th>\n",
       "      <th>TCP Data Retrans. Vol (MBs)</th>\n",
       "    </tr>\n",
       "    <tr>\n",
       "      <th>Handset Type</th>\n",
       "      <th></th>\n",
       "    </tr>\n",
       "  </thead>\n",
       "  <tbody>\n",
       "    <tr>\n",
       "      <th>Zte Blade L110 Zte Blade L110 Blade L110 Blade L110</th>\n",
       "      <td>8.723232</td>\n",
       "    </tr>\n",
       "    <tr>\n",
       "      <th>Lg-X210Ds</th>\n",
       "      <td>8.719436</td>\n",
       "    </tr>\n",
       "    <tr>\n",
       "      <th>Spa Condor Elect. Plume L1 Plus</th>\n",
       "      <td>8.541739</td>\n",
       "    </tr>\n",
       "    <tr>\n",
       "      <th>Lenovo Moto Z Force (2Nd Gen) Ge12072245</th>\n",
       "      <td>8.489502</td>\n",
       "    </tr>\n",
       "    <tr>\n",
       "      <th>Tcl Communicatio. Alcatel A5 Led Alcatel A5</th>\n",
       "      <td>8.189405</td>\n",
       "    </tr>\n",
       "    <tr>\n",
       "      <th>...</th>\n",
       "      <td>...</td>\n",
       "    </tr>\n",
       "    <tr>\n",
       "      <th>Oppo A37F</th>\n",
       "      <td>0.002267</td>\n",
       "    </tr>\n",
       "    <tr>\n",
       "      <th>Lenovo Moto X Play</th>\n",
       "      <td>0.001733</td>\n",
       "    </tr>\n",
       "    <tr>\n",
       "      <th>Gotron (Hk) Elec. Armor X</th>\n",
       "      <td>0.001431</td>\n",
       "    </tr>\n",
       "    <tr>\n",
       "      <th>Samsung Galaxy Note 8 (Sm-N9500)</th>\n",
       "      <td>0.000399</td>\n",
       "    </tr>\n",
       "    <tr>\n",
       "      <th>Casper Bilgisaya. Via M1</th>\n",
       "      <td>0.000343</td>\n",
       "    </tr>\n",
       "  </tbody>\n",
       "</table>\n",
       "<p>1396 rows × 1 columns</p>\n",
       "</div>"
      ],
      "text/plain": [
       "                                                    TCP Data Retrans. Vol (MBs)\n",
       "Handset Type                                                                   \n",
       "Zte Blade L110 Zte Blade L110 Blade L110 Blade ...                     8.723232\n",
       "Lg-X210Ds                                                              8.719436\n",
       "Spa Condor Elect. Plume L1 Plus                                        8.541739\n",
       "Lenovo Moto Z Force (2Nd Gen) Ge12072245                               8.489502\n",
       "Tcl Communicatio. Alcatel A5 Led Alcatel A5                            8.189405\n",
       "...                                                                         ...\n",
       "Oppo A37F                                                              0.002267\n",
       "Lenovo Moto X Play                                                     0.001733\n",
       "Gotron (Hk) Elec. Armor X                                              0.001431\n",
       "Samsung Galaxy Note 8 (Sm-N9500)                                       0.000399\n",
       "Casper Bilgisaya. Via M1                                               0.000343\n",
       "\n",
       "[1396 rows x 1 columns]"
      ]
     },
     "execution_count": 20,
     "metadata": {},
     "output_type": "execute_result"
    }
   ],
   "source": [
    "ux_data.groupby(['Handset Type'])['TCP Data Retrans. Vol (MBs)'].mean().sort_values(ascending= False).to_frame()"
   ]
  },
  {
   "cell_type": "markdown",
   "id": "334b9c3f-adcf-443b-ad59-22122d159020",
   "metadata": {},
   "source": [
    "#### interpret your findings"
   ]
  },
  {
   "cell_type": "markdown",
   "id": "86a1cc07-15b7-4091-9587-05929ddb35b9",
   "metadata": {
    "tags": []
   },
   "source": [
    "### Task 3.4 - Using the experience metrics above, perform a k-means clustering (where k = 3) to segment users into groups of experiences and provide a brief description of each cluster. (The description must define each group based on your understanding of the data)"
   ]
  },
  {
   "cell_type": "code",
   "execution_count": 21,
   "id": "4cafbc44-5ac4-4d9a-a92a-b84bb4e226a8",
   "metadata": {},
   "outputs": [],
   "source": [
    "sub_ux_data = ux_data[['Avg RTT Data (ms)', 'Avg Bearer TP Data (kbps)', \n",
    "                       'TCP Data Retrans. Vol (MBs)'\n",
    "                      ]]"
   ]
  },
  {
   "cell_type": "code",
   "execution_count": 22,
   "id": "06619fcf-e485-425d-94df-150f0824ce09",
   "metadata": {},
   "outputs": [],
   "source": [
    "scaler = StandardScaler()\n",
    "sub_ux_data_scaled = pd.DataFrame(scaler.fit_transform(sub_ux_data), columns= sub_ux_data.columns)"
   ]
  },
  {
   "cell_type": "code",
   "execution_count": 23,
   "id": "d034722a-79cd-4fc6-a538-2ac31b513d15",
   "metadata": {},
   "outputs": [
    {
     "data": {
      "text/html": [
       "<style type=\"text/css\">\n",
       "</style>\n",
       "<table id=\"T_9e0eb_\">\n",
       "  <thead>\n",
       "    <tr>\n",
       "      <th class=\"blank level0\" >&nbsp;</th>\n",
       "      <th class=\"col_heading level0 col0\" >Avg RTT Data (ms)</th>\n",
       "      <th class=\"col_heading level0 col1\" >Avg Bearer TP Data (kbps)</th>\n",
       "      <th class=\"col_heading level0 col2\" >TCP Data Retrans. Vol (MBs)</th>\n",
       "    </tr>\n",
       "  </thead>\n",
       "  <tbody>\n",
       "    <tr>\n",
       "      <th id=\"T_9e0eb_level0_row0\" class=\"row_heading level0 row0\" >count</th>\n",
       "      <td id=\"T_9e0eb_row0_col0\" class=\"data row0 col0\" >150000.000000</td>\n",
       "      <td id=\"T_9e0eb_row0_col1\" class=\"data row0 col1\" >150000.000000</td>\n",
       "      <td id=\"T_9e0eb_row0_col2\" class=\"data row0 col2\" >150000.000000</td>\n",
       "    </tr>\n",
       "    <tr>\n",
       "      <th id=\"T_9e0eb_level0_row1\" class=\"row_heading level0 row1\" >mean</th>\n",
       "      <td id=\"T_9e0eb_row1_col0\" class=\"data row1 col0\" >0.000000</td>\n",
       "      <td id=\"T_9e0eb_row1_col1\" class=\"data row1 col1\" >0.000000</td>\n",
       "      <td id=\"T_9e0eb_row1_col2\" class=\"data row1 col2\" >0.000000</td>\n",
       "    </tr>\n",
       "    <tr>\n",
       "      <th id=\"T_9e0eb_level0_row2\" class=\"row_heading level0 row2\" >std</th>\n",
       "      <td id=\"T_9e0eb_row2_col0\" class=\"data row2 col0\" >1.000003</td>\n",
       "      <td id=\"T_9e0eb_row2_col1\" class=\"data row2 col1\" >1.000003</td>\n",
       "      <td id=\"T_9e0eb_row2_col2\" class=\"data row2 col2\" >1.000003</td>\n",
       "    </tr>\n",
       "    <tr>\n",
       "      <th id=\"T_9e0eb_level0_row3\" class=\"row_heading level0 row3\" >min</th>\n",
       "      <td id=\"T_9e0eb_row3_col0\" class=\"data row3 col0\" >-2.457100</td>\n",
       "      <td id=\"T_9e0eb_row3_col1\" class=\"data row3 col1\" >-0.610783</td>\n",
       "      <td id=\"T_9e0eb_row3_col2\" class=\"data row3 col2\" >-1.102003</td>\n",
       "    </tr>\n",
       "    <tr>\n",
       "      <th id=\"T_9e0eb_level0_row4\" class=\"row_heading level0 row4\" >25%</th>\n",
       "      <td id=\"T_9e0eb_row4_col0\" class=\"data row4 col0\" >-0.674582</td>\n",
       "      <td id=\"T_9e0eb_row4_col1\" class=\"data row4 col1\" >-0.603728</td>\n",
       "      <td id=\"T_9e0eb_row4_col2\" class=\"data row4 col2\" >-0.026661</td>\n",
       "    </tr>\n",
       "    <tr>\n",
       "      <th id=\"T_9e0eb_level0_row5\" class=\"row_heading level0 row5\" >50%</th>\n",
       "      <td id=\"T_9e0eb_row5_col0\" class=\"data row5 col0\" >0.000000</td>\n",
       "      <td id=\"T_9e0eb_row5_col1\" class=\"data row5 col1\" >-0.600985</td>\n",
       "      <td id=\"T_9e0eb_row5_col2\" class=\"data row5 col2\" >0.000000</td>\n",
       "    </tr>\n",
       "    <tr>\n",
       "      <th id=\"T_9e0eb_level0_row6\" class=\"row_heading level0 row6\" >75%</th>\n",
       "      <td id=\"T_9e0eb_row6_col0\" class=\"data row6 col0\" >0.305803</td>\n",
       "      <td id=\"T_9e0eb_row6_col1\" class=\"data row6 col1\" >0.118644</td>\n",
       "      <td id=\"T_9e0eb_row6_col2\" class=\"data row6 col2\" >0.000000</td>\n",
       "    </tr>\n",
       "    <tr>\n",
       "      <th id=\"T_9e0eb_level0_row7\" class=\"row_heading level0 row7\" >max</th>\n",
       "      <td id=\"T_9e0eb_row7_col0\" class=\"data row7 col0\" >4.672972</td>\n",
       "      <td id=\"T_9e0eb_row7_col1\" class=\"data row7 col1\" >3.452956</td>\n",
       "      <td id=\"T_9e0eb_row7_col2\" class=\"data row7 col2\" >6.715183</td>\n",
       "    </tr>\n",
       "  </tbody>\n",
       "</table>\n"
      ],
      "text/plain": [
       "<pandas.io.formats.style.Styler at 0x296c427a8b0>"
      ]
     },
     "execution_count": 23,
     "metadata": {},
     "output_type": "execute_result"
    }
   ],
   "source": [
    "sub_ux_data_scaled.describe().style"
   ]
  },
  {
   "cell_type": "code",
   "execution_count": 24,
   "id": "ea1fcacd-1ddb-4b5a-8e20-1e219fee2255",
   "metadata": {},
   "outputs": [],
   "source": [
    "kmeans = KMeans(3, random_state=0)"
   ]
  },
  {
   "cell_type": "code",
   "execution_count": 25,
   "id": "8c0bf033-f484-4cd3-9f18-47dd43200d84",
   "metadata": {},
   "outputs": [
    {
     "data": {
      "text/plain": [
       "KMeans(n_clusters=3, random_state=0)"
      ]
     },
     "execution_count": 25,
     "metadata": {},
     "output_type": "execute_result"
    }
   ],
   "source": [
    "kmeans.fit(sub_ux_data_scaled)"
   ]
  },
  {
   "cell_type": "code",
   "execution_count": 26,
   "id": "825819b1-ca1b-4c64-ab2f-861abbd738b8",
   "metadata": {},
   "outputs": [],
   "source": [
    "task3_cluster_centers = pd.DataFrame(scaler.inverse_transform(kmeans.cluster_centers_), columns = sub_ux_data.columns)"
   ]
  },
  {
   "cell_type": "code",
   "execution_count": 27,
   "id": "ec09ca6c-bdd9-4e86-b4e1-c7385daf9794",
   "metadata": {},
   "outputs": [],
   "source": [
    "# mapper = dict(zip(task3_cluster_centers[\"tot data usage (MBs)\"].sort_values().keys(), [\"bad experience\", \"average experience\", \"good experience\"]))"
   ]
  },
  {
   "cell_type": "code",
   "execution_count": 28,
   "id": "9a97e708-b6e9-47e5-bf17-6748cffe6620",
   "metadata": {},
   "outputs": [],
   "source": [
    "# task3_cluster_centers = task3_cluster_centers.rename(index = mapper).rename_axis(\"labels\")\n",
    "task3_cluster_centers.to_csv(path + \"user_experience_cluster_centers.csv\")"
   ]
  },
  {
   "cell_type": "code",
   "execution_count": 29,
   "id": "df6acb86-e078-4877-a10f-a4e769476096",
   "metadata": {},
   "outputs": [
    {
     "name": "stderr",
     "output_type": "stream",
     "text": [
      "C:\\Users\\abola\\AppData\\Local\\Temp/ipykernel_13940/260884499.py:1: SettingWithCopyWarning: \n",
      "A value is trying to be set on a copy of a slice from a DataFrame.\n",
      "Try using .loc[row_indexer,col_indexer] = value instead\n",
      "\n",
      "See the caveats in the documentation: https://pandas.pydata.org/pandas-docs/stable/user_guide/indexing.html#returning-a-view-versus-a-copy\n",
      "  sub_ux_data[\"labels\"] = kmeans.labels_.copy()\n"
     ]
    }
   ],
   "source": [
    "sub_ux_data[\"labels\"] = kmeans.labels_.copy()"
   ]
  },
  {
   "cell_type": "code",
   "execution_count": 30,
   "id": "a8c91ddf-15f0-488f-8f73-1a34b61674f3",
   "metadata": {},
   "outputs": [
    {
     "data": {
      "text/html": [
       "<div>\n",
       "<style scoped>\n",
       "    .dataframe tbody tr th:only-of-type {\n",
       "        vertical-align: middle;\n",
       "    }\n",
       "\n",
       "    .dataframe tbody tr th {\n",
       "        vertical-align: top;\n",
       "    }\n",
       "\n",
       "    .dataframe thead th {\n",
       "        text-align: right;\n",
       "    }\n",
       "</style>\n",
       "<table border=\"1\" class=\"dataframe\">\n",
       "  <thead>\n",
       "    <tr style=\"text-align: right;\">\n",
       "      <th></th>\n",
       "      <th>Avg RTT Data (ms)</th>\n",
       "      <th>Avg Bearer TP Data (kbps)</th>\n",
       "      <th>TCP Data Retrans. Vol (MBs)</th>\n",
       "    </tr>\n",
       "    <tr>\n",
       "      <th>labels</th>\n",
       "      <th></th>\n",
       "      <th></th>\n",
       "      <th></th>\n",
       "    </tr>\n",
       "  </thead>\n",
       "  <tbody>\n",
       "    <tr>\n",
       "      <th>0</th>\n",
       "      <td>77.034648</td>\n",
       "      <td>26915.245077</td>\n",
       "      <td>0.887939</td>\n",
       "    </tr>\n",
       "    <tr>\n",
       "      <th>1</th>\n",
       "      <td>47.851843</td>\n",
       "      <td>1841.133412</td>\n",
       "      <td>1.113231</td>\n",
       "    </tr>\n",
       "    <tr>\n",
       "      <th>2</th>\n",
       "      <td>78.346440</td>\n",
       "      <td>21642.157364</td>\n",
       "      <td>5.547624</td>\n",
       "    </tr>\n",
       "  </tbody>\n",
       "</table>\n",
       "</div>"
      ],
      "text/plain": [
       "        Avg RTT Data (ms)  Avg Bearer TP Data (kbps)  \\\n",
       "labels                                                 \n",
       "0               77.034648               26915.245077   \n",
       "1               47.851843                1841.133412   \n",
       "2               78.346440               21642.157364   \n",
       "\n",
       "        TCP Data Retrans. Vol (MBs)  \n",
       "labels                               \n",
       "0                          0.887939  \n",
       "1                          1.113231  \n",
       "2                          5.547624  "
      ]
     },
     "execution_count": 30,
     "metadata": {},
     "output_type": "execute_result"
    }
   ],
   "source": [
    "sub_ux_data.groupby(\"labels\").mean()"
   ]
  },
  {
   "cell_type": "markdown",
   "id": "be96491f-6251-4875-a1f3-07962855a05f",
   "metadata": {},
   "source": [
    "#### provide a brief description of each cluster"
   ]
  },
  {
   "cell_type": "code",
   "execution_count": null,
   "id": "842d5cda-a243-4bec-8aac-5c435c54a951",
   "metadata": {},
   "outputs": [],
   "source": []
  }
 ],
 "metadata": {
  "kernelspec": {
   "display_name": "Python 3 (ipykernel)",
   "language": "python",
   "name": "python3"
  },
  "language_info": {
   "codemirror_mode": {
    "name": "ipython",
    "version": 3
   },
   "file_extension": ".py",
   "mimetype": "text/x-python",
   "name": "python",
   "nbconvert_exporter": "python",
   "pygments_lexer": "ipython3",
   "version": "3.9.7"
  }
 },
 "nbformat": 4,
 "nbformat_minor": 5
}
